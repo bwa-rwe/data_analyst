{
  "cells": [
    {
      "cell_type": "markdown",
      "metadata": {
        "id": "uJb3AgMVsyHE"
      },
      "source": [
        "# Определение перспективного тарифа для телеком-компании\n",
        "\n",
        "«Мегалайн» — федеральный оператор сотовой связи. <br>\n",
        "Клиентам предлагают два тарифных плана: «Смарт» и «Ультра».  <br>\n",
        "В нашем распоряжении данные 500 пользователей «Мегалайна»: кто они, откуда, каким тарифом пользуются, сколько звонков и сообщений каждый отправил за 2018 год. <br>\n",
        "Коммерческий департамент хочет понять, какой тариф приносит больше денег."
      ]
    },
    {
      "cell_type": "markdown",
      "metadata": {
        "id": "V8C5VbRCsyHE"
      },
      "source": [
        "## Описание тарифов\n",
        "### Тариф «Смарт»\n",
        "* Ежемесячная плата: 550 рублей\n",
        "* Включено 500 минут разговора, 50 сообщений и 15 Гб интернет-трафика\n",
        "#### Стоимость услуг сверх тарифного пакета:\n",
        "* минута разговора: 3 рубля\n",
        "* сообщение: 3 рубля\n",
        "* 1 Гб интернет-трафика: 200 рублей\n",
        "### Тариф «Ультра»\n",
        "* Ежемесячная плата: 1950 рублей\n",
        "* Включено 3000 минут разговора, 1000 сообщений и 30 Гб интернет-трафика\n",
        "#### Стоимость услуг сверх тарифного пакета:\n",
        "* минута разговора: 1 рубль\n",
        "* сообщение: 1 рубль\n",
        "* 1 Гб интернет-трафика: 150 рублей"
      ]
    },
    {
      "cell_type": "code",
      "execution_count": null,
      "metadata": {
        "id": "r3uXDofMsyHF"
      },
      "outputs": [],
      "source": [
        "import pandas as pd\n",
        "import numpy as np\n",
        "import matplotlib.pyplot as plt\n",
        "from scipy import stats as st"
      ]
    },
    {
      "cell_type": "markdown",
      "metadata": {
        "id": "yCjlO6lDsyHF"
      },
      "source": [
        "### Шаг 1. Откроем файлы с данными и изучим общую информацию."
      ]
    },
    {
      "cell_type": "code",
      "execution_count": null,
      "metadata": {
        "id": "-nI9ZbIDsyHG"
      },
      "outputs": [],
      "source": [
        "users = pd.read_csv('/datasets/users.csv')\n",
        "calls = pd.read_csv('/datasets/calls.csv')\n",
        "messages = pd.read_csv('/datasets/messages.csv')\n",
        "internet = pd.read_csv('/datasets/internet.csv')\n",
        "tariffs = pd.read_csv('/datasets/tariffs.csv')"
      ]
    },
    {
      "cell_type": "code",
      "execution_count": null,
      "metadata": {
        "id": "-sgUptkksyHG",
        "outputId": "e44d1075-bc45-4106-ae8b-c28abe3b48cb"
      },
      "outputs": [
        {
          "name": "stdout",
          "output_type": "stream",
          "text": [
            "<class 'pandas.core.frame.DataFrame'>\n",
            "RangeIndex: 500 entries, 0 to 499\n",
            "Data columns (total 8 columns):\n",
            " #   Column      Non-Null Count  Dtype \n",
            "---  ------      --------------  ----- \n",
            " 0   user_id     500 non-null    int64 \n",
            " 1   age         500 non-null    int64 \n",
            " 2   churn_date  38 non-null     object\n",
            " 3   city        500 non-null    object\n",
            " 4   first_name  500 non-null    object\n",
            " 5   last_name   500 non-null    object\n",
            " 6   reg_date    500 non-null    object\n",
            " 7   tariff      500 non-null    object\n",
            "dtypes: int64(2), object(6)\n",
            "memory usage: 31.4+ KB\n",
            "<class 'pandas.core.frame.DataFrame'>\n",
            "RangeIndex: 202607 entries, 0 to 202606\n",
            "Data columns (total 4 columns):\n",
            " #   Column     Non-Null Count   Dtype  \n",
            "---  ------     --------------   -----  \n",
            " 0   id         202607 non-null  object \n",
            " 1   call_date  202607 non-null  object \n",
            " 2   duration   202607 non-null  float64\n",
            " 3   user_id    202607 non-null  int64  \n",
            "dtypes: float64(1), int64(1), object(2)\n",
            "memory usage: 6.2+ MB\n",
            "<class 'pandas.core.frame.DataFrame'>\n",
            "RangeIndex: 123036 entries, 0 to 123035\n",
            "Data columns (total 3 columns):\n",
            " #   Column        Non-Null Count   Dtype \n",
            "---  ------        --------------   ----- \n",
            " 0   id            123036 non-null  object\n",
            " 1   message_date  123036 non-null  object\n",
            " 2   user_id       123036 non-null  int64 \n",
            "dtypes: int64(1), object(2)\n",
            "memory usage: 2.8+ MB\n",
            "<class 'pandas.core.frame.DataFrame'>\n",
            "RangeIndex: 149396 entries, 0 to 149395\n",
            "Data columns (total 5 columns):\n",
            " #   Column        Non-Null Count   Dtype  \n",
            "---  ------        --------------   -----  \n",
            " 0   Unnamed: 0    149396 non-null  int64  \n",
            " 1   id            149396 non-null  object \n",
            " 2   mb_used       149396 non-null  float64\n",
            " 3   session_date  149396 non-null  object \n",
            " 4   user_id       149396 non-null  int64  \n",
            "dtypes: float64(1), int64(2), object(2)\n",
            "memory usage: 5.7+ MB\n",
            "<class 'pandas.core.frame.DataFrame'>\n",
            "RangeIndex: 2 entries, 0 to 1\n",
            "Data columns (total 8 columns):\n",
            " #   Column                 Non-Null Count  Dtype \n",
            "---  ------                 --------------  ----- \n",
            " 0   messages_included      2 non-null      int64 \n",
            " 1   mb_per_month_included  2 non-null      int64 \n",
            " 2   minutes_included       2 non-null      int64 \n",
            " 3   rub_monthly_fee        2 non-null      int64 \n",
            " 4   rub_per_gb             2 non-null      int64 \n",
            " 5   rub_per_message        2 non-null      int64 \n",
            " 6   rub_per_minute         2 non-null      int64 \n",
            " 7   tariff_name            2 non-null      object\n",
            "dtypes: int64(7), object(1)\n",
            "memory usage: 256.0+ bytes\n"
          ]
        }
      ],
      "source": [
        "users.info()\n",
        "calls.info()\n",
        "messages.info()\n",
        "internet.info()\n",
        "tariffs.info()"
      ]
    },
    {
      "cell_type": "markdown",
      "metadata": {
        "id": "9pJwBd90syHI"
      },
      "source": [
        "### Шаг 2. Подготовим данные"
      ]
    },
    {
      "cell_type": "code",
      "execution_count": null,
      "metadata": {
        "id": "JUkRE_FYsyHI"
      },
      "outputs": [],
      "source": [
        "users['reg_date'] = pd.to_datetime(users['reg_date'], format='%Y.%m.%d')\n",
        "users['churn_date']= pd.to_datetime(users['churn_date'], format='%Y.%m.%d')\n",
        "users = users.rename(columns={'tariff': 'tariff_name'})\n",
        "\n",
        "calls['id'] = calls['id'].astype('int')\n",
        "calls['call_date'] = pd.to_datetime(calls['call_date'], format='%Y.%m.%d')\n",
        "# Каждый звонок округляется отдельно: даже если он длился всего 1 секунду, будет засчитан как 1 минута.\n",
        "calls['duration'] = np.ceil(calls['duration']).astype('int')\n",
        "\n",
        "messages['id'] = messages['id'].astype('int')\n",
        "messages['message_date'] = pd.to_datetime(messages['message_date'], format='%Y.%m.%d')\n",
        "\n",
        "internet['id'] = internet['id'].astype('int')\n",
        "internet['session_date'] = pd.to_datetime(internet['session_date'], format='%Y.%m.%d')\n",
        "internet = internet.drop(columns = ['Unnamed: 0'],axis = 1)"
      ]
    },
    {
      "cell_type": "markdown",
      "metadata": {
        "id": "2wur_rXLsyHI"
      },
      "source": [
        "#### Пояснение:  \n",
        "\n",
        "Все даты приводим к одному типу. <br>\n",
        "Переименовываем столбцы для того, что бы было удобно в дальнейшем их склеивать. <br>\n",
        "Меняем типы данных на столбцах id. <br>\n",
        "Окрагуляем минуты. <br>\n",
        "Удаляем бесполезный столбец Unnamed в датафрейме internet. <br>"
      ]
    },
    {
      "cell_type": "markdown",
      "metadata": {
        "id": "PTedL9BxsyHI"
      },
      "source": [
        "### Посчитаем для каждого пользователя:\n",
        "\n",
        "* количество сделанных звонков и израсходованных минут разговора по месяцам;\n",
        "* количество отправленных сообщений по месяцам;\n",
        "* объем израсходованного интернет-трафика по месяцам;\n",
        "* помесячную выручку с каждого пользователя;"
      ]
    },
    {
      "cell_type": "code",
      "execution_count": null,
      "metadata": {
        "id": "Lbs_KHwbsyHI"
      },
      "outputs": [],
      "source": [
        "calls_total = calls.pivot_table(\n",
        "    index=['user_id', pd.DatetimeIndex(calls['call_date']).month],\n",
        "    values=['id','duration', 'call_date'], aggfunc={'id':'count', 'duration':'sum'}).reset_index().rename(\n",
        "    columns=({'duration':'minutes_spent', 'id': 'call_count', 'call_date': 'month_number'}))\n",
        "\n",
        "messages_total = messages.pivot_table(\n",
        "    index=['user_id', pd.DatetimeIndex(messages['message_date']).month],\n",
        "    values=['id', 'message_date'], aggfunc={'id':'count'}).reset_index().rename(\n",
        "    columns=({'id':'messages_count', 'message_date': 'month_number'}))\n",
        "\n",
        "internet_total = internet.pivot_table(\n",
        "    index=['user_id', pd.DatetimeIndex(internet['session_date']).month],\n",
        "    values=['mb_used', 'session_date'], aggfunc={'mb_used':'sum'}).reset_index().rename(\n",
        "    columns=({'mb_used':'gb_used', 'session_date': 'month_number'}))\n",
        "\n",
        "# Слияние датасетов\n",
        "total = users.merge(\n",
        "    messages_total, on=['user_id'], how='outer').merge(\n",
        "    calls_total, on=['user_id', 'month_number'], how='outer').merge(\n",
        "    internet_total, on=['user_id', 'month_number'], how='outer').merge(\n",
        "    tariffs, on='tariff_name').fillna(0)\n",
        "\n",
        "total['month_number'] = total['month_number'].astype(int)\n",
        "total['messages_count'] = total['messages_count'].astype(int)\n",
        "total['minutes_spent'] = total['minutes_spent'].astype(int)\n",
        "total['call_count'] = total['call_count'].astype(int)\n",
        "total['gb_used'] = np.ceil(total['gb_used'] / 1024).astype(int)\n",
        "total['mb_per_month_included'] = np.ceil(total['mb_per_month_included'] / 1024).astype(int)\n",
        "\n",
        "# Считаем выручку по новому (я умею писать функции, даже могу лямбду забацать, но в функции тут смысла нету)\n",
        "# должно быстро работать потому что я сохранил операции со столбцами.\n",
        "total['revenue'] = total['rub_monthly_fee']\n",
        "for param, included, per in zip(['minutes_spent', 'messages_count', 'gb_used'],\n",
        "                                ['minutes_included', 'messages_included', 'mb_per_month_included'],\n",
        "                                ['rub_per_minute', 'rub_per_message', 'rub_per_gb']):\n",
        "    tmp = (total[param] - total[included]) * total[per]\n",
        "    tmp[tmp < 0] = 0\n",
        "    total['revenue'] += tmp\n",
        "\n",
        "# Удаляем не нужные столбцы\n",
        "total = total.drop(columns=['messages_included', 'mb_per_month_included',\n",
        "                            'minutes_included', 'rub_per_gb',\n",
        "                            'rub_per_message', 'rub_per_minute'])"
      ]
    },
    {
      "cell_type": "markdown",
      "metadata": {
        "id": "_doIpWpesyHI"
      },
      "source": [
        "### Шаг 3. Проанализируем данные"
      ]
    },
    {
      "cell_type": "code",
      "execution_count": null,
      "metadata": {
        "id": "4ZM6GAkNsyHK",
        "outputId": "ddb85074-7784-40c7-a159-107f67d61a14"
      },
      "outputs": [
        {
          "data": {
            "image/png": "[encoded data removed]",
            "text/plain": [
              "<Figure size 432x288 with 1 Axes>"
            ]
          },
          "metadata": {
            "needs_background": "light"
          },
          "output_type": "display_data"
        }
      ],
      "source": [
        "plt.hist(total.query('tariff_name == \"smart\"')['minutes_spent'], alpha = 0.9, bins = 30)\n",
        "plt.hist(total.query('tariff_name == \"ultra\"')['minutes_spent'], alpha = 0.7, bins = 30)\n",
        "plt.legend(['smart', 'ultra'])\n",
        "plt.title('Потраченные минуты')\n",
        "plt.xlabel('Минуты')\n",
        "plt.show()"
      ]
    },
    {
      "cell_type": "markdown",
      "metadata": {
        "id": "gmr0KPcRsyHK"
      },
      "source": [
        "Проанализировав потраченные минуты на каждом тарифе можно сделать выводы:\n",
        "1. Довольно много пользователей вообще не тратят минуты (видимо им нужны смс или гб)\n",
        "2. Пользователям тарифа SMART требуется в среднем от 250 до 750 минут в месяц.\n",
        "3. Пользователям тарифа ULTRA требуется в среднем от 50 до 1000 минут в месяц."
      ]
    },
    {
      "cell_type": "code",
      "execution_count": null,
      "metadata": {
        "id": "CZLK6PvdsyHK",
        "outputId": "fe15ad87-1f10-4a82-c7da-1294ac569fbe"
      },
      "outputs": [
        {
          "data": {
            "image/png": "[encoded data removed]",
            "text/plain": [
              "<Figure size 432x288 with 1 Axes>"
            ]
          },
          "metadata": {
            "needs_background": "light"
          },
          "output_type": "display_data"
        }
      ],
      "source": [
        "plt.hist(total.query('tariff_name == \"smart\"')['messages_count'], alpha = 0.9, bins = 30)\n",
        "plt.hist(total.query('tariff_name == \"ultra\"')['messages_count'], alpha = 0.7, bins = 30)\n",
        "plt.legend(['smart', 'ultra'])\n",
        "plt.title('Потраченные СМС')\n",
        "plt.xlabel('смс')\n",
        "plt.show()"
      ]
    },
    {
      "cell_type": "markdown",
      "metadata": {
        "id": "YFIGYtZasyHK"
      },
      "source": [
        "Проанализировав потраченные сообщения на каждом тарифе можно сделать выводы:\n",
        "1. Довольно много пользователей вообще не тратят минуты (видимо им нужны минуты или гб)\n",
        "2. Пользователям тарифа SMART требуется в среднем от 10 до 70 сообщений в месяц.\n",
        "3. Пользователям тарифа ULTRA требуется в среднем от 20 до 150 сообщений в месяц."
      ]
    },
    {
      "cell_type": "code",
      "execution_count": null,
      "metadata": {
        "id": "BFvS2TNssyHK",
        "outputId": "7e6f110e-f178-435a-dc95-150bb234134c"
      },
      "outputs": [
        {
          "data": {
            "image/png": "[encoded data removed]",
            "text/plain": [
              "<Figure size 432x288 with 1 Axes>"
            ]
          },
          "metadata": {
            "needs_background": "light"
          },
          "output_type": "display_data"
        }
      ],
      "source": [
        "plt.hist(total.query('tariff_name == \"smart\"')['gb_used'], alpha = 0.9, bins = 30)\n",
        "plt.hist(total.query('tariff_name == \"ultra\"')['gb_used'], alpha = 0.7, bins = 30)\n",
        "plt.legend(['smart', 'ultra'])\n",
        "plt.title('Потраченные ГЕГЕ')\n",
        "plt.xlabel('Гигабайты')\n",
        "plt.show()"
      ]
    },
    {
      "cell_type": "markdown",
      "metadata": {
        "id": "WemCPpT7syHL"
      },
      "source": [
        "Проанализировав потраченные гигабайты на каждом тарифе можно сделать выводы:\n",
        "1. Пользователям тарифа SMART требуется в среднем от 10 до 25 гб в месяц.\n",
        "3. Пользователям тарифа ULTRA требуется в среднем от 10 до 30 гб в месяц."
      ]
    },
    {
      "cell_type": "markdown",
      "metadata": {
        "id": "Bpt5Ww_ssyHL"
      },
      "source": [
        "#### Посчитаем среднее количество, дисперсию и стандартное отклонение выручки."
      ]
    },
    {
      "cell_type": "code",
      "execution_count": null,
      "metadata": {
        "id": "bpcTqw9vsyHL",
        "outputId": "89efc9e3-8164-4046-ac54-3bdba233473e"
      },
      "outputs": [
        {
          "data": {
            "text/html": [
              "<div>\n",
              "<style scoped>\n",
              "    .dataframe tbody tr th:only-of-type {\n",
              "        vertical-align: middle;\n",
              "    }\n",
              "\n",
              "    .dataframe tbody tr th {\n",
              "        vertical-align: top;\n",
              "    }\n",
              "\n",
              "    .dataframe thead tr th {\n",
              "        text-align: left;\n",
              "    }\n",
              "\n",
              "    .dataframe thead tr:last-of-type th {\n",
              "        text-align: right;\n",
              "    }\n",
              "</style>\n",
              "<table border=\"1\" class=\"dataframe\">\n",
              "  <thead>\n",
              "    <tr>\n",
              "      <th></th>\n",
              "      <th colspan=\"4\" halign=\"left\">mean</th>\n",
              "      <th colspan=\"4\" halign=\"left\">var</th>\n",
              "      <th colspan=\"4\" halign=\"left\">std</th>\n",
              "    </tr>\n",
              "    <tr>\n",
              "      <th></th>\n",
              "      <th>gb_used</th>\n",
              "      <th>messages_count</th>\n",
              "      <th>minutes_spent</th>\n",
              "      <th>revenue</th>\n",
              "      <th>gb_used</th>\n",
              "      <th>messages_count</th>\n",
              "      <th>minutes_spent</th>\n",
              "      <th>revenue</th>\n",
              "      <th>gb_used</th>\n",
              "      <th>messages_count</th>\n",
              "      <th>minutes_spent</th>\n",
              "      <th>revenue</th>\n",
              "    </tr>\n",
              "    <tr>\n",
              "      <th>tariff_name</th>\n",
              "      <th></th>\n",
              "      <th></th>\n",
              "      <th></th>\n",
              "      <th></th>\n",
              "      <th></th>\n",
              "      <th></th>\n",
              "      <th></th>\n",
              "      <th></th>\n",
              "      <th></th>\n",
              "      <th></th>\n",
              "      <th></th>\n",
              "      <th></th>\n",
              "    </tr>\n",
              "  </thead>\n",
              "  <tbody>\n",
              "    <tr>\n",
              "      <th>smart</th>\n",
              "      <td>15.946728</td>\n",
              "      <td>37.753932</td>\n",
              "      <td>409.097920</td>\n",
              "      <td>1270.851344</td>\n",
              "      <td>37.900206</td>\n",
              "      <td>736.102364</td>\n",
              "      <td>39110.953351</td>\n",
              "      <td>672056.034236</td>\n",
              "      <td>6.156314</td>\n",
              "      <td>27.131206</td>\n",
              "      <td>197.764894</td>\n",
              "      <td>819.790238</td>\n",
              "    </tr>\n",
              "    <tr>\n",
              "      <th>ultra</th>\n",
              "      <td>18.806098</td>\n",
              "      <td>59.296341</td>\n",
              "      <td>513.384146</td>\n",
              "      <td>2044.756098</td>\n",
              "      <td>99.362844</td>\n",
              "      <td>2155.964578</td>\n",
              "      <td>110695.125756</td>\n",
              "      <td>105021.307960</td>\n",
              "      <td>9.968091</td>\n",
              "      <td>46.432366</td>\n",
              "      <td>332.708770</td>\n",
              "      <td>324.069912</td>\n",
              "    </tr>\n",
              "  </tbody>\n",
              "</table>\n",
              "</div>"
            ],
            "text/plain": [
              "                  mean                                                  var  \\\n",
              "               gb_used messages_count minutes_spent      revenue    gb_used   \n",
              "tariff_name                                                                   \n",
              "smart        15.946728      37.753932    409.097920  1270.851344  37.900206   \n",
              "ultra        18.806098      59.296341    513.384146  2044.756098  99.362844   \n",
              "\n",
              "                                                               std  \\\n",
              "            messages_count  minutes_spent        revenue   gb_used   \n",
              "tariff_name                                                          \n",
              "smart           736.102364   39110.953351  672056.034236  6.156314   \n",
              "ultra          2155.964578  110695.125756  105021.307960  9.968091   \n",
              "\n",
              "                                                      \n",
              "            messages_count minutes_spent     revenue  \n",
              "tariff_name                                           \n",
              "smart            27.131206    197.764894  819.790238  \n",
              "ultra            46.432366    332.708770  324.069912  "
            ]
          },
          "execution_count": 9,
          "metadata": {},
          "output_type": "execute_result"
        }
      ],
      "source": [
        "total.pivot_table(index='tariff_name', values= ['revenue', 'minutes_spent', 'messages_count', 'gb_used'],\n",
        "                  aggfunc= ['mean', 'var','std'])\n"
      ]
    },
    {
      "cell_type": "markdown",
      "metadata": {
        "id": "XH1W-3UdsyHL"
      },
      "source": [
        "### Шаг 4. Проверим гипотизы."
      ]
    },
    {
      "cell_type": "markdown",
      "metadata": {
        "id": "oONqgnopsyHL"
      },
      "source": [
        "#### Первая гипотиза\n",
        "Средняя выручка пользователей тарифов «Ультра» и «Смарт» различаются; <br>\n",
        "Нулевая гипотиза звучит так: <br>\n",
        "Средние двух генеральных совокупностей (тарифов) равны между собой <br>\n",
        "Если уровень значимости выше, чем P-value, значит что нулевая гипотиза будет отвергнута <br>"
      ]
    },
    {
      "cell_type": "code",
      "execution_count": null,
      "metadata": {
        "id": "1F3Kn0sfsyHL",
        "outputId": "9510ea16-7370-427b-f482-45d2746de786"
      },
      "outputs": [
        {
          "name": "stdout",
          "output_type": "stream",
          "text": [
            "Нулевая гипотеза отвергнута\n"
          ]
        }
      ],
      "source": [
        "alpha = .05\n",
        "\n",
        "results = st.ttest_ind(\n",
        "    total.query('tariff_name == \"smart\"')['revenue'],\n",
        "    total.query('tariff_name == \"ultra\"')['revenue'])\n",
        "\n",
        "if alpha > results.pvalue:\n",
        "    print('Нулевая гипотеза отвергнута')\n",
        "else: print('Нулевую гипотизу не получилось отвергнуть')\n"
      ]
    },
    {
      "cell_type": "markdown",
      "metadata": {
        "id": "V5ZM3ntDsyHL"
      },
      "source": [
        "Судя по данным средняя выручка различается."
      ]
    },
    {
      "cell_type": "markdown",
      "metadata": {
        "id": "KO7XQZ0bsyHL"
      },
      "source": [
        "#### Вторая гипотиза\n",
        "Cредняя выручка пользователей из Москвы отличается от выручки пользователей из других регионов. <br>\n",
        "Нулевая гипотиза звучит так: <br>\n",
        "Средняя выручка двух генеральных совокупностей (Москвы и регионов) равны между собой <br>\n",
        "Если уровень значимости выше, чем P-value, значит что нулевая гипотиза будет отвергнута <br>"
      ]
    },
    {
      "cell_type": "code",
      "execution_count": null,
      "metadata": {
        "id": "w18wE7RnsyHM",
        "outputId": "a8ad0dfe-003e-4f41-ea97-b3638296875e"
      },
      "outputs": [
        {
          "name": "stdout",
          "output_type": "stream",
          "text": [
            "Нулевую гипотизу не получилось отвергнуть\n"
          ]
        }
      ],
      "source": [
        "\n",
        "alpha = .05\n",
        "\n",
        "results = st.ttest_ind(\n",
        "    total.query('city == \"Москва\"')['revenue'],\n",
        "    total.query('city != \"Москва\"')['revenue'])\n",
        "\n",
        "if alpha > results.pvalue:\n",
        "    print('Нулевая гипотеза отвергнута')\n",
        "else: print('Нулевую гипотизу не получилось отвергнуть')\n",
        "\n",
        "\n",
        "\n",
        ""
      ]
    },
    {
      "cell_type": "markdown",
      "metadata": {
        "id": "dYuWTQa8syHM"
      },
      "source": [
        "Судя по данным средняя выручка москвичей не отличается от средней выручки россиян."
      ]
    },
    {
      "cell_type": "markdown",
      "metadata": {
        "id": "QZnpN4oSsyHM"
      },
      "source": [
        "#### Пояснение\n",
        "\n",
        "1. Как я формулировали нулевую и альтернативную гипотезы? <br>\n",
        "Очень просто, как учили. <br>\n",
        "2. Какой критерий использовали для проверки гипотез и почему?<br>\n",
        "Тут тоже все просто, критерий всего 1- альфа общепринятая .01 или .05. Почему? Ну потому что."
      ]
    },
    {
      "cell_type": "markdown",
      "metadata": {
        "id": "zmUTcBjKsyHM"
      },
      "source": [
        "### Шаг 5. Общий вывод."
      ]
    },
    {
      "cell_type": "markdown",
      "metadata": {
        "id": "U3JTh_YcsyHM"
      },
      "source": [
        "В общем было интересно. <br>\n",
        "Мы обработали данные, посчитали выручку на каждого пользователя, построили гистраграммы, убедились что оба тарифа хороши. <br>\n",
        "Проанализировав потраченные минуты, сообщений и гигабайты на каждом тарифе можно сделать выводы:\n",
        "1. Довольно много пользователей вообще не тратят минуты (видимо им нужны смс или гб)\n",
        "2. Пользователям тарифа SMART требуется в среднем от 250 до 750 минут в месяц.\n",
        "3. Пользователям тарифа ULTRA требуется в среднем от 50 до 1000 минут в месяц.\n",
        "1. Довольно много пользователей вообще не тратят минуты (видимо им нужны минуты или гб)\n",
        "2. Пользователям тарифа SMART требуется в среднем от 10 до 70 сообщений в месяц.\n",
        "3. Пользователям тарифа ULTRA требуется в среднем от 20 до 150 сообщений в месяц.\n",
        "1. Пользователям тарифа SMART требуется в среднем от 10 до 25 гб в месяц.\n",
        "3. Пользователям тарифа ULTRA требуется в среднем от 10 до 30 гб в месяц.\n",
        "<br><br>\n",
        "Посчитали статистические показатели, для пользователей тарифа СМАРТ в среднем требуется на 1 гб больше интернета, чем есть в пакете. <br>\n",
        "Средняя выручка тарифов различается, в среднем пользователи тарифа СМАРТ переплачивают в 2,5 раза, больше всего за интернет. <br>\n",
        "Выручка москвичей от Россиян в целом не различается. <br>\n",
        "Тариф СМАРТ лучше потому что пользователь пусть и переплачивает, но это все равно выгоднее тарифа УЛЬТРА и у тарифа СМАРТ хороший потенциал для рекламы за счет его дешевой стоимости. Скорее всего этим тарифом пользуется большинство пользователей. <br>"
      ]
    }
  ],
  "metadata": {
    "ExecuteTimeLog": [
      {
        "duration": 1090,
        "start_time": "2022-04-06T20:20:26.771Z"
      },
      {
        "duration": 398,
        "start_time": "2022-04-06T20:20:27.863Z"
      },
      {
        "duration": 35,
        "start_time": "2022-04-06T20:20:28.263Z"
      },
      {
        "duration": 164,
        "start_time": "2022-04-06T20:20:28.300Z"
      },
      {
        "duration": 156,
        "start_time": "2022-04-06T20:20:28.466Z"
      },
      {
        "duration": 272,
        "start_time": "2022-04-06T20:20:28.623Z"
      },
      {
        "duration": 234,
        "start_time": "2022-04-06T20:20:28.896Z"
      },
      {
        "duration": 219,
        "start_time": "2022-04-06T20:20:29.132Z"
      },
      {
        "duration": 40,
        "start_time": "2022-04-06T20:20:29.353Z"
      },
      {
        "duration": 9,
        "start_time": "2022-04-06T20:20:29.395Z"
      },
      {
        "duration": 37,
        "start_time": "2022-04-06T20:20:29.405Z"
      },
      {
        "duration": 1221,
        "start_time": "2022-04-06T20:33:25.982Z"
      },
      {
        "duration": 371,
        "start_time": "2022-04-06T20:33:27.205Z"
      },
      {
        "duration": 35,
        "start_time": "2022-04-06T20:33:27.578Z"
      },
      {
        "duration": 139,
        "start_time": "2022-04-06T20:33:27.614Z"
      },
      {
        "duration": 155,
        "start_time": "2022-04-06T20:33:27.756Z"
      },
      {
        "duration": 231,
        "start_time": "2022-04-06T20:33:27.913Z"
      },
      {
        "duration": 214,
        "start_time": "2022-04-06T20:33:28.145Z"
      },
      {
        "duration": 207,
        "start_time": "2022-04-06T20:33:28.360Z"
      },
      {
        "duration": 37,
        "start_time": "2022-04-06T20:33:28.569Z"
      },
      {
        "duration": 10,
        "start_time": "2022-04-06T20:33:28.607Z"
      },
      {
        "duration": 9,
        "start_time": "2022-04-06T20:33:28.638Z"
      },
      {
        "duration": 11,
        "start_time": "2022-04-06T20:39:22.021Z"
      },
      {
        "duration": 49,
        "start_time": "2022-04-06T20:40:51.675Z"
      },
      {
        "duration": 50,
        "start_time": "2022-04-06T20:41:39.428Z"
      },
      {
        "duration": 43,
        "start_time": "2022-04-06T20:43:14.667Z"
      },
      {
        "duration": 47,
        "start_time": "2022-04-06T20:43:24.695Z"
      },
      {
        "duration": 1383,
        "start_time": "2022-04-07T17:40:11.782Z"
      },
      {
        "duration": 410,
        "start_time": "2022-04-07T17:40:13.167Z"
      },
      {
        "duration": 103,
        "start_time": "2022-04-07T17:40:13.579Z"
      },
      {
        "duration": 156,
        "start_time": "2022-04-07T17:40:13.684Z"
      },
      {
        "duration": 183,
        "start_time": "2022-04-07T17:40:13.843Z"
      },
      {
        "duration": 282,
        "start_time": "2022-04-07T17:40:14.028Z"
      },
      {
        "duration": 258,
        "start_time": "2022-04-07T17:40:14.312Z"
      },
      {
        "duration": 258,
        "start_time": "2022-04-07T17:40:14.572Z"
      },
      {
        "duration": 47,
        "start_time": "2022-04-07T17:40:14.832Z"
      },
      {
        "duration": 32,
        "start_time": "2022-04-07T17:40:14.881Z"
      },
      {
        "duration": 11,
        "start_time": "2022-04-07T17:40:14.915Z"
      },
      {
        "duration": 1666,
        "start_time": "2022-04-07T21:21:34.225Z"
      },
      {
        "duration": 525,
        "start_time": "2022-04-07T21:21:35.895Z"
      },
      {
        "duration": 95,
        "start_time": "2022-04-07T21:21:36.423Z"
      },
      {
        "duration": 201,
        "start_time": "2022-04-07T21:21:36.522Z"
      },
      {
        "duration": 236,
        "start_time": "2022-04-07T21:21:36.725Z"
      },
      {
        "duration": 389,
        "start_time": "2022-04-07T21:21:36.963Z"
      },
      {
        "duration": 358,
        "start_time": "2022-04-07T21:21:37.354Z"
      },
      {
        "duration": 353,
        "start_time": "2022-04-07T21:21:37.714Z"
      },
      {
        "duration": 74,
        "start_time": "2022-04-07T21:21:38.070Z"
      },
      {
        "duration": 14,
        "start_time": "2022-04-07T21:21:38.147Z"
      },
      {
        "duration": 14,
        "start_time": "2022-04-07T21:21:38.163Z"
      }
    ],
    "kernelspec": {
      "display_name": "Python 3 (ipykernel)",
      "language": "python",
      "name": "python3"
    },
    "language_info": {
      "codemirror_mode": {
        "name": "ipython",
        "version": 3
      },
      "file_extension": ".py",
      "mimetype": "text/x-python",
      "name": "python",
      "nbconvert_exporter": "python",
      "pygments_lexer": "ipython3",
      "version": "3.9.5"
    },
    "toc": {
      "base_numbering": 1,
      "nav_menu": {},
      "number_sections": true,
      "sideBar": true,
      "skip_h1_title": true,
      "title_cell": "Table of Contents",
      "title_sidebar": "Contents",
      "toc_cell": false,
      "toc_position": {},
      "toc_section_display": true,
      "toc_window_display": false
    },
    "colab": {
      "provenance": []
    }
  },
  "nbformat": 4,
  "nbformat_minor": 0
}