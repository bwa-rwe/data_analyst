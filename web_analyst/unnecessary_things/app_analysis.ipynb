{
  "cells": [
    {
      "cell_type": "markdown",
      "id": "uDMh19Cc5W9C",
      "metadata": {
        "id": "uDMh19Cc5W9C"
      },
      "source": [
        "# Ненужные вещи\n",
        "\n",
        "Датасет содержит данные о событиях, совершенных в мобильном приложении \"Ненужные вещи\".\n",
        "В нем пользователи продают свои ненужные вещи, размещая их на доске объявлений.\n",
        "В датасете содержатся данные пользователей, впервые совершивших действия в приложении после 7 октября 2019 года.\n",
        "\n",
        "Цель исследования- Ответить на вопросы заказчика:\n",
        "\n",
        "1. Какие пользователи склонны часто возвращаться в мобильное приложение?\n",
        "2. Какие пользователи часто делают целевое событие (contacts_show)\n",
        "3. Как различается время между распространенными событиями пользователей, (например, различаются ли пользователи по группам на основе времени, которое проходит с момента первого использования мобильного приложения и до использования функции поиска)?"
      ]
    },
    {
      "cell_type": "code",
      "execution_count": null,
      "id": "d9014fab",
      "metadata": {
        "id": "d9014fab"
      },
      "outputs": [],
      "source": [
        "import pandas as pd\n",
        "import math as mth\n",
        "import matplotlib.pyplot as plt\n",
        "import seaborn as sns\n",
        "from datetime import timedelta, datetime\n",
        "from scipy import stats as st\n",
        "from sklearn.preprocessing import StandardScaler\n",
        "from scipy.cluster.hierarchy import dendrogram, linkage\n",
        "from sklearn.cluster import KMeans"
      ]
    },
    {
      "cell_type": "code",
      "execution_count": null,
      "id": "65731fd0",
      "metadata": {
        "id": "65731fd0"
      },
      "outputs": [],
      "source": [
        "mobile_sourсes, mobile_dataset = pd.read_csv(\n",
        "    'https://datasets/mobile_soures.csv'\n",
        "    ), pd.read_csv('https://datasets/mobile_dataset.csv')"
      ]
    },
    {
      "cell_type": "markdown",
      "id": "2y7gkq4u6hY3",
      "metadata": {
        "id": "2y7gkq4u6hY3"
      },
      "source": [
        "## 1. Предобработка данных"
      ]
    },
    {
      "cell_type": "markdown",
      "id": "FP0nvFMQAG9S",
      "metadata": {
        "id": "FP0nvFMQAG9S"
      },
      "source": [
        "### 1.1 Изучение общей информации."
      ]
    },
    {
      "cell_type": "code",
      "execution_count": null,
      "id": "b0dde6a1",
      "metadata": {
        "colab": {
          "base_uri": "https://localhost:8080/"
        },
        "id": "b0dde6a1",
        "outputId": "2cb3f11f-866a-4114-884d-b49c473dcee4"
      },
      "outputs": [
        {
          "name": "stdout",
          "output_type": "stream",
          "text": [
            "<class 'pandas.core.frame.DataFrame'>\n",
            "RangeIndex: 4293 entries, 0 to 4292\n",
            "Data columns (total 2 columns):\n",
            " #   Column  Non-Null Count  Dtype \n",
            "---  ------  --------------  ----- \n",
            " 0   userId  4293 non-null   object\n",
            " 1   source  4293 non-null   object\n",
            "dtypes: object(2)\n",
            "memory usage: 67.2+ KB\n",
            "duplicated sum: 0\n",
            "--------------------------------------\n",
            "<class 'pandas.core.frame.DataFrame'>\n",
            "RangeIndex: 74197 entries, 0 to 74196\n",
            "Data columns (total 3 columns):\n",
            " #   Column      Non-Null Count  Dtype \n",
            "---  ------      --------------  ----- \n",
            " 0   event.time  74197 non-null  object\n",
            " 1   event.name  74197 non-null  object\n",
            " 2   user.id     74197 non-null  object\n",
            "dtypes: object(3)\n",
            "memory usage: 1.7+ MB\n",
            "duplicated sum: 0\n",
            "--------------------------------------\n"
          ]
        }
      ],
      "source": [
        "for datasets in mobile_sourсes, mobile_dataset:\n",
        "    datasets.info()\n",
        "    print('duplicated sum:', datasets.duplicated().sum())\n",
        "    print('--------------------------------------')"
      ]
    },
    {
      "cell_type": "markdown",
      "id": "0g5h4zzp6oJ9",
      "metadata": {
        "id": "0g5h4zzp6oJ9"
      },
      "source": [
        "Видим неудобные названия колонок в датафреймах. Приведем их в змеиный регистр."
      ]
    },
    {
      "cell_type": "markdown",
      "id": "gzUJPI1PAOiC",
      "metadata": {
        "id": "gzUJPI1PAOiC"
      },
      "source": [
        "### 1.2 Приведение данных к соответствующему типу."
      ]
    },
    {
      "cell_type": "code",
      "execution_count": null,
      "id": "b84a1d79",
      "metadata": {
        "id": "b84a1d79"
      },
      "outputs": [],
      "source": [
        "mobile_sourсes.rename(columns={\n",
        "    'userId':'user_id'\n",
        "    }, inplace=True)\n",
        "\n",
        "mobile_dataset.rename(columns={\n",
        "    'user.id':'user_id',\n",
        "    'event.time':'event_time',\n",
        "    'event.name':'event_name'\n",
        "    }, inplace=True)\n",
        "\n",
        "mobile_dataset['event_time'] = pd.to_datetime(\n",
        "    mobile_dataset['event_time'], format='%Y.%m.%d %H:%M:%S'\n",
        "    ).dt.round('1S')\n",
        "\n",
        "mobile_dataset['event_name'].replace(\n",
        "    'show_contacts', 'contacts_show', inplace=True\n",
        "    )\n",
        "mobile_dataset.drop_duplicates(inplace=True)\n",
        "mobile_dataset.reset_index(drop=True, inplace=True)"
      ]
    },
    {
      "cell_type": "markdown",
      "id": "ZRNc9__PAka7",
      "metadata": {
        "id": "ZRNc9__PAka7"
      },
      "source": [
        "## 2. Исследовательский анализ"
      ]
    },
    {
      "cell_type": "code",
      "execution_count": null,
      "id": "a687fe67",
      "metadata": {
        "colab": {
          "base_uri": "https://localhost:8080/"
        },
        "id": "a687fe67",
        "outputId": "990b4a73-a693-4983-bf10-8d51d729a99a"
      },
      "outputs": [
        {
          "name": "stdout",
          "output_type": "stream",
          "text": [
            "total users: 4293\n"
          ]
        }
      ],
      "source": [
        "print('total users:', mobile_dataset['user_id'].nunique())"
      ]
    },
    {
      "cell_type": "markdown",
      "id": "IvU_Q8rB7CkO",
      "metadata": {
        "id": "IvU_Q8rB7CkO"
      },
      "source": [
        "Общее количество пользователей в датафрейме - 4293\n"
      ]
    },
    {
      "cell_type": "code",
      "execution_count": null,
      "id": "607ae590",
      "metadata": {
        "colab": {
          "base_uri": "https://localhost:8080/"
        },
        "id": "607ae590",
        "outputId": "5dd052a1-dd58-440b-da2c-31a94350ea56"
      },
      "outputs": [
        {
          "name": "stdout",
          "output_type": "stream",
          "text": [
            "date start: 2019-10-07 00:00:00\n",
            "date end: 2019-11-03 23:58:13\n"
          ]
        }
      ],
      "source": [
        "print('date start:', mobile_dataset['event_time'].min())\n",
        "print('date end:',mobile_dataset['event_time'].max())"
      ]
    },
    {
      "cell_type": "markdown",
      "id": "rev0S4sU7E6i",
      "metadata": {
        "id": "rev0S4sU7E6i"
      },
      "source": [
        "Данные в датафрейме начинаются с 2019-10-07 00:00:00 и заканчиваются 2019-11-03 23:58:13"
      ]
    },
    {
      "cell_type": "code",
      "execution_count": null,
      "id": "3d98f8e0",
      "metadata": {
        "colab": {
          "base_uri": "https://localhost:8080/"
        },
        "id": "3d98f8e0",
        "outputId": "598981e8-1656-4d4d-ca6b-ba64221f8e81"
      },
      "outputs": [
        {
          "data": {
            "text/plain": [
              "source\n",
              "google    1129\n",
              "other     1230\n",
              "yandex    1934\n",
              "Name: user_id, dtype: int64"
            ]
          },
          "execution_count": 7,
          "metadata": {},
          "output_type": "execute_result"
        }
      ],
      "source": [
        "df = mobile_dataset.merge(mobile_sourсes, on='user_id')\n",
        "\n",
        "df.groupby('source')['user_id'].nunique()"
      ]
    },
    {
      "cell_type": "markdown",
      "id": "VkVMi6xI7QEp",
      "metadata": {
        "id": "VkVMi6xI7QEp"
      },
      "source": [
        "Так пользователи распределены по источникам"
      ]
    },
    {
      "cell_type": "markdown",
      "id": "sd0O3YcvAsni",
      "metadata": {
        "id": "sd0O3YcvAsni"
      },
      "source": [
        "### 2.1 Создание пользовательских ссесий."
      ]
    },
    {
      "cell_type": "markdown",
      "id": "WlZqs4vN7XYr",
      "metadata": {
        "id": "WlZqs4vN7XYr"
      },
      "source": [
        "Выделим сессии с таймаутом в 30 минут"
      ]
    },
    {
      "cell_type": "code",
      "execution_count": null,
      "id": "31eebae0",
      "metadata": {
        "id": "31eebae0"
      },
      "outputs": [],
      "source": [
        "df['session_id'] = df.groupby(['user_id',(\n",
        "    df.groupby('user_id')['event_time'].diff() > pd.Timedelta('30Min')\n",
        "    ).cumsum()], sort=False).ngroup() + 1"
      ]
    },
    {
      "cell_type": "markdown",
      "id": "IujQY4In7kOm",
      "metadata": {
        "id": "IujQY4In7kOm"
      },
      "source": [
        "Посчитаем длительность сессий"
      ]
    },
    {
      "cell_type": "code",
      "execution_count": null,
      "id": "8823f9c9",
      "metadata": {
        "id": "8823f9c9"
      },
      "outputs": [],
      "source": [
        "df = df.merge(\n",
        "    (df.groupby('session_id')['event_time'].max() -\n",
        "     df.groupby('session_id')['event_time'].min()\n",
        "     ).dt.total_seconds().div(60).astype(int).reset_index(),\n",
        "     on='session_id')\n",
        "\n",
        "df.rename(columns={\n",
        "    'event_time_x':'event_time',\n",
        "    'event_time_y':'session_time'\n",
        "    }, inplace=True)"
      ]
    },
    {
      "cell_type": "markdown",
      "id": "5d8rNfZd7ntQ",
      "metadata": {
        "id": "5d8rNfZd7ntQ"
      },
      "source": [
        "Уберем слишком короткие и слишком длинные сессии, скорее всего это выборсы"
      ]
    },
    {
      "cell_type": "code",
      "execution_count": null,
      "id": "8wvPMtvP2XMn",
      "metadata": {
        "id": "8wvPMtvP2XMn"
      },
      "outputs": [],
      "source": [
        "df = df.query(\n",
        "    'session_time > session_time.quantile(0.05) and \\\n",
        "     session_time < session_time.quantile(0.95)'\n",
        "     )"
      ]
    },
    {
      "cell_type": "markdown",
      "id": "g5pT92Ki7vB0",
      "metadata": {
        "id": "g5pT92Ki7vB0"
      },
      "source": [
        "Посмотрим на длительность сесиий после фильтрации:"
      ]
    },
    {
      "cell_type": "code",
      "execution_count": null,
      "id": "L3a-qig_1uIF",
      "metadata": {
        "colab": {
          "base_uri": "https://localhost:8080/"
        },
        "id": "L3a-qig_1uIF",
        "outputId": "415e165b-29c7-42cc-8587-5da623509772"
      },
      "outputs": [
        {
          "name": "stdout",
          "output_type": "stream",
          "text": [
            "session time 1 - 102\n"
          ]
        }
      ],
      "source": [
        "print('session time', df['session_time'].min(), '-', df['session_time'].max())"
      ]
    },
    {
      "cell_type": "markdown",
      "id": "k9xtEqyL7uFP",
      "metadata": {
        "id": "k9xtEqyL7uFP"
      },
      "source": [
        "Посмотрим как на общее количество пользователей после фильтрации и как они \\\n",
        "распределены по источникам:"
      ]
    },
    {
      "cell_type": "code",
      "execution_count": null,
      "id": "n_BgO5ZVglQX",
      "metadata": {
        "colab": {
          "base_uri": "https://localhost:8080/"
        },
        "id": "n_BgO5ZVglQX",
        "outputId": "67737523-f93d-4376-9538-af4d45a0c91d"
      },
      "outputs": [
        {
          "name": "stdout",
          "output_type": "stream",
          "text": [
            "total users: 4024\n"
          ]
        },
        {
          "data": {
            "text/plain": [
              "source\n",
              "google    1079\n",
              "other     1116\n",
              "yandex    1829\n",
              "Name: user_id, dtype: int64"
            ]
          },
          "execution_count": 12,
          "metadata": {},
          "output_type": "execute_result"
        }
      ],
      "source": [
        "print('total users:', df['user_id'].nunique())\n",
        "df.groupby('source')['user_id'].nunique()"
      ]
    },
    {
      "cell_type": "markdown",
      "id": "E_VNNMYr8EzM",
      "metadata": {
        "id": "E_VNNMYr8EzM"
      },
      "source": [
        "## 3. Выделение пользователей на группы на основе их действий"
      ]
    },
    {
      "cell_type": "markdown",
      "id": "luTLTmSu8TxW",
      "metadata": {
        "id": "luTLTmSu8TxW"
      },
      "source": [
        "Преобразуем датафрейм:"
      ]
    },
    {
      "cell_type": "code",
      "execution_count": null,
      "id": "oESuS7NbXNOf",
      "metadata": {
        "id": "oESuS7NbXNOf"
      },
      "outputs": [],
      "source": [
        "df_dummies = pd.get_dummies(data=df, columns=['event_name', 'source'])"
      ]
    },
    {
      "cell_type": "code",
      "execution_count": null,
      "id": "7AztFUYPb7KA",
      "metadata": {
        "id": "7AztFUYPb7KA"
      },
      "outputs": [],
      "source": [
        "df_dummies = df_dummies.groupby('user_id').mean().drop(['session_id'], axis=1)\n",
        "\n",
        "df_dummies = df_dummies.merge(\n",
        "    df.groupby('user_id')['session_id'].count(), on='user_id'\n",
        "    ).rename(columns={'session_id': 'session_count'})"
      ]
    },
    {
      "cell_type": "code",
      "execution_count": null,
      "id": "ceeb5ccf",
      "metadata": {
        "id": "ceeb5ccf",
        "outputId": "09b9f190-43cb-4f49-fd50-4f438a4dfa81"
      },
      "outputs": [
        {
          "data": {
            "text/html": [
              "<div>\n",
              "<style scoped>\n",
              "    .dataframe tbody tr th:only-of-type {\n",
              "        vertical-align: middle;\n",
              "    }\n",
              "\n",
              "    .dataframe tbody tr th {\n",
              "        vertical-align: top;\n",
              "    }\n",
              "\n",
              "    .dataframe thead th {\n",
              "        text-align: right;\n",
              "    }\n",
              "</style>\n",
              "<table border=\"1\" class=\"dataframe\">\n",
              "  <thead>\n",
              "    <tr style=\"text-align: right;\">\n",
              "      <th></th>\n",
              "      <th>session_time</th>\n",
              "      <th>event_name_advert_open</th>\n",
              "      <th>event_name_contacts_call</th>\n",
              "      <th>event_name_contacts_show</th>\n",
              "      <th>event_name_favorites_add</th>\n",
              "      <th>event_name_map</th>\n",
              "      <th>event_name_photos_show</th>\n",
              "      <th>event_name_search_1</th>\n",
              "      <th>event_name_search_2</th>\n",
              "      <th>event_name_search_3</th>\n",
              "      <th>event_name_search_4</th>\n",
              "      <th>event_name_search_5</th>\n",
              "      <th>event_name_search_6</th>\n",
              "      <th>event_name_search_7</th>\n",
              "      <th>event_name_tips_click</th>\n",
              "      <th>event_name_tips_show</th>\n",
              "      <th>source_google</th>\n",
              "      <th>source_other</th>\n",
              "      <th>source_yandex</th>\n",
              "      <th>session_count</th>\n",
              "    </tr>\n",
              "    <tr>\n",
              "      <th>user_id</th>\n",
              "      <th></th>\n",
              "      <th></th>\n",
              "      <th></th>\n",
              "      <th></th>\n",
              "      <th></th>\n",
              "      <th></th>\n",
              "      <th></th>\n",
              "      <th></th>\n",
              "      <th></th>\n",
              "      <th></th>\n",
              "      <th></th>\n",
              "      <th></th>\n",
              "      <th></th>\n",
              "      <th></th>\n",
              "      <th></th>\n",
              "      <th></th>\n",
              "      <th></th>\n",
              "      <th></th>\n",
              "      <th></th>\n",
              "      <th></th>\n",
              "    </tr>\n",
              "  </thead>\n",
              "  <tbody>\n",
              "    <tr>\n",
              "      <th>0001b1d5-b74a-4cbf-aeb0-7df5947bf349</th>\n",
              "      <td>11.571429</td>\n",
              "      <td>0.000000</td>\n",
              "      <td>0.000000</td>\n",
              "      <td>0.000000</td>\n",
              "      <td>0.000000</td>\n",
              "      <td>0.171429</td>\n",
              "      <td>0.000000</td>\n",
              "      <td>0.000000</td>\n",
              "      <td>0.000000</td>\n",
              "      <td>0.000000</td>\n",
              "      <td>0.000000</td>\n",
              "      <td>0.000000</td>\n",
              "      <td>0.000000</td>\n",
              "      <td>0.000000</td>\n",
              "      <td>0.000000</td>\n",
              "      <td>0.828571</td>\n",
              "      <td>0.0</td>\n",
              "      <td>1.0</td>\n",
              "      <td>0.0</td>\n",
              "      <td>35</td>\n",
              "    </tr>\n",
              "    <tr>\n",
              "      <th>00157779-810c-4498-9e05-a1e9e3cedf93</th>\n",
              "      <td>45.585714</td>\n",
              "      <td>0.028571</td>\n",
              "      <td>0.071429</td>\n",
              "      <td>0.142857</td>\n",
              "      <td>0.028571</td>\n",
              "      <td>0.000000</td>\n",
              "      <td>0.471429</td>\n",
              "      <td>0.257143</td>\n",
              "      <td>0.000000</td>\n",
              "      <td>0.000000</td>\n",
              "      <td>0.000000</td>\n",
              "      <td>0.000000</td>\n",
              "      <td>0.000000</td>\n",
              "      <td>0.000000</td>\n",
              "      <td>0.000000</td>\n",
              "      <td>0.000000</td>\n",
              "      <td>0.0</td>\n",
              "      <td>0.0</td>\n",
              "      <td>1.0</td>\n",
              "      <td>70</td>\n",
              "    </tr>\n",
              "    <tr>\n",
              "      <th>00463033-5717-4bf1-91b4-09183923b9df</th>\n",
              "      <td>24.000000</td>\n",
              "      <td>0.000000</td>\n",
              "      <td>0.000000</td>\n",
              "      <td>0.000000</td>\n",
              "      <td>0.000000</td>\n",
              "      <td>0.000000</td>\n",
              "      <td>1.000000</td>\n",
              "      <td>0.000000</td>\n",
              "      <td>0.000000</td>\n",
              "      <td>0.000000</td>\n",
              "      <td>0.000000</td>\n",
              "      <td>0.000000</td>\n",
              "      <td>0.000000</td>\n",
              "      <td>0.000000</td>\n",
              "      <td>0.000000</td>\n",
              "      <td>0.000000</td>\n",
              "      <td>0.0</td>\n",
              "      <td>0.0</td>\n",
              "      <td>1.0</td>\n",
              "      <td>10</td>\n",
              "    </tr>\n",
              "    <tr>\n",
              "      <th>004690c3-5a84-4bb7-a8af-e0c8f8fca64e</th>\n",
              "      <td>26.000000</td>\n",
              "      <td>0.178571</td>\n",
              "      <td>0.000000</td>\n",
              "      <td>0.000000</td>\n",
              "      <td>0.000000</td>\n",
              "      <td>0.214286</td>\n",
              "      <td>0.000000</td>\n",
              "      <td>0.000000</td>\n",
              "      <td>0.000000</td>\n",
              "      <td>0.035714</td>\n",
              "      <td>0.035714</td>\n",
              "      <td>0.178571</td>\n",
              "      <td>0.035714</td>\n",
              "      <td>0.178571</td>\n",
              "      <td>0.000000</td>\n",
              "      <td>0.142857</td>\n",
              "      <td>1.0</td>\n",
              "      <td>0.0</td>\n",
              "      <td>0.0</td>\n",
              "      <td>28</td>\n",
              "    </tr>\n",
              "    <tr>\n",
              "      <th>00551e79-152e-4441-9cf7-565d7eb04090</th>\n",
              "      <td>9.000000</td>\n",
              "      <td>0.000000</td>\n",
              "      <td>0.400000</td>\n",
              "      <td>0.400000</td>\n",
              "      <td>0.000000</td>\n",
              "      <td>0.000000</td>\n",
              "      <td>0.000000</td>\n",
              "      <td>0.200000</td>\n",
              "      <td>0.000000</td>\n",
              "      <td>0.000000</td>\n",
              "      <td>0.000000</td>\n",
              "      <td>0.000000</td>\n",
              "      <td>0.000000</td>\n",
              "      <td>0.000000</td>\n",
              "      <td>0.000000</td>\n",
              "      <td>0.000000</td>\n",
              "      <td>0.0</td>\n",
              "      <td>0.0</td>\n",
              "      <td>1.0</td>\n",
              "      <td>5</td>\n",
              "    </tr>\n",
              "    <tr>\n",
              "      <th>...</th>\n",
              "      <td>...</td>\n",
              "      <td>...</td>\n",
              "      <td>...</td>\n",
              "      <td>...</td>\n",
              "      <td>...</td>\n",
              "      <td>...</td>\n",
              "      <td>...</td>\n",
              "      <td>...</td>\n",
              "      <td>...</td>\n",
              "      <td>...</td>\n",
              "      <td>...</td>\n",
              "      <td>...</td>\n",
              "      <td>...</td>\n",
              "      <td>...</td>\n",
              "      <td>...</td>\n",
              "      <td>...</td>\n",
              "      <td>...</td>\n",
              "      <td>...</td>\n",
              "      <td>...</td>\n",
              "      <td>...</td>\n",
              "    </tr>\n",
              "    <tr>\n",
              "      <th>ff82c7c7-16d6-44b1-833b-a217747b0b02</th>\n",
              "      <td>33.215686</td>\n",
              "      <td>0.000000</td>\n",
              "      <td>0.000000</td>\n",
              "      <td>0.000000</td>\n",
              "      <td>0.000000</td>\n",
              "      <td>0.058824</td>\n",
              "      <td>0.000000</td>\n",
              "      <td>0.000000</td>\n",
              "      <td>0.058824</td>\n",
              "      <td>0.000000</td>\n",
              "      <td>0.058824</td>\n",
              "      <td>0.058824</td>\n",
              "      <td>0.039216</td>\n",
              "      <td>0.000000</td>\n",
              "      <td>0.019608</td>\n",
              "      <td>0.705882</td>\n",
              "      <td>0.0</td>\n",
              "      <td>0.0</td>\n",
              "      <td>1.0</td>\n",
              "      <td>51</td>\n",
              "    </tr>\n",
              "    <tr>\n",
              "      <th>ffab8d8a-30bb-424a-a3ab-0b63ebbf7b07</th>\n",
              "      <td>25.294118</td>\n",
              "      <td>0.000000</td>\n",
              "      <td>0.000000</td>\n",
              "      <td>0.000000</td>\n",
              "      <td>0.000000</td>\n",
              "      <td>0.117647</td>\n",
              "      <td>0.000000</td>\n",
              "      <td>0.000000</td>\n",
              "      <td>0.000000</td>\n",
              "      <td>0.000000</td>\n",
              "      <td>0.000000</td>\n",
              "      <td>0.000000</td>\n",
              "      <td>0.000000</td>\n",
              "      <td>0.000000</td>\n",
              "      <td>0.000000</td>\n",
              "      <td>0.882353</td>\n",
              "      <td>0.0</td>\n",
              "      <td>0.0</td>\n",
              "      <td>1.0</td>\n",
              "      <td>17</td>\n",
              "    </tr>\n",
              "    <tr>\n",
              "      <th>ffcf50d9-293c-4254-8243-4890b030b238</th>\n",
              "      <td>1.000000</td>\n",
              "      <td>0.000000</td>\n",
              "      <td>0.000000</td>\n",
              "      <td>0.000000</td>\n",
              "      <td>0.000000</td>\n",
              "      <td>0.500000</td>\n",
              "      <td>0.000000</td>\n",
              "      <td>0.000000</td>\n",
              "      <td>0.000000</td>\n",
              "      <td>0.000000</td>\n",
              "      <td>0.000000</td>\n",
              "      <td>0.000000</td>\n",
              "      <td>0.000000</td>\n",
              "      <td>0.000000</td>\n",
              "      <td>0.000000</td>\n",
              "      <td>0.500000</td>\n",
              "      <td>1.0</td>\n",
              "      <td>0.0</td>\n",
              "      <td>0.0</td>\n",
              "      <td>2</td>\n",
              "    </tr>\n",
              "    <tr>\n",
              "      <th>ffe68f10-e48e-470e-be9b-eeb93128ff1a</th>\n",
              "      <td>13.153846</td>\n",
              "      <td>0.000000</td>\n",
              "      <td>0.000000</td>\n",
              "      <td>0.076923</td>\n",
              "      <td>0.000000</td>\n",
              "      <td>0.000000</td>\n",
              "      <td>0.538462</td>\n",
              "      <td>0.384615</td>\n",
              "      <td>0.000000</td>\n",
              "      <td>0.000000</td>\n",
              "      <td>0.000000</td>\n",
              "      <td>0.000000</td>\n",
              "      <td>0.000000</td>\n",
              "      <td>0.000000</td>\n",
              "      <td>0.000000</td>\n",
              "      <td>0.000000</td>\n",
              "      <td>0.0</td>\n",
              "      <td>0.0</td>\n",
              "      <td>1.0</td>\n",
              "      <td>13</td>\n",
              "    </tr>\n",
              "    <tr>\n",
              "      <th>fffb9e79-b927-4dbb-9b48-7fd09b23a62b</th>\n",
              "      <td>27.854772</td>\n",
              "      <td>0.000000</td>\n",
              "      <td>0.000000</td>\n",
              "      <td>0.240664</td>\n",
              "      <td>0.000000</td>\n",
              "      <td>0.008299</td>\n",
              "      <td>0.000000</td>\n",
              "      <td>0.000000</td>\n",
              "      <td>0.000000</td>\n",
              "      <td>0.000000</td>\n",
              "      <td>0.000000</td>\n",
              "      <td>0.000000</td>\n",
              "      <td>0.000000</td>\n",
              "      <td>0.000000</td>\n",
              "      <td>0.000000</td>\n",
              "      <td>0.751037</td>\n",
              "      <td>1.0</td>\n",
              "      <td>0.0</td>\n",
              "      <td>0.0</td>\n",
              "      <td>241</td>\n",
              "    </tr>\n",
              "  </tbody>\n",
              "</table>\n",
              "<p>4024 rows × 20 columns</p>\n",
              "</div>"
            ],
            "text/plain": [
              "                                      session_time  event_name_advert_open  \\\n",
              "user_id                                                                      \n",
              "0001b1d5-b74a-4cbf-aeb0-7df5947bf349     11.571429                0.000000   \n",
              "00157779-810c-4498-9e05-a1e9e3cedf93     45.585714                0.028571   \n",
              "00463033-5717-4bf1-91b4-09183923b9df     24.000000                0.000000   \n",
              "004690c3-5a84-4bb7-a8af-e0c8f8fca64e     26.000000                0.178571   \n",
              "00551e79-152e-4441-9cf7-565d7eb04090      9.000000                0.000000   \n",
              "...                                            ...                     ...   \n",
              "ff82c7c7-16d6-44b1-833b-a217747b0b02     33.215686                0.000000   \n",
              "ffab8d8a-30bb-424a-a3ab-0b63ebbf7b07     25.294118                0.000000   \n",
              "ffcf50d9-293c-4254-8243-4890b030b238      1.000000                0.000000   \n",
              "ffe68f10-e48e-470e-be9b-eeb93128ff1a     13.153846                0.000000   \n",
              "fffb9e79-b927-4dbb-9b48-7fd09b23a62b     27.854772                0.000000   \n",
              "\n",
              "                                      event_name_contacts_call  \\\n",
              "user_id                                                          \n",
              "0001b1d5-b74a-4cbf-aeb0-7df5947bf349                  0.000000   \n",
              "00157779-810c-4498-9e05-a1e9e3cedf93                  0.071429   \n",
              "00463033-5717-4bf1-91b4-09183923b9df                  0.000000   \n",
              "004690c3-5a84-4bb7-a8af-e0c8f8fca64e                  0.000000   \n",
              "00551e79-152e-4441-9cf7-565d7eb04090                  0.400000   \n",
              "...                                                        ...   \n",
              "ff82c7c7-16d6-44b1-833b-a217747b0b02                  0.000000   \n",
              "ffab8d8a-30bb-424a-a3ab-0b63ebbf7b07                  0.000000   \n",
              "ffcf50d9-293c-4254-8243-4890b030b238                  0.000000   \n",
              "ffe68f10-e48e-470e-be9b-eeb93128ff1a                  0.000000   \n",
              "fffb9e79-b927-4dbb-9b48-7fd09b23a62b                  0.000000   \n",
              "\n",
              "                                      event_name_contacts_show  \\\n",
              "user_id                                                          \n",
              "0001b1d5-b74a-4cbf-aeb0-7df5947bf349                  0.000000   \n",
              "00157779-810c-4498-9e05-a1e9e3cedf93                  0.142857   \n",
              "00463033-5717-4bf1-91b4-09183923b9df                  0.000000   \n",
              "004690c3-5a84-4bb7-a8af-e0c8f8fca64e                  0.000000   \n",
              "00551e79-152e-4441-9cf7-565d7eb04090                  0.400000   \n",
              "...                                                        ...   \n",
              "ff82c7c7-16d6-44b1-833b-a217747b0b02                  0.000000   \n",
              "ffab8d8a-30bb-424a-a3ab-0b63ebbf7b07                  0.000000   \n",
              "ffcf50d9-293c-4254-8243-4890b030b238                  0.000000   \n",
              "ffe68f10-e48e-470e-be9b-eeb93128ff1a                  0.076923   \n",
              "fffb9e79-b927-4dbb-9b48-7fd09b23a62b                  0.240664   \n",
              "\n",
              "                                      event_name_favorites_add  \\\n",
              "user_id                                                          \n",
              "0001b1d5-b74a-4cbf-aeb0-7df5947bf349                  0.000000   \n",
              "00157779-810c-4498-9e05-a1e9e3cedf93                  0.028571   \n",
              "00463033-5717-4bf1-91b4-09183923b9df                  0.000000   \n",
              "004690c3-5a84-4bb7-a8af-e0c8f8fca64e                  0.000000   \n",
              "00551e79-152e-4441-9cf7-565d7eb04090                  0.000000   \n",
              "...                                                        ...   \n",
              "ff82c7c7-16d6-44b1-833b-a217747b0b02                  0.000000   \n",
              "ffab8d8a-30bb-424a-a3ab-0b63ebbf7b07                  0.000000   \n",
              "ffcf50d9-293c-4254-8243-4890b030b238                  0.000000   \n",
              "ffe68f10-e48e-470e-be9b-eeb93128ff1a                  0.000000   \n",
              "fffb9e79-b927-4dbb-9b48-7fd09b23a62b                  0.000000   \n",
              "\n",
              "                                      event_name_map  event_name_photos_show  \\\n",
              "user_id                                                                        \n",
              "0001b1d5-b74a-4cbf-aeb0-7df5947bf349        0.171429                0.000000   \n",
              "00157779-810c-4498-9e05-a1e9e3cedf93        0.000000                0.471429   \n",
              "00463033-5717-4bf1-91b4-09183923b9df        0.000000                1.000000   \n",
              "004690c3-5a84-4bb7-a8af-e0c8f8fca64e        0.214286                0.000000   \n",
              "00551e79-152e-4441-9cf7-565d7eb04090        0.000000                0.000000   \n",
              "...                                              ...                     ...   \n",
              "ff82c7c7-16d6-44b1-833b-a217747b0b02        0.058824                0.000000   \n",
              "ffab8d8a-30bb-424a-a3ab-0b63ebbf7b07        0.117647                0.000000   \n",
              "ffcf50d9-293c-4254-8243-4890b030b238        0.500000                0.000000   \n",
              "ffe68f10-e48e-470e-be9b-eeb93128ff1a        0.000000                0.538462   \n",
              "fffb9e79-b927-4dbb-9b48-7fd09b23a62b        0.008299                0.000000   \n",
              "\n",
              "                                      event_name_search_1  \\\n",
              "user_id                                                     \n",
              "0001b1d5-b74a-4cbf-aeb0-7df5947bf349             0.000000   \n",
              "00157779-810c-4498-9e05-a1e9e3cedf93             0.257143   \n",
              "00463033-5717-4bf1-91b4-09183923b9df             0.000000   \n",
              "004690c3-5a84-4bb7-a8af-e0c8f8fca64e             0.000000   \n",
              "00551e79-152e-4441-9cf7-565d7eb04090             0.200000   \n",
              "...                                                   ...   \n",
              "ff82c7c7-16d6-44b1-833b-a217747b0b02             0.000000   \n",
              "ffab8d8a-30bb-424a-a3ab-0b63ebbf7b07             0.000000   \n",
              "ffcf50d9-293c-4254-8243-4890b030b238             0.000000   \n",
              "ffe68f10-e48e-470e-be9b-eeb93128ff1a             0.384615   \n",
              "fffb9e79-b927-4dbb-9b48-7fd09b23a62b             0.000000   \n",
              "\n",
              "                                      event_name_search_2  \\\n",
              "user_id                                                     \n",
              "0001b1d5-b74a-4cbf-aeb0-7df5947bf349             0.000000   \n",
              "00157779-810c-4498-9e05-a1e9e3cedf93             0.000000   \n",
              "00463033-5717-4bf1-91b4-09183923b9df             0.000000   \n",
              "004690c3-5a84-4bb7-a8af-e0c8f8fca64e             0.000000   \n",
              "00551e79-152e-4441-9cf7-565d7eb04090             0.000000   \n",
              "...                                                   ...   \n",
              "ff82c7c7-16d6-44b1-833b-a217747b0b02             0.058824   \n",
              "ffab8d8a-30bb-424a-a3ab-0b63ebbf7b07             0.000000   \n",
              "ffcf50d9-293c-4254-8243-4890b030b238             0.000000   \n",
              "ffe68f10-e48e-470e-be9b-eeb93128ff1a             0.000000   \n",
              "fffb9e79-b927-4dbb-9b48-7fd09b23a62b             0.000000   \n",
              "\n",
              "                                      event_name_search_3  \\\n",
              "user_id                                                     \n",
              "0001b1d5-b74a-4cbf-aeb0-7df5947bf349             0.000000   \n",
              "00157779-810c-4498-9e05-a1e9e3cedf93             0.000000   \n",
              "00463033-5717-4bf1-91b4-09183923b9df             0.000000   \n",
              "004690c3-5a84-4bb7-a8af-e0c8f8fca64e             0.035714   \n",
              "00551e79-152e-4441-9cf7-565d7eb04090             0.000000   \n",
              "...                                                   ...   \n",
              "ff82c7c7-16d6-44b1-833b-a217747b0b02             0.000000   \n",
              "ffab8d8a-30bb-424a-a3ab-0b63ebbf7b07             0.000000   \n",
              "ffcf50d9-293c-4254-8243-4890b030b238             0.000000   \n",
              "ffe68f10-e48e-470e-be9b-eeb93128ff1a             0.000000   \n",
              "fffb9e79-b927-4dbb-9b48-7fd09b23a62b             0.000000   \n",
              "\n",
              "                                      event_name_search_4  \\\n",
              "user_id                                                     \n",
              "0001b1d5-b74a-4cbf-aeb0-7df5947bf349             0.000000   \n",
              "00157779-810c-4498-9e05-a1e9e3cedf93             0.000000   \n",
              "00463033-5717-4bf1-91b4-09183923b9df             0.000000   \n",
              "004690c3-5a84-4bb7-a8af-e0c8f8fca64e             0.035714   \n",
              "00551e79-152e-4441-9cf7-565d7eb04090             0.000000   \n",
              "...                                                   ...   \n",
              "ff82c7c7-16d6-44b1-833b-a217747b0b02             0.058824   \n",
              "ffab8d8a-30bb-424a-a3ab-0b63ebbf7b07             0.000000   \n",
              "ffcf50d9-293c-4254-8243-4890b030b238             0.000000   \n",
              "ffe68f10-e48e-470e-be9b-eeb93128ff1a             0.000000   \n",
              "fffb9e79-b927-4dbb-9b48-7fd09b23a62b             0.000000   \n",
              "\n",
              "                                      event_name_search_5  \\\n",
              "user_id                                                     \n",
              "0001b1d5-b74a-4cbf-aeb0-7df5947bf349             0.000000   \n",
              "00157779-810c-4498-9e05-a1e9e3cedf93             0.000000   \n",
              "00463033-5717-4bf1-91b4-09183923b9df             0.000000   \n",
              "004690c3-5a84-4bb7-a8af-e0c8f8fca64e             0.178571   \n",
              "00551e79-152e-4441-9cf7-565d7eb04090             0.000000   \n",
              "...                                                   ...   \n",
              "ff82c7c7-16d6-44b1-833b-a217747b0b02             0.058824   \n",
              "ffab8d8a-30bb-424a-a3ab-0b63ebbf7b07             0.000000   \n",
              "ffcf50d9-293c-4254-8243-4890b030b238             0.000000   \n",
              "ffe68f10-e48e-470e-be9b-eeb93128ff1a             0.000000   \n",
              "fffb9e79-b927-4dbb-9b48-7fd09b23a62b             0.000000   \n",
              "\n",
              "                                      event_name_search_6  \\\n",
              "user_id                                                     \n",
              "0001b1d5-b74a-4cbf-aeb0-7df5947bf349             0.000000   \n",
              "00157779-810c-4498-9e05-a1e9e3cedf93             0.000000   \n",
              "00463033-5717-4bf1-91b4-09183923b9df             0.000000   \n",
              "004690c3-5a84-4bb7-a8af-e0c8f8fca64e             0.035714   \n",
              "00551e79-152e-4441-9cf7-565d7eb04090             0.000000   \n",
              "...                                                   ...   \n",
              "ff82c7c7-16d6-44b1-833b-a217747b0b02             0.039216   \n",
              "ffab8d8a-30bb-424a-a3ab-0b63ebbf7b07             0.000000   \n",
              "ffcf50d9-293c-4254-8243-4890b030b238             0.000000   \n",
              "ffe68f10-e48e-470e-be9b-eeb93128ff1a             0.000000   \n",
              "fffb9e79-b927-4dbb-9b48-7fd09b23a62b             0.000000   \n",
              "\n",
              "                                      event_name_search_7  \\\n",
              "user_id                                                     \n",
              "0001b1d5-b74a-4cbf-aeb0-7df5947bf349             0.000000   \n",
              "00157779-810c-4498-9e05-a1e9e3cedf93             0.000000   \n",
              "00463033-5717-4bf1-91b4-09183923b9df             0.000000   \n",
              "004690c3-5a84-4bb7-a8af-e0c8f8fca64e             0.178571   \n",
              "00551e79-152e-4441-9cf7-565d7eb04090             0.000000   \n",
              "...                                                   ...   \n",
              "ff82c7c7-16d6-44b1-833b-a217747b0b02             0.000000   \n",
              "ffab8d8a-30bb-424a-a3ab-0b63ebbf7b07             0.000000   \n",
              "ffcf50d9-293c-4254-8243-4890b030b238             0.000000   \n",
              "ffe68f10-e48e-470e-be9b-eeb93128ff1a             0.000000   \n",
              "fffb9e79-b927-4dbb-9b48-7fd09b23a62b             0.000000   \n",
              "\n",
              "                                      event_name_tips_click  \\\n",
              "user_id                                                       \n",
              "0001b1d5-b74a-4cbf-aeb0-7df5947bf349               0.000000   \n",
              "00157779-810c-4498-9e05-a1e9e3cedf93               0.000000   \n",
              "00463033-5717-4bf1-91b4-09183923b9df               0.000000   \n",
              "004690c3-5a84-4bb7-a8af-e0c8f8fca64e               0.000000   \n",
              "00551e79-152e-4441-9cf7-565d7eb04090               0.000000   \n",
              "...                                                     ...   \n",
              "ff82c7c7-16d6-44b1-833b-a217747b0b02               0.019608   \n",
              "ffab8d8a-30bb-424a-a3ab-0b63ebbf7b07               0.000000   \n",
              "ffcf50d9-293c-4254-8243-4890b030b238               0.000000   \n",
              "ffe68f10-e48e-470e-be9b-eeb93128ff1a               0.000000   \n",
              "fffb9e79-b927-4dbb-9b48-7fd09b23a62b               0.000000   \n",
              "\n",
              "                                      event_name_tips_show  source_google  \\\n",
              "user_id                                                                     \n",
              "0001b1d5-b74a-4cbf-aeb0-7df5947bf349              0.828571            0.0   \n",
              "00157779-810c-4498-9e05-a1e9e3cedf93              0.000000            0.0   \n",
              "00463033-5717-4bf1-91b4-09183923b9df              0.000000            0.0   \n",
              "004690c3-5a84-4bb7-a8af-e0c8f8fca64e              0.142857            1.0   \n",
              "00551e79-152e-4441-9cf7-565d7eb04090              0.000000            0.0   \n",
              "...                                                    ...            ...   \n",
              "ff82c7c7-16d6-44b1-833b-a217747b0b02              0.705882            0.0   \n",
              "ffab8d8a-30bb-424a-a3ab-0b63ebbf7b07              0.882353            0.0   \n",
              "ffcf50d9-293c-4254-8243-4890b030b238              0.500000            1.0   \n",
              "ffe68f10-e48e-470e-be9b-eeb93128ff1a              0.000000            0.0   \n",
              "fffb9e79-b927-4dbb-9b48-7fd09b23a62b              0.751037            1.0   \n",
              "\n",
              "                                      source_other  source_yandex  \\\n",
              "user_id                                                             \n",
              "0001b1d5-b74a-4cbf-aeb0-7df5947bf349           1.0            0.0   \n",
              "00157779-810c-4498-9e05-a1e9e3cedf93           0.0            1.0   \n",
              "00463033-5717-4bf1-91b4-09183923b9df           0.0            1.0   \n",
              "004690c3-5a84-4bb7-a8af-e0c8f8fca64e           0.0            0.0   \n",
              "00551e79-152e-4441-9cf7-565d7eb04090           0.0            1.0   \n",
              "...                                            ...            ...   \n",
              "ff82c7c7-16d6-44b1-833b-a217747b0b02           0.0            1.0   \n",
              "ffab8d8a-30bb-424a-a3ab-0b63ebbf7b07           0.0            1.0   \n",
              "ffcf50d9-293c-4254-8243-4890b030b238           0.0            0.0   \n",
              "ffe68f10-e48e-470e-be9b-eeb93128ff1a           0.0            1.0   \n",
              "fffb9e79-b927-4dbb-9b48-7fd09b23a62b           0.0            0.0   \n",
              "\n",
              "                                      session_count  \n",
              "user_id                                              \n",
              "0001b1d5-b74a-4cbf-aeb0-7df5947bf349             35  \n",
              "00157779-810c-4498-9e05-a1e9e3cedf93             70  \n",
              "00463033-5717-4bf1-91b4-09183923b9df             10  \n",
              "004690c3-5a84-4bb7-a8af-e0c8f8fca64e             28  \n",
              "00551e79-152e-4441-9cf7-565d7eb04090              5  \n",
              "...                                             ...  \n",
              "ff82c7c7-16d6-44b1-833b-a217747b0b02             51  \n",
              "ffab8d8a-30bb-424a-a3ab-0b63ebbf7b07             17  \n",
              "ffcf50d9-293c-4254-8243-4890b030b238              2  \n",
              "ffe68f10-e48e-470e-be9b-eeb93128ff1a             13  \n",
              "fffb9e79-b927-4dbb-9b48-7fd09b23a62b            241  \n",
              "\n",
              "[4024 rows x 20 columns]"
            ]
          },
          "execution_count": 15,
          "metadata": {},
          "output_type": "execute_result"
        }
      ],
      "source": [
        "df_dummies"
      ]
    },
    {
      "cell_type": "markdown",
      "id": "gOs-bq--8cXo",
      "metadata": {
        "id": "gOs-bq--8cXo"
      },
      "source": [
        "Стандартизируем данные"
      ]
    },
    {
      "cell_type": "code",
      "execution_count": null,
      "id": "Np5o_3MjdKzT",
      "metadata": {
        "id": "Np5o_3MjdKzT"
      },
      "outputs": [],
      "source": [
        "sc = StandardScaler()\n",
        "X_sc = sc.fit_transform(df_dummies)"
      ]
    },
    {
      "cell_type": "code",
      "execution_count": null,
      "id": "ngeuimAOepcj",
      "metadata": {
        "id": "ngeuimAOepcj"
      },
      "outputs": [],
      "source": [
        "linked = linkage(X_sc, method='ward')"
      ]
    },
    {
      "cell_type": "markdown",
      "id": "4EWzAxLl8gEH",
      "metadata": {
        "id": "4EWzAxLl8gEH"
      },
      "source": [
        "Отрисуем класстеры"
      ]
    },
    {
      "cell_type": "code",
      "execution_count": null,
      "id": "RQRScINwfAvh",
      "metadata": {
        "id": "RQRScINwfAvh",
        "outputId": "24cfa5ab-5258-4ab2-f938-e26b31c8bac8"
      },
      "outputs": [
        {
          "data": {
            "image/png": "[encoded data removed]",
            "text/plain": [
              "<Figure size 1080x720 with 1 Axes>"
            ]
          },
          "metadata": {
            "needs_background": "light"
          },
          "output_type": "display_data"
        }
      ],
      "source": [
        "plt.figure(figsize=(15, 10))\n",
        "dendrogram(linked, orientation='top')\n",
        "plt.title('Hierarchial clustering for GYM')\n",
        "plt.show()"
      ]
    },
    {
      "cell_type": "markdown",
      "id": "D-D0jJc-8jrK",
      "metadata": {
        "id": "D-D0jJc-8jrK"
      },
      "source": [
        "Выделим 3 классетера на основе графика"
      ]
    },
    {
      "cell_type": "code",
      "execution_count": null,
      "id": "GtgHAGEjjeCM",
      "metadata": {
        "id": "GtgHAGEjjeCM"
      },
      "outputs": [],
      "source": [
        "km = KMeans(n_clusters = 3, random_state=0)\n",
        "labels = km.fit_predict(X_sc)\n",
        "df_dummies['labels'] = labels"
      ]
    },
    {
      "cell_type": "code",
      "execution_count": null,
      "id": "THa8l9DlvyBT",
      "metadata": {
        "id": "THa8l9DlvyBT"
      },
      "outputs": [],
      "source": [
        "df = df.merge(df_dummies['labels'].reset_index(), on='user_id')"
      ]
    },
    {
      "cell_type": "markdown",
      "id": "79wY68Ro8pRi",
      "metadata": {
        "id": "79wY68Ro8pRi"
      },
      "source": [
        "Посмотрим как пользователи распределились по группам"
      ]
    },
    {
      "cell_type": "code",
      "execution_count": null,
      "id": "bhxO5ya0wkNx",
      "metadata": {
        "id": "bhxO5ya0wkNx",
        "outputId": "b0a02bb0-fd53-4e28-acc0-6fd38dc3994b"
      },
      "outputs": [
        {
          "data": {
            "text/plain": [
              "labels\n",
              "0     316\n",
              "1    2475\n",
              "2    1233\n",
              "Name: user_id, dtype: int64"
            ]
          },
          "execution_count": 21,
          "metadata": {},
          "output_type": "execute_result"
        }
      ],
      "source": [
        "df.groupby('labels')['user_id'].nunique()"
      ]
    },
    {
      "cell_type": "code",
      "execution_count": null,
      "id": "93ce762a",
      "metadata": {
        "id": "93ce762a"
      },
      "outputs": [],
      "source": [
        "X_sc = pd.DataFrame(data=X_sc, columns=df_dummies.drop('labels', axis=1).columns)"
      ]
    },
    {
      "cell_type": "code",
      "execution_count": null,
      "id": "c0181e8c",
      "metadata": {
        "id": "c0181e8c"
      },
      "outputs": [],
      "source": [
        "X_sc['labels'] = df_dummies.reset_index()['labels']"
      ]
    },
    {
      "cell_type": "code",
      "execution_count": null,
      "id": "76945aa0",
      "metadata": {
        "id": "76945aa0",
        "outputId": "f2ca4b3a-4116-4b3f-fa58-2bd637e775b3"
      },
      "outputs": [
        {
          "name": "stderr",
          "output_type": "stream",
          "text": [
            "/tmp/ipykernel_48/1969269695.py:3: UserWarning: FixedFormatter should only be used together with FixedLocator\n",
            "  ax.set_xticklabels(\n"
          ]
        },
        {
          "data": {
            "image/png": "[encoded data removed]",
            "text/plain": [
              "<Figure size 1440x504 with 1 Axes>"
            ]
          },
          "metadata": {
            "needs_background": "light"
          },
          "output_type": "display_data"
        }
      ],
      "source": [
        "plt.figure(figsize=(20,7))\n",
        "ax = sns.lineplot(data=X_sc.groupby('labels').mean().T)\n",
        "ax.set_xticklabels(\n",
        "    [i.replace('event_name_', '') for i in df_dummies.columns],\n",
        "    fontsize = 10,\n",
        "    rotation = 45\n",
        ")\n",
        "plt.title('Портрет пользователя')\n",
        "plt.xlabel('Название событий')\n",
        "plt.ylabel('Относительная велечина')\n",
        "ax.grid(True)\n",
        "plt.show()"
      ]
    },
    {
      "cell_type": "markdown",
      "id": "2361574c",
      "metadata": {
        "id": "2361574c"
      },
      "source": [
        "\n",
        "Пользователям из 2 группы отностительно других групп меньше всего/не показывали рекомендованные объясвления. <br>\n",
        "Пользователи из 2 группы предпочитают листать фото карточек.<br>\n",
        "Пользователи из группы 0 часто пользуются поиском, видимо не находят в поиске того, чего искали. <br>\n",
        "Пользователи из группы 1 чаще проводят время в приложении, им часто показывают рекомндованные объявления. <br>"
      ]
    },
    {
      "cell_type": "markdown",
      "id": "bswqpwUiA_vU",
      "metadata": {
        "id": "bswqpwUiA_vU"
      },
      "source": [
        "## 3. Ответы на вопросы заказчика\n"
      ]
    },
    {
      "cell_type": "markdown",
      "id": "zurP9uXN89mK",
      "metadata": {
        "id": "zurP9uXN89mK"
      },
      "source": [
        "### 3.1 Какие пользователи склонны часто возвращаться в мобильное приложение?"
      ]
    },
    {
      "cell_type": "markdown",
      "id": "5LA02Nyy8vet",
      "metadata": {
        "id": "5LA02Nyy8vet"
      },
      "source": [
        "Выделим профили пользователей"
      ]
    },
    {
      "cell_type": "code",
      "execution_count": null,
      "id": "XdXXYVAFPSSZ",
      "metadata": {
        "id": "XdXXYVAFPSSZ"
      },
      "outputs": [],
      "source": [
        "profiles = df.sort_values(by=['user_id', 'event_time']).groupby('user_id').agg(\n",
        "    {\n",
        "        'event_time': 'first',\n",
        "        'source': 'first',\n",
        "        'labels': 'first'\n",
        "        }).rename(columns={\n",
        "            'source': 'channel'\n",
        "            }).reset_index()\n",
        "\n",
        "profiles['dt'] = profiles['event_time'].dt.date"
      ]
    },
    {
      "cell_type": "markdown",
      "id": "P8sv2xhn8zOV",
      "metadata": {
        "id": "P8sv2xhn8zOV"
      },
      "source": [
        "Выделим сессии и время старта"
      ]
    },
    {
      "cell_type": "code",
      "execution_count": null,
      "id": "RFbEhdPiaYA2",
      "metadata": {
        "id": "RFbEhdPiaYA2"
      },
      "outputs": [],
      "source": [
        "sessions = df.sort_values(\n",
        "    by=['session_id', 'event_time']).groupby('session_id').agg(\n",
        "    {\n",
        "        'event_time': 'first',\n",
        "        'user_id': 'first'\n",
        "        }).rename(columns={\n",
        "            'event_time': 'session_start'\n",
        "            }).reset_index()\n",
        "sessions['session_start'] = sessions['session_start'].dt.date\n",
        "sessions = sessions.drop('session_id', axis=1)"
      ]
    },
    {
      "cell_type": "code",
      "execution_count": null,
      "id": "Ik9x3NUWeJa4",
      "metadata": {
        "code_folding": [
          0
        ],
        "id": "Ik9x3NUWeJa4"
      },
      "outputs": [],
      "source": [
        "def get_retention(profiles,sessions,observation_date,horizon_days,dimensions=[],\n",
        "                  ignore_horizon=False):\n",
        "\n",
        "    dimensions = ['labels'] + dimensions\n",
        "\n",
        "    # исключаем пользователей, не «доживших» до горизонта анализа\n",
        "    last_suitable_acquisition_date = observation_date\n",
        "    if not ignore_horizon:\n",
        "        last_suitable_acquisition_date = observation_date - timedelta(\n",
        "            days=horizon_days - 1\n",
        "        )\n",
        "    result_raw = profiles.query('dt <= @last_suitable_acquisition_date')\n",
        "\n",
        "    # собираем «сырые» данные для расчёта удержания\n",
        "    result_raw = result_raw.merge(\n",
        "        sessions[['user_id', 'session_start']], on='user_id', how='left'\n",
        "    )\n",
        "    result_raw['lifetime'] = (\n",
        "        result_raw['session_start'] - result_raw['dt']\n",
        "    ).dt.days\n",
        "\n",
        "    # функция для группировки таблицы по желаемым признакам\n",
        "    def group_by_dimensions(df, dims, horizon_days):\n",
        "        result = df.pivot_table(\n",
        "            index=dims, columns='lifetime', values='user_id', aggfunc='nunique'\n",
        "        )\n",
        "        cohort_sizes = (\n",
        "            df.groupby(dims)\n",
        "            .agg({'user_id': 'nunique'})\n",
        "            .rename(columns={'user_id': 'cohort_size'})\n",
        "        )\n",
        "        result = cohort_sizes.merge(result, on=dims, how='left').fillna(0)\n",
        "        result = result.div(result['cohort_size'], axis=0)\n",
        "        result = result[['cohort_size'] + list(range(horizon_days))]\n",
        "        result['cohort_size'] = cohort_sizes\n",
        "        return result\n",
        "\n",
        "    # получаем таблицу удержания\n",
        "\n",
        "    result_grouped = group_by_dimensions(result_raw, dimensions, horizon_days)\n",
        "\n",
        "    # получаем таблицу динамики удержания\n",
        "    result_in_time = group_by_dimensions(\n",
        "        result_raw, dimensions + ['dt'], horizon_days\n",
        "    )\n",
        "\n",
        "    # возвращаем обе таблицы и сырые данные\n",
        "    return result_raw, result_grouped, result_in_time"
      ]
    },
    {
      "cell_type": "code",
      "execution_count": null,
      "id": "VlsouJIFerv-",
      "metadata": {
        "id": "VlsouJIFerv-"
      },
      "outputs": [],
      "source": [
        "observation_date = datetime(2019, 11, 3).date()\n",
        "horizon_days = 7\n",
        "\n",
        "retention_raw, retention_grouped, retention_history = get_retention(\n",
        "    profiles, sessions, observation_date, horizon_days)"
      ]
    },
    {
      "cell_type": "code",
      "execution_count": null,
      "id": "QvqkUZYJViDI",
      "metadata": {
        "code_folding": [
          0
        ],
        "id": "QvqkUZYJViDI"
      },
      "outputs": [],
      "source": [
        "def filter_data(df, window):\n",
        "    # для каждого столбца применяем скользящее среднее\n",
        "    for column in df.columns.values:\n",
        "        df[column] = df[column].rolling(window).mean()\n",
        "    return df"
      ]
    },
    {
      "cell_type": "code",
      "execution_count": null,
      "id": "DAJz8CIim2G8",
      "metadata": {
        "code_folding": [
          0
        ],
        "id": "DAJz8CIim2G8"
      },
      "outputs": [],
      "source": [
        "def plot_retention(retention, retention_history, horizon, window=7):\n",
        "\n",
        "    # задаём размер сетки для графиков\n",
        "    plt.figure(figsize=(15, 10))\n",
        "\n",
        "    # исключаем размеры когорт и удержание первого дня\n",
        "    retention = retention.drop(columns=['cohort_size', 0])\n",
        "    # в таблице динамики оставляем только нужный лайфтайм\n",
        "    retention_history = retention_history.drop(columns=['cohort_size'])[\n",
        "        [horizon - 1]\n",
        "    ]\n",
        "\n",
        "    # если в индексах таблицы удержания только labels,\n",
        "    # добавляем второй признак — cohort\n",
        "    if retention.index.nlevels == 1:\n",
        "        retention['cohort'] = 'All users'\n",
        "        retention = retention.reset_index().set_index(['cohort', 'labels'])\n",
        "\n",
        "    # в таблице графиков — два столбца и две строки, четыре ячейки\n",
        "    # в первой строим кривые удержания  пользователей\n",
        "    ax1 = plt.subplot(2, 2, 1)\n",
        "    retention.droplevel('labels').T.plot(\n",
        "        grid=True, ax=ax1\n",
        "    )\n",
        "    plt.legend()\n",
        "    plt.xlabel('Лайфтайм')\n",
        "    plt.title('Удержание  пользователей')\n",
        "\n",
        "    # в третьей ячейке — динамика удержания\n",
        "    ax3 = plt.subplot(2, 2, 2)\n",
        "\n",
        "    # фильтруем данные и строим график\n",
        "    filtered_data = retention_history.pivot_table(\n",
        "        index='dt', columns='labels', values=horizon - 1, aggfunc='mean'\n",
        "    )\n",
        "    filter_data(filtered_data, window).plot(grid=True, ax=ax3)\n",
        "    plt.xlabel('Дата привлечения')\n",
        "    plt.title(\n",
        "        'Динамика удержания пользователей на {}-й день'.format(\n",
        "            horizon\n",
        "        )\n",
        "    )\n",
        "\n",
        "    plt.tight_layout()\n",
        "    plt.show()"
      ]
    },
    {
      "cell_type": "code",
      "execution_count": null,
      "id": "sq417-M8weYK",
      "metadata": {
        "id": "sq417-M8weYK",
        "outputId": "574d4f11-a2c6-40ca-d13a-b63ac1a3a903"
      },
      "outputs": [
        {
          "data": {
            "image/png": "[encoded data removed]",
            "text/plain": [
              "<Figure size 1080x720 with 2 Axes>"
            ]
          },
          "metadata": {
            "needs_background": "light"
          },
          "output_type": "display_data"
        }
      ],
      "source": [
        "plot_retention(retention_grouped, retention_history, horizon_days)"
      ]
    },
    {
      "cell_type": "markdown",
      "id": "A5mPKQ8S9JJl",
      "metadata": {
        "id": "A5mPKQ8S9JJl"
      },
      "source": [
        "Лучше всего удерживаются пользователи из 2 группы"
      ]
    },
    {
      "cell_type": "markdown",
      "id": "jrLiyw8CBReM",
      "metadata": {
        "id": "jrLiyw8CBReM"
      },
      "source": [
        "### 3.2 Какие пользователи часто делают целевое событие (contacts_show)"
      ]
    },
    {
      "cell_type": "code",
      "execution_count": null,
      "id": "95tOIEuM0bdY",
      "metadata": {
        "id": "95tOIEuM0bdY"
      },
      "outputs": [],
      "source": [
        "action_frequency = pd.get_dummies(data=df, columns=['event_name'])\n",
        "action_frequency = action_frequency.groupby('labels').sum().drop(\n",
        "    ['session_id', 'session_time'], axis=1\n",
        "    )\n",
        "total = action_frequency.sum(axis=1)\n",
        "for col in action_frequency.columns:\n",
        "    action_frequency[col] = action_frequency[col] / total"
      ]
    },
    {
      "cell_type": "code",
      "execution_count": null,
      "id": "oKM4PBgi19dm",
      "metadata": {
        "id": "oKM4PBgi19dm",
        "outputId": "3ae59d4a-fd67-4703-b648-a6a80b4fada5"
      },
      "outputs": [
        {
          "name": "stderr",
          "output_type": "stream",
          "text": [
            "/tmp/ipykernel_48/3835040905.py:3: UserWarning: FixedFormatter should only be used together with FixedLocator\n",
            "  ax.set_xticklabels(\n"
          ]
        },
        {
          "data": {
            "image/png": "[encoded data removed]",
            "text/plain": [
              "<Figure size 1440x504 with 1 Axes>"
            ]
          },
          "metadata": {
            "needs_background": "light"
          },
          "output_type": "display_data"
        }
      ],
      "source": [
        "plt.figure(figsize=(20,7))\n",
        "ax = sns.lineplot(data=action_frequency.T)\n",
        "ax.set_xticklabels(\n",
        "    [i.replace('event_name_', '') for i in action_frequency.columns]\n",
        "    )\n",
        "plt.title('частота действий')\n",
        "plt.xlabel('event name')\n",
        "plt.ylabel('отношение')\n",
        "ax.grid(True)\n",
        "plt.show()"
      ]
    },
    {
      "cell_type": "markdown",
      "id": "FvCcU5Pi9RI0",
      "metadata": {
        "id": "FvCcU5Pi9RI0"
      },
      "source": [
        "Пользователи из 2 группы чаще всего делают целевое действие"
      ]
    },
    {
      "cell_type": "markdown",
      "id": "JS4r8XgP991R",
      "metadata": {
        "id": "JS4r8XgP991R"
      },
      "source": [
        "### 3.3 Конверсия в просмотр контаков"
      ]
    },
    {
      "cell_type": "code",
      "execution_count": null,
      "id": "d2rRuZljFy9y",
      "metadata": {
        "id": "d2rRuZljFy9y"
      },
      "outputs": [],
      "source": [
        "purchases = df.query('event_name == \"contacts_show\"')[['user_id', 'event_time',\n",
        "                                                       'event_name']]\n",
        "purchases = purchases.rename(columns={'event_time':'event_dt'})\n",
        "purchases['event_dt'] = purchases['event_dt'].dt.date"
      ]
    },
    {
      "cell_type": "code",
      "execution_count": null,
      "id": "z0muXPmXrJ6f",
      "metadata": {
        "code_folding": [
          0
        ],
        "id": "z0muXPmXrJ6f"
      },
      "outputs": [],
      "source": [
        "def get_conversion(profiles,purchases,observation_date,horizon_days,\n",
        "                   dimensions=['labels'],ignore_horizon=False):\n",
        "\n",
        "    # исключаем пользователей, не «доживших» до горизонта анализа\n",
        "    last_suitable_acquisition_date = observation_date\n",
        "    if not ignore_horizon:\n",
        "        last_suitable_acquisition_date = observation_date - timedelta(\n",
        "            days=horizon_days - 1\n",
        "        )\n",
        "    result_raw = profiles.query('dt <= @last_suitable_acquisition_date')\n",
        "\n",
        "    # определяем дату и время первой покупки для каждого пользователя\n",
        "    first_purchases = (\n",
        "        purchases.sort_values(by=['user_id', 'event_dt'])\n",
        "        .groupby('user_id')\n",
        "        .agg({'event_dt': 'first'})\n",
        "        .reset_index()\n",
        "    )\n",
        "\n",
        "    # добавляем данные о покупках в профили\n",
        "    result_raw = result_raw.merge(\n",
        "        first_purchases[['user_id', 'event_dt']], on='user_id', how='left'\n",
        "    )\n",
        "\n",
        "    # рассчитываем лайфтайм для каждой покупки\n",
        "    result_raw['lifetime'] = (\n",
        "        result_raw['event_dt'] - result_raw['dt']\n",
        "    ).dt.days\n",
        "\n",
        "    # функция для группировки таблицы по желаемым признакам\n",
        "    def group_by_dimensions(df, dims, horizon_days):\n",
        "        result = df.pivot_table(\n",
        "            index=dims, columns='lifetime', values='user_id', aggfunc='nunique'\n",
        "        )\n",
        "\n",
        "        result = result.fillna(0).cumsum(axis = 1)\n",
        "        cohort_sizes = (\n",
        "            df.groupby(dims)\n",
        "            .agg({'user_id': 'nunique'})\n",
        "            .rename(columns={'user_id': 'cohort_size'})\n",
        "        )\n",
        "        result = cohort_sizes.merge(result, on=dims, how='left').fillna(0)\n",
        "        # делим каждую «ячейку» в строке на размер когорты\n",
        "        # и получаем conversion rate\n",
        "        result = result.div(result['cohort_size'], axis=0)\n",
        "        result = result[['cohort_size'] + list(range(horizon_days))]\n",
        "        result['cohort_size'] = cohort_sizes\n",
        "        return result\n",
        "\n",
        "    # получаем таблицу конверсии\n",
        "    result_grouped = group_by_dimensions(result_raw, dimensions, horizon_days)\n",
        "\n",
        "    # для таблицы динамики конверсии убираем 'cohort' из dimensions\n",
        "    if 'cohort' in dimensions:\n",
        "        dimensions = []\n",
        "\n",
        "    # получаем таблицу динамики конверсии\n",
        "    result_in_time = group_by_dimensions(\n",
        "        result_raw, dimensions + ['dt'], horizon_days\n",
        "    )\n",
        "\n",
        "    # возвращаем обе таблицы и сырые данные\n",
        "    return result_raw, result_grouped, result_in_time"
      ]
    },
    {
      "cell_type": "code",
      "execution_count": null,
      "id": "KN9STjub8xg0",
      "metadata": {
        "id": "KN9STjub8xg0"
      },
      "outputs": [],
      "source": [
        "conversion_raw, conversion_grouped, conversion_history = get_conversion(\n",
        "    profiles,purchases,observation_date,horizon_days\n",
        "    )"
      ]
    },
    {
      "cell_type": "code",
      "execution_count": null,
      "id": "5U-NJLANQE3L",
      "metadata": {
        "code_folding": [
          0
        ],
        "id": "5U-NJLANQE3L"
      },
      "outputs": [],
      "source": [
        "def plot_conversion(conversion, conversion_history, horizon, window=7):\n",
        "\n",
        "    # задаём размер сетки для графиков\n",
        "    plt.figure(figsize=(15, 5))\n",
        "\n",
        "    # исключаем размеры когорт\n",
        "    conversion = conversion.drop(columns=['cohort_size'])\n",
        "    # в таблице динамики оставляем только нужный лайфтайм\n",
        "    conversion_history = conversion_history.drop(columns=['cohort_size'])[\n",
        "        [horizon - 1]\n",
        "    ]\n",
        "\n",
        "    # первый график — кривые конверсии\n",
        "    ax1 = plt.subplot(1, 2, 1)\n",
        "    conversion.T.plot(grid=True, ax=ax1)\n",
        "    plt.legend()\n",
        "    plt.xlabel('Лайфтайм')\n",
        "    plt.title('Конверсия пользователей')\n",
        "\n",
        "    # второй график — динамика конверсии\n",
        "    ax2 = plt.subplot(1, 2, 2, sharey=ax1)\n",
        "    columns = [\n",
        "        # столбцами сводной таблицы станут все столбцы индекса, кроме даты\n",
        "        name for name in conversion_history.index.names if name not in ['dt']\n",
        "    ]\n",
        "    filtered_data = conversion_history.pivot_table(\n",
        "        index='dt', columns=columns, values=horizon - 1, aggfunc='mean'\n",
        "    )\n",
        "    filter_data(filtered_data, window).plot(grid=True, ax=ax2)\n",
        "    plt.xlabel('Дата привлечения')\n",
        "    plt.title('Динамика конверсии пользователей на {}-й день'.format(horizon))\n",
        "\n",
        "    plt.tight_layout()\n",
        "    plt.show()"
      ]
    },
    {
      "cell_type": "code",
      "execution_count": null,
      "id": "z8j4TPprVEuv",
      "metadata": {
        "id": "z8j4TPprVEuv",
        "outputId": "916a1920-a01f-40e1-a67b-929d822b1690"
      },
      "outputs": [
        {
          "data": {
            "image/png": "[encoded data removed]",
            "text/plain": [
              "<Figure size 1080x360 with 2 Axes>"
            ]
          },
          "metadata": {
            "needs_background": "light"
          },
          "output_type": "display_data"
        }
      ],
      "source": [
        "plot_conversion(conversion_grouped, conversion_history, horizon_days)"
      ]
    },
    {
      "cell_type": "markdown",
      "id": "udFKYfJ9-GIC",
      "metadata": {
        "id": "udFKYfJ9-GIC"
      },
      "source": [
        "Самая высокая конверсия у 2 группы, на втором месте группа 1"
      ]
    },
    {
      "cell_type": "markdown",
      "id": "1gyjdv4k-YbO",
      "metadata": {
        "id": "1gyjdv4k-YbO"
      },
      "source": [
        "### 3.3 Время между распространенными событиями"
      ]
    },
    {
      "cell_type": "code",
      "execution_count": null,
      "id": "YiFninAmgPbs",
      "metadata": {
        "id": "YiFninAmgPbs",
        "outputId": "f0c36f14-6f4a-412a-b052-4aeff08b7f8d"
      },
      "outputs": [
        {
          "data": {
            "text/plain": [
              "labels\n",
              "0     24.975081\n",
              "1    310.638298\n",
              "2    216.173682\n",
              "Name: difference_in_time, dtype: float64"
            ]
          },
          "execution_count": 39,
          "metadata": {},
          "output_type": "execute_result"
        }
      ],
      "source": [
        "df['event_name'].replace(\n",
        "    ['search_1', 'search_2', 'search_3', 'search_4',\n",
        "     'search_5', 'search_6', 'search_7'], 'search', inplace=True\n",
        "    )\n",
        "\n",
        "\n",
        "nwdf = df.merge(\n",
        "    df.query('event_name == \"search\"').groupby('session_id').agg(\n",
        "        {'event_time':'min'}).reset_index().rename(\n",
        "            columns={'event_time':'time_contacts_show'}), on='session_id')\n",
        "\n",
        "nwdf = nwdf.merge(\n",
        "    df.groupby('session_id').agg(\n",
        "        {'event_time':'min'}).reset_index().rename(\n",
        "            columns={'event_time':'session_start'}), on='session_id')\n",
        "\n",
        "nwdf['difference_in_time'] = (nwdf['time_contacts_show'] -\n",
        "                            nwdf['session_start']\n",
        "                            ).dt.total_seconds()\n",
        "\n",
        "nwdf.groupby('labels')['difference_in_time'].mean()"
      ]
    },
    {
      "cell_type": "markdown",
      "id": "4303d946",
      "metadata": {
        "id": "4303d946"
      },
      "source": [
        "Пользователи из группы 0 быстрее всех начинают пользоваться поиском. <br>\n",
        "Пользователи из группы 1 дольше всех доходят до поиска."
      ]
    },
    {
      "cell_type": "markdown",
      "id": "J31qPZM9_E_o",
      "metadata": {
        "id": "J31qPZM9_E_o"
      },
      "source": [
        "## 4. Проверка статистических гипотиз"
      ]
    },
    {
      "cell_type": "code",
      "execution_count": null,
      "id": "sJMTcMil_LSK",
      "metadata": {
        "code_folding": [
          0
        ],
        "id": "sJMTcMil_LSK"
      },
      "outputs": [],
      "source": [
        "def z_test(trials, successes, event_name, alpha=.05):\n",
        "    p1 = successes[0] / trials[0]\n",
        "    p2 = successes[1] / trials[1]\n",
        "\n",
        "    p_combined = (successes[0] + successes[1]) / (trials[0] + trials[1])\n",
        "    difference = p1 - p2\n",
        "    z_value = difference / mth.sqrt(p_combined * (1 - p_combined) *\n",
        "                                    (1/trials[0] + 1/trials[1]))\n",
        "    distr = st.norm(0, 1)\n",
        "    p_value = (1 - distr.cdf(abs(z_value))) * 2\n",
        "    print(f'{event_name} p-значение: {p_value}')\n",
        "\n",
        "    if p_value < alpha:\n",
        "        print(\"Отвергаем нулевую гипотезу: между долями есть значимая разница\")\n",
        "    else:\n",
        "        print(\n",
        "            \"Не получилось отвергнуть нулевую гипотезу: нет оснований считать доли разными\"\n",
        "            )"
      ]
    },
    {
      "cell_type": "markdown",
      "id": "zO9uRW0j_IKd",
      "metadata": {
        "id": "zO9uRW0j_IKd"
      },
      "source": [
        "### 4.1 Первая гипотиза\n",
        "Некоторые пользователи установили приложение по ссылке из yandex, другие — из google.  \\\n",
        "Проверьте гипотезу: две эти группы демонстрируют разную конверсию в просмотры контактов."
      ]
    },
    {
      "cell_type": "markdown",
      "id": "6fWrc68a_bME",
      "metadata": {
        "id": "6fWrc68a_bME"
      },
      "source": [
        "Нулевая гипотиза будет звучать так: доли двух генеральных совокупностей равны. \\\n",
        "Альтернативная гипотиза: доли двух генеральных совокупностей не равны."
      ]
    },
    {
      "cell_type": "code",
      "execution_count": null,
      "id": "ZdgQ3EoGRexB",
      "metadata": {
        "id": "ZdgQ3EoGRexB",
        "outputId": "92debd20-7d24-4988-b9e4-8dd9c47e5551"
      },
      "outputs": [
        {
          "name": "stdout",
          "output_type": "stream",
          "text": [
            "contacts_show p-значение: 0.5324381707371875\n",
            "Не получилось отвергнуть нулевую гипотезу: нет оснований считать доли разными\n"
          ]
        }
      ],
      "source": [
        "group_a = df.query('source == \"yandex\"')\n",
        "group_b = df.query('source == \"google\"')\n",
        "\n",
        "a_b_total = [group_a['user_id'].nunique(), group_b['user_id'].nunique()]\n",
        "\n",
        "a_b_show = [group_a.query('event_name == \"contacts_show\"')['user_id'].nunique(),\n",
        "            group_b.query('event_name == \"contacts_show\"')['user_id'].nunique()]\n",
        "\n",
        "z_test(a_b_total, a_b_show, 'contacts_show')"
      ]
    },
    {
      "cell_type": "markdown",
      "id": "z0ty-p1qCC2V",
      "metadata": {
        "id": "z0ty-p1qCC2V"
      },
      "source": [
        "### 4.2 Вторая гипотиза"
      ]
    },
    {
      "cell_type": "markdown",
      "id": "8uPRQOGe_6e0",
      "metadata": {
        "id": "8uPRQOGe_6e0"
      },
      "source": [
        "Проверим гипотезу о равенстве конверсии в просмотры контактов у пользователей, \\\n",
        "с длинной ссесией к пользователям с короткой сессией."
      ]
    },
    {
      "cell_type": "markdown",
      "id": "l-HIf-4j_9Zk",
      "metadata": {
        "id": "l-HIf-4j_9Zk"
      },
      "source": [
        "Нулевая гипотиза: конверсии двух групп равны. \\\n",
        "Альтернативная гипотиза: конверсии двух групп не равны."
      ]
    },
    {
      "cell_type": "code",
      "execution_count": null,
      "id": "hsjmp6Yj_sjY",
      "metadata": {
        "id": "hsjmp6Yj_sjY",
        "outputId": "177e3877-f005-4763-cf81-c026d6f7e0bb"
      },
      "outputs": [
        {
          "name": "stdout",
          "output_type": "stream",
          "text": [
            "contacts_show p-значение: 2.9323832251293425e-10\n",
            "Отвергаем нулевую гипотезу: между долями есть значимая разница\n"
          ]
        }
      ],
      "source": [
        "group_a = df.query('session_time > 50')\n",
        "group_b = df.query('session_time < 50')\n",
        "\n",
        "a_b_total = [group_a['user_id'].nunique(), group_b['user_id'].nunique()]\n",
        "\n",
        "a_b_show = [group_a.query('event_name == \"contacts_show\"')['user_id'].nunique(),\n",
        "            group_b.query('event_name == \"contacts_show\"')['user_id'].nunique()]\n",
        "\n",
        "z_test(a_b_total, a_b_show, 'contacts_show')"
      ]
    },
    {
      "cell_type": "markdown",
      "id": "2916929c",
      "metadata": {
        "id": "2916929c"
      },
      "source": [
        "Длинна сессий у нас от 1 до 102 минут."
      ]
    },
    {
      "cell_type": "markdown",
      "id": "g1wNNWdpDKv0",
      "metadata": {
        "id": "g1wNNWdpDKv0"
      },
      "source": [
        "## 5. Общий вывод:"
      ]
    },
    {
      "cell_type": "markdown",
      "id": "P0zCAEe_Dd1B",
      "metadata": {
        "id": "P0zCAEe_Dd1B"
      },
      "source": [
        "1. Какие пользователи склонны часто возвращаться в мобильное приложение? - Вторая группа\n",
        "\n",
        "2. Какие пользователи часто делают целевое событие (contacts_show) - Вторая группа\n",
        "\n",
        "3. Как различается время между распространенными событиями пользователей,(например, различаются ли пользователи по группам на основе времени,которое проходит с момента первого использования мобильного приложения и до использования функции поиска)?\n",
        "\n",
        "Пользователям из 2 группы отностительно других групп меньше всего/не показывали рекомендованные объясвления. <br>\n",
        "Пользователи из 2 группы предпочитают листать фото карточек.<br>\n",
        "Пользователи из группы 0 часто пользуются поиском, видимо не находят в поиске того, чего искали. <br>\n",
        "Пользователи из группы 1 чаще проводят время в приложении, им часто показывают рекомндованные объявления. <br>\n",
        "\n",
        "Скорее всего дело в рекомендациях системы. <br>\n",
        "Советую проверить на сколько актуальные объявления показывают пользователям."
      ]
    }
  ],
  "metadata": {
    "ExecuteTimeLog": [
      {
        "duration": 2721,
        "start_time": "2022-07-23T17:10:10.275Z"
      },
      {
        "duration": 367,
        "start_time": "2022-07-23T17:10:12.998Z"
      },
      {
        "duration": 94,
        "start_time": "2022-07-23T17:10:13.368Z"
      },
      {
        "duration": 67,
        "start_time": "2022-07-23T17:10:13.465Z"
      },
      {
        "duration": 20,
        "start_time": "2022-07-23T17:10:13.548Z"
      },
      {
        "duration": 13,
        "start_time": "2022-07-23T17:10:13.570Z"
      },
      {
        "duration": 40,
        "start_time": "2022-07-23T17:10:13.585Z"
      },
      {
        "duration": 1066,
        "start_time": "2022-07-23T17:10:13.647Z"
      },
      {
        "duration": 31,
        "start_time": "2022-07-23T17:10:14.715Z"
      },
      {
        "duration": 19,
        "start_time": "2022-07-23T17:10:14.750Z"
      },
      {
        "duration": 5,
        "start_time": "2022-07-23T17:10:14.772Z"
      },
      {
        "duration": 40,
        "start_time": "2022-07-23T17:10:14.780Z"
      },
      {
        "duration": 48,
        "start_time": "2022-07-23T17:10:14.822Z"
      },
      {
        "duration": 73,
        "start_time": "2022-07-23T17:10:14.873Z"
      },
      {
        "duration": 12,
        "start_time": "2022-07-23T17:10:14.949Z"
      },
      {
        "duration": 829,
        "start_time": "2022-07-23T17:10:14.963Z"
      },
      {
        "duration": 131985,
        "start_time": "2022-07-23T17:10:15.794Z"
      },
      {
        "duration": 974,
        "start_time": "2022-07-23T17:12:27.781Z"
      },
      {
        "duration": 91,
        "start_time": "2022-07-23T17:12:28.758Z"
      },
      {
        "duration": 22,
        "start_time": "2022-07-23T17:12:28.852Z"
      },
      {
        "duration": 104,
        "start_time": "2022-07-23T17:12:28.877Z"
      },
      {
        "duration": 68,
        "start_time": "2022-07-23T17:12:28.984Z"
      },
      {
        "duration": 11,
        "start_time": "2022-07-23T17:12:29.053Z"
      },
      {
        "duration": 113,
        "start_time": "2022-07-23T17:12:29.066Z"
      },
      {
        "duration": 4,
        "start_time": "2022-07-23T17:12:29.181Z"
      },
      {
        "duration": 23,
        "start_time": "2022-07-23T17:12:29.188Z"
      },
      {
        "duration": 679,
        "start_time": "2022-07-23T17:12:29.214Z"
      },
      {
        "duration": 50,
        "start_time": "2022-07-23T17:12:29.898Z"
      },
      {
        "duration": 368,
        "start_time": "2022-07-23T17:12:29.950Z"
      },
      {
        "duration": 27,
        "start_time": "2022-07-23T17:12:30.320Z"
      },
      {
        "duration": 10,
        "start_time": "2022-07-23T17:12:30.349Z"
      },
      {
        "duration": 86,
        "start_time": "2022-07-23T17:12:30.362Z"
      },
      {
        "duration": 7,
        "start_time": "2022-07-23T17:12:30.451Z"
      },
      {
        "duration": 662,
        "start_time": "2022-07-23T17:12:30.460Z"
      },
      {
        "duration": 66,
        "start_time": "2022-07-23T17:12:31.124Z"
      },
      {
        "duration": 5,
        "start_time": "2022-07-23T17:12:31.192Z"
      },
      {
        "duration": 43,
        "start_time": "2022-07-23T17:12:31.199Z"
      },
      {
        "duration": 40,
        "start_time": "2022-07-23T17:12:31.245Z"
      },
      {
        "duration": 18,
        "start_time": "2022-07-23T17:20:25.576Z"
      },
      {
        "duration": 32,
        "start_time": "2022-07-23T17:22:02.589Z"
      },
      {
        "duration": 7,
        "start_time": "2022-07-23T19:10:50.959Z"
      },
      {
        "duration": 31,
        "start_time": "2022-07-23T19:10:52.322Z"
      },
      {
        "duration": 31,
        "start_time": "2022-07-23T19:11:16.831Z"
      },
      {
        "duration": 8,
        "start_time": "2022-07-23T19:19:38.941Z"
      },
      {
        "duration": 31,
        "start_time": "2022-07-23T19:19:39.596Z"
      },
      {
        "duration": 50,
        "start_time": "2022-07-23T19:19:40.473Z"
      },
      {
        "duration": 1489,
        "start_time": "2022-07-24T11:47:41.916Z"
      },
      {
        "duration": 212,
        "start_time": "2022-07-24T11:47:43.407Z"
      },
      {
        "duration": 56,
        "start_time": "2022-07-24T11:47:43.621Z"
      },
      {
        "duration": 60,
        "start_time": "2022-07-24T11:47:43.679Z"
      },
      {
        "duration": 25,
        "start_time": "2022-07-24T11:47:43.742Z"
      },
      {
        "duration": 5,
        "start_time": "2022-07-24T11:47:43.769Z"
      },
      {
        "duration": 32,
        "start_time": "2022-07-24T11:47:43.776Z"
      },
      {
        "duration": 715,
        "start_time": "2022-07-24T11:47:43.810Z"
      },
      {
        "duration": 19,
        "start_time": "2022-07-24T11:47:44.527Z"
      },
      {
        "duration": 24,
        "start_time": "2022-07-24T11:47:44.547Z"
      },
      {
        "duration": 4,
        "start_time": "2022-07-24T11:47:44.572Z"
      },
      {
        "duration": 28,
        "start_time": "2022-07-24T11:47:44.578Z"
      },
      {
        "duration": 15,
        "start_time": "2022-07-24T11:47:44.608Z"
      },
      {
        "duration": 63,
        "start_time": "2022-07-24T11:47:44.625Z"
      },
      {
        "duration": 11,
        "start_time": "2022-07-24T11:47:44.689Z"
      },
      {
        "duration": 588,
        "start_time": "2022-07-24T11:47:44.701Z"
      },
      {
        "duration": 2431,
        "start_time": "2022-07-24T16:37:24.141Z"
      },
      {
        "duration": 300,
        "start_time": "2022-07-24T16:37:26.574Z"
      },
      {
        "duration": 59,
        "start_time": "2022-07-24T16:37:26.876Z"
      },
      {
        "duration": 46,
        "start_time": "2022-07-24T16:37:26.937Z"
      },
      {
        "duration": 12,
        "start_time": "2022-07-24T16:37:26.985Z"
      },
      {
        "duration": 4,
        "start_time": "2022-07-24T16:37:26.998Z"
      },
      {
        "duration": 34,
        "start_time": "2022-07-24T16:37:27.023Z"
      },
      {
        "duration": 827,
        "start_time": "2022-07-24T16:37:27.059Z"
      },
      {
        "duration": 23,
        "start_time": "2022-07-24T16:37:27.888Z"
      },
      {
        "duration": 19,
        "start_time": "2022-07-24T16:37:27.914Z"
      },
      {
        "duration": 4,
        "start_time": "2022-07-24T16:37:27.936Z"
      },
      {
        "duration": 33,
        "start_time": "2022-07-24T16:37:27.942Z"
      },
      {
        "duration": 47,
        "start_time": "2022-07-24T16:37:27.977Z"
      },
      {
        "duration": 56,
        "start_time": "2022-07-24T16:37:28.026Z"
      },
      {
        "duration": 10,
        "start_time": "2022-07-24T16:37:28.083Z"
      },
      {
        "duration": 713,
        "start_time": "2022-07-24T16:37:28.096Z"
      },
      {
        "duration": 115510,
        "start_time": "2022-07-24T16:37:28.812Z"
      },
      {
        "duration": 900,
        "start_time": "2022-07-24T16:39:24.324Z"
      },
      {
        "duration": 106,
        "start_time": "2022-07-24T16:39:25.227Z"
      },
      {
        "duration": 14,
        "start_time": "2022-07-24T16:39:25.334Z"
      },
      {
        "duration": 4,
        "start_time": "2022-07-24T16:39:25.350Z"
      },
      {
        "duration": 10,
        "start_time": "2022-07-24T16:39:25.355Z"
      },
      {
        "duration": 382,
        "start_time": "2022-07-24T16:39:25.367Z"
      },
      {
        "duration": 56,
        "start_time": "2022-07-24T16:39:25.751Z"
      },
      {
        "duration": 49,
        "start_time": "2022-07-24T16:39:25.808Z"
      },
      {
        "duration": 6,
        "start_time": "2022-07-24T16:39:25.859Z"
      },
      {
        "duration": 76,
        "start_time": "2022-07-24T16:39:25.867Z"
      },
      {
        "duration": 3,
        "start_time": "2022-07-24T16:39:25.947Z"
      },
      {
        "duration": 8,
        "start_time": "2022-07-24T16:39:25.951Z"
      },
      {
        "duration": 574,
        "start_time": "2022-07-24T16:39:25.962Z"
      },
      {
        "duration": 33,
        "start_time": "2022-07-24T16:39:26.538Z"
      },
      {
        "duration": 310,
        "start_time": "2022-07-24T16:39:26.573Z"
      },
      {
        "duration": 10,
        "start_time": "2022-07-24T16:39:26.885Z"
      },
      {
        "duration": 8,
        "start_time": "2022-07-24T16:39:26.897Z"
      },
      {
        "duration": 61,
        "start_time": "2022-07-24T16:39:26.922Z"
      },
      {
        "duration": 7,
        "start_time": "2022-07-24T16:39:26.985Z"
      },
      {
        "duration": 581,
        "start_time": "2022-07-24T16:39:26.993Z"
      },
      {
        "duration": 65,
        "start_time": "2022-07-24T16:39:27.577Z"
      },
      {
        "duration": 4,
        "start_time": "2022-07-24T16:39:27.644Z"
      },
      {
        "duration": 33,
        "start_time": "2022-07-24T16:39:27.650Z"
      },
      {
        "duration": 50,
        "start_time": "2022-07-24T16:39:27.685Z"
      },
      {
        "duration": 1700,
        "start_time": "2023-08-03T13:54:03.577Z"
      },
      {
        "duration": 332,
        "start_time": "2023-08-03T13:54:05.280Z"
      },
      {
        "duration": 59,
        "start_time": "2023-08-03T13:54:05.614Z"
      },
      {
        "duration": 47,
        "start_time": "2023-08-03T13:54:05.675Z"
      },
      {
        "duration": 45,
        "start_time": "2023-08-03T13:54:05.725Z"
      },
      {
        "duration": 58,
        "start_time": "2023-08-03T13:54:05.772Z"
      },
      {
        "duration": 55,
        "start_time": "2023-08-03T13:54:05.832Z"
      },
      {
        "duration": 766,
        "start_time": "2023-08-03T13:54:05.890Z"
      },
      {
        "duration": 20,
        "start_time": "2023-08-03T13:54:06.659Z"
      },
      {
        "duration": 19,
        "start_time": "2023-08-03T13:54:06.681Z"
      },
      {
        "duration": 14,
        "start_time": "2023-08-03T13:54:06.702Z"
      },
      {
        "duration": 45,
        "start_time": "2023-08-03T13:54:06.718Z"
      },
      {
        "duration": 27,
        "start_time": "2023-08-03T13:54:06.765Z"
      },
      {
        "duration": 69,
        "start_time": "2023-08-03T13:54:06.795Z"
      },
      {
        "duration": 8,
        "start_time": "2023-08-03T13:54:06.866Z"
      },
      {
        "duration": 688,
        "start_time": "2023-08-03T13:54:06.875Z"
      },
      {
        "duration": 53069,
        "start_time": "2023-08-03T13:54:07.565Z"
      },
      {
        "duration": 0,
        "start_time": "2023-08-03T13:55:00.636Z"
      },
      {
        "duration": 0,
        "start_time": "2023-08-03T13:55:00.637Z"
      },
      {
        "duration": 0,
        "start_time": "2023-08-03T13:55:00.638Z"
      },
      {
        "duration": 0,
        "start_time": "2023-08-03T13:55:00.639Z"
      },
      {
        "duration": 0,
        "start_time": "2023-08-03T13:55:00.640Z"
      },
      {
        "duration": 0,
        "start_time": "2023-08-03T13:55:00.641Z"
      },
      {
        "duration": 0,
        "start_time": "2023-08-03T13:55:00.642Z"
      },
      {
        "duration": 0,
        "start_time": "2023-08-03T13:55:00.643Z"
      },
      {
        "duration": 0,
        "start_time": "2023-08-03T13:55:00.659Z"
      },
      {
        "duration": 0,
        "start_time": "2023-08-03T13:55:00.660Z"
      },
      {
        "duration": 0,
        "start_time": "2023-08-03T13:55:00.662Z"
      },
      {
        "duration": 0,
        "start_time": "2023-08-03T13:55:00.664Z"
      },
      {
        "duration": 0,
        "start_time": "2023-08-03T13:55:00.665Z"
      },
      {
        "duration": 0,
        "start_time": "2023-08-03T13:55:00.666Z"
      },
      {
        "duration": 0,
        "start_time": "2023-08-03T13:55:00.668Z"
      },
      {
        "duration": 0,
        "start_time": "2023-08-03T13:55:00.669Z"
      },
      {
        "duration": 0,
        "start_time": "2023-08-03T13:55:00.671Z"
      },
      {
        "duration": 0,
        "start_time": "2023-08-03T13:55:00.672Z"
      },
      {
        "duration": 0,
        "start_time": "2023-08-03T13:55:00.673Z"
      },
      {
        "duration": 0,
        "start_time": "2023-08-03T13:55:00.675Z"
      },
      {
        "duration": 0,
        "start_time": "2023-08-03T13:55:00.678Z"
      },
      {
        "duration": 0,
        "start_time": "2023-08-03T13:55:00.681Z"
      },
      {
        "duration": 0,
        "start_time": "2023-08-03T13:55:00.682Z"
      },
      {
        "duration": 0,
        "start_time": "2023-08-03T13:55:00.683Z"
      },
      {
        "duration": 0,
        "start_time": "2023-08-03T13:55:00.685Z"
      },
      {
        "duration": 35,
        "start_time": "2023-08-03T13:55:04.219Z"
      },
      {
        "duration": 1733,
        "start_time": "2023-08-04T10:11:23.121Z"
      },
      {
        "duration": 354,
        "start_time": "2023-08-04T10:11:24.856Z"
      },
      {
        "duration": 71,
        "start_time": "2023-08-04T10:11:25.212Z"
      },
      {
        "duration": 49,
        "start_time": "2023-08-04T10:11:25.285Z"
      },
      {
        "duration": 12,
        "start_time": "2023-08-04T10:11:25.336Z"
      },
      {
        "duration": 9,
        "start_time": "2023-08-04T10:11:25.367Z"
      },
      {
        "duration": 43,
        "start_time": "2023-08-04T10:11:25.377Z"
      },
      {
        "duration": 869,
        "start_time": "2023-08-04T10:11:25.422Z"
      },
      {
        "duration": 20,
        "start_time": "2023-08-04T10:11:26.293Z"
      },
      {
        "duration": 12,
        "start_time": "2023-08-04T10:11:26.315Z"
      },
      {
        "duration": 31,
        "start_time": "2023-08-04T10:11:26.329Z"
      },
      {
        "duration": 29,
        "start_time": "2023-08-04T10:11:26.362Z"
      },
      {
        "duration": 18,
        "start_time": "2023-08-04T10:11:26.392Z"
      },
      {
        "duration": 68,
        "start_time": "2023-08-04T10:11:26.412Z"
      },
      {
        "duration": 29,
        "start_time": "2023-08-04T10:11:26.482Z"
      },
      {
        "duration": 18,
        "start_time": "2023-08-04T10:11:26.512Z"
      },
      {
        "duration": 700,
        "start_time": "2023-08-04T10:11:26.531Z"
      },
      {
        "duration": 120217,
        "start_time": "2023-08-04T10:11:27.233Z"
      },
      {
        "duration": 723,
        "start_time": "2023-08-04T10:13:27.452Z"
      },
      {
        "duration": 103,
        "start_time": "2023-08-04T10:13:28.177Z"
      },
      {
        "duration": 14,
        "start_time": "2023-08-04T10:13:28.282Z"
      },
      {
        "duration": 4,
        "start_time": "2023-08-04T10:13:28.298Z"
      },
      {
        "duration": 27,
        "start_time": "2023-08-04T10:13:28.303Z"
      },
      {
        "duration": 405,
        "start_time": "2023-08-04T10:13:28.332Z"
      },
      {
        "duration": 58,
        "start_time": "2023-08-04T10:13:28.739Z"
      },
      {
        "duration": 41,
        "start_time": "2023-08-04T10:13:28.799Z"
      },
      {
        "duration": 9,
        "start_time": "2023-08-04T10:13:28.842Z"
      },
      {
        "duration": 70,
        "start_time": "2023-08-04T10:13:28.866Z"
      },
      {
        "duration": 4,
        "start_time": "2023-08-04T10:13:28.937Z"
      },
      {
        "duration": 8,
        "start_time": "2023-08-04T10:13:28.943Z"
      },
      {
        "duration": 603,
        "start_time": "2023-08-04T10:13:28.968Z"
      },
      {
        "duration": 37,
        "start_time": "2023-08-04T10:13:29.573Z"
      },
      {
        "duration": 348,
        "start_time": "2023-08-04T10:13:29.612Z"
      },
      {
        "duration": 11,
        "start_time": "2023-08-04T10:13:29.966Z"
      },
      {
        "duration": 8,
        "start_time": "2023-08-04T10:13:29.979Z"
      },
      {
        "duration": 118,
        "start_time": "2023-08-04T10:13:29.989Z"
      },
      {
        "duration": 6,
        "start_time": "2023-08-04T10:13:30.109Z"
      },
      {
        "duration": 650,
        "start_time": "2023-08-04T10:13:30.117Z"
      },
      {
        "duration": 43,
        "start_time": "2023-08-04T10:13:30.769Z"
      },
      {
        "duration": 28,
        "start_time": "2023-08-04T10:13:30.814Z"
      },
      {
        "duration": 105,
        "start_time": "2023-08-04T10:13:30.844Z"
      },
      {
        "duration": 82,
        "start_time": "2023-08-04T10:13:30.951Z"
      }
    ],
    "colab": {
      "provenance": []
    },
    "kernelspec": {
      "display_name": "Python 3 (ipykernel)",
      "language": "python",
      "name": "python3"
    },
    "language_info": {
      "codemirror_mode": {
        "name": "ipython",
        "version": 3
      },
      "file_extension": ".py",
      "mimetype": "text/x-python",
      "name": "python",
      "nbconvert_exporter": "python",
      "pygments_lexer": "ipython3",
      "version": "3.9.5"
    },
    "toc": {
      "base_numbering": 1,
      "nav_menu": {},
      "number_sections": false,
      "sideBar": true,
      "skip_h1_title": false,
      "title_cell": "Table of Contents",
      "title_sidebar": "Contents",
      "toc_cell": false,
      "toc_position": {},
      "toc_section_display": true,
      "toc_window_display": false
    }
  },
  "nbformat": 4,
  "nbformat_minor": 5
}
