{
  "cells": [
    {
      "cell_type": "markdown",
      "id": "abc7141f",
      "metadata": {
        "id": "abc7141f"
      },
      "source": [
        "# Принятие решений в бизнесе\n",
        "\n",
        "Вместе с отделом маркетинга мы подготовили список гипотез для увеличения выручки. <br>\n",
        "Приоритизируем гипотезы, запустим A/B-тест и проанализируем результаты.\n",
        "\n",
        "В нашем распоряжении есть 3 датасета:\n",
        "* \"hypothesis\", который содержит информацию о гипотизах\n",
        "* \"orders\", в котором содержится информация о покупках\n",
        "* \"visitors\", в котором собрана информация о посещениях\n"
      ]
    },
    {
      "cell_type": "markdown",
      "id": "4915f251",
      "metadata": {
        "id": "4915f251"
      },
      "source": [
        "## Загрузим данные и подготовим их к анализу."
      ]
    },
    {
      "cell_type": "code",
      "execution_count": null,
      "id": "c0e4f202",
      "metadata": {
        "id": "c0e4f202"
      },
      "outputs": [],
      "source": [
        "import pandas as pd\n",
        "import datetime as dt\n",
        "import numpy as np\n",
        "import matplotlib.pyplot as plt\n",
        "import scipy.stats as stats"
      ]
    },
    {
      "cell_type": "code",
      "execution_count": null,
      "id": "a8a66327",
      "metadata": {
        "code_folding": [],
        "id": "a8a66327"
      },
      "outputs": [],
      "source": [
        "hypothesis, orders, visitors = (\n",
        "    pd.read_csv('/datasets/hypothesis.csv'),\n",
        "    pd.read_csv('/datasets/orders.csv'),\n",
        "    pd.read_csv('/datasets/visitors.csv')\n",
        ")"
      ]
    },
    {
      "cell_type": "code",
      "execution_count": null,
      "id": "b1de8f6c",
      "metadata": {
        "code_folding": [],
        "id": "b1de8f6c",
        "outputId": "3eef3b51-9695-4ea3-e694-8673d460184f"
      },
      "outputs": [
        {
          "name": "stdout",
          "output_type": "stream",
          "text": [
            "<class 'pandas.core.frame.DataFrame'>\n",
            "RangeIndex: 9 entries, 0 to 8\n",
            "Data columns (total 5 columns):\n",
            " #   Column      Non-Null Count  Dtype \n",
            "---  ------      --------------  ----- \n",
            " 0   Hypothesis  9 non-null      object\n",
            " 1   Reach       9 non-null      int64 \n",
            " 2   Impact      9 non-null      int64 \n",
            " 3   Confidence  9 non-null      int64 \n",
            " 4   Efforts     9 non-null      int64 \n",
            "dtypes: int64(4), object(1)\n",
            "memory usage: 488.0+ bytes\n",
            "duplicated sum: 0\n",
            "---------------------------------------------------\n",
            "<class 'pandas.core.frame.DataFrame'>\n",
            "RangeIndex: 1197 entries, 0 to 1196\n",
            "Data columns (total 5 columns):\n",
            " #   Column         Non-Null Count  Dtype \n",
            "---  ------         --------------  ----- \n",
            " 0   transactionId  1197 non-null   int64 \n",
            " 1   visitorId      1197 non-null   int64 \n",
            " 2   date           1197 non-null   object\n",
            " 3   revenue        1197 non-null   int64 \n",
            " 4   group          1197 non-null   object\n",
            "dtypes: int64(3), object(2)\n",
            "memory usage: 46.9+ KB\n",
            "duplicated sum: 0\n",
            "---------------------------------------------------\n",
            "<class 'pandas.core.frame.DataFrame'>\n",
            "RangeIndex: 62 entries, 0 to 61\n",
            "Data columns (total 3 columns):\n",
            " #   Column    Non-Null Count  Dtype \n",
            "---  ------    --------------  ----- \n",
            " 0   date      62 non-null     object\n",
            " 1   group     62 non-null     object\n",
            " 2   visitors  62 non-null     int64 \n",
            "dtypes: int64(1), object(2)\n",
            "memory usage: 1.6+ KB\n",
            "duplicated sum: 0\n",
            "---------------------------------------------------\n"
          ]
        }
      ],
      "source": [
        "for df in hypothesis, orders, visitors:\n",
        "    df.info()\n",
        "    print('duplicated sum:', df.duplicated().sum())\n",
        "    print('---------------------------------------------------')"
      ]
    },
    {
      "cell_type": "markdown",
      "id": "a550eb33",
      "metadata": {
        "id": "a550eb33"
      },
      "source": [
        "Видим что не все названия столбцов в змеином_регистре, по этому приведем их к единому стилю. <br>\n",
        "Видим так же, что столбцы с датой в формате object. Переведем их в  datatime"
      ]
    },
    {
      "cell_type": "code",
      "execution_count": null,
      "id": "fc5b0e3a",
      "metadata": {
        "id": "fc5b0e3a"
      },
      "outputs": [],
      "source": [
        "hypothesis.columns = hypothesis.columns.str.lower()\n",
        "orders.rename(columns = {'transactionId' : 'transaction_id', 'visitorId' : 'visitor_id'}, inplace = True)"
      ]
    },
    {
      "cell_type": "code",
      "execution_count": null,
      "id": "9c896921",
      "metadata": {
        "code_folding": [],
        "id": "9c896921"
      },
      "outputs": [],
      "source": [
        "orders['date'] = orders['date'].map(\n",
        "    lambda x: dt.datetime.strptime(x, '%Y-%m-%d')\n",
        ")\n",
        "visitors['date'] = visitors['date'].map(\n",
        "    lambda x: dt.datetime.strptime(x, '%Y-%m-%d')\n",
        ")"
      ]
    },
    {
      "cell_type": "code",
      "execution_count": null,
      "id": "e4a2e377",
      "metadata": {
        "id": "e4a2e377",
        "outputId": "13f90152-96b3-40f0-94c4-ae747fca696d"
      },
      "outputs": [
        {
          "name": "stdout",
          "output_type": "stream",
          "text": [
            "Дата начала теста: 2019-08-01 00:00:00\n",
            "Дата окончания теста: 2019-08-31 00:00:00\n"
          ]
        }
      ],
      "source": [
        "print('Дата начала теста:', orders['date'].min())\n",
        "print('Дата окончания теста:', orders['date'].max())"
      ]
    },
    {
      "cell_type": "code",
      "execution_count": null,
      "id": "85d3f6c1",
      "metadata": {
        "id": "85d3f6c1",
        "outputId": "7dc64936-21e6-459e-f1e2-75cdb52fabf9"
      },
      "outputs": [
        {
          "data": {
            "text/html": [
              "<div>\n",
              "<style scoped>\n",
              "    .dataframe tbody tr th:only-of-type {\n",
              "        vertical-align: middle;\n",
              "    }\n",
              "\n",
              "    .dataframe tbody tr th {\n",
              "        vertical-align: top;\n",
              "    }\n",
              "\n",
              "    .dataframe thead th {\n",
              "        text-align: right;\n",
              "    }\n",
              "</style>\n",
              "<table border=\"1\" class=\"dataframe\">\n",
              "  <thead>\n",
              "    <tr style=\"text-align: right;\">\n",
              "      <th></th>\n",
              "      <th>visitors</th>\n",
              "    </tr>\n",
              "    <tr>\n",
              "      <th>group</th>\n",
              "      <th></th>\n",
              "    </tr>\n",
              "  </thead>\n",
              "  <tbody>\n",
              "    <tr>\n",
              "      <th>A</th>\n",
              "      <td>18736</td>\n",
              "    </tr>\n",
              "    <tr>\n",
              "      <th>B</th>\n",
              "      <td>18916</td>\n",
              "    </tr>\n",
              "  </tbody>\n",
              "</table>\n",
              "</div>"
            ],
            "text/plain": [
              "       visitors\n",
              "group          \n",
              "A         18736\n",
              "B         18916"
            ]
          },
          "execution_count": 7,
          "metadata": {},
          "output_type": "execute_result"
        }
      ],
      "source": [
        "visitors.groupby('group').agg({'visitors':'sum'})"
      ]
    },
    {
      "cell_type": "code",
      "execution_count": null,
      "id": "d7fa68aa",
      "metadata": {
        "id": "d7fa68aa",
        "outputId": "cb55136d-62d4-4a64-8e70-e0ca8c4921b2"
      },
      "outputs": [
        {
          "data": {
            "text/html": [
              "<div>\n",
              "<style scoped>\n",
              "    .dataframe tbody tr th:only-of-type {\n",
              "        vertical-align: middle;\n",
              "    }\n",
              "\n",
              "    .dataframe tbody tr th {\n",
              "        vertical-align: top;\n",
              "    }\n",
              "\n",
              "    .dataframe thead th {\n",
              "        text-align: right;\n",
              "    }\n",
              "</style>\n",
              "<table border=\"1\" class=\"dataframe\">\n",
              "  <thead>\n",
              "    <tr style=\"text-align: right;\">\n",
              "      <th></th>\n",
              "      <th>transaction_id</th>\n",
              "    </tr>\n",
              "    <tr>\n",
              "      <th>group</th>\n",
              "      <th></th>\n",
              "    </tr>\n",
              "  </thead>\n",
              "  <tbody>\n",
              "    <tr>\n",
              "      <th>A</th>\n",
              "      <td>557</td>\n",
              "    </tr>\n",
              "    <tr>\n",
              "      <th>B</th>\n",
              "      <td>640</td>\n",
              "    </tr>\n",
              "  </tbody>\n",
              "</table>\n",
              "</div>"
            ],
            "text/plain": [
              "       transaction_id\n",
              "group                \n",
              "A                 557\n",
              "B                 640"
            ]
          },
          "execution_count": 8,
          "metadata": {},
          "output_type": "execute_result"
        }
      ],
      "source": [
        "orders.groupby('group').agg({'transaction_id':'count'})"
      ]
    },
    {
      "cell_type": "code",
      "execution_count": null,
      "id": "29719975",
      "metadata": {
        "id": "29719975",
        "outputId": "2814bc40-6b72-4d3b-b28f-f60a8162e9d8"
      },
      "outputs": [
        {
          "data": {
            "text/html": [
              "<div>\n",
              "<style scoped>\n",
              "    .dataframe tbody tr th:only-of-type {\n",
              "        vertical-align: middle;\n",
              "    }\n",
              "\n",
              "    .dataframe tbody tr th {\n",
              "        vertical-align: top;\n",
              "    }\n",
              "\n",
              "    .dataframe thead th {\n",
              "        text-align: right;\n",
              "    }\n",
              "</style>\n",
              "<table border=\"1\" class=\"dataframe\">\n",
              "  <thead>\n",
              "    <tr style=\"text-align: right;\">\n",
              "      <th></th>\n",
              "      <th>revenue</th>\n",
              "    </tr>\n",
              "    <tr>\n",
              "      <th>group</th>\n",
              "      <th></th>\n",
              "    </tr>\n",
              "  </thead>\n",
              "  <tbody>\n",
              "    <tr>\n",
              "      <th>A</th>\n",
              "      <td>7333.578097</td>\n",
              "    </tr>\n",
              "    <tr>\n",
              "      <th>B</th>\n",
              "      <td>9230.875000</td>\n",
              "    </tr>\n",
              "  </tbody>\n",
              "</table>\n",
              "</div>"
            ],
            "text/plain": [
              "           revenue\n",
              "group             \n",
              "A      7333.578097\n",
              "B      9230.875000"
            ]
          },
          "execution_count": 9,
          "metadata": {},
          "output_type": "execute_result"
        }
      ],
      "source": [
        "orders.groupby('group').agg({'revenue':'mean'})"
      ]
    },
    {
      "cell_type": "markdown",
      "id": "a5e509c9",
      "metadata": {
        "id": "a5e509c9"
      },
      "source": [
        "## Часть 1. Приоритизация гипотез.\n"
      ]
    },
    {
      "cell_type": "markdown",
      "id": "cd664f22",
      "metadata": {
        "id": "cd664f22"
      },
      "source": [
        "### ICE"
      ]
    },
    {
      "cell_type": "code",
      "execution_count": null,
      "id": "f7dfe4b8",
      "metadata": {
        "id": "f7dfe4b8",
        "outputId": "d9f5dc50-f855-4305-8947-0bbda0da7086"
      },
      "outputs": [
        {
          "data": {
            "text/html": [
              "<div>\n",
              "<style scoped>\n",
              "    .dataframe tbody tr th:only-of-type {\n",
              "        vertical-align: middle;\n",
              "    }\n",
              "\n",
              "    .dataframe tbody tr th {\n",
              "        vertical-align: top;\n",
              "    }\n",
              "\n",
              "    .dataframe thead th {\n",
              "        text-align: right;\n",
              "    }\n",
              "</style>\n",
              "<table border=\"1\" class=\"dataframe\">\n",
              "  <thead>\n",
              "    <tr style=\"text-align: right;\">\n",
              "      <th></th>\n",
              "      <th>hypothesis</th>\n",
              "      <th>ice</th>\n",
              "    </tr>\n",
              "  </thead>\n",
              "  <tbody>\n",
              "    <tr>\n",
              "      <th>8</th>\n",
              "      <td>Запустить акцию, дающую скидку на товар в день...</td>\n",
              "      <td>16.200000</td>\n",
              "    </tr>\n",
              "    <tr>\n",
              "      <th>0</th>\n",
              "      <td>Добавить два новых канала привлечения трафика,...</td>\n",
              "      <td>13.333333</td>\n",
              "    </tr>\n",
              "    <tr>\n",
              "      <th>7</th>\n",
              "      <td>Добавить форму подписки на все основные страни...</td>\n",
              "      <td>11.200000</td>\n",
              "    </tr>\n",
              "    <tr>\n",
              "      <th>6</th>\n",
              "      <td>Показать на главной странице баннеры с актуаль...</td>\n",
              "      <td>8.000000</td>\n",
              "    </tr>\n",
              "    <tr>\n",
              "      <th>2</th>\n",
              "      <td>Добавить блоки рекомендаций товаров на сайт ин...</td>\n",
              "      <td>7.000000</td>\n",
              "    </tr>\n",
              "    <tr>\n",
              "      <th>1</th>\n",
              "      <td>Запустить собственную службу доставки, что сок...</td>\n",
              "      <td>2.000000</td>\n",
              "    </tr>\n",
              "    <tr>\n",
              "      <th>5</th>\n",
              "      <td>Добавить страницу отзывов клиентов о магазине,...</td>\n",
              "      <td>1.333333</td>\n",
              "    </tr>\n",
              "    <tr>\n",
              "      <th>3</th>\n",
              "      <td>Изменить структура категорий, что увеличит кон...</td>\n",
              "      <td>1.125000</td>\n",
              "    </tr>\n",
              "    <tr>\n",
              "      <th>4</th>\n",
              "      <td>Изменить цвет фона главной страницы, чтобы уве...</td>\n",
              "      <td>1.000000</td>\n",
              "    </tr>\n",
              "  </tbody>\n",
              "</table>\n",
              "</div>"
            ],
            "text/plain": [
              "                                          hypothesis        ice\n",
              "8  Запустить акцию, дающую скидку на товар в день...  16.200000\n",
              "0  Добавить два новых канала привлечения трафика,...  13.333333\n",
              "7  Добавить форму подписки на все основные страни...  11.200000\n",
              "6  Показать на главной странице баннеры с актуаль...   8.000000\n",
              "2  Добавить блоки рекомендаций товаров на сайт ин...   7.000000\n",
              "1  Запустить собственную службу доставки, что сок...   2.000000\n",
              "5  Добавить страницу отзывов клиентов о магазине,...   1.333333\n",
              "3  Изменить структура категорий, что увеличит кон...   1.125000\n",
              "4  Изменить цвет фона главной страницы, чтобы уве...   1.000000"
            ]
          },
          "metadata": {},
          "output_type": "display_data"
        }
      ],
      "source": [
        "hypothesis['ice'] = hypothesis['impact'] * hypothesis['confidence'] / hypothesis['efforts']\n",
        "display(hypothesis[['hypothesis', 'ice']].sort_values('ice', ascending=False))"
      ]
    },
    {
      "cell_type": "markdown",
      "id": "6b2bee71",
      "metadata": {
        "id": "6b2bee71"
      },
      "source": [
        "#### Пояснение\n",
        "После приоритезации гипотиз методом \"ice\" видим следующую картину: <br>\n",
        "Гипотиза под номером 8, 0, 7 имеют патанцевал на дальнейшее исследование"
      ]
    },
    {
      "cell_type": "markdown",
      "id": "8706301b",
      "metadata": {
        "id": "8706301b"
      },
      "source": [
        "### RICE"
      ]
    },
    {
      "cell_type": "code",
      "execution_count": null,
      "id": "a30cd89c",
      "metadata": {
        "id": "a30cd89c",
        "outputId": "3ed80f47-26ea-4af1-d75a-05cd0ab9618b"
      },
      "outputs": [
        {
          "data": {
            "text/html": [
              "<div>\n",
              "<style scoped>\n",
              "    .dataframe tbody tr th:only-of-type {\n",
              "        vertical-align: middle;\n",
              "    }\n",
              "\n",
              "    .dataframe tbody tr th {\n",
              "        vertical-align: top;\n",
              "    }\n",
              "\n",
              "    .dataframe thead th {\n",
              "        text-align: right;\n",
              "    }\n",
              "</style>\n",
              "<table border=\"1\" class=\"dataframe\">\n",
              "  <thead>\n",
              "    <tr style=\"text-align: right;\">\n",
              "      <th></th>\n",
              "      <th>hypothesis</th>\n",
              "      <th>rice</th>\n",
              "    </tr>\n",
              "  </thead>\n",
              "  <tbody>\n",
              "    <tr>\n",
              "      <th>7</th>\n",
              "      <td>Добавить форму подписки на все основные страни...</td>\n",
              "      <td>112.0</td>\n",
              "    </tr>\n",
              "    <tr>\n",
              "      <th>2</th>\n",
              "      <td>Добавить блоки рекомендаций товаров на сайт ин...</td>\n",
              "      <td>56.0</td>\n",
              "    </tr>\n",
              "    <tr>\n",
              "      <th>0</th>\n",
              "      <td>Добавить два новых канала привлечения трафика,...</td>\n",
              "      <td>40.0</td>\n",
              "    </tr>\n",
              "    <tr>\n",
              "      <th>6</th>\n",
              "      <td>Показать на главной странице баннеры с актуаль...</td>\n",
              "      <td>40.0</td>\n",
              "    </tr>\n",
              "    <tr>\n",
              "      <th>8</th>\n",
              "      <td>Запустить акцию, дающую скидку на товар в день...</td>\n",
              "      <td>16.2</td>\n",
              "    </tr>\n",
              "    <tr>\n",
              "      <th>3</th>\n",
              "      <td>Изменить структура категорий, что увеличит кон...</td>\n",
              "      <td>9.0</td>\n",
              "    </tr>\n",
              "    <tr>\n",
              "      <th>1</th>\n",
              "      <td>Запустить собственную службу доставки, что сок...</td>\n",
              "      <td>4.0</td>\n",
              "    </tr>\n",
              "    <tr>\n",
              "      <th>5</th>\n",
              "      <td>Добавить страницу отзывов клиентов о магазине,...</td>\n",
              "      <td>4.0</td>\n",
              "    </tr>\n",
              "    <tr>\n",
              "      <th>4</th>\n",
              "      <td>Изменить цвет фона главной страницы, чтобы уве...</td>\n",
              "      <td>3.0</td>\n",
              "    </tr>\n",
              "  </tbody>\n",
              "</table>\n",
              "</div>"
            ],
            "text/plain": [
              "                                          hypothesis   rice\n",
              "7  Добавить форму подписки на все основные страни...  112.0\n",
              "2  Добавить блоки рекомендаций товаров на сайт ин...   56.0\n",
              "0  Добавить два новых канала привлечения трафика,...   40.0\n",
              "6  Показать на главной странице баннеры с актуаль...   40.0\n",
              "8  Запустить акцию, дающую скидку на товар в день...   16.2\n",
              "3  Изменить структура категорий, что увеличит кон...    9.0\n",
              "1  Запустить собственную службу доставки, что сок...    4.0\n",
              "5  Добавить страницу отзывов клиентов о магазине,...    4.0\n",
              "4  Изменить цвет фона главной страницы, чтобы уве...    3.0"
            ]
          },
          "metadata": {},
          "output_type": "display_data"
        }
      ],
      "source": [
        "hypothesis['rice'] = (\n",
        "    hypothesis['reach'] * hypothesis['impact'] * hypothesis['confidence'] / hypothesis['efforts']\n",
        ")\n",
        "display(hypothesis[['hypothesis', 'rice']].sort_values('rice', ascending=False))"
      ]
    },
    {
      "cell_type": "code",
      "execution_count": null,
      "id": "151da1ca",
      "metadata": {
        "id": "151da1ca",
        "outputId": "1a1a6b13-d91f-464c-9574-f53f90daafaf"
      },
      "outputs": [
        {
          "data": {
            "image/png": "[encoded data removed]",
            "text/plain": [
              "<Figure size 432x288 with 1 Axes>"
            ]
          },
          "metadata": {
            "needs_background": "light"
          },
          "output_type": "display_data"
        }
      ],
      "source": [
        "y = hypothesis['ice']\n",
        "z = hypothesis['rice']\n",
        "n = hypothesis.index\n",
        "\n",
        "fig, ax = plt.subplots()\n",
        "ax.scatter(z, y)\n",
        "\n",
        "for i, txt in enumerate(n):\n",
        "    ax.annotate(txt, (z[i], y[i]))\n",
        "\n",
        "plt.title(\"ICE and RICE гипотезы\")\n",
        "plt.xlabel(\"RICE\")\n",
        "plt.ylabel(\"ICE\");"
      ]
    },
    {
      "cell_type": "markdown",
      "id": "7e357812",
      "metadata": {
        "id": "7e357812"
      },
      "source": [
        "#### Пояснение\n",
        "После приоритезации гипотиз методом \"rice\" видим следующую картину: <br>\n",
        "Гипотиза под номером 7, 2, 0, 6 имеют патанцевал на дальнейшее исследование"
      ]
    },
    {
      "cell_type": "markdown",
      "id": "fed54d7b",
      "metadata": {
        "id": "fed54d7b"
      },
      "source": [
        "### Выводы\n",
        "После приоритезации методом rice появился вес у параметра \"охват пользователей\" что немаловажно. <br>\n",
        "Гипотизы с небольшим охватом менее важны для бизнеса."
      ]
    },
    {
      "cell_type": "markdown",
      "id": "f9b590c2",
      "metadata": {
        "id": "f9b590c2"
      },
      "source": [
        "## Часть 2. Анализ A/B-теста\n"
      ]
    },
    {
      "cell_type": "markdown",
      "id": "7cfee846",
      "metadata": {
        "id": "7cfee846"
      },
      "source": [
        "### Подготовим данные для исследования и построения графиков:"
      ]
    },
    {
      "cell_type": "code",
      "execution_count": null,
      "id": "ecd9ea8b",
      "metadata": {
        "code_folding": [
          4,
          17,
          28
        ],
        "id": "ecd9ea8b"
      },
      "outputs": [],
      "source": [
        "# массив уникальных пар date и group\n",
        "dates_groups = orders[['date','group']].drop_duplicates()\n",
        "\n",
        "# агрегированные кумулятивные данные по дням\n",
        "orders_aggregated = dates_groups.apply(\n",
        "    lambda x: orders[np.logical_and(\n",
        "        orders['date'] <= x['date'],\n",
        "        orders['group'] == x['group']\n",
        "    )].agg(\n",
        "        {'date' : 'max',\n",
        "         'group' : 'max',\n",
        "         'transaction_id' : 'nunique',\n",
        "         'visitor_id' : 'nunique',\n",
        "         'revenue' : 'sum'}\n",
        "    ), axis=1).sort_values(by=['date','group'])\n",
        "\n",
        "# получаем агрегированные кумулятивные по дням данные о посетителях интернет-магазина\n",
        "visitors_aggregated = dates_groups.apply(\n",
        "    lambda x: visitors[np.logical_and(\n",
        "        visitors['date'] <= x['date'],\n",
        "        visitors['group'] == x['group']\n",
        "    )].agg(\n",
        "        {'date' : 'max',\n",
        "         'group' : 'max',\n",
        "         'visitors' : 'sum'}\n",
        "    ), axis=1).sort_values(by=['date','group'])\n",
        "\n",
        "# объединяем кумулятивные данные в одной таблице и присваиваем ее столбцам понятные названия\n",
        "cumulative_data = orders_aggregated.merge(visitors_aggregated,\n",
        "                                        left_on=['date', 'group'],\n",
        "                                        right_on=['date', 'group'])\n",
        "\n",
        "cumulative_data.columns = ['date', 'group', 'orders', 'buyers', 'revenue', 'visitors']"
      ]
    },
    {
      "cell_type": "code",
      "execution_count": null,
      "id": "6fbc0005",
      "metadata": {
        "id": "6fbc0005",
        "outputId": "7d4707eb-2d0c-4703-c2b0-5ee059f8cb4d"
      },
      "outputs": [
        {
          "name": "stdout",
          "output_type": "stream",
          "text": [
            "2019-08-01 00:00:00\n",
            "2019-08-31 00:00:00\n"
          ]
        }
      ],
      "source": [
        "print(cumulative_data['date'].min())\n",
        "print(cumulative_data['date'].max())"
      ]
    },
    {
      "cell_type": "markdown",
      "id": "713fb777",
      "metadata": {
        "id": "713fb777"
      },
      "source": [
        "### Построим график кумулятивной выручки по группам"
      ]
    },
    {
      "cell_type": "code",
      "execution_count": null,
      "id": "1b49ad3f",
      "metadata": {
        "id": "1b49ad3f",
        "outputId": "ac68e5b8-1542-41ab-a012-f687e0a5a144"
      },
      "outputs": [
        {
          "data": {
            "image/png": "[encoded data removed]",
            "text/plain": [
              "<Figure size 1080x360 with 1 Axes>"
            ]
          },
          "metadata": {
            "needs_background": "light"
          },
          "output_type": "display_data"
        }
      ],
      "source": [
        "# датафрейм с кумулятивным количеством заказов и кумулятивной выручкой по дням в группе А\n",
        "cumulative_revenue_a = cumulative_data.query('group == \"A\"')[['date','revenue', 'orders']]\n",
        "\n",
        "# датафрейм с кумулятивным количеством заказов и кумулятивной выручкой по дням в группе B\n",
        "cumulative_revenue_b = cumulative_data.query('group == \"B\"')[['date','revenue', 'orders']]\n",
        "\n",
        "plt.figure(figsize=(15, 5))\n",
        "plt.plot(cumulative_revenue_a['date'], cumulative_revenue_a['revenue'], label='A')\n",
        "plt.plot(cumulative_revenue_b['date'], cumulative_revenue_b['revenue'], label='B')\n",
        "plt.legend()\n",
        "plt.xlabel(\"date\")\n",
        "plt.ylabel(\"revenue\");"
      ]
    },
    {
      "cell_type": "markdown",
      "id": "efc5918c",
      "metadata": {
        "id": "efc5918c"
      },
      "source": [
        "#### Выводы\n",
        "Мы видим что группа \"B\" на графике принесла больше выручки чем контрольная группа, так же мы видим у группы \"B\"\n",
        "выраженный скачек 19.08, это скорее всего выбросы, будем проверять."
      ]
    },
    {
      "cell_type": "markdown",
      "id": "181c8fc2",
      "metadata": {
        "id": "181c8fc2"
      },
      "source": [
        "### Построим график кумулятивного среднего чека по группам"
      ]
    },
    {
      "cell_type": "code",
      "execution_count": null,
      "id": "d0556284",
      "metadata": {
        "code_folding": [
          1,
          3
        ],
        "id": "d0556284",
        "outputId": "0ee4b713-ae6d-4b8f-9453-a20024f8686d"
      },
      "outputs": [
        {
          "data": {
            "image/png": "[encoded data removed]",
            "text/plain": [
              "<Figure size 1080x360 with 1 Axes>"
            ]
          },
          "metadata": {
            "needs_background": "light"
          },
          "output_type": "display_data"
        }
      ],
      "source": [
        "plt.figure(figsize=(15, 5))\n",
        "plt.plot(cumulative_revenue_a['date'],\n",
        "         cumulative_revenue_a['revenue']/cumulative_revenue_a['orders'], label='A')\n",
        "plt.plot(cumulative_revenue_b['date'],\n",
        "         cumulative_revenue_b['revenue']/cumulative_revenue_b['orders'], label='B')\n",
        "plt.legend()\n",
        "plt.xlabel(\"date\")\n",
        "plt.ylabel(\"average check\");"
      ]
    },
    {
      "cell_type": "markdown",
      "id": "31d2ffff",
      "metadata": {
        "id": "31d2ffff"
      },
      "source": [
        "#### Выводы\n",
        "Мы видим что у группы \"B\" на графике средний чек выше чем у контрольная группа, так же мы видим у группы \"B\"\n",
        "выраженный скачек 19.08, это так же скорее всего выбросы."
      ]
    },
    {
      "cell_type": "markdown",
      "id": "48abdca6",
      "metadata": {
        "id": "48abdca6"
      },
      "source": [
        "### Построим график относительного изменения кумулятивного среднего чека группы B к группе A"
      ]
    },
    {
      "cell_type": "code",
      "execution_count": null,
      "id": "33c760dc",
      "metadata": {
        "id": "33c760dc",
        "outputId": "59fe68d8-d270-4356-9478-b91208202874"
      },
      "outputs": [
        {
          "data": {
            "image/png": "[encoded data removed]",
            "text/plain": [
              "<Figure size 1080x360 with 1 Axes>"
            ]
          },
          "metadata": {
            "needs_background": "light"
          },
          "output_type": "display_data"
        }
      ],
      "source": [
        "# собираем данные в одном датафрейме\n",
        "merged_cumulative_revenue = cumulative_revenue_a.merge(\n",
        "    cumulative_revenue_b, left_on='date', right_on='date', how='left', suffixes=['_a', '_b'])\n",
        "\n",
        "# cтроим отношение средних чеков\n",
        "plt.figure(figsize=(15, 5))\n",
        "plt.plot(merged_cumulative_revenue['date'],\n",
        "         (merged_cumulative_revenue['revenue_b']/merged_cumulative_revenue['orders_b']) /\n",
        "         (merged_cumulative_revenue['revenue_a']/merged_cumulative_revenue['orders_a'])-1)\n",
        "plt.axhline(y=0, color='black', linestyle='--')\n",
        "plt.xlabel(\"date\")\n",
        "plt.ylabel(\"average check\");"
      ]
    },
    {
      "cell_type": "markdown",
      "id": "5538a6e1",
      "metadata": {
        "id": "5538a6e1"
      },
      "source": [
        "#### Выводы\n",
        "Видим что средний чек группы \"В\" стабильно выше среднего чека контрольной группы. Но все так же видны выборсы."
      ]
    },
    {
      "cell_type": "markdown",
      "id": "8d20587c",
      "metadata": {
        "id": "8d20587c"
      },
      "source": [
        "### Построим график кумулятивной конверсии по группам"
      ]
    },
    {
      "cell_type": "code",
      "execution_count": null,
      "id": "9221ce7a",
      "metadata": {
        "id": "9221ce7a",
        "outputId": "a61250f5-24f4-48da-f5fe-c9088aaf4bc7"
      },
      "outputs": [
        {
          "data": {
            "text/plain": [
              "(18109.0, 18139.0, 0.02, 0.04)"
            ]
          },
          "execution_count": 18,
          "metadata": {},
          "output_type": "execute_result"
        },
        {
          "data": {
            "image/png": "[encoded data removed]",
            "text/plain": [
              "<Figure size 1080x360 with 1 Axes>"
            ]
          },
          "metadata": {
            "needs_background": "light"
          },
          "output_type": "display_data"
        }
      ],
      "source": [
        "# считаем кумулятивную конверсию\n",
        "cumulative_data['conversion'] = cumulative_data['orders']/cumulative_data['visitors']\n",
        "\n",
        "# отделяем данные по группе A\n",
        "cumulative_data_a = cumulative_data.query('group == \"A\"')\n",
        "\n",
        "# отделяем данные по группе B\n",
        "cumulative_data_b = cumulative_data.query('group == \"B\"')\n",
        "\n",
        "# строим графики\n",
        "plt.figure(figsize=(15, 5))\n",
        "plt.plot(cumulative_data_a['date'], cumulative_data_a['conversion'], label='A')\n",
        "plt.plot(cumulative_data_b['date'], cumulative_data_b['conversion'], label='B')\n",
        "plt.legend()\n",
        "plt.xlabel(\"date\")\n",
        "plt.ylabel(\"conversion\")\n",
        "\n",
        "# задаем масштаб осей\n",
        "plt.axis([cumulative_data['date'].min(), cumulative_data['date'].max(), 0.02, 0.04])"
      ]
    },
    {
      "cell_type": "markdown",
      "id": "fab06f83",
      "metadata": {
        "id": "fab06f83"
      },
      "source": [
        "#### Выводы\n",
        "Видем что у группы \"В\" конверсия значительно выше контрольной группы."
      ]
    },
    {
      "cell_type": "markdown",
      "id": "17c60c60",
      "metadata": {
        "id": "17c60c60"
      },
      "source": [
        "### Построим график относительного изменения кумулятивной конверсии группы B к группе A"
      ]
    },
    {
      "cell_type": "code",
      "execution_count": null,
      "id": "41ac809c",
      "metadata": {
        "code_folding": [
          0,
          5
        ],
        "id": "41ac809c",
        "outputId": "0c4295eb-c69e-4871-e7cf-4d258522f8c1"
      },
      "outputs": [
        {
          "data": {
            "text/plain": [
              "(18109.0, 18139.0, -0.3, 0.3)"
            ]
          },
          "execution_count": 19,
          "metadata": {},
          "output_type": "execute_result"
        },
        {
          "data": {
            "image/png": "[encoded data removed]",
            "text/plain": [
              "<Figure size 1080x360 with 1 Axes>"
            ]
          },
          "metadata": {
            "needs_background": "light"
          },
          "output_type": "display_data"
        }
      ],
      "source": [
        "merged_cumulative_conversions = cumulative_data_a[['date','conversion']].merge(\n",
        "    cumulative_data_b[['date','conversion']],\n",
        "    left_on='date', right_on='date', how='left', suffixes=['_a', '_b'])\n",
        "\n",
        "plt.figure(figsize=(15, 5))\n",
        "plt.plot(merged_cumulative_conversions['date'],\n",
        "         merged_cumulative_conversions['conversion_b'] / merged_cumulative_conversions['conversion_a'] - 1,\n",
        "         label=\"Относительный прирост конверсии группы B относительно группы A\")\n",
        "plt.legend()\n",
        "plt.xlabel(\"date\")\n",
        "plt.ylabel(\"conversion\")\n",
        "\n",
        "plt.axhline(y=0, color='black', linestyle='--')\n",
        "plt.axhline(y=0.10, color='grey', linestyle='--')\n",
        "plt.axis([cumulative_data['date'].min(), cumulative_data['date'].max(), -0.3, 0.3])"
      ]
    },
    {
      "cell_type": "markdown",
      "id": "599ce959",
      "metadata": {
        "id": "599ce959"
      },
      "source": [
        "#### Выводы\n",
        "Видим что группа \"В\" конверсируется лучше на 10%, чем контрольная группа"
      ]
    },
    {
      "cell_type": "markdown",
      "id": "41d8e35b",
      "metadata": {
        "id": "41d8e35b"
      },
      "source": [
        "### Построим точечный график количества заказов по пользователям"
      ]
    },
    {
      "cell_type": "code",
      "execution_count": null,
      "id": "c37afd24",
      "metadata": {
        "code_folding": [
          0
        ],
        "id": "c37afd24"
      },
      "outputs": [],
      "source": [
        "orders_by_users = (\n",
        "    orders.groupby('visitor_id', as_index=False)\n",
        "    .agg({'transaction_id': 'nunique'})\n",
        ")\n",
        "\n",
        "orders_by_users.columns = ['user_id', 'orders']"
      ]
    },
    {
      "cell_type": "code",
      "execution_count": null,
      "id": "b2c72da7",
      "metadata": {
        "id": "b2c72da7",
        "outputId": "276b79bc-8bfd-4829-806b-fa958fd2e52c"
      },
      "outputs": [
        {
          "data": {
            "text/plain": [
              "Text(0, 0.5, 'the number of orders')"
            ]
          },
          "execution_count": 21,
          "metadata": {},
          "output_type": "execute_result"
        },
        {
          "data": {
            "image/png": "[encoded data removed]",
            "text/plain": [
              "<Figure size 1080x360 with 1 Axes>"
            ]
          },
          "metadata": {
            "needs_background": "light"
          },
          "output_type": "display_data"
        }
      ],
      "source": [
        "x_values = pd.Series(range(0,len(orders_by_users)))\n",
        "\n",
        "plt.figure(figsize=(15, 5))\n",
        "plt.scatter(x_values, orders_by_users['orders'])\n",
        "plt.xlabel(\"number of buyers\")\n",
        "plt.ylabel(\"the number of orders\")"
      ]
    },
    {
      "cell_type": "markdown",
      "id": "e90681bd",
      "metadata": {
        "id": "e90681bd"
      },
      "source": [
        "#### Выводы\n",
        "На этом графике заменты выборсы, но не понятно что определить как грань по которой будем отсекать данные."
      ]
    },
    {
      "cell_type": "markdown",
      "id": "131c5deb",
      "metadata": {
        "id": "131c5deb"
      },
      "source": [
        "### Посчитаем 95-й и 99-й перцентили количества заказов на пользователя"
      ]
    },
    {
      "cell_type": "code",
      "execution_count": null,
      "id": "ddbbe747",
      "metadata": {
        "id": "ddbbe747",
        "outputId": "c0c09127-d29d-4143-f310-b87c8262ad90"
      },
      "outputs": [
        {
          "name": "stdout",
          "output_type": "stream",
          "text": [
            "[2. 4.]\n"
          ]
        }
      ],
      "source": [
        "print(np.percentile(orders_by_users['orders'], [95, 99]))"
      ]
    },
    {
      "cell_type": "markdown",
      "id": "94e84ccb",
      "metadata": {
        "id": "94e84ccb"
      },
      "source": [
        "#### Выводы\n",
        "Больше 2 заказов на тело - определим как выборсы"
      ]
    },
    {
      "cell_type": "markdown",
      "id": "79bb25dc",
      "metadata": {
        "id": "79bb25dc"
      },
      "source": [
        "### Построим точечный график стоимостей заказов"
      ]
    },
    {
      "cell_type": "code",
      "execution_count": null,
      "id": "35bfc40e",
      "metadata": {
        "id": "35bfc40e",
        "outputId": "328c365a-4d46-4da1-999b-b1e4e94dbdb1"
      },
      "outputs": [
        {
          "data": {
            "text/plain": [
              "Text(0, 0.5, 'order cost')"
            ]
          },
          "execution_count": 23,
          "metadata": {},
          "output_type": "execute_result"
        },
        {
          "data": {
            "image/png": "[encoded data removed]",
            "text/plain": [
              "<Figure size 1080x360 with 1 Axes>"
            ]
          },
          "metadata": {
            "needs_background": "light"
          },
          "output_type": "display_data"
        }
      ],
      "source": [
        "x_values = pd.Series(range(0,len(orders['revenue'])))\n",
        "\n",
        "plt.figure(figsize=(15, 5))\n",
        "plt.scatter(x_values, orders['revenue'])\n",
        "plt.xlabel(\"the number of orders\")\n",
        "plt.ylabel(\"order cost\")"
      ]
    },
    {
      "cell_type": "code",
      "execution_count": null,
      "id": "3fb2124f",
      "metadata": {
        "id": "3fb2124f",
        "outputId": "f04bbba8-1883-4a8c-a926-ea54835d41a3"
      },
      "outputs": [
        {
          "data": {
            "text/plain": [
              "(0.0, 120000.0)"
            ]
          },
          "execution_count": 24,
          "metadata": {},
          "output_type": "execute_result"
        },
        {
          "data": {
            "image/png": "[encoded data removed]",
            "text/plain": [
              "<Figure size 1080x360 with 1 Axes>"
            ]
          },
          "metadata": {
            "needs_background": "light"
          },
          "output_type": "display_data"
        }
      ],
      "source": [
        "plt.figure(figsize=(15, 5))\n",
        "plt.scatter(x_values, orders['revenue'])\n",
        "plt.xlabel(\"the number of orders\")\n",
        "plt.ylabel(\"order cost\")\n",
        "plt.ylim(bottom=0, top=120000)\n"
      ]
    },
    {
      "cell_type": "markdown",
      "id": "e2e2a9ed",
      "metadata": {
        "id": "e2e2a9ed"
      },
      "source": [
        "#### Выводы\n",
        "На этом графике заменты выборсы, но не понятно что определить как грань по которой будем отсекать данные.\n"
      ]
    },
    {
      "cell_type": "markdown",
      "id": "001a8792",
      "metadata": {
        "id": "001a8792"
      },
      "source": [
        "### Посчитаем 95-й и 99-й перцентили стоимости заказов"
      ]
    },
    {
      "cell_type": "code",
      "execution_count": null,
      "id": "b5ca6366",
      "metadata": {
        "id": "b5ca6366",
        "outputId": "e4c44e16-eb83-45ae-cee5-7271daec6f61"
      },
      "outputs": [
        {
          "name": "stdout",
          "output_type": "stream",
          "text": [
            "[28000.  58233.2]\n"
          ]
        }
      ],
      "source": [
        "print(np.percentile(orders['revenue'], [95, 99]))"
      ]
    },
    {
      "cell_type": "markdown",
      "id": "b90a0506",
      "metadata": {
        "id": "b90a0506"
      },
      "source": [
        "#### Выводы\n",
        "Больше 28 000 стоимость заказа - определим как выборсы"
      ]
    },
    {
      "cell_type": "markdown",
      "id": "68e606a6",
      "metadata": {
        "id": "68e606a6"
      },
      "source": [
        "### Подготовим данные к расчету статистической значимости\n"
      ]
    },
    {
      "cell_type": "code",
      "execution_count": null,
      "id": "076c32df",
      "metadata": {
        "code_folding": [
          3,
          14,
          22,
          32,
          41,
          47,
          54,
          62,
          68
        ],
        "id": "076c32df"
      },
      "outputs": [],
      "source": [
        "visitors_a_daily = visitors.query('group == \"A\"')[['date', 'visitors']]\n",
        "visitors_a_daily.columns = ['date', 'visitors_per_date_a']\n",
        "\n",
        "visitors_a_cummulative = visitors_a_daily.apply(\n",
        "    lambda x: visitors_a_daily[visitors_a_daily['date'] <= x['date']].agg(\n",
        "        {'date': 'max', 'visitors_per_date_a': 'sum'}\n",
        "    ),\n",
        "    axis=1,\n",
        ")\n",
        "visitors_a_cummulative.columns = ['date', 'visitors_cummulative_a']\n",
        "\n",
        "visitors_b_daily = visitors.query('group == \"B\"')[['date', 'visitors']]\n",
        "visitors_b_daily.columns = ['date', 'visitors_per_date_b']\n",
        "\n",
        "visitors_b_cummulative = visitors_b_daily.apply(\n",
        "    lambda x: visitors_b_daily[visitors_b_daily['date'] <= x['date']].agg(\n",
        "        {'date': 'max', 'visitors_per_date_b': 'sum'}\n",
        "    ),\n",
        "    axis=1,\n",
        ")\n",
        "visitors_b_cummulative.columns = ['date', 'visitors_cummulative_b']\n",
        "\n",
        "orders_a_daily = (\n",
        "    orders.query('group == \"A\"')[['date', 'transaction_id', 'visitor_id', 'revenue']]\n",
        "    .groupby('date', as_index=False)\n",
        "    .agg({'transaction_id': pd.Series.nunique, 'revenue': 'sum'})\n",
        ")\n",
        "\n",
        "\n",
        "orders_a_daily.columns = ['date', 'orders_per_date_a', 'revenue_per_date_a']\n",
        "\n",
        "\n",
        "orders_a_cummulative = orders_a_daily.apply(\n",
        "    lambda x: orders_a_daily[orders_a_daily['date'] <= x['date']].agg(\n",
        "        {'date': 'max',\n",
        "         'orders_per_date_a': 'sum',\n",
        "         'revenue_per_date_a': 'sum'}\n",
        "    ),\n",
        "    axis=1,\n",
        ").sort_values(by=['date'])\n",
        "\n",
        "orders_a_cummulative.columns = [\n",
        "    'date',\n",
        "    'orders_cummulative_a',\n",
        "    'revenue_cummulative_a'\n",
        "]\n",
        "\n",
        "orders_b_daily = (\n",
        "    orders.query('group == \"B\"')[['date', 'transaction_id', 'visitor_id', 'revenue']]\n",
        "    .groupby('date', as_index=False)\n",
        "    .agg({'transaction_id': pd.Series.nunique, 'revenue': 'sum'})\n",
        ")\n",
        "orders_b_daily.columns = ['date', 'orders_per_date_b', 'revenue_per_date_b']\n",
        "\n",
        "orders_b_cummulative = orders_b_daily.apply(\n",
        "    lambda x: orders_b_daily[orders_b_daily['date'] <= x['date']].agg(\n",
        "        {'date': 'max',\n",
        "         'orders_per_date_b': 'sum',\n",
        "         'revenue_per_date_b': 'sum'}\n",
        "    ),\n",
        "    axis=1,\n",
        ").sort_values(by=['date'])\n",
        "orders_b_cummulative.columns = [\n",
        "    'date',\n",
        "    'orders_cummulative_b',\n",
        "    'revenue_cummulative_b'\n",
        "]\n",
        "\n",
        "data = (\n",
        "    orders_a_daily.merge(\n",
        "        orders_b_daily, left_on='date', right_on='date', how='left'\n",
        "    )\n",
        "    .merge(orders_a_cummulative, left_on='date', right_on='date', how='left')\n",
        "    .merge(orders_b_cummulative, left_on='date', right_on='date', how='left')\n",
        "    .merge(visitors_a_daily, left_on='date', right_on='date', how='left')\n",
        "    .merge(visitors_b_daily, left_on='date', right_on='date', how='left')\n",
        "    .merge(visitors_a_cummulative, left_on='date', right_on='date', how='left')\n",
        "    .merge(visitors_b_cummulative, left_on='date', right_on='date', how='left')\n",
        ")"
      ]
    },
    {
      "cell_type": "markdown",
      "id": "815a80a0",
      "metadata": {
        "id": "815a80a0"
      },
      "source": [
        "### Посчитаем статистическую значимость различий в конверсии между группами по «сырым» данным"
      ]
    },
    {
      "cell_type": "markdown",
      "id": "4cbc6ed8",
      "metadata": {
        "id": "4cbc6ed8"
      },
      "source": [
        "Нулевая гиплотиза: статистически значимых различий в конверсии между группами нет <br>"
      ]
    },
    {
      "cell_type": "code",
      "execution_count": null,
      "id": "0b404529",
      "metadata": {
        "code_folding": [
          0,
          8,
          16,
          19
        ],
        "id": "0b404529",
        "outputId": "6e1fb8af-0372-48ff-8a3f-d148c83f32c2"
      },
      "outputs": [
        {
          "name": "stdout",
          "output_type": "stream",
          "text": [
            "p-value = 0.01679\n",
            "conversion = 0.14\n"
          ]
        }
      ],
      "source": [
        "orders_by_users_a = (\n",
        "    orders.query('group == \"A\"')\n",
        "    .groupby('visitor_id', as_index=False)\n",
        "    .agg({'transaction_id': pd.Series.nunique})\n",
        ")\n",
        "\n",
        "orders_by_users_a.columns = ['visitor_id', 'orders']\n",
        "\n",
        "orders_by_users_b = (\n",
        "    orders.query('group == \"B\"')\n",
        "    .groupby('visitor_id', as_index=False)\n",
        "    .agg({'transaction_id': pd.Series.nunique})\n",
        ")\n",
        "\n",
        "orders_by_users_b.columns = ['visitor_id', 'orders']\n",
        "\n",
        "sample_a = pd.concat([orders_by_users_a['orders'], pd.Series(0, index=np.arange(\n",
        "    data['visitors_per_date_a'].sum() - len(orders_by_users_a['orders'])), name='orders')],axis=0)\n",
        "\n",
        "sample_b = pd.concat([orders_by_users_b['orders'], pd.Series(0, index=np.arange(\n",
        "    data['visitors_per_date_b'].sum() - len(orders_by_users_b['orders'])), name='orders')],axis=0)\n",
        "\n",
        "\n",
        "print('p-value = {0:.5f}'.format(stats.mannwhitneyu(sample_a, sample_b)[1]))\n",
        "\n",
        "print('conversion = {0:.2}'.format(sample_b.mean() / sample_a.mean() - 1))\n"
      ]
    },
    {
      "cell_type": "markdown",
      "id": "8e597e36",
      "metadata": {
        "id": "8e597e36"
      },
      "source": [
        "#### Вывод:\n",
        "По «сырым» данным различия в конверсии групп A и B есть. <br>\n",
        "p-value = 0.017 меньше 0.05 Значит, нулевую гипотезу о том, что статистически значимых различий в конверсии между группами нет - отвергаем. <br>\n",
        "Относительный прирост группы B равен 13.8% — второе число в выводе."
      ]
    },
    {
      "cell_type": "markdown",
      "id": "28be8ac4",
      "metadata": {
        "id": "28be8ac4"
      },
      "source": [
        "### Посчитаем статистическую значимость различий в среднем чеке заказа между группами по «сырым» данным."
      ]
    },
    {
      "cell_type": "markdown",
      "id": "d85fe4f1",
      "metadata": {
        "id": "d85fe4f1"
      },
      "source": [
        "Нулевая гиплотиза: статистически значимых различий в среднем чеке между группами нет <br>"
      ]
    },
    {
      "cell_type": "code",
      "execution_count": null,
      "id": "c2af2a08",
      "metadata": {
        "code_folding": [],
        "id": "c2af2a08",
        "outputId": "be230dfc-2d9e-433a-d890-deb1b7938383"
      },
      "outputs": [
        {
          "name": "stdout",
          "output_type": "stream",
          "text": [
            "p-value = 0.72929\n",
            "conversion = 0.26\n"
          ]
        }
      ],
      "source": [
        "print('p-value = {0:.5f}'.format(stats.mannwhitneyu(\n",
        "    orders.query('group == \"A\"')['revenue'], orders.query('group == \"B\"')['revenue'])[1]))\n",
        "\n",
        "print('conversion = {0:.2}'.format(orders.query('group == \"B\"')['revenue'].mean() /\n",
        "                       orders.query('group == \"A\"')['revenue'].mean()-1))\n"
      ]
    },
    {
      "cell_type": "markdown",
      "id": "aaeb2ffe",
      "metadata": {
        "id": "aaeb2ffe"
      },
      "source": [
        "#### Вывод:\n",
        "P-value значительно больше 0.05. Значит, причин отвергать нулевую гипотезу и считать, что в среднем чеке есть различия, нет. <br>\n",
        "Однако средний чек группы B значительно выше среднего чека группы A."
      ]
    },
    {
      "cell_type": "markdown",
      "id": "9c351eab",
      "metadata": {
        "id": "9c351eab"
      },
      "source": [
        "### Отфильтруем данные"
      ]
    },
    {
      "cell_type": "code",
      "execution_count": null,
      "id": "372924b4",
      "metadata": {
        "code_folding": [
          0,
          8
        ],
        "id": "372924b4"
      },
      "outputs": [],
      "source": [
        "revenu_max = np.percentile(orders['revenue'], [95, 99])[0]\n",
        "\n",
        "users_with_many_orders = pd.concat(\n",
        "    [\n",
        "        orders_by_users_a.query('orders > 2')['visitor_id'],\n",
        "        orders_by_users_b.query('orders > 2')['visitor_id'],\n",
        "    ],\n",
        "    axis=0,\n",
        ")\n",
        "users_with_expensive_orders = orders.query('revenue > @revenu_max')['visitor_id']\n",
        "abnormal_users = (\n",
        "    pd.concat([users_with_many_orders, users_with_expensive_orders], axis=0)\n",
        "    .drop_duplicates()\n",
        "    .sort_values()\n",
        ")"
      ]
    },
    {
      "cell_type": "code",
      "execution_count": null,
      "id": "b115cda3",
      "metadata": {
        "code_folding": [
          0,
          16
        ],
        "id": "b115cda3"
      },
      "outputs": [],
      "source": [
        "sample_a_filtered = pd.concat(\n",
        "    [\n",
        "        orders_by_users_a[\n",
        "            np.logical_not(orders_by_users_a['visitor_id'].isin(abnormal_users))\n",
        "        ]['orders'],\n",
        "        pd.Series(\n",
        "            0,\n",
        "            index=np.arange(\n",
        "                data['visitors_per_date_a'].sum() - len(orders_by_users_a['orders'])\n",
        "            ),\n",
        "            name='orders',\n",
        "        ),\n",
        "    ],\n",
        "    axis=0,\n",
        ")\n",
        "\n",
        "sample_b_filtered = pd.concat(\n",
        "    [\n",
        "        orders_by_users_b[\n",
        "            np.logical_not(orders_by_users_b['visitor_id'].isin(abnormal_users))\n",
        "        ]['orders'],\n",
        "        pd.Series(\n",
        "            0,\n",
        "            index=np.arange(\n",
        "                data['visitors_per_date_b'].sum() - len(orders_by_users_b['orders'])\n",
        "            ),\n",
        "            name='orders',\n",
        "        ),\n",
        "    ],\n",
        "    axis=0,\n",
        ")"
      ]
    },
    {
      "cell_type": "markdown",
      "id": "f038e8fd",
      "metadata": {
        "id": "f038e8fd"
      },
      "source": [
        "### Посчитаем статистическую значимость различий в конверсии между группами по «очищенным» данным."
      ]
    },
    {
      "cell_type": "markdown",
      "id": "128dfdc6",
      "metadata": {
        "id": "128dfdc6"
      },
      "source": [
        "Нулевая гиплотиза: статистически значимых различий в конверсии между группами нет <br>"
      ]
    },
    {
      "cell_type": "code",
      "execution_count": null,
      "id": "a3121562",
      "metadata": {
        "code_folding": [
          0,
          3
        ],
        "id": "a3121562",
        "outputId": "4c09a3bb-15c4-4e94-d593-8fdaed3587ff"
      },
      "outputs": [
        {
          "name": "stdout",
          "output_type": "stream",
          "text": [
            "p-value = 0.01304\n",
            "conversion = 0.17\n"
          ]
        }
      ],
      "source": [
        "print('p-value = {0:.5f}'.format(stats.mannwhitneyu(sample_a_filtered,\n",
        "                                          sample_b_filtered)[1]))\n",
        "\n",
        "print('conversion = {0:.2}'.format(sample_b_filtered.mean() /\n",
        "                       sample_a_filtered.mean()-1))"
      ]
    },
    {
      "cell_type": "markdown",
      "id": "1124d4ab",
      "metadata": {
        "id": "1124d4ab"
      },
      "source": [
        "#### Вывод:\n",
        "По «очищенным» данным так же сохранились различия конверсии групп A и B. <br>\n",
        "p-value = 0.013, еще меньше чем в \"сырых\" данных. Значит, нулевую гипотезу о том, что статистически значимых различий в конверсии между группами нет - так же отвергаем. <br>\n",
        "Относительный прирост группы B усилился и равен 17.3%"
      ]
    },
    {
      "cell_type": "markdown",
      "id": "07628874",
      "metadata": {
        "id": "07628874"
      },
      "source": [
        "### Посчитаем статистическую значимость различий в среднем чеке заказа между группами по «очищенным» данным."
      ]
    },
    {
      "cell_type": "markdown",
      "id": "1b237a9f",
      "metadata": {
        "id": "1b237a9f"
      },
      "source": [
        "Нулевая гиплотиза: статистически значимых различий в среднем чеке между группами нет <br>"
      ]
    },
    {
      "cell_type": "code",
      "execution_count": null,
      "id": "010fdaa1",
      "metadata": {
        "code_folding": [
          0,
          19
        ],
        "id": "010fdaa1",
        "outputId": "9699fe1a-7be1-4642-d26f-7f721943226c"
      },
      "outputs": [
        {
          "name": "stdout",
          "output_type": "stream",
          "text": [
            "p-value = 0.73848\n",
            "conversion = -0.02\n"
          ]
        }
      ],
      "source": [
        "print(\n",
        "    'p-value = {0:.5f}'.format(\n",
        "        stats.mannwhitneyu(\n",
        "            orders[\n",
        "                np.logical_and(\n",
        "                    orders['group'] == 'A',\n",
        "                    np.logical_not(orders['visitor_id'].isin(abnormal_users)),\n",
        "                )\n",
        "            ]['revenue'],\n",
        "            orders[\n",
        "                np.logical_and(\n",
        "                    orders['group'] == 'B',\n",
        "                    np.logical_not(orders['visitor_id'].isin(abnormal_users)),\n",
        "                )\n",
        "            ]['revenue'],\n",
        "        )[1]\n",
        "    )\n",
        ")\n",
        "\n",
        "print(\n",
        "    'conversion = {0:.2}'.format(\n",
        "        orders[\n",
        "            np.logical_and(\n",
        "                orders['group'] == 'B',\n",
        "                np.logical_not(orders['visitor_id'].isin(abnormal_users)),\n",
        "            )\n",
        "        ]['revenue'].mean()\n",
        "        / orders[\n",
        "            np.logical_and(\n",
        "                orders['group'] == 'A',\n",
        "                np.logical_not(orders['visitor_id'].isin(abnormal_users)),\n",
        "            )\n",
        "        ]['revenue'].mean()\n",
        "        - 1\n",
        "    )\n",
        ")"
      ]
    },
    {
      "cell_type": "markdown",
      "id": "be9968eb",
      "metadata": {
        "id": "be9968eb"
      },
      "source": [
        "#### Вывод:\n",
        "P-value по прежнему значительно больше 0.05. Значит, причин отвергать нулевую гипотезу и считать, что в среднем чеке есть различия, так же - нет. <br>\n",
        "Однако средний чек группы B значительно снизился и стал даже ниже среднего чека группы A."
      ]
    },
    {
      "cell_type": "markdown",
      "id": "673ff243",
      "metadata": {
        "id": "673ff243"
      },
      "source": [
        "## Вывод\n",
        "\n",
        "Гипотиза под номером 7, 2, 0, 6 имеют потенциал на дальнейшее исследование. <br>\n",
        "A/B тест завершаем, есть положительны результат в конверсии группы B. <br>\n",
        "Статистической значимости среднего чека тест не показал. <br>"
      ]
    }
  ],
  "metadata": {
    "ExecuteTimeLog": [
      {
        "duration": 1181,
        "start_time": "2022-05-24T09:29:12.630Z"
      },
      {
        "duration": 184,
        "start_time": "2022-05-24T09:29:13.813Z"
      },
      {
        "duration": 27,
        "start_time": "2022-05-24T09:29:13.998Z"
      },
      {
        "duration": 4,
        "start_time": "2022-05-24T09:29:14.026Z"
      },
      {
        "duration": 13,
        "start_time": "2022-05-24T09:29:14.032Z"
      },
      {
        "duration": 7,
        "start_time": "2022-05-24T09:29:14.047Z"
      },
      {
        "duration": 14,
        "start_time": "2022-05-24T09:29:14.055Z"
      },
      {
        "duration": 9,
        "start_time": "2022-05-24T09:29:14.070Z"
      },
      {
        "duration": 264,
        "start_time": "2022-05-24T09:29:14.080Z"
      },
      {
        "duration": 286,
        "start_time": "2022-05-24T09:29:14.345Z"
      },
      {
        "duration": 231,
        "start_time": "2022-05-24T09:29:14.632Z"
      },
      {
        "duration": 319,
        "start_time": "2022-05-24T09:29:14.864Z"
      },
      {
        "duration": 182,
        "start_time": "2022-05-24T09:29:15.184Z"
      },
      {
        "duration": 276,
        "start_time": "2022-05-24T09:29:15.368Z"
      },
      {
        "duration": 6,
        "start_time": "2022-05-24T09:29:15.646Z"
      },
      {
        "duration": 130,
        "start_time": "2022-05-24T09:29:15.653Z"
      },
      {
        "duration": 4,
        "start_time": "2022-05-24T09:29:15.784Z"
      },
      {
        "duration": 143,
        "start_time": "2022-05-24T09:29:15.789Z"
      },
      {
        "duration": 4,
        "start_time": "2022-05-24T09:29:15.933Z"
      },
      {
        "duration": 204,
        "start_time": "2022-05-24T09:29:15.938Z"
      },
      {
        "duration": 143,
        "start_time": "2022-05-24T09:29:16.143Z"
      },
      {
        "duration": 11,
        "start_time": "2022-05-24T09:29:16.287Z"
      },
      {
        "duration": 10,
        "start_time": "2022-05-24T09:29:16.300Z"
      },
      {
        "duration": 14,
        "start_time": "2022-05-24T09:29:16.311Z"
      },
      {
        "duration": 34,
        "start_time": "2022-05-24T09:29:16.327Z"
      },
      {
        "duration": 11,
        "start_time": "2022-05-24T09:29:16.362Z"
      },
      {
        "duration": 93,
        "start_time": "2022-05-24T09:31:06.633Z"
      },
      {
        "duration": 9,
        "start_time": "2022-05-24T09:31:18.833Z"
      },
      {
        "duration": 4,
        "start_time": "2022-05-24T09:31:22.133Z"
      },
      {
        "duration": 4,
        "start_time": "2022-05-24T09:32:02.734Z"
      },
      {
        "duration": 520,
        "start_time": "2022-05-24T09:32:45.513Z"
      },
      {
        "duration": 6,
        "start_time": "2022-05-24T09:32:54.955Z"
      },
      {
        "duration": 4,
        "start_time": "2022-05-24T09:33:07.216Z"
      },
      {
        "duration": 4,
        "start_time": "2022-05-24T09:34:03.573Z"
      },
      {
        "duration": 4,
        "start_time": "2022-05-24T09:34:11.461Z"
      },
      {
        "duration": 4,
        "start_time": "2022-05-24T09:35:04.001Z"
      },
      {
        "duration": 5,
        "start_time": "2022-05-24T09:35:22.161Z"
      },
      {
        "duration": 5,
        "start_time": "2022-05-24T09:36:18.882Z"
      },
      {
        "duration": 9,
        "start_time": "2022-05-24T09:37:07.951Z"
      },
      {
        "duration": 7,
        "start_time": "2022-05-24T09:37:42.053Z"
      },
      {
        "duration": 9,
        "start_time": "2022-05-24T09:37:46.453Z"
      },
      {
        "duration": 8,
        "start_time": "2022-05-24T09:37:51.792Z"
      },
      {
        "duration": 54,
        "start_time": "2022-05-24T09:38:02.752Z"
      },
      {
        "duration": 9,
        "start_time": "2022-05-24T09:38:09.329Z"
      },
      {
        "duration": 8,
        "start_time": "2022-05-24T09:39:50.809Z"
      },
      {
        "duration": 4,
        "start_time": "2022-05-24T09:40:24.502Z"
      },
      {
        "duration": 12,
        "start_time": "2022-05-24T09:40:52.603Z"
      },
      {
        "duration": 69,
        "start_time": "2022-05-24T09:41:58.383Z"
      },
      {
        "duration": 8,
        "start_time": "2022-05-24T09:42:05.203Z"
      },
      {
        "duration": 10,
        "start_time": "2022-05-24T09:42:13.963Z"
      },
      {
        "duration": 944,
        "start_time": "2022-05-24T10:27:06.490Z"
      },
      {
        "duration": 71,
        "start_time": "2022-05-24T10:27:07.436Z"
      },
      {
        "duration": 26,
        "start_time": "2022-05-24T10:27:07.508Z"
      },
      {
        "duration": 12,
        "start_time": "2022-05-24T10:27:07.535Z"
      },
      {
        "duration": 32,
        "start_time": "2022-05-24T10:27:07.548Z"
      },
      {
        "duration": 12,
        "start_time": "2022-05-24T10:27:07.581Z"
      },
      {
        "duration": 15,
        "start_time": "2022-05-24T10:27:07.595Z"
      },
      {
        "duration": 7,
        "start_time": "2022-05-24T10:27:07.611Z"
      },
      {
        "duration": 8,
        "start_time": "2022-05-24T10:27:07.619Z"
      },
      {
        "duration": 9,
        "start_time": "2022-05-24T10:27:07.629Z"
      },
      {
        "duration": 9,
        "start_time": "2022-05-24T10:27:07.639Z"
      },
      {
        "duration": 299,
        "start_time": "2022-05-24T10:27:07.649Z"
      },
      {
        "duration": 317,
        "start_time": "2022-05-24T10:27:07.950Z"
      },
      {
        "duration": 240,
        "start_time": "2022-05-24T10:27:08.268Z"
      },
      {
        "duration": 244,
        "start_time": "2022-05-24T10:27:08.510Z"
      },
      {
        "duration": 178,
        "start_time": "2022-05-24T10:27:08.760Z"
      },
      {
        "duration": 295,
        "start_time": "2022-05-24T10:27:08.940Z"
      },
      {
        "duration": 6,
        "start_time": "2022-05-24T10:27:09.237Z"
      },
      {
        "duration": 126,
        "start_time": "2022-05-24T10:27:09.244Z"
      },
      {
        "duration": 3,
        "start_time": "2022-05-24T10:27:09.371Z"
      },
      {
        "duration": 138,
        "start_time": "2022-05-24T10:27:09.376Z"
      },
      {
        "duration": 4,
        "start_time": "2022-05-24T10:27:09.515Z"
      },
      {
        "duration": 206,
        "start_time": "2022-05-24T10:27:09.520Z"
      },
      {
        "duration": 155,
        "start_time": "2022-05-24T10:27:09.727Z"
      },
      {
        "duration": 12,
        "start_time": "2022-05-24T10:27:09.884Z"
      },
      {
        "duration": 10,
        "start_time": "2022-05-24T10:27:09.897Z"
      },
      {
        "duration": 14,
        "start_time": "2022-05-24T10:27:09.909Z"
      },
      {
        "duration": 36,
        "start_time": "2022-05-24T10:27:09.925Z"
      },
      {
        "duration": 11,
        "start_time": "2022-05-24T10:27:09.963Z"
      },
      {
        "duration": 778,
        "start_time": "2022-05-24T10:28:39.220Z"
      },
      {
        "duration": 139,
        "start_time": "2022-05-24T10:28:54.884Z"
      },
      {
        "duration": 5,
        "start_time": "2022-05-24T10:32:15.059Z"
      },
      {
        "duration": 4,
        "start_time": "2022-05-24T10:32:26.419Z"
      },
      {
        "duration": 208,
        "start_time": "2022-05-24T10:33:19.177Z"
      },
      {
        "duration": 175,
        "start_time": "2022-05-24T10:33:29.439Z"
      },
      {
        "duration": 179,
        "start_time": "2022-05-24T10:33:36.184Z"
      },
      {
        "duration": 164,
        "start_time": "2022-05-24T10:34:29.139Z"
      },
      {
        "duration": 252,
        "start_time": "2022-05-24T10:34:50.618Z"
      },
      {
        "duration": 249,
        "start_time": "2022-05-24T10:35:18.880Z"
      },
      {
        "duration": 299,
        "start_time": "2022-05-24T10:35:36.939Z"
      },
      {
        "duration": 329,
        "start_time": "2022-05-24T10:35:52.426Z"
      },
      {
        "duration": 156,
        "start_time": "2022-05-24T10:37:57.237Z"
      },
      {
        "duration": 155,
        "start_time": "2022-05-24T10:38:55.678Z"
      },
      {
        "duration": 10,
        "start_time": "2022-05-24T10:39:36.638Z"
      },
      {
        "duration": 151,
        "start_time": "2022-05-24T10:39:50.278Z"
      },
      {
        "duration": 164,
        "start_time": "2022-05-24T10:39:59.537Z"
      },
      {
        "duration": 162,
        "start_time": "2022-05-24T10:40:04.357Z"
      },
      {
        "duration": 163,
        "start_time": "2022-05-24T10:40:36.040Z"
      },
      {
        "duration": 172,
        "start_time": "2022-05-24T10:40:50.537Z"
      },
      {
        "duration": 170,
        "start_time": "2022-05-24T10:41:02.742Z"
      },
      {
        "duration": 162,
        "start_time": "2022-05-24T10:41:14.837Z"
      },
      {
        "duration": 176,
        "start_time": "2022-05-24T10:43:24.727Z"
      },
      {
        "duration": 174,
        "start_time": "2022-05-24T10:43:51.867Z"
      },
      {
        "duration": 175,
        "start_time": "2022-05-24T10:44:10.896Z"
      },
      {
        "duration": 167,
        "start_time": "2022-05-24T10:44:30.237Z"
      },
      {
        "duration": 199,
        "start_time": "2022-05-24T10:44:45.516Z"
      },
      {
        "duration": 139,
        "start_time": "2022-05-24T10:44:58.137Z"
      },
      {
        "duration": 14,
        "start_time": "2022-05-24T10:45:56.336Z"
      },
      {
        "duration": 144,
        "start_time": "2022-05-24T10:46:11.956Z"
      },
      {
        "duration": 26,
        "start_time": "2022-05-24T10:48:59.097Z"
      },
      {
        "duration": 18,
        "start_time": "2022-05-24T10:49:17.356Z"
      },
      {
        "duration": 19,
        "start_time": "2022-05-24T10:49:39.983Z"
      },
      {
        "duration": 40,
        "start_time": "2022-05-24T10:50:15.956Z"
      },
      {
        "duration": 521,
        "start_time": "2022-05-24T10:50:19.462Z"
      },
      {
        "duration": 16,
        "start_time": "2022-05-24T10:50:31.278Z"
      },
      {
        "duration": 12,
        "start_time": "2022-05-24T10:50:45.701Z"
      },
      {
        "duration": 30,
        "start_time": "2022-05-24T10:51:02.040Z"
      },
      {
        "duration": 11,
        "start_time": "2022-05-24T10:51:06.197Z"
      },
      {
        "duration": 10,
        "start_time": "2022-05-24T10:51:44.616Z"
      },
      {
        "duration": 8,
        "start_time": "2022-05-24T10:51:55.586Z"
      },
      {
        "duration": 26,
        "start_time": "2022-05-24T10:51:57.016Z"
      },
      {
        "duration": 30,
        "start_time": "2022-05-24T10:52:28.778Z"
      },
      {
        "duration": 12,
        "start_time": "2022-05-24T10:53:38.806Z"
      },
      {
        "duration": 993,
        "start_time": "2022-05-24T10:55:04.953Z"
      },
      {
        "duration": 73,
        "start_time": "2022-05-24T10:55:05.948Z"
      },
      {
        "duration": 26,
        "start_time": "2022-05-24T10:55:06.023Z"
      },
      {
        "duration": 12,
        "start_time": "2022-05-24T10:55:06.051Z"
      },
      {
        "duration": 23,
        "start_time": "2022-05-24T10:55:06.066Z"
      },
      {
        "duration": 45,
        "start_time": "2022-05-24T10:55:06.091Z"
      },
      {
        "duration": 14,
        "start_time": "2022-05-24T10:55:06.137Z"
      },
      {
        "duration": 15,
        "start_time": "2022-05-24T10:55:06.152Z"
      },
      {
        "duration": 25,
        "start_time": "2022-05-24T10:55:06.170Z"
      },
      {
        "duration": 13,
        "start_time": "2022-05-24T10:55:06.197Z"
      },
      {
        "duration": 10,
        "start_time": "2022-05-24T10:55:06.211Z"
      },
      {
        "duration": 184,
        "start_time": "2022-05-24T10:55:06.223Z"
      },
      {
        "duration": 303,
        "start_time": "2022-05-24T10:55:06.408Z"
      },
      {
        "duration": 4,
        "start_time": "2022-05-24T10:55:06.712Z"
      },
      {
        "duration": 398,
        "start_time": "2022-05-24T10:55:06.717Z"
      },
      {
        "duration": 219,
        "start_time": "2022-05-24T10:55:07.116Z"
      },
      {
        "duration": 331,
        "start_time": "2022-05-24T10:55:07.337Z"
      },
      {
        "duration": 228,
        "start_time": "2022-05-24T10:55:07.670Z"
      },
      {
        "duration": 319,
        "start_time": "2022-05-24T10:55:07.901Z"
      },
      {
        "duration": 6,
        "start_time": "2022-05-24T10:55:08.222Z"
      },
      {
        "duration": 141,
        "start_time": "2022-05-24T10:55:08.229Z"
      },
      {
        "duration": 6,
        "start_time": "2022-05-24T10:55:08.372Z"
      },
      {
        "duration": 160,
        "start_time": "2022-05-24T10:55:08.379Z"
      },
      {
        "duration": 157,
        "start_time": "2022-05-24T10:55:08.541Z"
      },
      {
        "duration": 4,
        "start_time": "2022-05-24T10:55:08.699Z"
      },
      {
        "duration": 230,
        "start_time": "2022-05-24T10:55:08.705Z"
      },
      {
        "duration": 158,
        "start_time": "2022-05-24T10:55:08.936Z"
      },
      {
        "duration": 12,
        "start_time": "2022-05-24T10:55:09.097Z"
      },
      {
        "duration": 10,
        "start_time": "2022-05-24T10:55:09.110Z"
      },
      {
        "duration": 9,
        "start_time": "2022-05-24T10:55:09.121Z"
      },
      {
        "duration": 48,
        "start_time": "2022-05-24T10:55:09.131Z"
      },
      {
        "duration": 14,
        "start_time": "2022-05-24T10:55:09.181Z"
      }
    ],
    "kernelspec": {
      "display_name": "Python 3 (ipykernel)",
      "language": "python",
      "name": "python3"
    },
    "language_info": {
      "codemirror_mode": {
        "name": "ipython",
        "version": 3
      },
      "file_extension": ".py",
      "mimetype": "text/x-python",
      "name": "python",
      "nbconvert_exporter": "python",
      "pygments_lexer": "ipython3",
      "version": "3.9.5"
    },
    "toc": {
      "base_numbering": 1,
      "nav_menu": {},
      "number_sections": false,
      "sideBar": true,
      "skip_h1_title": false,
      "title_cell": "Table of Contents",
      "title_sidebar": "Contents",
      "toc_cell": false,
      "toc_position": {},
      "toc_section_display": true,
      "toc_window_display": false
    },
    "colab": {
      "provenance": []
    }
  },
  "nbformat": 4,
  "nbformat_minor": 5
}
