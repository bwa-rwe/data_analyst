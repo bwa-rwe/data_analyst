{
  "cells": [
    {
      "cell_type": "markdown",
      "metadata": {
        "toc": true,
        "id": "J2j5e9ZQa_LW"
      },
      "source": [
        "<h1>Содержание<span class=\"tocSkip\"></span></h1>\n",
        "<div class=\"toc\"><ul class=\"toc-item\"><li><span><a href=\"#Изучение-данных-из-файла\" data-toc-modified-id=\"Изучение-данных-из-файла-1\"><span class=\"toc-item-num\">1&nbsp;&nbsp;</span>Изучение данных из файла</a></span><ul class=\"toc-item\"><li><span><a href=\"#Вывод\" data-toc-modified-id=\"Вывод-1.1\"><span class=\"toc-item-num\">1.1&nbsp;&nbsp;</span>Вывод</a></span></li></ul></li><li><span><a href=\"#Предобработка-данных\" data-toc-modified-id=\"Предобработка-данных-2\"><span class=\"toc-item-num\">2&nbsp;&nbsp;</span>Предобработка данных</a></span></li><li><span><a href=\"#Расчёты-и-добавление-результатов-в-таблицу\" data-toc-modified-id=\"Расчёты-и-добавление-результатов-в-таблицу-3\"><span class=\"toc-item-num\">3&nbsp;&nbsp;</span>Расчёты и добавление результатов в таблицу</a></span></li><li><span><a href=\"#Исследовавание-парметров\" data-toc-modified-id=\"Исследовавание-парметров-4\"><span class=\"toc-item-num\">4&nbsp;&nbsp;</span>Исследовавание парметров</a></span></li><li><span><a href=\"#Выбросы-и-редкие-значения\" data-toc-modified-id=\"Выбросы-и-редкие-значения-5\"><span class=\"toc-item-num\">5&nbsp;&nbsp;</span>Выбросы и редкие значения</a></span><ul class=\"toc-item\"><li><span><a href=\"#Вывод-по-имеющимся-данным:\" data-toc-modified-id=\"Вывод-по-имеющимся-данным:-5.1\"><span class=\"toc-item-num\">5.1&nbsp;&nbsp;</span>Вывод по имеющимся данным:</a></span></li></ul></li><li><span><a href=\"#Исследовавание-времени-продажи\" data-toc-modified-id=\"Исследовавание-времени-продажи-6\"><span class=\"toc-item-num\">6&nbsp;&nbsp;</span>Исследовавание времени продажи</a></span></li><li><span><a href=\"#Влияние-факторов-на-стоимость-квартиры\" data-toc-modified-id=\"Влияние-факторов-на-стоимость-квартиры-7\"><span class=\"toc-item-num\">7&nbsp;&nbsp;</span>Влияние факторов на стоимость квартиры</a></span></li><li><span><a href=\"#Топ-10-населённых-пунктов-с-наибольшим-числом-объявлений\" data-toc-modified-id=\"Топ-10-населённых-пунктов-с-наибольшим-числом-объявлений-8\"><span class=\"toc-item-num\">8&nbsp;&nbsp;</span>Топ-10 населённых пунктов с наибольшим числом объявлений</a></span></li><li><span><a href=\"#Определение-центра-Санкт-Петербурга\" data-toc-modified-id=\"Определение-центра-Санкт-Петербурга-9\"><span class=\"toc-item-num\">9&nbsp;&nbsp;</span>Определение центра Санкт-Петербурга</a></span></li><li><span><a href=\"#Анализ-квартир-в-центре\" data-toc-modified-id=\"Анализ-квартир-в-центре-10\"><span class=\"toc-item-num\">10&nbsp;&nbsp;</span>Анализ квартир в центре</a></span></li><li><span><a href=\"#Общий-вывод\" data-toc-modified-id=\"Общий-вывод-11\"><span class=\"toc-item-num\">11&nbsp;&nbsp;</span>Общий вывод</a></span></li><li><span><a href=\"#Чек-лист-готовности-проекта\" data-toc-modified-id=\"Чек-лист-готовности-проекта-12\"><span class=\"toc-item-num\">12&nbsp;&nbsp;</span>Чек-лист готовности проекта</a></span></li></ul></div>"
      ]
    },
    {
      "cell_type": "markdown",
      "metadata": {
        "id": "cAqIU3ULa_LX"
      },
      "source": [
        "# Исследование объявлений о продаже квартир\n",
        "\n",
        "В нашем распоряжении данные сервиса Яндекc Недвижимость — архив объявлений о продаже квартир в Санкт-Петербурге и соседних населённых пунктах за несколько лет. Нужно научиться определять рыночную стоимость объектов недвижимости. Наша задача — установить параметры. Это позволит построить автоматизированную систему: она отследит аномалии и мошенническую деятельность.\n",
        "\n",
        "По каждой квартире на продажу доступны два вида данных. Первые вписаны пользователем, вторые получены автоматически на основе картографических данных. Например, расстояние до центра, аэропорта, ближайшего парка и водоёма.\n",
        "\n"
      ]
    },
    {
      "cell_type": "markdown",
      "metadata": {
        "id": "6YUC1nCaa_LY"
      },
      "source": [
        "## Изучение данных из файла"
      ]
    },
    {
      "cell_type": "code",
      "execution_count": null,
      "metadata": {
        "id": "CN82J9h8a_LY"
      },
      "outputs": [],
      "source": [
        "import pandas as pd\n",
        "import seaborn as sns\n",
        "\n",
        "df = pd.read_csv('/datasets/real_estate_data.csv', sep='\\t')"
      ]
    },
    {
      "cell_type": "code",
      "execution_count": null,
      "metadata": {
        "id": "dagurbHMa_LZ",
        "outputId": "4a9b974b-1a03-421a-ac52-d17a3bd4d2ea"
      },
      "outputs": [
        {
          "name": "stdout",
          "output_type": "stream",
          "text": [
            "<class 'pandas.core.frame.DataFrame'>\n",
            "RangeIndex: 23699 entries, 0 to 23698\n",
            "Data columns (total 22 columns):\n",
            " #   Column                Non-Null Count  Dtype  \n",
            "---  ------                --------------  -----  \n",
            " 0   total_images          23699 non-null  int64  \n",
            " 1   last_price            23699 non-null  float64\n",
            " 2   total_area            23699 non-null  float64\n",
            " 3   first_day_exposition  23699 non-null  object \n",
            " 4   rooms                 23699 non-null  int64  \n",
            " 5   ceiling_height        14504 non-null  float64\n",
            " 6   floors_total          23613 non-null  float64\n",
            " 7   living_area           21796 non-null  float64\n",
            " 8   floor                 23699 non-null  int64  \n",
            " 9   is_apartment          2775 non-null   object \n",
            " 10  studio                23699 non-null  bool   \n",
            " 11  open_plan             23699 non-null  bool   \n",
            " 12  kitchen_area          21421 non-null  float64\n",
            " 13  balcony               12180 non-null  float64\n",
            " 14  locality_name         23650 non-null  object \n",
            " 15  airports_nearest      18157 non-null  float64\n",
            " 16  cityCenters_nearest   18180 non-null  float64\n",
            " 17  parks_around3000      18181 non-null  float64\n",
            " 18  parks_nearest         8079 non-null   float64\n",
            " 19  ponds_around3000      18181 non-null  float64\n",
            " 20  ponds_nearest         9110 non-null   float64\n",
            " 21  days_exposition       20518 non-null  float64\n",
            "dtypes: bool(2), float64(14), int64(3), object(3)\n",
            "memory usage: 3.7+ MB\n"
          ]
        }
      ],
      "source": [
        "df.info()"
      ]
    },
    {
      "cell_type": "markdown",
      "metadata": {
        "id": "srpAqPoga_La"
      },
      "source": [
        "### Вывод"
      ]
    },
    {
      "cell_type": "markdown",
      "metadata": {
        "id": "SLvmJ68Ga_La"
      },
      "source": [
        "1. Проблема со столбцом first_day_exposition - не в формате дататайм.\n",
        "3. Проблема со столбцом floors_total - не в формате int и пропуски, логичной замены нет.\n",
        "5. Пропущены значения в столбце is_apartment логичная замена - false.\n",
        "6. Пропущены значения в столбцах: kitchen_area, living_area, ceiling_height, airports_nearest, parks_nearest, ponds_nearest, parks_around3000, ponds_around3000, days_exposition. Логичной замены пропущенным значениям нет.\n",
        "7. Пропущены значения в столбце balcony логичная замена - 0.\n",
        "8. Пропущены значения в столбце locality_name, критично - удалить строки.\n",
        "9. Проблема со столбцом cityCenters_nearest, не в змеином регистре, пропущены значения. Логичной замены нет."
      ]
    },
    {
      "cell_type": "markdown",
      "metadata": {
        "id": "R-h0t77Da_Lc"
      },
      "source": [
        "## Предобработка данных"
      ]
    },
    {
      "cell_type": "code",
      "execution_count": null,
      "metadata": {
        "scrolled": true,
        "id": "3SxouSPHa_Ld"
      },
      "outputs": [],
      "source": [
        "df = df.dropna(subset=['locality_name']).reset_index(drop=True)\n",
        "df = df.rename(columns={'cityCenters_nearest': 'city_centers_nearest'})\n",
        "\n",
        "df['first_day_exposition'] = pd.to_datetime(df['first_day_exposition'], format='%Y.%m.%d %H:%M:%S')\n",
        "\n",
        "df['balcony'] = df['balcony'].fillna(0)\n",
        "df['is_apartment'] = df['is_apartment'].fillna(False)\n",
        "df['floors_total'] = df['floors_total'].fillna(0).astype('int')\n",
        "df['days_exposition'] = df['days_exposition'].fillna(0).astype(int)"
      ]
    },
    {
      "cell_type": "markdown",
      "metadata": {
        "id": "i9FM444ea_Ld"
      },
      "source": [
        "## Расчёты и добавление результатов в таблицу"
      ]
    },
    {
      "cell_type": "code",
      "execution_count": null,
      "metadata": {
        "id": "Rci54qIwa_Le"
      },
      "outputs": [],
      "source": [
        "# Цена за 1 квадрат\n",
        "df['price_meter'] = df['last_price'] / df['total_area']\n",
        "# Соотношение жилой площади к общей\n",
        "df['ratio_living'] = df['living_area'] / df['total_area']\n",
        "# Соотношение кухни к общей площади\n",
        "df['ratio_kitchen'] = df['kitchen_area'] / df['total_area']\n",
        "\n",
        "# День недели, месяц, год публикации\n",
        "df['publication_day_week'] = df['first_day_exposition'].dt.weekday\n",
        "df['publication_month'] = df['first_day_exposition'].dt.month\n",
        "df['publication_year'] = pd.DatetimeIndex(df['first_day_exposition']).year\n",
        "\n",
        "# Распределение по этажам\n",
        "df['floor_distribution'] = df.apply(\n",
        "    lambda row:'Первый' if row['floor'] == 1 else\n",
        "    ('Последний' if row['floor'] == row['floors_total'] else 'Другой'),\n",
        "    axis=1)\n"
      ]
    },
    {
      "cell_type": "markdown",
      "metadata": {
        "id": "iKkoqLSxa_Le"
      },
      "source": [
        "## Исследовавание парметров"
      ]
    },
    {
      "cell_type": "code",
      "execution_count": null,
      "metadata": {
        "id": "hQLYKg15a_Le",
        "outputId": "b51811c2-41a7-4b6a-bb8c-2442481b7e41"
      },
      "outputs": [
        {
          "data": {
            "text/plain": [
              "array([[<AxesSubplot:title={'center':'price_meter'}>]], dtype=object)"
            ]
          },
          "execution_count": 5,
          "metadata": {},
          "output_type": "execute_result"
        },
        {
          "data": {
            "image/png": "[encoded data removed]",
            "text/plain": [
              "<Figure size 432x288 with 1 Axes>"
            ]
          },
          "metadata": {
            "needs_background": "light"
          },
          "output_type": "display_data"
        }
      ],
      "source": [
        "# Исследование цены за кв.метр\n",
        "df.hist('price_meter', bins=50, range=(0,250000))"
      ]
    },
    {
      "cell_type": "code",
      "execution_count": null,
      "metadata": {
        "id": "3HtbUuCQa_Lf",
        "outputId": "bf04de48-67b6-4560-d83d-c8a3fa58ebca"
      },
      "outputs": [
        {
          "data": {
            "text/plain": [
              "array([[<AxesSubplot:title={'center':'ratio_living'}>]], dtype=object)"
            ]
          },
          "execution_count": 6,
          "metadata": {},
          "output_type": "execute_result"
        },
        {
          "data": {
            "image/png": "[encoded data removed]",
            "text/plain": [
              "<Figure size 432x288 with 1 Axes>"
            ]
          },
          "metadata": {
            "needs_background": "light"
          },
          "output_type": "display_data"
        }
      ],
      "source": [
        "# Исследование cоотношения жилой площади к общей\n",
        "df.hist('ratio_living', bins=30)"
      ]
    },
    {
      "cell_type": "code",
      "execution_count": null,
      "metadata": {
        "id": "Frv4lxS3a_Lf",
        "outputId": "0be74d82-b6c1-4428-e711-4a3f1c4f09b6"
      },
      "outputs": [
        {
          "data": {
            "text/plain": [
              "array([[<AxesSubplot:title={'center':'ratio_kitchen'}>]], dtype=object)"
            ]
          },
          "execution_count": 7,
          "metadata": {},
          "output_type": "execute_result"
        },
        {
          "data": {
            "image/png": "[encoded data removed]",
            "text/plain": [
              "<Figure size 432x288 with 1 Axes>"
            ]
          },
          "metadata": {
            "needs_background": "light"
          },
          "output_type": "display_data"
        }
      ],
      "source": [
        "# Исследование cоотношения площади кухни к общей\n",
        "df.hist('ratio_kitchen', bins=30)"
      ]
    },
    {
      "cell_type": "code",
      "execution_count": null,
      "metadata": {
        "id": "Rhu__rqDa_Lf",
        "outputId": "60b337bf-b5c4-42ce-fc35-70807be0f8bb"
      },
      "outputs": [
        {
          "data": {
            "text/plain": [
              "array([[<AxesSubplot:title={'center':'total_area'}>]], dtype=object)"
            ]
          },
          "execution_count": 8,
          "metadata": {},
          "output_type": "execute_result"
        },
        {
          "data": {
            "image/png": "[encoded data removed]",
            "text/plain": [
              "<Figure size 432x288 with 1 Axes>"
            ]
          },
          "metadata": {
            "needs_background": "light"
          },
          "output_type": "display_data"
        }
      ],
      "source": [
        "# Исследование общей площади\n",
        "df.hist('total_area', bins=50, range=(0,200))"
      ]
    },
    {
      "cell_type": "code",
      "execution_count": null,
      "metadata": {
        "id": "zIUlwKb0a_Lf",
        "outputId": "01cad7dc-bdb6-447b-9f4f-a4ccf1730ae9"
      },
      "outputs": [
        {
          "data": {
            "text/plain": [
              "array([[<AxesSubplot:title={'center':'last_price'}>]], dtype=object)"
            ]
          },
          "execution_count": 9,
          "metadata": {},
          "output_type": "execute_result"
        },
        {
          "data": {
            "image/png": "[encoded data removed]",
            "text/plain": [
              "<Figure size 432x288 with 1 Axes>"
            ]
          },
          "metadata": {
            "needs_background": "light"
          },
          "output_type": "display_data"
        }
      ],
      "source": [
        "# Исследование цены продажи\n",
        "df.hist('last_price', bins=50, range=(0,20000000))"
      ]
    },
    {
      "cell_type": "code",
      "execution_count": null,
      "metadata": {
        "id": "B-svTX9ua_Lg",
        "outputId": "b0b38c09-3c24-422c-c45e-589b58da3aea"
      },
      "outputs": [
        {
          "data": {
            "text/plain": [
              "array([[<AxesSubplot:title={'center':'rooms'}>]], dtype=object)"
            ]
          },
          "execution_count": 10,
          "metadata": {},
          "output_type": "execute_result"
        },
        {
          "data": {
            "image/png": "[encoded data removed]",
            "text/plain": [
              "<Figure size 432x288 with 1 Axes>"
            ]
          },
          "metadata": {
            "needs_background": "light"
          },
          "output_type": "display_data"
        }
      ],
      "source": [
        "# Исследование количества комнат\n",
        "df.hist('rooms', bins=20)"
      ]
    },
    {
      "cell_type": "code",
      "execution_count": null,
      "metadata": {
        "id": "EEoMO9qUa_Lg",
        "outputId": "de9efbd4-dc5a-43d7-d876-544209f36fa2"
      },
      "outputs": [
        {
          "data": {
            "text/plain": [
              "array([[<AxesSubplot:title={'center':'ceiling_height'}>]], dtype=object)"
            ]
          },
          "execution_count": 11,
          "metadata": {},
          "output_type": "execute_result"
        },
        {
          "data": {
            "image/png": "[encoded data removed]",
            "text/plain": [
              "<Figure size 432x288 with 1 Axes>"
            ]
          },
          "metadata": {
            "needs_background": "light"
          },
          "output_type": "display_data"
        }
      ],
      "source": [
        "# Исследование высоты потолков\n",
        "df.hist('ceiling_height', bins=30, range=(2,5))"
      ]
    },
    {
      "cell_type": "markdown",
      "metadata": {
        "id": "mYVTjDeNa_Lg"
      },
      "source": [
        "1. Цена за квадратный метр средняя (медианная) в районе 100 000\n",
        "2. Отношение жилой площади к общей в среднем 0.6\n",
        "3. Отношение площади кухни к обшей в среднем 0.15\n",
        "4. Общая площадь в среднем 45кв\n",
        "5. Средняя цена за квартиру в районе 3млн\n",
        "6. Среднее количество комнат 2\n",
        "7. Средняя высота потолков 2,5 метра\n"
      ]
    },
    {
      "cell_type": "markdown",
      "metadata": {
        "id": "jkDT-w50a_Lg"
      },
      "source": [
        "## Выбросы и редкие значения"
      ]
    },
    {
      "cell_type": "code",
      "execution_count": null,
      "metadata": {
        "id": "segO-CA3a_Lh",
        "outputId": "762b590c-d7c1-4787-a403-3ac5454d08d8"
      },
      "outputs": [
        {
          "data": {
            "text/plain": [
              "<AxesSubplot:ylabel='Frequency'>"
            ]
          },
          "execution_count": 12,
          "metadata": {},
          "output_type": "execute_result"
        },
        {
          "data": {
            "image/png": "[encoded data removed]",
            "text/plain": [
              "<Figure size 432x288 with 1 Axes>"
            ]
          },
          "metadata": {
            "needs_background": "light"
          },
          "output_type": "display_data"
        }
      ],
      "source": [
        "df.plot(y='days_exposition', kind='hist', bins=100, grid=True, range=(1,200))"
      ]
    },
    {
      "cell_type": "code",
      "execution_count": null,
      "metadata": {
        "id": "bsDHpPSNa_Lh",
        "outputId": "67d55f55-ae6d-4855-f5e9-291440e39acf"
      },
      "outputs": [
        {
          "data": {
            "text/plain": [
              "0       3180\n",
              "45       879\n",
              "60       538\n",
              "7        234\n",
              "30       208\n",
              "        ... \n",
              "1112       1\n",
              "1080       1\n",
              "1064       1\n",
              "1032       1\n",
              "1391       1\n",
              "Name: days_exposition, Length: 1142, dtype: int64"
            ]
          },
          "execution_count": 13,
          "metadata": {},
          "output_type": "execute_result"
        }
      ],
      "source": [
        "df['days_exposition'].value_counts()"
      ]
    },
    {
      "cell_type": "markdown",
      "metadata": {
        "id": "521-aA4Za_Lh"
      },
      "source": [
        "Странные пики на 7, 30, 45, 60, 90.\n",
        "Скорее всего это выборсы (вероятно что объявления автоматически закрываются в эти дни)"
      ]
    },
    {
      "cell_type": "code",
      "execution_count": null,
      "metadata": {
        "id": "8RzYsKcUa_Lh"
      },
      "outputs": [],
      "source": [
        "#  Иначе никак\n",
        "df['days_exposition'] = df['days_exposition'].fillna(0).astype(int)\n",
        "\n",
        "good_df = df.query('days_exposition != 0 and days_exposition != 7 and days_exposition != 30 and \\\n",
        "                    days_exposition != 45 and days_exposition != 60 and days_exposition != 90')"
      ]
    },
    {
      "cell_type": "code",
      "execution_count": null,
      "metadata": {
        "id": "ECzmsPWDa_Li",
        "outputId": "ca6fddb5-7cd4-4c9b-8945-60b0d11a92cd"
      },
      "outputs": [
        {
          "data": {
            "text/plain": [
              "<AxesSubplot:ylabel='Frequency'>"
            ]
          },
          "execution_count": 15,
          "metadata": {},
          "output_type": "execute_result"
        },
        {
          "data": {
            "image/png": "[encoded data removed]",
            "text/plain": [
              "<Figure size 432x288 with 1 Axes>"
            ]
          },
          "metadata": {
            "needs_background": "light"
          },
          "output_type": "display_data"
        }
      ],
      "source": [
        "good_df.plot(y='days_exposition', kind='hist', bins=100, grid=True, range=(1,200))"
      ]
    },
    {
      "cell_type": "code",
      "execution_count": null,
      "metadata": {
        "id": "rbFyD7Afa_Li",
        "outputId": "525da10e-d483-4fc2-8366-59ab9bad906f"
      },
      "outputs": [
        {
          "data": {
            "text/plain": [
              "<AxesSubplot:ylabel='Frequency'>"
            ]
          },
          "execution_count": 16,
          "metadata": {},
          "output_type": "execute_result"
        },
        {
          "data": {
            "image/png": "[encoded data removed]",
            "text/plain": [
              "<Figure size 432x288 with 1 Axes>"
            ]
          },
          "metadata": {
            "needs_background": "light"
          },
          "output_type": "display_data"
        }
      ],
      "source": [
        "df.plot(y='ceiling_height', kind='hist', bins=30, grid=True, range=(2,6))"
      ]
    },
    {
      "cell_type": "code",
      "execution_count": null,
      "metadata": {
        "id": "JO5b5x0xa_Li"
      },
      "outputs": [],
      "source": [
        "good_df = df.query('2.50 < ceiling_height and ceiling_height < 3.5')"
      ]
    },
    {
      "cell_type": "code",
      "execution_count": null,
      "metadata": {
        "id": "FoWVYJ7sa_Li",
        "outputId": "712242f4-2c25-4a5a-f038-6ce131d8e869"
      },
      "outputs": [
        {
          "data": {
            "text/plain": [
              "<AxesSubplot:ylabel='Frequency'>"
            ]
          },
          "execution_count": 18,
          "metadata": {},
          "output_type": "execute_result"
        },
        {
          "data": {
            "image/png": "[encoded data removed]",
            "text/plain": [
              "<Figure size 432x288 with 1 Axes>"
            ]
          },
          "metadata": {
            "needs_background": "light"
          },
          "output_type": "display_data"
        }
      ],
      "source": [
        "df.plot(y='last_price', kind='hist', bins=50, grid=True, range=(0, 30000000))"
      ]
    },
    {
      "cell_type": "code",
      "execution_count": null,
      "metadata": {
        "id": "86LZFcE3a_Lj"
      },
      "outputs": [],
      "source": [
        "good_df = df.query('1800000 < last_price and last_price < 15000000')"
      ]
    },
    {
      "cell_type": "code",
      "execution_count": null,
      "metadata": {
        "id": "DNmT7X9Ya_Lj",
        "outputId": "c2ce87ca-f4df-4f3f-bccf-b1bb1850a3b3"
      },
      "outputs": [
        {
          "data": {
            "text/plain": [
              "<AxesSubplot:ylabel='Frequency'>"
            ]
          },
          "execution_count": 20,
          "metadata": {},
          "output_type": "execute_result"
        },
        {
          "data": {
            "image/png": "[encoded data removed]",
            "text/plain": [
              "<Figure size 432x288 with 1 Axes>"
            ]
          },
          "metadata": {
            "needs_background": "light"
          },
          "output_type": "display_data"
        }
      ],
      "source": [
        "df.plot(y='total_area', kind='hist', bins=50, grid=True, range=(0, 200))"
      ]
    },
    {
      "cell_type": "code",
      "execution_count": null,
      "metadata": {
        "id": "WutEyBlQa_Lj"
      },
      "outputs": [],
      "source": [
        "good_df = df.query('20 < total_area and total_area < 150')"
      ]
    },
    {
      "cell_type": "markdown",
      "metadata": {
        "id": "d6fW8rU_a_Lj"
      },
      "source": [
        "### Вывод по имеющимся данным:\n",
        "1. Обычно продажа квартиры занимает 114 дней.\n",
        "2. Слишком быстрая прожада - до 44 дней.\n",
        "3. Слишком долгая продажа - больше 258 дня."
      ]
    },
    {
      "cell_type": "code",
      "execution_count": null,
      "metadata": {
        "id": "m-lMKvBYa_Lj"
      },
      "outputs": [],
      "source": [
        "good_df = good_df.query('44 < days_exposition < 258')"
      ]
    },
    {
      "cell_type": "markdown",
      "metadata": {
        "id": "nxlk-aB0a_Lj"
      },
      "source": [
        "## Исследовавание времени продажи"
      ]
    },
    {
      "cell_type": "code",
      "execution_count": null,
      "metadata": {
        "id": "LXP9LMxla_Lk",
        "outputId": "2871f0c4-65a8-4015-c746-8f6b40f33707"
      },
      "outputs": [
        {
          "data": {
            "text/plain": [
              "array([[<AxesSubplot:title={'center':'days_exposition'}>]], dtype=object)"
            ]
          },
          "execution_count": 23,
          "metadata": {},
          "output_type": "execute_result"
        },
        {
          "data": {
            "image/png": "[encoded data removed]",
            "text/plain": [
              "<Figure size 432x288 with 1 Axes>"
            ]
          },
          "metadata": {
            "needs_background": "light"
          },
          "output_type": "display_data"
        }
      ],
      "source": [
        "good_df.hist(column='days_exposition', bins=50, range=(40,300))"
      ]
    },
    {
      "cell_type": "code",
      "execution_count": null,
      "metadata": {
        "id": "DbB71kkIa_Lk",
        "outputId": "fa434275-fdd9-4f12-9018-91f02baf5186"
      },
      "outputs": [
        {
          "name": "stdout",
          "output_type": "stream",
          "text": [
            "Среднее количество дней продажи квартиры: 114\n",
            "Медианное количество дней продажи квартиры: 99\n"
          ]
        }
      ],
      "source": [
        "# print(f'Среднее количество дней продажи квартиры {good_df['days_exposition'].mean():.0f}') - SyntaxError: invalid syntax\n",
        "\n",
        "days_exposition_mean = good_df['days_exposition'].mean()\n",
        "days_exposition_median = good_df['days_exposition'].median()\n",
        "\n",
        "print(f'Среднее количество дней продажи квартиры: {days_exposition_mean:.0f}')\n",
        "print(f'Медианное количество дней продажи квартиры: {days_exposition_median:.0f}')"
      ]
    },
    {
      "cell_type": "markdown",
      "metadata": {
        "id": "SV4cP6a4a_Lk"
      },
      "source": [
        "## Влияние факторов на стоимость квартиры"
      ]
    },
    {
      "cell_type": "code",
      "execution_count": null,
      "metadata": {
        "id": "TYtbKDp1a_Ll",
        "outputId": "66dbe80b-3513-41da-fb05-766cf7857256"
      },
      "outputs": [
        {
          "name": "stdout",
          "output_type": "stream",
          "text": [
            "Зависимость цены от общей площади состовляет: 0.69\n",
            "Зависимость цены от числа комнат состовляет: 0.41\n",
            "Зависимость цены от удаленности от центра: -0.31\n"
          ]
        }
      ],
      "source": [
        "price_taria = good_df['last_price'].corr(good_df['total_area'])\n",
        "price_rooms = good_df['last_price'].corr(good_df['rooms'])\n",
        "price_centers_nearest = good_df['last_price'].corr(good_df['city_centers_nearest'])\n",
        "\n",
        "print(f'Зависимость цены от общей площади состовляет: {price_taria:.2f}')\n",
        "print(f'Зависимость цены от числа комнат состовляет: {price_rooms:.2f}')\n",
        "print(f'Зависимость цены от удаленности от центра: {price_centers_nearest:.2f}')"
      ]
    },
    {
      "cell_type": "markdown",
      "metadata": {
        "id": "HgdhPgyYa_Ll"
      },
      "source": [
        "1. Сильная зависимость цены от общей площади.\n",
        "2. Слабая зависимость цены от числа комнат.\n",
        "3. Слабая зависимость от удаленности от центра."
      ]
    },
    {
      "cell_type": "code",
      "execution_count": null,
      "metadata": {
        "id": "QJJzBSiva_Ll",
        "outputId": "14473add-6056-42b8-dac6-fa6ddef0ce2a"
      },
      "outputs": [
        {
          "data": {
            "text/plain": [
              "<AxesSubplot:xlabel='rooms', ylabel='last_price'>"
            ]
          },
          "execution_count": 26,
          "metadata": {},
          "output_type": "execute_result"
        },
        {
          "data": {
            "image/png": "[encoded data removed]",
            "text/plain": [
              "<Figure size 432x288 with 1 Axes>"
            ]
          },
          "metadata": {
            "needs_background": "light"
          },
          "output_type": "display_data"
        }
      ],
      "source": [
        "sns.barplot(x='rooms', y='last_price', data=good_df)"
      ]
    },
    {
      "cell_type": "code",
      "execution_count": null,
      "metadata": {
        "scrolled": true,
        "id": "1mWTJ4BNa_Ll",
        "outputId": "2c13da2b-ff69-49dd-da6b-c0efc416bf4c"
      },
      "outputs": [
        {
          "data": {
            "text/plain": [
              "<AxesSubplot:xlabel='floor_distribution', ylabel='last_price'>"
            ]
          },
          "execution_count": 27,
          "metadata": {},
          "output_type": "execute_result"
        },
        {
          "data": {
            "image/png": "[encoded data removed]",
            "text/plain": [
              "<Figure size 432x288 with 1 Axes>"
            ]
          },
          "metadata": {
            "needs_background": "light"
          },
          "output_type": "display_data"
        }
      ],
      "source": [
        "sns.barplot(x='floor_distribution', y='last_price', data=good_df)"
      ]
    },
    {
      "cell_type": "code",
      "execution_count": null,
      "metadata": {
        "id": "l--wnkOja_Ll",
        "outputId": "37319e53-131a-4d3f-b419-060e960f3ab0"
      },
      "outputs": [
        {
          "data": {
            "text/plain": [
              "<AxesSubplot:xlabel='publication_day_week', ylabel='last_price'>"
            ]
          },
          "execution_count": 28,
          "metadata": {},
          "output_type": "execute_result"
        },
        {
          "data": {
            "image/png": "[encoded data removed]",
            "text/plain": [
              "<Figure size 432x288 with 1 Axes>"
            ]
          },
          "metadata": {
            "needs_background": "light"
          },
          "output_type": "display_data"
        }
      ],
      "source": [
        "sns.barplot(x='publication_day_week', y='last_price', data=good_df)"
      ]
    },
    {
      "cell_type": "code",
      "execution_count": null,
      "metadata": {
        "id": "SAcYpl5qa_Lm",
        "outputId": "d2d03a8a-30e4-489d-91a9-1474facd9a9c"
      },
      "outputs": [
        {
          "data": {
            "text/plain": [
              "<AxesSubplot:xlabel='publication_month', ylabel='last_price'>"
            ]
          },
          "execution_count": 29,
          "metadata": {},
          "output_type": "execute_result"
        },
        {
          "data": {
            "image/png": "[encoded data removed]",
            "text/plain": [
              "<Figure size 432x288 with 1 Axes>"
            ]
          },
          "metadata": {
            "needs_background": "light"
          },
          "output_type": "display_data"
        }
      ],
      "source": [
        "sns.barplot(x='publication_month', y='last_price', data=good_df)"
      ]
    },
    {
      "cell_type": "code",
      "execution_count": null,
      "metadata": {
        "id": "fLgRnjJSa_Lm",
        "outputId": "fd5fd7b3-d521-4721-aaf8-841f7c6fe6cd"
      },
      "outputs": [
        {
          "data": {
            "text/plain": [
              "<AxesSubplot:xlabel='publication_year', ylabel='last_price'>"
            ]
          },
          "execution_count": 30,
          "metadata": {},
          "output_type": "execute_result"
        },
        {
          "data": {
            "image/png": "[encoded data removed]",
            "text/plain": [
              "<Figure size 432x288 with 1 Axes>"
            ]
          },
          "metadata": {
            "needs_background": "light"
          },
          "output_type": "display_data"
        }
      ],
      "source": [
        "sns.barplot(x='publication_year', y='last_price', data=good_df)"
      ]
    },
    {
      "cell_type": "markdown",
      "metadata": {
        "id": "ZjBs7XFma_Lm"
      },
      "source": [
        "1. Самый дорогой квадратный метр в 12-ти комнотной квартире (наверное это коммуналка)\n",
        "2. На среднех этажах цена квадратного метра значительно выше. Самая низкая цена квадрата на первом.\n",
        "3. День недели размещения обхявления никак не влияет на стоимость квадратного метра.\n",
        "4. Месяц размещения так же не влияет на стоимость квадратного метра\n",
        "5. Квардатрный метр стабильно растет на протяжении последних 5 лет. Или рубль дешевеет?"
      ]
    },
    {
      "cell_type": "markdown",
      "metadata": {
        "id": "F_rMzDB2a_Lm"
      },
      "source": [
        "## Топ-10 населённых пунктов с наибольшим числом объявлений\n"
      ]
    },
    {
      "cell_type": "code",
      "execution_count": null,
      "metadata": {
        "id": "oSB2lD2Za_Lm",
        "outputId": "f92f286c-afc2-480f-884e-ec1a2cb1ce1b"
      },
      "outputs": [
        {
          "name": "stdout",
          "output_type": "stream",
          "text": [
            "Средняя стоимость квадратного метра в Санкт-Петербург ровна 109430\n",
            "Средняя стоимость квадратного метра в посёлок Мурино ровна 85468\n",
            "Средняя стоимость квадратного метра в посёлок Шушары ровна 78540\n",
            "Средняя стоимость квадратного метра в Всеволожск ровна 67506\n",
            "Средняя стоимость квадратного метра в Колпино ровна 74198\n",
            "Средняя стоимость квадратного метра в посёлок Парголово ровна 88714\n",
            "Средняя стоимость квадратного метра в Пушкин ровна 99799\n",
            "Средняя стоимость квадратного метра в деревня Кудрово ровна 92632\n",
            "Средняя стоимость квадратного метра в Гатчина ровна 67280\n",
            "Средняя стоимость квадратного метра в Выборг ровна 56638\n"
          ]
        }
      ],
      "source": [
        "for local in list(dict(good_df['locality_name'].value_counts().head(10)).keys()):\n",
        "    data = good_df.query('locality_name == @local')\n",
        "    mean_price_meatr = data['price_meter'].mean()\n",
        "    print(f'Средняя стоимость квадратного метра в {local} ровна {mean_price_meatr:.0f}')"
      ]
    },
    {
      "cell_type": "markdown",
      "metadata": {
        "id": "-xUzPZ2da_Lm"
      },
      "source": [
        "1. Самая высокая стоимость жилья в Санкт-Петербурге\n",
        "2. Самая низкая стоимость жилья в Выборге"
      ]
    },
    {
      "cell_type": "markdown",
      "metadata": {
        "id": "sbjWF60da_Lm"
      },
      "source": [
        "## Определение центра Санкт-Петербурга"
      ]
    },
    {
      "cell_type": "code",
      "execution_count": null,
      "metadata": {
        "id": "5sGQ9Nq3a_Ln",
        "outputId": "507c1111-dd1c-4062-9ccb-52ac03d532f6"
      },
      "outputs": [
        {
          "name": "stderr",
          "output_type": "stream",
          "text": [
            "/tmp/ipykernel_98/1267993139.py:2: SettingWithCopyWarning: \n",
            "A value is trying to be set on a copy of a slice from a DataFrame.\n",
            "Try using .loc[row_indexer,col_indexer] = value instead\n",
            "\n",
            "See the caveats in the documentation: https://pandas.pydata.org/pandas-docs/stable/user_guide/indexing.html#returning-a-view-versus-a-copy\n",
            "  spb['city_centers_nearest_km'] = good_df['city_centers_nearest'] / 1000\n"
          ]
        },
        {
          "data": {
            "text/plain": [
              "<AxesSubplot:xlabel='city_centers_nearest_km'>"
            ]
          },
          "execution_count": 32,
          "metadata": {},
          "output_type": "execute_result"
        },
        {
          "data": {
            "image/png": "[encoded data removed]",
            "text/plain": [
              "<Figure size 432x288 with 1 Axes>"
            ]
          },
          "metadata": {
            "needs_background": "light"
          },
          "output_type": "display_data"
        }
      ],
      "source": [
        "spb = good_df.query('locality_name == \"Санкт-Петербург\"')\n",
        "spb['city_centers_nearest_km'] = good_df['city_centers_nearest'] / 1000\n",
        "spb = spb.dropna(subset=['city_centers_nearest_km']).reset_index(drop=True)\n",
        "spb['city_centers_nearest_km'] = spb['city_centers_nearest_km'].astype(int)\n",
        "\n",
        "spb.pivot_table(index='city_centers_nearest_km', values='price_meter', aggfunc='mean').plot(style='o-', grid=True)"
      ]
    },
    {
      "cell_type": "markdown",
      "metadata": {
        "id": "dy9igsIca_Ln"
      },
      "source": [
        " 10 км от центра входит в центр Санкт-Петербурга."
      ]
    },
    {
      "cell_type": "markdown",
      "metadata": {
        "id": "VPiWm7Kla_Ln"
      },
      "source": [
        "## Анализ квартир в центре"
      ]
    },
    {
      "cell_type": "code",
      "execution_count": null,
      "metadata": {
        "id": "tmDToic5a_Ln"
      },
      "outputs": [],
      "source": [
        "spb_center = spb.query('city_centers_nearest_km < 10')"
      ]
    },
    {
      "cell_type": "code",
      "execution_count": null,
      "metadata": {
        "scrolled": true,
        "id": "0pAP9RgMa_Ln",
        "outputId": "5bf8d809-23ef-44d9-a903-98ff2a89fbd6"
      },
      "outputs": [
        {
          "data": {
            "text/plain": [
              "array([[<AxesSubplot:title={'center':'total_area'}>]], dtype=object)"
            ]
          },
          "execution_count": 34,
          "metadata": {},
          "output_type": "execute_result"
        },
        {
          "data": {
            "image/png": "[encoded data removed]",
            "text/plain": [
              "<Figure size 432x288 with 1 Axes>"
            ]
          },
          "metadata": {
            "needs_background": "light"
          },
          "output_type": "display_data"
        }
      ],
      "source": [
        "spb_center.hist('total_area', bins=50, range=(0,200))"
      ]
    },
    {
      "cell_type": "code",
      "execution_count": null,
      "metadata": {
        "id": "gMDTFicQa_Lo",
        "outputId": "5781dfee-40d5-4f17-92aa-ad6e64feb388"
      },
      "outputs": [
        {
          "data": {
            "text/plain": [
              "array([[<AxesSubplot:title={'center':'price_meter'}>]], dtype=object)"
            ]
          },
          "execution_count": 35,
          "metadata": {},
          "output_type": "execute_result"
        },
        {
          "data": {
            "image/png": "[encoded data removed]",
            "text/plain": [
              "<Figure size 432x288 with 1 Axes>"
            ]
          },
          "metadata": {
            "needs_background": "light"
          },
          "output_type": "display_data"
        }
      ],
      "source": [
        "spb_center.hist('price_meter', bins=50, range=(0, 300000))\n",
        "#spb_center.pivot_table(index='price_meter', values='').plot()"
      ]
    },
    {
      "cell_type": "code",
      "execution_count": null,
      "metadata": {
        "id": "Hx7-MPDMa_Lo",
        "outputId": "67a5c932-026a-4167-a81a-99e69c454f42"
      },
      "outputs": [
        {
          "data": {
            "text/plain": [
              "array([[<AxesSubplot:title={'center':'rooms'}>]], dtype=object)"
            ]
          },
          "execution_count": 36,
          "metadata": {},
          "output_type": "execute_result"
        },
        {
          "data": {
            "image/png": "[encoded data removed]",
            "text/plain": [
              "<Figure size 432x288 with 1 Axes>"
            ]
          },
          "metadata": {
            "needs_background": "light"
          },
          "output_type": "display_data"
        }
      ],
      "source": [
        "spb_center.hist('rooms', bins=10, range=(0,10))"
      ]
    },
    {
      "cell_type": "code",
      "execution_count": null,
      "metadata": {
        "id": "G5bleJXqa_Lo",
        "outputId": "ed3516fc-fc20-4ef9-8874-a3b1529b056d"
      },
      "outputs": [
        {
          "data": {
            "text/plain": [
              "array([[<AxesSubplot:title={'center':'ceiling_height'}>]], dtype=object)"
            ]
          },
          "execution_count": 37,
          "metadata": {},
          "output_type": "execute_result"
        },
        {
          "data": {
            "image/png": "[encoded data removed]",
            "text/plain": [
              "<Figure size 432x288 with 1 Axes>"
            ]
          },
          "metadata": {
            "needs_background": "light"
          },
          "output_type": "display_data"
        }
      ],
      "source": [
        "spb_center.hist('ceiling_height', range=(2,6))"
      ]
    },
    {
      "cell_type": "code",
      "execution_count": null,
      "metadata": {
        "id": "FgAUA3QVa_Lo",
        "outputId": "98fcd82a-13d4-46f6-eca6-dd51c9f4c967"
      },
      "outputs": [
        {
          "data": {
            "text/plain": [
              "<AxesSubplot:xlabel='rooms', ylabel='price_meter'>"
            ]
          },
          "execution_count": 38,
          "metadata": {},
          "output_type": "execute_result"
        },
        {
          "data": {
            "image/png": "[encoded data removed]",
            "text/plain": [
              "<Figure size 432x288 with 1 Axes>"
            ]
          },
          "metadata": {
            "needs_background": "light"
          },
          "output_type": "display_data"
        }
      ],
      "source": [
        "sns.barplot(x='rooms', y='price_meter', data=spb_center)"
      ]
    },
    {
      "cell_type": "code",
      "execution_count": null,
      "metadata": {
        "id": "KwX_uWkda_Lo",
        "outputId": "f361af07-bdee-4d1b-88d0-b505d572fea6"
      },
      "outputs": [
        {
          "data": {
            "text/plain": [
              "<AxesSubplot:xlabel='floor_distribution', ylabel='price_meter'>"
            ]
          },
          "execution_count": 39,
          "metadata": {},
          "output_type": "execute_result"
        },
        {
          "data": {
            "image/png": "[encoded data removed]",
            "text/plain": [
              "<Figure size 432x288 with 1 Axes>"
            ]
          },
          "metadata": {
            "needs_background": "light"
          },
          "output_type": "display_data"
        }
      ],
      "source": [
        "sns.barplot(x='floor_distribution', y='price_meter', data=spb_center)"
      ]
    },
    {
      "cell_type": "code",
      "execution_count": null,
      "metadata": {
        "id": "JXia8Vcda_Lo",
        "outputId": "1e8ad51e-2f3a-4983-837b-9e773717f404"
      },
      "outputs": [
        {
          "data": {
            "text/plain": [
              "<AxesSubplot:xlabel='city_centers_nearest_km', ylabel='price_meter'>"
            ]
          },
          "execution_count": 40,
          "metadata": {},
          "output_type": "execute_result"
        },
        {
          "data": {
            "image/png": "[encoded data removed]",
            "text/plain": [
              "<Figure size 432x288 with 1 Axes>"
            ]
          },
          "metadata": {
            "needs_background": "light"
          },
          "output_type": "display_data"
        }
      ],
      "source": [
        "sns.barplot(x='city_centers_nearest_km', y='price_meter', data=spb_center)"
      ]
    },
    {
      "cell_type": "code",
      "execution_count": null,
      "metadata": {
        "id": "crmCQayJa_Lp",
        "outputId": "07e555d7-bd97-4f9f-ba9f-6ad4cf20f9c5"
      },
      "outputs": [
        {
          "data": {
            "text/plain": [
              "<AxesSubplot:xlabel='publication_day_week', ylabel='price_meter'>"
            ]
          },
          "execution_count": 41,
          "metadata": {},
          "output_type": "execute_result"
        },
        {
          "data": {
            "image/png": "[encoded data removed]",
            "text/plain": [
              "<Figure size 432x288 with 1 Axes>"
            ]
          },
          "metadata": {
            "needs_background": "light"
          },
          "output_type": "display_data"
        }
      ],
      "source": [
        "sns.barplot(x='publication_day_week', y='price_meter', data=spb_center)"
      ]
    },
    {
      "cell_type": "code",
      "execution_count": null,
      "metadata": {
        "id": "fxob55bUa_Lp",
        "outputId": "3de71223-1493-4a11-fcfe-f24217f25afc"
      },
      "outputs": [
        {
          "data": {
            "text/plain": [
              "<AxesSubplot:xlabel='publication_month', ylabel='price_meter'>"
            ]
          },
          "execution_count": 42,
          "metadata": {},
          "output_type": "execute_result"
        },
        {
          "data": {
            "image/png": "[encoded data removed]",
            "text/plain": [
              "<Figure size 432x288 with 1 Axes>"
            ]
          },
          "metadata": {
            "needs_background": "light"
          },
          "output_type": "display_data"
        }
      ],
      "source": [
        "sns.barplot(x='publication_month', y='price_meter', data=spb_center)"
      ]
    },
    {
      "cell_type": "code",
      "execution_count": null,
      "metadata": {
        "id": "YOaOMEEla_Lp",
        "outputId": "12122192-0485-45d8-e401-8001471fae99"
      },
      "outputs": [
        {
          "data": {
            "text/plain": [
              "<AxesSubplot:xlabel='publication_year', ylabel='price_meter'>"
            ]
          },
          "execution_count": 43,
          "metadata": {},
          "output_type": "execute_result"
        },
        {
          "data": {
            "image/png": "[encoded data removed]",
            "text/plain": [
              "<Figure size 432x288 with 1 Axes>"
            ]
          },
          "metadata": {
            "needs_background": "light"
          },
          "output_type": "display_data"
        }
      ],
      "source": [
        "sns.barplot(x='publication_year', y='price_meter', data=spb_center)"
      ]
    },
    {
      "cell_type": "markdown",
      "metadata": {
        "id": "shfbk0Fqa_Lp"
      },
      "source": [
        "1. Средняя площадь квартиры в центре так же состовляет 45 метров\n",
        "2. Средняя стоимость квадратного метра так же близка к 140 000 рублей за квдарат\n",
        "3. Высота потолка в среднем 3 метра\n",
        "4. Самый дорогой квадратный метр в 12 комнатной квартире.\n",
        "5. Самый дешевый квадратный метр на первых этажах, самый дорогой на среднем.\n",
        "6. Первые 2 км от центра самые дорогие\n",
        "7. Цена квадрата не зависит от дня недели публикации.\n",
        "8. В Апреле самый дорогой квадратный метр.\n",
        "9. Заметен рост цены квадратного метра в 16 году и в 19."
      ]
    },
    {
      "cell_type": "markdown",
      "metadata": {
        "id": "25jGHEpoa_Lp"
      },
      "source": [
        "## Общий вывод"
      ]
    },
    {
      "cell_type": "markdown",
      "metadata": {
        "id": "bhm11Resa_Lp"
      },
      "source": [
        "Мы обработали полученный архив данных - обработали пропущенные значения там, где это необходимо, заменили типы данных на необходимые для удобной работы. Посчитали и добавили в таблицу цену квадратного метра жилья, вывели из даты дни недели, месяцы и года размещения объявлений, добавили категории по этажам квартир. Изучили следующие параметры на наличие выбивающихся значений - площадь, цена, число комнат, высота потолков. Были определены аномалии в данных параметрах. Изучая время продажи квартир мы выявили, что большое количество объявлений было автоматически снято с Яндекс Недвижимость и дату из снятия нельзя считать датой продажи квартиры, поэтому, изучая средние сроки продажи квартир - данные значения не учитывались. Мы выявили при помощи диаграммы размаха, что нормальные значения продажи квартир варьируются от 45 до 250 дней. Мы выявили, что на стоимость квадратного метра квартиры больше всего влияют количество комнат, этаж квартиры, близость к центру, год размещения. Незначительно на стоимость квадратного метра влияют день, месяц и общая площадь. Нужно учитывать, что в 2016-2017 годах стоимость квартир в среднем по рынку была ниже на 10-20 %, тогда как в центре Санкт-Петербурга данной зависимости от года не обнаружено. В данном случае имело место постоянное удорожание стоимости, начиная с 2015 года по текущий момент. Судя, по резкости изменения цен в зависимости от удаления от центра СПБ, мы выявили центр города в радиусе 10 километров.\n",
        "\n",
        "Также важно учитывать, что, рассматривая среднюю стоимость квартир в 2014-2019 годах, мы не делали сегментацию рынка, а лишь смотрели средние показатели по рынку в целом. Т.е. возможно, что цены на аналогичные квартиры в разных годах вели себя абсолютно по-разному. Т.е. например в то время, когда средняя стоимость метра по рынку в 2016-2017 годах была наиболее низкой, какие-то аналогичные прошлым годам квартиры могли и не падать в цене, а наоборот дорожать! Именно об этом нам и говорят данные, полученные при изучении единственного сегмента квартир - находящихся в радиусе 10 км в центре СПБ."
      ]
    }
  ],
  "metadata": {
    "ExecuteTimeLog": [
      {
        "duration": 908,
        "start_time": "2022-02-28T14:49:31.546Z"
      },
      {
        "duration": 591,
        "start_time": "2022-03-01T14:45:21.119Z"
      },
      {
        "duration": 4961,
        "start_time": "2022-03-01T14:45:45.948Z"
      },
      {
        "duration": 79,
        "start_time": "2022-03-01T14:46:08.168Z"
      },
      {
        "duration": 4840,
        "start_time": "2022-03-01T14:46:10.688Z"
      },
      {
        "duration": 62,
        "start_time": "2022-03-01T14:46:30.359Z"
      },
      {
        "duration": 283,
        "start_time": "2022-03-01T14:46:33.479Z"
      },
      {
        "duration": 272,
        "start_time": "2022-03-01T14:47:00.256Z"
      },
      {
        "duration": 202,
        "start_time": "2022-03-01T14:47:18.248Z"
      },
      {
        "duration": 205,
        "start_time": "2022-03-01T14:48:06.667Z"
      },
      {
        "duration": 243,
        "start_time": "2022-03-01T14:48:20.907Z"
      },
      {
        "duration": 788,
        "start_time": "2022-03-05T09:50:08.942Z"
      },
      {
        "duration": 314,
        "start_time": "2022-03-05T09:51:46.667Z"
      },
      {
        "duration": 10,
        "start_time": "2022-03-05T09:52:45.649Z"
      },
      {
        "duration": 245,
        "start_time": "2022-03-05T09:52:57.904Z"
      },
      {
        "duration": 221,
        "start_time": "2022-03-05T09:53:18.634Z"
      },
      {
        "duration": 219,
        "start_time": "2022-03-05T09:53:36.056Z"
      },
      {
        "duration": 265,
        "start_time": "2022-03-05T09:55:00.164Z"
      },
      {
        "duration": 228,
        "start_time": "2022-03-05T09:55:11.324Z"
      },
      {
        "duration": 249,
        "start_time": "2022-03-05T09:55:55.747Z"
      },
      {
        "duration": 9,
        "start_time": "2022-03-05T09:56:13.215Z"
      },
      {
        "duration": 237,
        "start_time": "2022-03-05T09:56:36.699Z"
      },
      {
        "duration": 21,
        "start_time": "2022-03-05T09:56:44.658Z"
      },
      {
        "duration": 9,
        "start_time": "2022-03-05T09:56:51.874Z"
      },
      {
        "duration": 597,
        "start_time": "2022-03-05T09:57:34.671Z"
      },
      {
        "duration": 6,
        "start_time": "2022-03-05T09:57:42.963Z"
      },
      {
        "duration": 329,
        "start_time": "2022-03-05T09:57:58.851Z"
      },
      {
        "duration": -216,
        "start_time": "2022-03-05T10:01:59.766Z"
      },
      {
        "duration": 677,
        "start_time": "2022-03-05T10:02:09.333Z"
      },
      {
        "duration": 1741,
        "start_time": "2022-03-05T10:02:19.547Z"
      },
      {
        "duration": 5355,
        "start_time": "2022-03-05T10:07:00.604Z"
      },
      {
        "duration": 10,
        "start_time": "2022-03-05T10:07:07.202Z"
      },
      {
        "duration": 603,
        "start_time": "2022-03-05T12:13:31.397Z"
      },
      {
        "duration": 11,
        "start_time": "2022-03-05T12:13:34.994Z"
      },
      {
        "duration": 943,
        "start_time": "2022-03-10T07:36:34.628Z"
      },
      {
        "duration": 17,
        "start_time": "2022-03-10T07:36:40.687Z"
      },
      {
        "duration": 417,
        "start_time": "2022-03-10T07:40:56.747Z"
      },
      {
        "duration": 134,
        "start_time": "2022-03-10T07:45:40.507Z"
      },
      {
        "duration": 106,
        "start_time": "2022-03-10T07:46:00.530Z"
      },
      {
        "duration": 48,
        "start_time": "2022-03-10T07:46:10.127Z"
      },
      {
        "duration": 7036,
        "start_time": "2022-03-10T07:46:21.049Z"
      },
      {
        "duration": -126,
        "start_time": "2022-03-10T07:46:28.214Z"
      },
      {
        "duration": 16,
        "start_time": "2022-03-10T07:47:04.547Z"
      },
      {
        "duration": 7399,
        "start_time": "2022-03-10T07:47:43.023Z"
      },
      {
        "duration": 868,
        "start_time": "2022-03-10T07:48:07.945Z"
      },
      {
        "duration": 17,
        "start_time": "2022-03-10T07:48:10.072Z"
      },
      {
        "duration": 432,
        "start_time": "2022-03-10T07:48:21.253Z"
      },
      {
        "duration": 319,
        "start_time": "2022-03-10T07:48:26.832Z"
      },
      {
        "duration": 351,
        "start_time": "2022-03-10T07:48:49.437Z"
      },
      {
        "duration": 878,
        "start_time": "2022-03-10T07:48:54.737Z"
      },
      {
        "duration": 17,
        "start_time": "2022-03-10T07:48:56.998Z"
      },
      {
        "duration": 443,
        "start_time": "2022-03-10T07:49:16.438Z"
      },
      {
        "duration": 319,
        "start_time": "2022-03-10T07:50:21.798Z"
      },
      {
        "duration": 307,
        "start_time": "2022-03-10T07:50:44.878Z"
      },
      {
        "duration": 291,
        "start_time": "2022-03-10T07:50:53.955Z"
      },
      {
        "duration": 7512,
        "start_time": "2022-03-10T07:51:06.257Z"
      },
      {
        "duration": 42,
        "start_time": "2022-03-10T07:51:43.297Z"
      },
      {
        "duration": 910,
        "start_time": "2022-03-10T07:51:52.820Z"
      },
      {
        "duration": 17,
        "start_time": "2022-03-10T07:51:54.975Z"
      },
      {
        "duration": 60,
        "start_time": "2022-03-10T07:51:58.154Z"
      },
      {
        "duration": 24,
        "start_time": "2022-03-10T07:52:03.314Z"
      },
      {
        "duration": 822,
        "start_time": "2022-03-10T07:52:45.398Z"
      },
      {
        "duration": 18,
        "start_time": "2022-03-10T07:52:47.379Z"
      },
      {
        "duration": 61,
        "start_time": "2022-03-10T07:52:50.087Z"
      },
      {
        "duration": 17,
        "start_time": "2022-03-10T07:52:52.799Z"
      },
      {
        "duration": 384,
        "start_time": "2022-03-10T07:54:41.378Z"
      },
      {
        "duration": 36,
        "start_time": "2022-03-10T07:54:59.399Z"
      },
      {
        "duration": 18,
        "start_time": "2022-03-10T07:55:03.839Z"
      },
      {
        "duration": 841,
        "start_time": "2022-03-10T07:55:24.073Z"
      },
      {
        "duration": 18,
        "start_time": "2022-03-10T07:55:26.496Z"
      },
      {
        "duration": 59,
        "start_time": "2022-03-10T07:55:29.748Z"
      },
      {
        "duration": 17,
        "start_time": "2022-03-10T07:55:33.655Z"
      },
      {
        "duration": 398,
        "start_time": "2022-03-10T07:56:39.828Z"
      },
      {
        "duration": 92,
        "start_time": "2022-03-10T07:58:02.277Z"
      },
      {
        "duration": 34,
        "start_time": "2022-03-10T07:58:06.096Z"
      },
      {
        "duration": 346,
        "start_time": "2022-03-10T08:00:07.536Z"
      },
      {
        "duration": 38,
        "start_time": "2022-03-10T08:00:23.898Z"
      },
      {
        "duration": 21,
        "start_time": "2022-03-10T08:00:30.677Z"
      },
      {
        "duration": 37,
        "start_time": "2022-03-10T08:04:24.869Z"
      },
      {
        "duration": 20,
        "start_time": "2022-03-10T08:04:28.673Z"
      },
      {
        "duration": 4115,
        "start_time": "2022-03-10T08:05:13.893Z"
      },
      {
        "duration": 92,
        "start_time": "2022-03-10T08:05:36.515Z"
      },
      {
        "duration": 1563,
        "start_time": "2022-03-10T08:05:41.354Z"
      },
      {
        "duration": 1401,
        "start_time": "2022-03-10T08:06:27.674Z"
      },
      {
        "duration": 36,
        "start_time": "2022-03-10T08:06:36.434Z"
      },
      {
        "duration": 18,
        "start_time": "2022-03-10T08:06:42.405Z"
      },
      {
        "duration": 97,
        "start_time": "2022-03-10T08:18:17.101Z"
      },
      {
        "duration": 1361,
        "start_time": "2022-03-10T08:18:36.902Z"
      },
      {
        "duration": 4018,
        "start_time": "2022-03-10T08:22:49.341Z"
      },
      {
        "duration": 307,
        "start_time": "2022-03-10T08:25:53.401Z"
      },
      {
        "duration": 151,
        "start_time": "2022-03-10T08:26:02.842Z"
      },
      {
        "duration": 20,
        "start_time": "2022-03-10T08:26:09.302Z"
      },
      {
        "duration": 108,
        "start_time": "2022-03-10T08:27:36.328Z"
      },
      {
        "duration": 41,
        "start_time": "2022-03-10T08:28:55.906Z"
      },
      {
        "duration": 18,
        "start_time": "2022-03-10T08:29:01.406Z"
      },
      {
        "duration": 1333,
        "start_time": "2022-03-10T08:29:36.231Z"
      },
      {
        "duration": 4145,
        "start_time": "2022-03-10T08:29:52.386Z"
      },
      {
        "duration": 39,
        "start_time": "2022-03-10T08:30:35.508Z"
      },
      {
        "duration": 843,
        "start_time": "2022-03-10T08:31:37.086Z"
      },
      {
        "duration": 20,
        "start_time": "2022-03-10T08:31:44.393Z"
      },
      {
        "duration": 869,
        "start_time": "2022-03-10T08:34:36.263Z"
      },
      {
        "duration": 28,
        "start_time": "2022-03-10T08:34:39.632Z"
      },
      {
        "duration": 24812,
        "start_time": "2022-03-10T08:34:47.253Z"
      },
      {
        "duration": 438,
        "start_time": "2022-03-10T08:38:22.511Z"
      },
      {
        "duration": 962,
        "start_time": "2022-03-10T08:38:27.541Z"
      },
      {
        "duration": 30,
        "start_time": "2022-03-10T08:38:30.282Z"
      },
      {
        "duration": 64,
        "start_time": "2022-03-10T08:38:34.909Z"
      },
      {
        "duration": 19,
        "start_time": "2022-03-10T08:38:39.098Z"
      },
      {
        "duration": 49,
        "start_time": "2022-03-10T08:39:54.950Z"
      },
      {
        "duration": 15,
        "start_time": "2022-03-10T08:40:01.583Z"
      },
      {
        "duration": 45,
        "start_time": "2022-03-10T08:40:19.932Z"
      },
      {
        "duration": 49,
        "start_time": "2022-03-10T08:50:04.614Z"
      },
      {
        "duration": 19,
        "start_time": "2022-03-10T08:50:08.256Z"
      },
      {
        "duration": 888,
        "start_time": "2022-03-10T08:50:19.468Z"
      },
      {
        "duration": 18,
        "start_time": "2022-03-10T08:50:20.369Z"
      },
      {
        "duration": 68,
        "start_time": "2022-03-10T08:50:23.870Z"
      },
      {
        "duration": 14,
        "start_time": "2022-03-10T08:50:30.140Z"
      },
      {
        "duration": 847,
        "start_time": "2022-03-10T09:05:14.087Z"
      },
      {
        "duration": 16,
        "start_time": "2022-03-10T09:05:14.937Z"
      },
      {
        "duration": 14,
        "start_time": "2022-03-10T09:05:20.521Z"
      },
      {
        "duration": 98,
        "start_time": "2022-03-10T09:05:24.669Z"
      },
      {
        "duration": 124,
        "start_time": "2022-03-10T09:05:54.030Z"
      },
      {
        "duration": 108,
        "start_time": "2022-03-10T09:06:36.262Z"
      },
      {
        "duration": 117,
        "start_time": "2022-03-10T09:06:45.889Z"
      },
      {
        "duration": 166,
        "start_time": "2022-03-10T14:24:48.595Z"
      },
      {
        "duration": 64,
        "start_time": "2022-03-10T14:25:01.744Z"
      },
      {
        "duration": 1057,
        "start_time": "2022-03-10T14:33:17.957Z"
      },
      {
        "duration": 16,
        "start_time": "2022-03-10T14:33:20.276Z"
      },
      {
        "duration": 779,
        "start_time": "2022-03-10T14:33:28.309Z"
      },
      {
        "duration": 458,
        "start_time": "2022-03-10T14:34:21.904Z"
      },
      {
        "duration": 54,
        "start_time": "2022-03-10T14:34:42.288Z"
      },
      {
        "duration": 15,
        "start_time": "2022-03-10T14:34:57.836Z"
      },
      {
        "duration": 59,
        "start_time": "2022-03-10T14:36:15.432Z"
      },
      {
        "duration": 13,
        "start_time": "2022-03-10T14:36:22.804Z"
      },
      {
        "duration": 70,
        "start_time": "2022-03-10T14:37:08.587Z"
      },
      {
        "duration": 13,
        "start_time": "2022-03-10T14:37:13.197Z"
      },
      {
        "duration": 66,
        "start_time": "2022-03-10T14:38:22.053Z"
      },
      {
        "duration": 68,
        "start_time": "2022-03-10T14:38:35.155Z"
      },
      {
        "duration": 68,
        "start_time": "2022-03-10T14:39:51.647Z"
      },
      {
        "duration": 15,
        "start_time": "2022-03-10T14:39:54.713Z"
      },
      {
        "duration": 67,
        "start_time": "2022-03-10T14:44:13.687Z"
      },
      {
        "duration": 851,
        "start_time": "2022-03-10T14:44:41.858Z"
      },
      {
        "duration": 17,
        "start_time": "2022-03-10T14:44:43.798Z"
      },
      {
        "duration": 449,
        "start_time": "2022-03-10T14:45:04.239Z"
      },
      {
        "duration": 76,
        "start_time": "2022-03-10T14:45:18.510Z"
      },
      {
        "duration": 15,
        "start_time": "2022-03-10T14:45:24.358Z"
      },
      {
        "duration": 8811,
        "start_time": "2022-03-10T14:46:36.206Z"
      },
      {
        "duration": 92,
        "start_time": "2022-03-10T14:47:03.287Z"
      },
      {
        "duration": 15,
        "start_time": "2022-03-10T14:47:07.177Z"
      },
      {
        "duration": 79,
        "start_time": "2022-03-10T14:48:17.947Z"
      },
      {
        "duration": 15,
        "start_time": "2022-03-10T14:48:20.716Z"
      },
      {
        "duration": 1737,
        "start_time": "2022-03-10T14:48:30.577Z"
      },
      {
        "duration": 2047,
        "start_time": "2022-03-10T14:48:37.038Z"
      },
      {
        "duration": 356,
        "start_time": "2022-03-10T14:52:03.306Z"
      },
      {
        "duration": 354,
        "start_time": "2022-03-10T14:53:54.985Z"
      },
      {
        "duration": 343,
        "start_time": "2022-03-10T14:54:19.045Z"
      },
      {
        "duration": 104,
        "start_time": "2022-03-10T14:55:46.546Z"
      },
      {
        "duration": 102,
        "start_time": "2022-03-10T14:57:59.947Z"
      },
      {
        "duration": 128,
        "start_time": "2022-03-10T14:58:39.687Z"
      },
      {
        "duration": 100,
        "start_time": "2022-03-10T14:59:57.146Z"
      },
      {
        "duration": 334,
        "start_time": "2022-03-10T15:01:43.505Z"
      },
      {
        "duration": 121,
        "start_time": "2022-03-10T15:02:22.846Z"
      },
      {
        "duration": 354,
        "start_time": "2022-03-10T15:02:31.925Z"
      },
      {
        "duration": 348,
        "start_time": "2022-03-10T15:02:48.567Z"
      },
      {
        "duration": 4,
        "start_time": "2022-03-10T15:10:44.806Z"
      },
      {
        "duration": 278,
        "start_time": "2022-03-10T15:11:10.908Z"
      },
      {
        "duration": 369,
        "start_time": "2022-03-10T15:11:28.266Z"
      },
      {
        "duration": 356,
        "start_time": "2022-03-10T15:11:39.527Z"
      },
      {
        "duration": 294,
        "start_time": "2022-03-10T15:11:43.366Z"
      },
      {
        "duration": 410,
        "start_time": "2022-03-10T15:11:47.705Z"
      },
      {
        "duration": 432,
        "start_time": "2022-03-10T15:12:26.186Z"
      },
      {
        "duration": 463,
        "start_time": "2022-03-10T15:12:37.825Z"
      },
      {
        "duration": 458,
        "start_time": "2022-03-10T15:12:48.106Z"
      },
      {
        "duration": 422,
        "start_time": "2022-03-10T15:12:57.147Z"
      },
      {
        "duration": 427,
        "start_time": "2022-03-10T15:13:05.366Z"
      },
      {
        "duration": 427,
        "start_time": "2022-03-10T15:13:45.947Z"
      },
      {
        "duration": 436,
        "start_time": "2022-03-10T15:13:51.566Z"
      },
      {
        "duration": 430,
        "start_time": "2022-03-10T15:13:58.026Z"
      },
      {
        "duration": 365,
        "start_time": "2022-03-10T15:14:06.786Z"
      },
      {
        "duration": 317,
        "start_time": "2022-03-10T15:14:10.445Z"
      },
      {
        "duration": 308,
        "start_time": "2022-03-10T15:14:14.446Z"
      },
      {
        "duration": 591,
        "start_time": "2022-03-10T15:14:20.905Z"
      },
      {
        "duration": 428,
        "start_time": "2022-03-10T15:14:26.545Z"
      },
      {
        "duration": 463,
        "start_time": "2022-03-10T15:14:45.727Z"
      },
      {
        "duration": 318,
        "start_time": "2022-03-10T15:14:58.365Z"
      },
      {
        "duration": 534,
        "start_time": "2022-03-10T15:15:05.906Z"
      },
      {
        "duration": 427,
        "start_time": "2022-03-10T15:15:09.246Z"
      },
      {
        "duration": 551,
        "start_time": "2022-03-10T15:15:18.466Z"
      },
      {
        "duration": 428,
        "start_time": "2022-03-10T15:16:03.693Z"
      },
      {
        "duration": 897,
        "start_time": "2022-03-10T15:16:32.746Z"
      },
      {
        "duration": 463,
        "start_time": "2022-03-10T15:16:42.369Z"
      },
      {
        "duration": 428,
        "start_time": "2022-03-10T15:16:52.345Z"
      },
      {
        "duration": 729,
        "start_time": "2022-03-10T15:16:57.465Z"
      },
      {
        "duration": 620,
        "start_time": "2022-03-10T15:17:01.946Z"
      },
      {
        "duration": 694,
        "start_time": "2022-03-10T15:17:07.805Z"
      },
      {
        "duration": 614,
        "start_time": "2022-03-10T15:17:17.266Z"
      },
      {
        "duration": 532,
        "start_time": "2022-03-10T15:18:53.145Z"
      },
      {
        "duration": 722,
        "start_time": "2022-03-10T15:19:05.925Z"
      },
      {
        "duration": 554,
        "start_time": "2022-03-10T15:19:12.945Z"
      },
      {
        "duration": 699,
        "start_time": "2022-03-10T15:19:17.566Z"
      },
      {
        "duration": 401,
        "start_time": "2022-03-10T15:19:28.433Z"
      },
      {
        "duration": 357,
        "start_time": "2022-03-10T15:19:41.245Z"
      },
      {
        "duration": 473,
        "start_time": "2022-03-10T15:19:59.965Z"
      },
      {
        "duration": 642,
        "start_time": "2022-03-11T08:00:19.246Z"
      },
      {
        "duration": 74,
        "start_time": "2022-03-11T08:00:26.148Z"
      },
      {
        "duration": 642,
        "start_time": "2022-03-11T08:00:31.959Z"
      },
      {
        "duration": 359,
        "start_time": "2022-03-11T08:01:01.900Z"
      },
      {
        "duration": 359,
        "start_time": "2022-03-11T08:01:13.779Z"
      },
      {
        "duration": 242,
        "start_time": "2022-03-11T08:01:19.218Z"
      },
      {
        "duration": 253,
        "start_time": "2022-03-11T08:01:23.050Z"
      },
      {
        "duration": 237,
        "start_time": "2022-03-11T08:01:47.258Z"
      },
      {
        "duration": 251,
        "start_time": "2022-03-11T08:01:54.418Z"
      },
      {
        "duration": 237,
        "start_time": "2022-03-11T08:01:59.946Z"
      },
      {
        "duration": 204,
        "start_time": "2022-03-11T08:02:08.039Z"
      },
      {
        "duration": 196,
        "start_time": "2022-03-11T08:02:38.858Z"
      },
      {
        "duration": 179,
        "start_time": "2022-03-11T08:03:04.638Z"
      },
      {
        "duration": 589,
        "start_time": "2022-03-11T08:04:10.118Z"
      },
      {
        "duration": 163,
        "start_time": "2022-03-11T08:04:19.418Z"
      },
      {
        "duration": 203,
        "start_time": "2022-03-11T08:04:23.058Z"
      },
      {
        "duration": 273,
        "start_time": "2022-03-11T08:04:36.598Z"
      },
      {
        "duration": 229,
        "start_time": "2022-03-11T08:04:42.758Z"
      },
      {
        "duration": 199,
        "start_time": "2022-03-11T08:04:49.166Z"
      },
      {
        "duration": 232,
        "start_time": "2022-03-11T08:04:54.338Z"
      },
      {
        "duration": 206,
        "start_time": "2022-03-11T08:05:07.061Z"
      },
      {
        "duration": 203,
        "start_time": "2022-03-11T08:05:11.538Z"
      },
      {
        "duration": 264,
        "start_time": "2022-03-11T08:05:25.258Z"
      },
      {
        "duration": 319,
        "start_time": "2022-03-11T08:05:42.498Z"
      },
      {
        "duration": 320,
        "start_time": "2022-03-11T08:05:52.189Z"
      },
      {
        "duration": 263,
        "start_time": "2022-03-11T08:06:07.652Z"
      },
      {
        "duration": 218,
        "start_time": "2022-03-11T08:06:14.671Z"
      },
      {
        "duration": 336,
        "start_time": "2022-03-11T08:06:22.138Z"
      },
      {
        "duration": 305,
        "start_time": "2022-03-11T08:07:28.578Z"
      },
      {
        "duration": 216,
        "start_time": "2022-03-11T08:07:35.578Z"
      },
      {
        "duration": 270,
        "start_time": "2022-03-11T08:07:54.186Z"
      },
      {
        "duration": 338,
        "start_time": "2022-03-11T08:07:59.617Z"
      },
      {
        "duration": 261,
        "start_time": "2022-03-11T08:08:09.777Z"
      },
      {
        "duration": 217,
        "start_time": "2022-03-11T08:08:16.558Z"
      },
      {
        "duration": 232,
        "start_time": "2022-03-11T08:08:21.030Z"
      },
      {
        "duration": 295,
        "start_time": "2022-03-11T08:09:12.638Z"
      },
      {
        "duration": 154,
        "start_time": "2022-03-11T08:09:30.170Z"
      },
      {
        "duration": 259,
        "start_time": "2022-03-11T08:13:20.209Z"
      },
      {
        "duration": 293,
        "start_time": "2022-03-11T08:13:33.187Z"
      },
      {
        "duration": 58,
        "start_time": "2022-03-11T08:13:50.047Z"
      },
      {
        "duration": 5,
        "start_time": "2022-03-11T08:16:05.852Z"
      },
      {
        "duration": 105,
        "start_time": "2022-03-11T08:16:28.019Z"
      },
      {
        "duration": 8,
        "start_time": "2022-03-11T08:19:19.214Z"
      },
      {
        "duration": 12,
        "start_time": "2022-03-11T08:19:47.454Z"
      },
      {
        "duration": 9,
        "start_time": "2022-03-11T08:20:48.854Z"
      },
      {
        "duration": -299,
        "start_time": "2022-03-11T08:29:36.636Z"
      },
      {
        "duration": 126198,
        "start_time": "2022-03-11T08:34:41.584Z"
      },
      {
        "duration": 7,
        "start_time": "2022-03-11T08:36:47.785Z"
      },
      {
        "duration": 270,
        "start_time": "2022-03-11T08:40:58.126Z"
      },
      {
        "duration": 492,
        "start_time": "2022-03-11T08:41:06.418Z"
      },
      {
        "duration": 267,
        "start_time": "2022-03-11T08:41:11.546Z"
      },
      {
        "duration": 987,
        "start_time": "2022-03-11T08:41:38.534Z"
      },
      {
        "duration": 793,
        "start_time": "2022-03-11T08:41:55.561Z"
      },
      {
        "duration": 235,
        "start_time": "2022-03-11T08:42:06.932Z"
      },
      {
        "duration": 233,
        "start_time": "2022-03-11T08:42:14.357Z"
      },
      {
        "duration": 1285,
        "start_time": "2022-03-11T08:42:58.157Z"
      },
      {
        "duration": 73,
        "start_time": "2022-03-11T08:43:03.607Z"
      },
      {
        "duration": 627,
        "start_time": "2022-03-11T08:43:06.918Z"
      },
      {
        "duration": 716,
        "start_time": "2022-03-11T08:43:18.066Z"
      },
      {
        "duration": 702,
        "start_time": "2022-03-11T08:44:43.658Z"
      },
      {
        "duration": 887,
        "start_time": "2022-03-11T08:45:12.079Z"
      },
      {
        "duration": 799,
        "start_time": "2022-03-11T08:45:15.880Z"
      },
      {
        "duration": 8,
        "start_time": "2022-03-11T08:47:44.370Z"
      },
      {
        "duration": 1226,
        "start_time": "2022-03-12T12:41:13.555Z"
      },
      {
        "duration": 65,
        "start_time": "2022-03-12T12:41:17.406Z"
      },
      {
        "duration": 603,
        "start_time": "2022-03-12T12:41:20.876Z"
      },
      {
        "duration": 274,
        "start_time": "2022-03-12T12:41:25.997Z"
      },
      {
        "duration": 301,
        "start_time": "2022-03-12T12:41:27.256Z"
      },
      {
        "duration": 252,
        "start_time": "2022-03-12T12:41:27.927Z"
      },
      {
        "duration": 231,
        "start_time": "2022-03-12T12:41:28.796Z"
      },
      {
        "duration": 241,
        "start_time": "2022-03-12T12:41:36.135Z"
      },
      {
        "duration": 8,
        "start_time": "2022-03-12T12:41:42.377Z"
      },
      {
        "duration": 688,
        "start_time": "2022-03-12T12:41:48.275Z"
      },
      {
        "duration": 680,
        "start_time": "2022-03-12T12:41:58.528Z"
      },
      {
        "duration": 867,
        "start_time": "2022-03-12T12:41:59.887Z"
      },
      {
        "duration": 704,
        "start_time": "2022-03-12T12:42:02.188Z"
      },
      {
        "duration": 989,
        "start_time": "2022-03-12T12:54:40.964Z"
      },
      {
        "duration": 144,
        "start_time": "2022-03-12T12:54:58.943Z"
      },
      {
        "duration": 299,
        "start_time": "2022-03-12T12:57:16.003Z"
      },
      {
        "duration": 174,
        "start_time": "2022-03-12T12:57:40.863Z"
      },
      {
        "duration": 8,
        "start_time": "2022-03-12T12:57:45.823Z"
      },
      {
        "duration": 329,
        "start_time": "2022-03-12T13:11:30.864Z"
      },
      {
        "duration": 202,
        "start_time": "2022-03-12T13:11:37.635Z"
      },
      {
        "duration": 233,
        "start_time": "2022-03-12T13:11:41.803Z"
      },
      {
        "duration": 207,
        "start_time": "2022-03-12T13:11:46.371Z"
      },
      {
        "duration": 210,
        "start_time": "2022-03-12T13:11:51.023Z"
      },
      {
        "duration": 204,
        "start_time": "2022-03-12T13:11:56.203Z"
      },
      {
        "duration": 218,
        "start_time": "2022-03-12T13:12:00.464Z"
      },
      {
        "duration": 217,
        "start_time": "2022-03-12T13:12:06.064Z"
      },
      {
        "duration": 12,
        "start_time": "2022-03-12T13:24:04.245Z"
      },
      {
        "duration": 10,
        "start_time": "2022-03-12T13:24:10.025Z"
      },
      {
        "duration": 1535,
        "start_time": "2022-03-13T15:47:51.907Z"
      },
      {
        "duration": 19,
        "start_time": "2022-03-13T15:47:54.374Z"
      },
      {
        "duration": 49,
        "start_time": "2022-03-13T16:04:46.861Z"
      },
      {
        "duration": 14,
        "start_time": "2022-03-13T16:04:52.020Z"
      },
      {
        "duration": 1074,
        "start_time": "2022-03-13T16:05:27.669Z"
      },
      {
        "duration": 16,
        "start_time": "2022-03-13T16:05:32.948Z"
      },
      {
        "duration": 16,
        "start_time": "2022-03-13T16:06:19.097Z"
      },
      {
        "duration": 432,
        "start_time": "2022-03-13T16:07:03.029Z"
      },
      {
        "duration": 512,
        "start_time": "2022-03-13T16:07:08.369Z"
      },
      {
        "duration": 399,
        "start_time": "2022-03-13T16:07:13.867Z"
      },
      {
        "duration": 77,
        "start_time": "2022-03-13T16:07:18.007Z"
      },
      {
        "duration": 419,
        "start_time": "2022-03-13T16:07:24.868Z"
      },
      {
        "duration": 410,
        "start_time": "2022-03-13T16:07:49.911Z"
      },
      {
        "duration": 12,
        "start_time": "2022-03-13T16:08:06.731Z"
      },
      {
        "duration": 467,
        "start_time": "2022-03-13T16:09:03.768Z"
      },
      {
        "duration": 350,
        "start_time": "2022-03-13T16:09:12.960Z"
      },
      {
        "duration": 414,
        "start_time": "2022-03-13T16:09:24.313Z"
      },
      {
        "duration": 378,
        "start_time": "2022-03-13T16:09:50.974Z"
      },
      {
        "duration": 414,
        "start_time": "2022-03-13T16:10:33.495Z"
      },
      {
        "duration": 9,
        "start_time": "2022-03-13T16:10:40.256Z"
      },
      {
        "duration": 1080,
        "start_time": "2022-03-13T16:10:46.359Z"
      },
      {
        "duration": 1065,
        "start_time": "2022-03-13T16:11:30.407Z"
      },
      {
        "duration": 1359,
        "start_time": "2022-03-13T16:11:37.849Z"
      },
      {
        "duration": 1236,
        "start_time": "2022-03-13T16:11:42.405Z"
      },
      {
        "duration": 341,
        "start_time": "2022-03-13T16:13:49.833Z"
      },
      {
        "duration": 413,
        "start_time": "2022-03-13T16:14:41.264Z"
      },
      {
        "duration": 419,
        "start_time": "2022-03-13T16:14:47.352Z"
      },
      {
        "duration": 332,
        "start_time": "2022-03-13T16:14:54.546Z"
      },
      {
        "duration": 371,
        "start_time": "2022-03-13T16:14:59.086Z"
      },
      {
        "duration": 595,
        "start_time": "2022-03-13T16:15:32.382Z"
      },
      {
        "duration": 365,
        "start_time": "2022-03-13T16:15:58.887Z"
      },
      {
        "duration": 377,
        "start_time": "2022-03-13T16:17:29.277Z"
      },
      {
        "duration": 319,
        "start_time": "2022-03-13T16:17:45.961Z"
      },
      {
        "duration": 382,
        "start_time": "2022-03-13T16:18:05.635Z"
      },
      {
        "duration": 351,
        "start_time": "2022-03-13T16:19:01.852Z"
      },
      {
        "duration": 444,
        "start_time": "2022-03-13T16:19:08.356Z"
      },
      {
        "duration": 393,
        "start_time": "2022-03-13T16:19:37.635Z"
      },
      {
        "duration": 390,
        "start_time": "2022-03-13T16:20:48.202Z"
      },
      {
        "duration": 441,
        "start_time": "2022-03-13T16:20:49.681Z"
      },
      {
        "duration": 557,
        "start_time": "2022-03-13T16:20:53.954Z"
      },
      {
        "duration": 309,
        "start_time": "2022-03-13T16:20:58.335Z"
      },
      {
        "duration": 94,
        "start_time": "2022-03-13T16:21:08.201Z"
      },
      {
        "duration": 409,
        "start_time": "2022-03-13T16:21:12.060Z"
      },
      {
        "duration": 392,
        "start_time": "2022-03-13T16:21:28.718Z"
      },
      {
        "duration": 349,
        "start_time": "2022-03-13T16:21:34.154Z"
      },
      {
        "duration": 374,
        "start_time": "2022-03-13T16:22:35.282Z"
      },
      {
        "duration": 366,
        "start_time": "2022-03-13T16:22:44.321Z"
      },
      {
        "duration": 348,
        "start_time": "2022-03-13T16:23:07.616Z"
      },
      {
        "duration": 517,
        "start_time": "2022-03-13T16:23:43.670Z"
      },
      {
        "duration": 500,
        "start_time": "2022-03-13T16:25:10.329Z"
      },
      {
        "duration": 8,
        "start_time": "2022-03-13T16:25:18.260Z"
      },
      {
        "duration": 11,
        "start_time": "2022-03-13T16:25:30.595Z"
      },
      {
        "duration": 10,
        "start_time": "2022-03-13T16:30:21.018Z"
      },
      {
        "duration": 147,
        "start_time": "2022-03-13T16:31:51.256Z"
      },
      {
        "duration": 237,
        "start_time": "2022-03-13T16:38:19.901Z"
      },
      {
        "duration": 255,
        "start_time": "2022-03-13T16:38:31.019Z"
      },
      {
        "duration": 319,
        "start_time": "2022-03-13T16:38:35.624Z"
      },
      {
        "duration": 239,
        "start_time": "2022-03-13T16:38:43.122Z"
      },
      {
        "duration": 11,
        "start_time": "2022-03-13T16:38:53.901Z"
      },
      {
        "duration": 499,
        "start_time": "2022-03-13T16:40:01.920Z"
      },
      {
        "duration": 368,
        "start_time": "2022-03-13T16:40:14.167Z"
      },
      {
        "duration": 21,
        "start_time": "2022-03-13T16:42:46.523Z"
      },
      {
        "duration": 14,
        "start_time": "2022-03-13T16:45:22.784Z"
      },
      {
        "duration": 16,
        "start_time": "2022-03-13T16:45:31.036Z"
      },
      {
        "duration": 476,
        "start_time": "2022-03-13T16:45:37.749Z"
      },
      {
        "duration": 462,
        "start_time": "2022-03-13T16:45:41.929Z"
      },
      {
        "duration": 374,
        "start_time": "2022-03-13T16:45:47.023Z"
      },
      {
        "duration": 401,
        "start_time": "2022-03-13T16:45:53.320Z"
      },
      {
        "duration": 437,
        "start_time": "2022-03-13T16:45:57.935Z"
      },
      {
        "duration": 452,
        "start_time": "2022-03-13T16:46:01.804Z"
      },
      {
        "duration": 367,
        "start_time": "2022-03-13T16:46:05.365Z"
      },
      {
        "duration": 380,
        "start_time": "2022-03-13T16:46:08.999Z"
      },
      {
        "duration": 398,
        "start_time": "2022-03-13T16:46:14.358Z"
      },
      {
        "duration": 9,
        "start_time": "2022-03-13T16:46:32.006Z"
      },
      {
        "duration": 582,
        "start_time": "2022-03-13T16:46:35.538Z"
      },
      {
        "duration": 762,
        "start_time": "2022-03-13T16:46:47.575Z"
      },
      {
        "duration": 1054,
        "start_time": "2022-03-13T16:46:53.317Z"
      },
      {
        "duration": 835,
        "start_time": "2022-03-13T16:47:21.941Z"
      },
      {
        "duration": 518,
        "start_time": "2022-03-13T16:51:47.841Z"
      },
      {
        "duration": 23,
        "start_time": "2022-03-13T17:10:48.404Z"
      },
      {
        "duration": 10,
        "start_time": "2022-03-13T17:12:24.843Z"
      },
      {
        "duration": 11,
        "start_time": "2022-03-13T17:13:10.683Z"
      },
      {
        "duration": 6,
        "start_time": "2022-03-13T17:13:57.160Z"
      },
      {
        "duration": 9,
        "start_time": "2022-03-13T17:14:07.520Z"
      },
      {
        "duration": 7,
        "start_time": "2022-03-13T17:14:13.719Z"
      },
      {
        "duration": 8,
        "start_time": "2022-03-13T17:14:33.676Z"
      },
      {
        "duration": 9,
        "start_time": "2022-03-13T17:14:45.399Z"
      },
      {
        "duration": 254,
        "start_time": "2022-03-13T17:14:54.677Z"
      },
      {
        "duration": 9,
        "start_time": "2022-03-13T17:15:19.804Z"
      },
      {
        "duration": 9,
        "start_time": "2022-03-13T17:15:44.778Z"
      },
      {
        "duration": 10,
        "start_time": "2022-03-13T17:16:02.687Z"
      },
      {
        "duration": 246,
        "start_time": "2022-03-13T17:17:17.279Z"
      },
      {
        "duration": 224,
        "start_time": "2022-03-13T17:17:49.542Z"
      },
      {
        "duration": 47,
        "start_time": "2022-03-13T17:18:23.149Z"
      },
      {
        "duration": 189,
        "start_time": "2022-03-13T17:18:30.588Z"
      },
      {
        "duration": 53,
        "start_time": "2022-03-13T17:19:14.023Z"
      },
      {
        "duration": 47,
        "start_time": "2022-03-13T17:20:46.044Z"
      },
      {
        "duration": 44,
        "start_time": "2022-03-13T17:22:05.106Z"
      },
      {
        "duration": 49,
        "start_time": "2022-03-13T17:22:09.625Z"
      },
      {
        "duration": 49,
        "start_time": "2022-03-13T17:22:21.543Z"
      },
      {
        "duration": 484,
        "start_time": "2022-03-13T17:26:08.053Z"
      },
      {
        "duration": 9,
        "start_time": "2022-03-13T17:26:20.544Z"
      },
      {
        "duration": 38,
        "start_time": "2022-03-13T17:26:27.701Z"
      },
      {
        "duration": 19,
        "start_time": "2022-03-13T17:28:50.761Z"
      },
      {
        "duration": 471,
        "start_time": "2022-03-13T17:29:29.067Z"
      },
      {
        "duration": 413,
        "start_time": "2022-03-13T17:29:55.738Z"
      },
      {
        "duration": 15,
        "start_time": "2022-03-13T17:30:08.005Z"
      },
      {
        "duration": 337,
        "start_time": "2022-03-13T17:31:12.745Z"
      },
      {
        "duration": 34,
        "start_time": "2022-03-13T17:31:26.999Z"
      },
      {
        "duration": 23,
        "start_time": "2022-03-13T17:31:42.314Z"
      },
      {
        "duration": 37,
        "start_time": "2022-03-13T17:31:49.063Z"
      },
      {
        "duration": 34,
        "start_time": "2022-03-13T17:34:13.534Z"
      },
      {
        "duration": 42,
        "start_time": "2022-03-13T17:34:38.438Z"
      },
      {
        "duration": 22,
        "start_time": "2022-03-13T17:37:56.391Z"
      },
      {
        "duration": 40,
        "start_time": "2022-03-13T17:39:51.600Z"
      },
      {
        "duration": 36,
        "start_time": "2022-03-13T17:40:07.017Z"
      },
      {
        "duration": 320,
        "start_time": "2022-03-13T17:40:11.371Z"
      },
      {
        "duration": 343,
        "start_time": "2022-03-13T17:41:05.444Z"
      },
      {
        "duration": 309,
        "start_time": "2022-03-13T17:41:41.803Z"
      },
      {
        "duration": 342,
        "start_time": "2022-03-13T17:42:01.445Z"
      },
      {
        "duration": 340,
        "start_time": "2022-03-13T17:42:11.261Z"
      },
      {
        "duration": 326,
        "start_time": "2022-03-13T17:43:10.301Z"
      },
      {
        "duration": 27,
        "start_time": "2022-03-13T17:43:15.584Z"
      },
      {
        "duration": 337,
        "start_time": "2022-03-13T17:44:03.941Z"
      },
      {
        "duration": 368,
        "start_time": "2022-03-13T17:44:33.821Z"
      },
      {
        "duration": 341,
        "start_time": "2022-03-13T17:44:47.933Z"
      },
      {
        "duration": 45,
        "start_time": "2022-03-13T17:49:12.549Z"
      },
      {
        "duration": 11,
        "start_time": "2022-03-13T17:49:27.239Z"
      },
      {
        "duration": 543,
        "start_time": "2022-03-13T17:50:19.439Z"
      },
      {
        "duration": 328,
        "start_time": "2022-03-13T17:50:25.364Z"
      },
      {
        "duration": 382,
        "start_time": "2022-03-13T17:50:32.238Z"
      },
      {
        "duration": 610,
        "start_time": "2022-03-13T17:50:47.801Z"
      },
      {
        "duration": 431,
        "start_time": "2022-03-13T17:50:53.081Z"
      },
      {
        "duration": 630,
        "start_time": "2022-03-13T17:50:58.363Z"
      },
      {
        "duration": 445,
        "start_time": "2022-03-13T17:51:05.686Z"
      },
      {
        "duration": 9,
        "start_time": "2022-03-13T17:51:52.231Z"
      },
      {
        "duration": 456,
        "start_time": "2022-03-13T17:51:54.584Z"
      },
      {
        "duration": 439,
        "start_time": "2022-03-13T17:51:57.140Z"
      },
      {
        "duration": 330,
        "start_time": "2022-03-13T17:52:02.825Z"
      },
      {
        "duration": 673,
        "start_time": "2022-03-13T17:52:18.866Z"
      },
      {
        "duration": 463,
        "start_time": "2022-03-13T17:52:24.708Z"
      },
      {
        "duration": 705,
        "start_time": "2022-03-13T17:52:35.619Z"
      },
      {
        "duration": 469,
        "start_time": "2022-03-13T17:52:40.224Z"
      },
      {
        "duration": 455,
        "start_time": "2022-03-13T17:52:45.076Z"
      },
      {
        "duration": 434,
        "start_time": "2022-03-13T17:52:58.670Z"
      },
      {
        "duration": 452,
        "start_time": "2022-03-13T17:53:10.273Z"
      },
      {
        "duration": 478,
        "start_time": "2022-03-13T17:53:21.473Z"
      },
      {
        "duration": 439,
        "start_time": "2022-03-13T17:54:00.703Z"
      },
      {
        "duration": 408,
        "start_time": "2022-03-13T17:54:04.488Z"
      },
      {
        "duration": 353,
        "start_time": "2022-03-13T17:54:07.366Z"
      },
      {
        "duration": 320,
        "start_time": "2022-03-13T17:54:11.067Z"
      },
      {
        "duration": 443,
        "start_time": "2022-03-13T17:54:51.547Z"
      },
      {
        "duration": 465,
        "start_time": "2022-03-13T17:54:56.065Z"
      },
      {
        "duration": 473,
        "start_time": "2022-03-13T17:55:01.227Z"
      },
      {
        "duration": 390,
        "start_time": "2022-03-13T17:55:05.799Z"
      },
      {
        "duration": 449,
        "start_time": "2022-03-13T17:55:15.226Z"
      },
      {
        "duration": 361,
        "start_time": "2022-03-13T17:55:22.426Z"
      },
      {
        "duration": 445,
        "start_time": "2022-03-13T17:55:33.270Z"
      },
      {
        "duration": 333,
        "start_time": "2022-03-13T17:55:48.525Z"
      },
      {
        "duration": 15,
        "start_time": "2022-03-13T17:57:06.238Z"
      },
      {
        "duration": 322,
        "start_time": "2022-03-13T17:58:15.907Z"
      },
      {
        "duration": 271,
        "start_time": "2022-03-13T17:58:49.954Z"
      },
      {
        "duration": 30,
        "start_time": "2022-03-13T17:58:58.636Z"
      },
      {
        "duration": 435,
        "start_time": "2022-03-13T17:59:04.677Z"
      },
      {
        "duration": 421,
        "start_time": "2022-03-13T17:59:56.344Z"
      },
      {
        "duration": 307,
        "start_time": "2022-03-13T18:00:03.649Z"
      },
      {
        "duration": 587,
        "start_time": "2022-03-13T18:00:25.794Z"
      },
      {
        "duration": 312,
        "start_time": "2022-03-13T18:00:33.101Z"
      },
      {
        "duration": 1563,
        "start_time": "2022-03-13T18:00:56.612Z"
      },
      {
        "duration": 20,
        "start_time": "2022-03-13T18:00:58.178Z"
      },
      {
        "duration": 39,
        "start_time": "2022-03-13T18:00:58.203Z"
      },
      {
        "duration": 1147,
        "start_time": "2022-03-13T18:00:58.245Z"
      },
      {
        "duration": 408,
        "start_time": "2022-03-13T18:00:59.395Z"
      },
      {
        "duration": 406,
        "start_time": "2022-03-13T18:00:59.805Z"
      },
      {
        "duration": 439,
        "start_time": "2022-03-13T18:01:00.213Z"
      },
      {
        "duration": 553,
        "start_time": "2022-03-13T18:01:00.658Z"
      },
      {
        "duration": 526,
        "start_time": "2022-03-13T18:01:01.216Z"
      },
      {
        "duration": 436,
        "start_time": "2022-03-13T18:01:01.745Z"
      },
      {
        "duration": 461,
        "start_time": "2022-03-13T18:01:02.187Z"
      },
      {
        "duration": 468,
        "start_time": "2022-03-13T18:01:02.651Z"
      },
      {
        "duration": 10,
        "start_time": "2022-03-13T18:01:03.122Z"
      },
      {
        "duration": 16,
        "start_time": "2022-03-13T18:01:03.135Z"
      },
      {
        "duration": 52,
        "start_time": "2022-03-13T18:01:03.154Z"
      },
      {
        "duration": 10,
        "start_time": "2022-03-13T18:01:03.209Z"
      },
      {
        "duration": 415,
        "start_time": "2022-03-13T18:01:03.221Z"
      },
      {
        "duration": 589,
        "start_time": "2022-03-13T18:01:03.639Z"
      },
      {
        "duration": 884,
        "start_time": "2022-03-13T18:01:04.231Z"
      },
      {
        "duration": 1161,
        "start_time": "2022-03-13T18:01:05.118Z"
      },
      {
        "duration": 1075,
        "start_time": "2022-03-13T18:01:06.282Z"
      },
      {
        "duration": 66,
        "start_time": "2022-03-13T18:01:07.360Z"
      },
      {
        "duration": 472,
        "start_time": "2022-03-13T18:01:07.431Z"
      },
      {
        "duration": 9,
        "start_time": "2022-03-13T18:01:07.906Z"
      },
      {
        "duration": 451,
        "start_time": "2022-03-13T18:01:07.918Z"
      },
      {
        "duration": 495,
        "start_time": "2022-03-13T18:01:08.372Z"
      },
      {
        "duration": 340,
        "start_time": "2022-03-13T18:01:08.870Z"
      },
      {
        "duration": 357,
        "start_time": "2022-03-13T18:01:09.212Z"
      },
      {
        "duration": 344,
        "start_time": "2022-03-13T18:01:09.571Z"
      },
      {
        "duration": 867,
        "start_time": "2022-03-13T18:02:58.462Z"
      },
      {
        "duration": 320,
        "start_time": "2022-03-13T18:03:16.210Z"
      },
      {
        "duration": 414,
        "start_time": "2022-03-13T18:03:46.282Z"
      },
      {
        "duration": 312,
        "start_time": "2022-03-13T18:04:16.624Z"
      },
      {
        "duration": -307,
        "start_time": "2022-03-13T18:05:30.541Z"
      },
      {
        "duration": 415,
        "start_time": "2022-03-13T18:05:38.680Z"
      },
      {
        "duration": 832,
        "start_time": "2022-03-13T18:06:11.570Z"
      },
      {
        "duration": 4816,
        "start_time": "2022-03-13T18:06:46.921Z"
      },
      {
        "duration": 989,
        "start_time": "2022-03-13T18:07:23.462Z"
      },
      {
        "duration": 259,
        "start_time": "2022-03-13T18:08:34.180Z"
      },
      {
        "duration": 749,
        "start_time": "2022-03-13T18:08:39.521Z"
      },
      {
        "duration": 35879,
        "start_time": "2022-03-13T18:09:18.341Z"
      },
      {
        "duration": 10418,
        "start_time": "2022-03-13T18:10:01.446Z"
      },
      {
        "duration": 653,
        "start_time": "2022-03-13T18:11:23.354Z"
      },
      {
        "duration": 885,
        "start_time": "2022-03-13T18:11:26.262Z"
      },
      {
        "duration": 523,
        "start_time": "2022-03-13T18:11:29.312Z"
      },
      {
        "duration": 1969,
        "start_time": "2022-03-13T18:12:44.835Z"
      },
      {
        "duration": 626,
        "start_time": "2022-03-13T18:12:59.222Z"
      },
      {
        "duration": 397,
        "start_time": "2022-03-13T18:14:05.068Z"
      },
      {
        "duration": 1555,
        "start_time": "2022-03-14T08:44:22.516Z"
      },
      {
        "duration": 77,
        "start_time": "2022-03-14T08:44:24.212Z"
      },
      {
        "duration": 17,
        "start_time": "2022-03-14T08:44:24.292Z"
      },
      {
        "duration": 65,
        "start_time": "2022-03-14T08:44:24.313Z"
      },
      {
        "duration": 996,
        "start_time": "2022-03-14T08:44:24.381Z"
      },
      {
        "duration": 373,
        "start_time": "2022-03-14T08:44:25.379Z"
      },
      {
        "duration": 389,
        "start_time": "2022-03-14T08:44:25.754Z"
      },
      {
        "duration": 403,
        "start_time": "2022-03-14T08:44:26.146Z"
      },
      {
        "duration": 524,
        "start_time": "2022-03-14T08:44:26.552Z"
      },
      {
        "duration": 472,
        "start_time": "2022-03-14T08:44:27.080Z"
      },
      {
        "duration": 381,
        "start_time": "2022-03-14T08:44:27.555Z"
      },
      {
        "duration": 388,
        "start_time": "2022-03-14T08:44:27.938Z"
      },
      {
        "duration": 391,
        "start_time": "2022-03-14T08:44:28.328Z"
      },
      {
        "duration": 7,
        "start_time": "2022-03-14T08:44:28.721Z"
      },
      {
        "duration": 13,
        "start_time": "2022-03-14T08:44:28.731Z"
      },
      {
        "duration": 39,
        "start_time": "2022-03-14T08:44:28.746Z"
      },
      {
        "duration": 11,
        "start_time": "2022-03-14T08:44:28.788Z"
      },
      {
        "duration": 922,
        "start_time": "2022-03-14T08:44:28.802Z"
      },
      {
        "duration": 566,
        "start_time": "2022-03-14T08:44:29.727Z"
      },
      {
        "duration": 754,
        "start_time": "2022-03-14T08:44:30.295Z"
      },
      {
        "duration": 983,
        "start_time": "2022-03-14T08:44:31.051Z"
      },
      {
        "duration": 803,
        "start_time": "2022-03-14T08:44:32.036Z"
      },
      {
        "duration": 64,
        "start_time": "2022-03-14T08:44:32.841Z"
      },
      {
        "duration": 449,
        "start_time": "2022-03-14T08:44:32.909Z"
      },
      {
        "duration": 20,
        "start_time": "2022-03-14T08:44:33.361Z"
      },
      {
        "duration": 451,
        "start_time": "2022-03-14T08:44:33.383Z"
      },
      {
        "duration": 451,
        "start_time": "2022-03-14T08:44:33.836Z"
      },
      {
        "duration": 312,
        "start_time": "2022-03-14T08:44:34.294Z"
      },
      {
        "duration": 443,
        "start_time": "2022-03-14T08:44:34.608Z"
      },
      {
        "duration": 1212,
        "start_time": "2022-03-14T08:44:35.055Z"
      },
      {
        "duration": 563,
        "start_time": "2022-03-14T08:44:36.270Z"
      },
      {
        "duration": 728,
        "start_time": "2022-03-14T08:44:36.836Z"
      },
      {
        "duration": 581,
        "start_time": "2022-03-14T08:44:37.566Z"
      },
      {
        "duration": 810,
        "start_time": "2022-03-14T08:44:38.149Z"
      },
      {
        "duration": 490,
        "start_time": "2022-03-14T08:44:38.962Z"
      },
      {
        "duration": 10,
        "start_time": "2022-03-14T08:45:27.261Z"
      },
      {
        "duration": 263,
        "start_time": "2022-03-14T08:45:48.649Z"
      },
      {
        "duration": 427,
        "start_time": "2022-03-14T08:46:24.273Z"
      },
      {
        "duration": 11195,
        "start_time": "2022-03-14T08:47:13.122Z"
      },
      {
        "duration": 9,
        "start_time": "2022-03-14T08:47:56.030Z"
      },
      {
        "duration": 3644,
        "start_time": "2022-03-14T08:48:49.762Z"
      },
      {
        "duration": 649,
        "start_time": "2022-03-14T08:49:07.201Z"
      },
      {
        "duration": 3469,
        "start_time": "2022-03-14T08:49:14.633Z"
      },
      {
        "duration": 660,
        "start_time": "2022-03-14T08:51:08.221Z"
      },
      {
        "duration": 433,
        "start_time": "2022-03-14T08:52:02.149Z"
      },
      {
        "duration": 1577,
        "start_time": "2022-03-14T08:52:15.871Z"
      },
      {
        "duration": 21,
        "start_time": "2022-03-14T08:52:17.452Z"
      },
      {
        "duration": 38,
        "start_time": "2022-03-14T08:52:17.476Z"
      },
      {
        "duration": 1028,
        "start_time": "2022-03-14T08:52:17.516Z"
      },
      {
        "duration": 379,
        "start_time": "2022-03-14T08:52:18.547Z"
      },
      {
        "duration": 389,
        "start_time": "2022-03-14T08:52:18.928Z"
      },
      {
        "duration": 388,
        "start_time": "2022-03-14T08:52:19.319Z"
      },
      {
        "duration": 514,
        "start_time": "2022-03-14T08:52:19.710Z"
      },
      {
        "duration": 456,
        "start_time": "2022-03-14T08:52:20.228Z"
      },
      {
        "duration": 364,
        "start_time": "2022-03-14T08:52:20.686Z"
      },
      {
        "duration": 383,
        "start_time": "2022-03-14T08:52:21.053Z"
      },
      {
        "duration": 409,
        "start_time": "2022-03-14T08:52:21.439Z"
      },
      {
        "duration": 7,
        "start_time": "2022-03-14T08:52:21.851Z"
      },
      {
        "duration": 12,
        "start_time": "2022-03-14T08:52:21.874Z"
      },
      {
        "duration": 381,
        "start_time": "2022-03-14T08:52:31.224Z"
      },
      {
        "duration": 154,
        "start_time": "2022-03-14T08:52:31.455Z"
      },
      {
        "duration": 150,
        "start_time": "2022-03-14T08:52:31.460Z"
      },
      {
        "duration": 10,
        "start_time": "2022-03-14T08:52:31.602Z"
      },
      {
        "duration": 7,
        "start_time": "2022-03-14T08:52:31.606Z"
      },
      {
        "duration": 4,
        "start_time": "2022-03-14T08:52:31.611Z"
      },
      {
        "duration": 2,
        "start_time": "2022-03-14T08:52:31.614Z"
      },
      {
        "duration": 0,
        "start_time": "2022-03-14T08:52:31.617Z"
      },
      {
        "duration": -1,
        "start_time": "2022-03-14T08:52:31.620Z"
      },
      {
        "duration": -5,
        "start_time": "2022-03-14T08:52:31.625Z"
      },
      {
        "duration": -7,
        "start_time": "2022-03-14T08:52:31.628Z"
      },
      {
        "duration": -8,
        "start_time": "2022-03-14T08:52:31.631Z"
      },
      {
        "duration": -9,
        "start_time": "2022-03-14T08:52:31.633Z"
      },
      {
        "duration": -11,
        "start_time": "2022-03-14T08:52:31.637Z"
      },
      {
        "duration": -13,
        "start_time": "2022-03-14T08:52:31.640Z"
      },
      {
        "duration": -14,
        "start_time": "2022-03-14T08:52:31.643Z"
      },
      {
        "duration": -16,
        "start_time": "2022-03-14T08:52:31.646Z"
      },
      {
        "duration": -17,
        "start_time": "2022-03-14T08:52:31.649Z"
      },
      {
        "duration": -19,
        "start_time": "2022-03-14T08:52:31.652Z"
      },
      {
        "duration": -21,
        "start_time": "2022-03-14T08:52:31.655Z"
      },
      {
        "duration": -22,
        "start_time": "2022-03-14T08:52:31.658Z"
      },
      {
        "duration": 278,
        "start_time": "2022-03-14T08:52:46.944Z"
      },
      {
        "duration": 315,
        "start_time": "2022-03-14T08:52:59.991Z"
      },
      {
        "duration": 1567,
        "start_time": "2022-03-14T08:53:48.590Z"
      },
      {
        "duration": 20,
        "start_time": "2022-03-14T08:53:50.160Z"
      },
      {
        "duration": 40,
        "start_time": "2022-03-14T08:53:50.183Z"
      },
      {
        "duration": 983,
        "start_time": "2022-03-14T08:53:50.225Z"
      },
      {
        "duration": 376,
        "start_time": "2022-03-14T08:53:51.211Z"
      },
      {
        "duration": 383,
        "start_time": "2022-03-14T08:53:51.590Z"
      },
      {
        "duration": 435,
        "start_time": "2022-03-14T08:53:51.975Z"
      },
      {
        "duration": 492,
        "start_time": "2022-03-14T08:53:52.413Z"
      },
      {
        "duration": 469,
        "start_time": "2022-03-14T08:53:52.908Z"
      },
      {
        "duration": 461,
        "start_time": "2022-03-14T08:53:53.379Z"
      },
      {
        "duration": 425,
        "start_time": "2022-03-14T08:53:53.843Z"
      },
      {
        "duration": 403,
        "start_time": "2022-03-14T08:53:54.273Z"
      },
      {
        "duration": 7,
        "start_time": "2022-03-14T08:53:54.679Z"
      },
      {
        "duration": 16,
        "start_time": "2022-03-14T08:53:54.688Z"
      },
      {
        "duration": 781,
        "start_time": "2022-03-14T08:53:54.706Z"
      },
      {
        "duration": 668,
        "start_time": "2022-03-14T08:54:34.625Z"
      },
      {
        "duration": 851,
        "start_time": "2022-03-14T08:54:44.683Z"
      },
      {
        "duration": 656,
        "start_time": "2022-03-14T08:54:54.603Z"
      },
      {
        "duration": 373,
        "start_time": "2022-03-14T08:55:12.662Z"
      },
      {
        "duration": 12,
        "start_time": "2022-03-14T08:55:16.525Z"
      },
      {
        "duration": 14,
        "start_time": "2022-03-14T08:59:00.419Z"
      },
      {
        "duration": 341,
        "start_time": "2022-03-14T08:59:04.594Z"
      },
      {
        "duration": 8,
        "start_time": "2022-03-14T08:59:12.926Z"
      },
      {
        "duration": 1719,
        "start_time": "2022-03-14T08:59:35.450Z"
      },
      {
        "duration": 17,
        "start_time": "2022-03-14T08:59:37.171Z"
      },
      {
        "duration": 38,
        "start_time": "2022-03-14T08:59:37.191Z"
      },
      {
        "duration": 975,
        "start_time": "2022-03-14T08:59:37.232Z"
      },
      {
        "duration": 370,
        "start_time": "2022-03-14T08:59:38.210Z"
      },
      {
        "duration": 387,
        "start_time": "2022-03-14T08:59:38.583Z"
      },
      {
        "duration": 479,
        "start_time": "2022-03-14T08:59:38.974Z"
      },
      {
        "duration": 501,
        "start_time": "2022-03-14T08:59:39.456Z"
      },
      {
        "duration": 468,
        "start_time": "2022-03-14T08:59:39.959Z"
      },
      {
        "duration": 364,
        "start_time": "2022-03-14T08:59:40.430Z"
      },
      {
        "duration": 395,
        "start_time": "2022-03-14T08:59:40.797Z"
      },
      {
        "duration": 398,
        "start_time": "2022-03-14T08:59:41.194Z"
      },
      {
        "duration": 8,
        "start_time": "2022-03-14T08:59:41.595Z"
      },
      {
        "duration": 13,
        "start_time": "2022-03-14T08:59:41.605Z"
      },
      {
        "duration": 675,
        "start_time": "2022-03-14T08:59:41.621Z"
      },
      {
        "duration": 12,
        "start_time": "2022-03-14T08:59:42.299Z"
      },
      {
        "duration": 466,
        "start_time": "2022-03-14T09:05:50.151Z"
      },
      {
        "duration": 421,
        "start_time": "2022-03-14T09:06:22.931Z"
      },
      {
        "duration": 15,
        "start_time": "2022-03-14T09:07:06.130Z"
      },
      {
        "duration": 11,
        "start_time": "2022-03-14T09:07:10.050Z"
      },
      {
        "duration": 655,
        "start_time": "2022-03-14T09:07:14.490Z"
      },
      {
        "duration": 9,
        "start_time": "2022-03-14T09:08:13.712Z"
      },
      {
        "duration": 9,
        "start_time": "2022-03-14T09:08:17.141Z"
      },
      {
        "duration": 9,
        "start_time": "2022-03-14T09:08:27.031Z"
      },
      {
        "duration": 9,
        "start_time": "2022-03-14T09:08:29.293Z"
      },
      {
        "duration": 2118,
        "start_time": "2022-03-14T09:08:37.684Z"
      },
      {
        "duration": 16,
        "start_time": "2022-03-14T09:08:39.806Z"
      },
      {
        "duration": 61,
        "start_time": "2022-03-14T09:08:39.826Z"
      },
      {
        "duration": 1013,
        "start_time": "2022-03-14T09:08:39.890Z"
      },
      {
        "duration": 389,
        "start_time": "2022-03-14T09:08:40.906Z"
      },
      {
        "duration": 377,
        "start_time": "2022-03-14T09:08:41.298Z"
      },
      {
        "duration": 413,
        "start_time": "2022-03-14T09:08:41.678Z"
      },
      {
        "duration": 510,
        "start_time": "2022-03-14T09:08:42.094Z"
      },
      {
        "duration": 478,
        "start_time": "2022-03-14T09:08:42.609Z"
      },
      {
        "duration": 367,
        "start_time": "2022-03-14T09:08:43.090Z"
      },
      {
        "duration": 504,
        "start_time": "2022-03-14T09:08:43.460Z"
      },
      {
        "duration": 402,
        "start_time": "2022-03-14T09:08:43.974Z"
      },
      {
        "duration": 9,
        "start_time": "2022-03-14T09:08:44.379Z"
      },
      {
        "duration": 21,
        "start_time": "2022-03-14T09:08:44.390Z"
      },
      {
        "duration": 727,
        "start_time": "2022-03-14T09:08:44.414Z"
      },
      {
        "duration": 9,
        "start_time": "2022-03-14T09:08:45.145Z"
      },
      {
        "duration": 12,
        "start_time": "2022-03-14T09:08:49.691Z"
      },
      {
        "duration": 10,
        "start_time": "2022-03-14T09:08:52.131Z"
      },
      {
        "duration": 15,
        "start_time": "2022-03-14T09:09:00.011Z"
      },
      {
        "duration": 11,
        "start_time": "2022-03-14T09:09:02.871Z"
      },
      {
        "duration": 680,
        "start_time": "2022-03-14T09:09:05.872Z"
      },
      {
        "duration": 13,
        "start_time": "2022-03-14T09:09:33.951Z"
      },
      {
        "duration": 13,
        "start_time": "2022-03-14T09:09:35.831Z"
      },
      {
        "duration": 109,
        "start_time": "2022-03-14T09:09:53.587Z"
      },
      {
        "duration": 16,
        "start_time": "2022-03-14T09:11:31.873Z"
      },
      {
        "duration": 11,
        "start_time": "2022-03-14T09:11:34.871Z"
      },
      {
        "duration": 20,
        "start_time": "2022-03-14T09:11:55.215Z"
      },
      {
        "duration": 741,
        "start_time": "2022-03-14T09:11:58.203Z"
      },
      {
        "duration": 16,
        "start_time": "2022-03-14T09:12:15.211Z"
      },
      {
        "duration": 11,
        "start_time": "2022-03-14T09:12:17.791Z"
      },
      {
        "duration": 12,
        "start_time": "2022-03-14T09:12:45.143Z"
      },
      {
        "duration": 11,
        "start_time": "2022-03-14T09:12:47.044Z"
      },
      {
        "duration": 1641,
        "start_time": "2022-03-14T09:16:49.152Z"
      },
      {
        "duration": 17,
        "start_time": "2022-03-14T09:16:50.796Z"
      },
      {
        "duration": 40,
        "start_time": "2022-03-14T09:16:50.816Z"
      },
      {
        "duration": 1120,
        "start_time": "2022-03-14T09:16:50.858Z"
      },
      {
        "duration": 380,
        "start_time": "2022-03-14T09:16:51.980Z"
      },
      {
        "duration": 357,
        "start_time": "2022-03-14T09:16:52.363Z"
      },
      {
        "duration": 404,
        "start_time": "2022-03-14T09:16:52.722Z"
      },
      {
        "duration": 511,
        "start_time": "2022-03-14T09:16:53.130Z"
      },
      {
        "duration": 544,
        "start_time": "2022-03-14T09:16:53.645Z"
      },
      {
        "duration": 389,
        "start_time": "2022-03-14T09:16:54.193Z"
      },
      {
        "duration": 379,
        "start_time": "2022-03-14T09:16:54.585Z"
      },
      {
        "duration": 410,
        "start_time": "2022-03-14T09:16:54.966Z"
      },
      {
        "duration": 8,
        "start_time": "2022-03-14T09:16:55.379Z"
      },
      {
        "duration": 16,
        "start_time": "2022-03-14T09:16:55.390Z"
      },
      {
        "duration": 1023,
        "start_time": "2022-03-14T09:16:55.409Z"
      },
      {
        "duration": 9,
        "start_time": "2022-03-14T09:16:56.434Z"
      },
      {
        "duration": 13,
        "start_time": "2022-03-14T09:18:49.205Z"
      },
      {
        "duration": 18,
        "start_time": "2022-03-14T09:19:44.501Z"
      },
      {
        "duration": 640,
        "start_time": "2022-03-14T09:19:58.018Z"
      },
      {
        "duration": 18,
        "start_time": "2022-03-14T09:20:09.298Z"
      },
      {
        "duration": 776,
        "start_time": "2022-03-14T09:20:09.800Z"
      },
      {
        "duration": 17,
        "start_time": "2022-03-14T09:20:40.778Z"
      },
      {
        "duration": 645,
        "start_time": "2022-03-14T09:20:41.447Z"
      },
      {
        "duration": 13,
        "start_time": "2022-03-14T09:21:55.717Z"
      },
      {
        "duration": 661,
        "start_time": "2022-03-14T09:21:56.526Z"
      },
      {
        "duration": 10,
        "start_time": "2022-03-14T09:23:10.350Z"
      },
      {
        "duration": 651,
        "start_time": "2022-03-14T09:23:10.897Z"
      },
      {
        "duration": 10,
        "start_time": "2022-03-14T09:25:53.445Z"
      },
      {
        "duration": 645,
        "start_time": "2022-03-14T09:25:55.078Z"
      },
      {
        "duration": 448,
        "start_time": "2022-03-14T09:28:25.517Z"
      },
      {
        "duration": 300,
        "start_time": "2022-03-14T09:28:42.185Z"
      },
      {
        "duration": 11,
        "start_time": "2022-03-14T09:28:49.599Z"
      },
      {
        "duration": 12,
        "start_time": "2022-03-14T09:28:55.277Z"
      },
      {
        "duration": 11,
        "start_time": "2022-03-14T09:28:55.997Z"
      },
      {
        "duration": 16,
        "start_time": "2022-03-14T09:31:47.737Z"
      },
      {
        "duration": 10,
        "start_time": "2022-03-14T09:31:49.978Z"
      },
      {
        "duration": 17,
        "start_time": "2022-03-14T09:31:57.166Z"
      },
      {
        "duration": 10,
        "start_time": "2022-03-14T09:32:01.225Z"
      },
      {
        "duration": 12,
        "start_time": "2022-03-14T09:32:15.077Z"
      },
      {
        "duration": 12,
        "start_time": "2022-03-14T09:32:24.030Z"
      },
      {
        "duration": 151,
        "start_time": "2022-03-14T09:33:27.459Z"
      },
      {
        "duration": 10,
        "start_time": "2022-03-14T09:33:27.978Z"
      },
      {
        "duration": 25,
        "start_time": "2022-03-14T09:33:46.118Z"
      },
      {
        "duration": 10,
        "start_time": "2022-03-14T09:33:47.737Z"
      },
      {
        "duration": 22,
        "start_time": "2022-03-14T09:33:53.579Z"
      },
      {
        "duration": 13,
        "start_time": "2022-03-14T09:33:53.604Z"
      },
      {
        "duration": 17,
        "start_time": "2022-03-14T09:34:03.358Z"
      },
      {
        "duration": 10,
        "start_time": "2022-03-14T09:34:04.306Z"
      },
      {
        "duration": 25,
        "start_time": "2022-03-14T09:34:26.757Z"
      },
      {
        "duration": 10,
        "start_time": "2022-03-14T09:34:27.497Z"
      },
      {
        "duration": 357,
        "start_time": "2022-03-14T09:35:57.744Z"
      },
      {
        "duration": 1593,
        "start_time": "2022-03-14T09:36:12.077Z"
      },
      {
        "duration": 16,
        "start_time": "2022-03-14T09:36:13.673Z"
      },
      {
        "duration": 50,
        "start_time": "2022-03-14T09:36:13.693Z"
      },
      {
        "duration": 1048,
        "start_time": "2022-03-14T09:36:13.745Z"
      },
      {
        "duration": 385,
        "start_time": "2022-03-14T09:36:14.795Z"
      },
      {
        "duration": 369,
        "start_time": "2022-03-14T09:36:15.183Z"
      },
      {
        "duration": 421,
        "start_time": "2022-03-14T09:36:15.555Z"
      },
      {
        "duration": 537,
        "start_time": "2022-03-14T09:36:15.981Z"
      },
      {
        "duration": 500,
        "start_time": "2022-03-14T09:36:16.521Z"
      },
      {
        "duration": 393,
        "start_time": "2022-03-14T09:36:17.024Z"
      },
      {
        "duration": 395,
        "start_time": "2022-03-14T09:36:17.420Z"
      },
      {
        "duration": 432,
        "start_time": "2022-03-14T09:36:17.818Z"
      },
      {
        "duration": 7,
        "start_time": "2022-03-14T09:36:18.252Z"
      },
      {
        "duration": 42,
        "start_time": "2022-03-14T09:36:18.262Z"
      },
      {
        "duration": 706,
        "start_time": "2022-03-14T09:36:18.306Z"
      },
      {
        "duration": 9,
        "start_time": "2022-03-14T09:36:19.015Z"
      },
      {
        "duration": 46,
        "start_time": "2022-03-14T09:36:19.027Z"
      },
      {
        "duration": 650,
        "start_time": "2022-03-14T09:36:33.705Z"
      },
      {
        "duration": 85,
        "start_time": "2022-03-14T09:38:25.216Z"
      },
      {
        "duration": 15,
        "start_time": "2022-03-14T09:38:25.304Z"
      },
      {
        "duration": 59,
        "start_time": "2022-03-14T09:38:25.322Z"
      },
      {
        "duration": 1211,
        "start_time": "2022-03-14T09:38:25.384Z"
      },
      {
        "duration": 388,
        "start_time": "2022-03-14T09:38:26.598Z"
      },
      {
        "duration": 385,
        "start_time": "2022-03-14T09:38:26.988Z"
      },
      {
        "duration": 393,
        "start_time": "2022-03-14T09:38:27.375Z"
      },
      {
        "duration": 444,
        "start_time": "2022-03-14T09:38:27.773Z"
      },
      {
        "duration": 475,
        "start_time": "2022-03-14T09:38:28.221Z"
      },
      {
        "duration": 377,
        "start_time": "2022-03-14T09:38:28.700Z"
      },
      {
        "duration": 388,
        "start_time": "2022-03-14T09:38:29.080Z"
      },
      {
        "duration": 763,
        "start_time": "2022-03-14T09:38:29.474Z"
      },
      {
        "duration": 9,
        "start_time": "2022-03-14T09:38:30.240Z"
      },
      {
        "duration": 36,
        "start_time": "2022-03-14T09:38:30.251Z"
      },
      {
        "duration": 666,
        "start_time": "2022-03-14T09:38:30.289Z"
      },
      {
        "duration": 391,
        "start_time": "2022-03-14T09:39:08.938Z"
      },
      {
        "duration": 9,
        "start_time": "2022-03-14T09:39:18.985Z"
      },
      {
        "duration": 13,
        "start_time": "2022-03-14T09:39:25.084Z"
      },
      {
        "duration": 342,
        "start_time": "2022-03-14T09:41:43.598Z"
      },
      {
        "duration": 345,
        "start_time": "2022-03-14T09:41:47.208Z"
      },
      {
        "duration": 451,
        "start_time": "2022-03-14T09:41:56.366Z"
      },
      {
        "duration": 472,
        "start_time": "2022-03-14T09:41:59.666Z"
      },
      {
        "duration": 21,
        "start_time": "2022-03-14T09:42:17.866Z"
      },
      {
        "duration": 742,
        "start_time": "2022-03-14T09:42:18.347Z"
      },
      {
        "duration": 12,
        "start_time": "2022-03-14T09:42:21.386Z"
      },
      {
        "duration": 11,
        "start_time": "2022-03-14T09:43:11.438Z"
      },
      {
        "duration": 554,
        "start_time": "2022-03-14T09:43:17.205Z"
      },
      {
        "duration": 369,
        "start_time": "2022-03-14T09:43:34.227Z"
      },
      {
        "duration": 416,
        "start_time": "2022-03-14T09:43:38.406Z"
      },
      {
        "duration": 7,
        "start_time": "2022-03-14T09:43:47.267Z"
      },
      {
        "duration": 12,
        "start_time": "2022-03-14T09:43:55.674Z"
      },
      {
        "duration": 1246,
        "start_time": "2022-03-14T09:43:58.907Z"
      },
      {
        "duration": 1047,
        "start_time": "2022-03-14T09:44:02.406Z"
      },
      {
        "duration": 1077,
        "start_time": "2022-03-14T09:44:08.526Z"
      },
      {
        "duration": 1341,
        "start_time": "2022-03-14T09:44:17.854Z"
      },
      {
        "duration": 1184,
        "start_time": "2022-03-14T09:45:45.566Z"
      },
      {
        "duration": 12,
        "start_time": "2022-03-14T09:46:31.167Z"
      },
      {
        "duration": 856,
        "start_time": "2022-03-14T09:46:40.067Z"
      },
      {
        "duration": 562,
        "start_time": "2022-03-14T09:46:44.687Z"
      },
      {
        "duration": 752,
        "start_time": "2022-03-14T09:46:51.266Z"
      },
      {
        "duration": 967,
        "start_time": "2022-03-14T09:46:55.934Z"
      },
      {
        "duration": 599,
        "start_time": "2022-03-14T09:47:02.066Z"
      },
      {
        "duration": 53,
        "start_time": "2022-03-14T10:29:50.012Z"
      },
      {
        "duration": 366,
        "start_time": "2022-03-14T10:30:14.839Z"
      },
      {
        "duration": 10,
        "start_time": "2022-03-14T10:31:32.080Z"
      },
      {
        "duration": 404,
        "start_time": "2022-03-14T10:31:34.661Z"
      },
      {
        "duration": 489,
        "start_time": "2022-03-14T10:31:38.669Z"
      },
      {
        "duration": 481,
        "start_time": "2022-03-14T10:31:42.314Z"
      },
      {
        "duration": 341,
        "start_time": "2022-03-14T10:31:45.586Z"
      },
      {
        "duration": 714,
        "start_time": "2022-03-14T10:31:48.898Z"
      },
      {
        "duration": 390,
        "start_time": "2022-03-14T10:31:55.820Z"
      },
      {
        "duration": 709,
        "start_time": "2022-03-14T10:32:00.988Z"
      },
      {
        "duration": 592,
        "start_time": "2022-03-14T10:32:16.980Z"
      },
      {
        "duration": 754,
        "start_time": "2022-03-14T10:32:27.199Z"
      },
      {
        "duration": 489,
        "start_time": "2022-03-14T10:32:34.771Z"
      },
      {
        "duration": 489,
        "start_time": "2022-03-14T11:12:26.274Z"
      },
      {
        "duration": 780,
        "start_time": "2022-03-14T11:13:20.027Z"
      },
      {
        "duration": 575,
        "start_time": "2022-03-14T11:13:26.575Z"
      },
      {
        "duration": 670,
        "start_time": "2022-03-14T11:13:32.784Z"
      },
      {
        "duration": 396,
        "start_time": "2022-03-14T11:13:39.515Z"
      },
      {
        "duration": 687,
        "start_time": "2022-03-14T11:14:00.183Z"
      },
      {
        "duration": 517,
        "start_time": "2022-03-14T11:14:13.462Z"
      },
      {
        "duration": 480,
        "start_time": "2022-03-14T11:14:24.327Z"
      },
      {
        "duration": 415,
        "start_time": "2022-03-14T11:14:43.274Z"
      },
      {
        "duration": 423,
        "start_time": "2022-03-14T11:14:47.694Z"
      },
      {
        "duration": 357,
        "start_time": "2022-03-14T11:15:25.542Z"
      },
      {
        "duration": 8,
        "start_time": "2022-03-14T11:15:29.395Z"
      },
      {
        "duration": 418,
        "start_time": "2022-03-14T11:15:31.095Z"
      },
      {
        "duration": 428,
        "start_time": "2022-03-14T11:15:37.134Z"
      },
      {
        "duration": 508,
        "start_time": "2022-03-14T11:15:55.246Z"
      },
      {
        "duration": 316,
        "start_time": "2022-03-14T11:16:00.002Z"
      },
      {
        "duration": 790,
        "start_time": "2022-03-14T11:16:08.674Z"
      },
      {
        "duration": 389,
        "start_time": "2022-03-14T11:16:13.422Z"
      },
      {
        "duration": 693,
        "start_time": "2022-03-14T11:16:18.026Z"
      },
      {
        "duration": 561,
        "start_time": "2022-03-14T11:16:23.226Z"
      },
      {
        "duration": 1083,
        "start_time": "2022-03-14T11:16:27.514Z"
      },
      {
        "duration": 526,
        "start_time": "2022-03-14T11:16:33.614Z"
      },
      {
        "duration": 607,
        "start_time": "2022-03-14T11:17:16.154Z"
      },
      {
        "duration": 1307,
        "start_time": "2022-03-14T11:17:29.114Z"
      },
      {
        "duration": 724,
        "start_time": "2022-03-14T11:17:37.594Z"
      },
      {
        "duration": 537,
        "start_time": "2022-03-14T11:17:44.414Z"
      },
      {
        "duration": 856,
        "start_time": "2022-03-14T11:18:32.322Z"
      },
      {
        "duration": 10,
        "start_time": "2022-03-14T11:18:41.214Z"
      },
      {
        "duration": 428,
        "start_time": "2022-03-14T11:19:51.373Z"
      },
      {
        "duration": 506,
        "start_time": "2022-03-14T11:19:59.294Z"
      },
      {
        "duration": 437,
        "start_time": "2022-03-14T11:20:14.575Z"
      },
      {
        "duration": 471,
        "start_time": "2022-03-14T11:20:42.563Z"
      },
      {
        "duration": 16,
        "start_time": "2022-03-14T11:21:01.306Z"
      },
      {
        "duration": 368,
        "start_time": "2022-03-14T11:34:39.555Z"
      },
      {
        "duration": 341,
        "start_time": "2022-03-14T11:36:14.014Z"
      },
      {
        "duration": 395,
        "start_time": "2022-03-14T11:36:27.336Z"
      },
      {
        "duration": 419,
        "start_time": "2022-03-14T11:38:24.086Z"
      },
      {
        "duration": 336,
        "start_time": "2022-03-14T11:41:31.578Z"
      },
      {
        "duration": 416,
        "start_time": "2022-03-14T11:42:24.438Z"
      },
      {
        "duration": 10,
        "start_time": "2022-03-14T11:43:03.858Z"
      },
      {
        "duration": 421,
        "start_time": "2022-03-14T11:43:06.278Z"
      },
      {
        "duration": 427,
        "start_time": "2022-03-14T11:43:08.958Z"
      },
      {
        "duration": 539,
        "start_time": "2022-03-14T11:44:09.598Z"
      },
      {
        "duration": 424,
        "start_time": "2022-03-14T11:44:18.097Z"
      },
      {
        "duration": 316,
        "start_time": "2022-03-14T11:45:22.926Z"
      },
      {
        "duration": 825,
        "start_time": "2022-03-14T11:45:30.718Z"
      },
      {
        "duration": 359,
        "start_time": "2022-03-14T11:47:12.598Z"
      },
      {
        "duration": 401,
        "start_time": "2022-03-14T11:47:22.985Z"
      },
      {
        "duration": 436,
        "start_time": "2022-03-14T11:48:08.119Z"
      },
      {
        "duration": 438,
        "start_time": "2022-03-14T11:48:15.951Z"
      },
      {
        "duration": 424,
        "start_time": "2022-03-14T11:48:26.458Z"
      },
      {
        "duration": 438,
        "start_time": "2022-03-14T11:48:46.238Z"
      },
      {
        "duration": 459,
        "start_time": "2022-03-14T11:49:20.830Z"
      },
      {
        "duration": 2250,
        "start_time": "2022-03-25T18:19:23.235Z"
      },
      {
        "duration": 30,
        "start_time": "2022-03-25T18:19:28.422Z"
      },
      {
        "duration": 761,
        "start_time": "2022-03-25T18:25:31.304Z"
      },
      {
        "duration": 516,
        "start_time": "2022-03-25T18:25:45.430Z"
      },
      {
        "duration": 504,
        "start_time": "2022-03-25T18:25:53.582Z"
      },
      {
        "duration": 397,
        "start_time": "2022-03-25T18:26:00.480Z"
      },
      {
        "duration": 296,
        "start_time": "2022-03-25T18:26:23.071Z"
      },
      {
        "duration": 305,
        "start_time": "2022-03-25T18:26:28.258Z"
      },
      {
        "duration": 442,
        "start_time": "2022-03-25T18:27:20.484Z"
      },
      {
        "duration": 388,
        "start_time": "2022-03-25T18:29:37.237Z"
      },
      {
        "duration": 285,
        "start_time": "2022-03-25T18:29:45.288Z"
      },
      {
        "duration": 321,
        "start_time": "2022-03-25T18:29:52.418Z"
      },
      {
        "duration": 159,
        "start_time": "2022-03-25T18:30:00.969Z"
      },
      {
        "duration": 10,
        "start_time": "2022-03-25T18:30:28.009Z"
      },
      {
        "duration": 10,
        "start_time": "2022-03-25T18:30:40.621Z"
      },
      {
        "duration": 22,
        "start_time": "2022-03-25T18:37:13.419Z"
      },
      {
        "duration": 19,
        "start_time": "2022-03-25T18:38:32.850Z"
      },
      {
        "duration": 14,
        "start_time": "2022-03-25T18:39:31.383Z"
      },
      {
        "duration": 17,
        "start_time": "2022-03-25T18:39:45.609Z"
      },
      {
        "duration": 21,
        "start_time": "2022-03-25T18:40:46.770Z"
      },
      {
        "duration": 1586,
        "start_time": "2022-03-25T18:41:06.020Z"
      },
      {
        "duration": 22,
        "start_time": "2022-03-25T18:41:07.610Z"
      },
      {
        "duration": 55,
        "start_time": "2022-03-25T18:41:07.634Z"
      },
      {
        "duration": 899,
        "start_time": "2022-03-25T18:41:07.694Z"
      },
      {
        "duration": 334,
        "start_time": "2022-03-25T18:41:08.596Z"
      },
      {
        "duration": 264,
        "start_time": "2022-03-25T18:41:08.932Z"
      },
      {
        "duration": 397,
        "start_time": "2022-03-25T18:41:09.199Z"
      },
      {
        "duration": 436,
        "start_time": "2022-03-25T18:41:09.599Z"
      },
      {
        "duration": 356,
        "start_time": "2022-03-25T18:41:10.038Z"
      },
      {
        "duration": 356,
        "start_time": "2022-03-25T18:41:10.398Z"
      },
      {
        "duration": 275,
        "start_time": "2022-03-25T18:41:10.757Z"
      },
      {
        "duration": 509,
        "start_time": "2022-03-25T18:41:11.034Z"
      },
      {
        "duration": 24,
        "start_time": "2022-03-25T18:41:11.545Z"
      },
      {
        "duration": 17,
        "start_time": "2022-03-25T18:41:11.572Z"
      },
      {
        "duration": 499,
        "start_time": "2022-03-25T18:41:11.591Z"
      },
      {
        "duration": 339,
        "start_time": "2022-03-25T18:41:12.092Z"
      },
      {
        "duration": 10,
        "start_time": "2022-03-25T18:41:12.434Z"
      },
      {
        "duration": 33,
        "start_time": "2022-03-25T18:41:12.447Z"
      },
      {
        "duration": 15,
        "start_time": "2022-03-25T18:41:12.483Z"
      },
      {
        "duration": 318,
        "start_time": "2022-03-25T18:41:12.500Z"
      },
      {
        "duration": 7,
        "start_time": "2022-03-25T18:41:16.438Z"
      },
      {
        "duration": 9,
        "start_time": "2022-03-25T18:41:23.181Z"
      },
      {
        "duration": 587,
        "start_time": "2022-03-25T18:42:16.619Z"
      },
      {
        "duration": 319,
        "start_time": "2022-03-25T18:42:24.623Z"
      },
      {
        "duration": 845,
        "start_time": "2022-03-25T18:42:28.559Z"
      },
      {
        "duration": 668,
        "start_time": "2022-03-25T18:42:32.631Z"
      },
      {
        "duration": 389,
        "start_time": "2022-03-25T18:42:36.381Z"
      },
      {
        "duration": 10,
        "start_time": "2022-03-25T18:43:41.616Z"
      },
      {
        "duration": 289,
        "start_time": "2022-03-25T18:44:17.391Z"
      },
      {
        "duration": 106,
        "start_time": "2022-03-25T18:44:25.121Z"
      },
      {
        "duration": 290,
        "start_time": "2022-03-25T18:44:28.599Z"
      },
      {
        "duration": 315,
        "start_time": "2022-03-25T18:44:53.535Z"
      },
      {
        "duration": 329,
        "start_time": "2022-03-25T18:44:58.351Z"
      },
      {
        "duration": 323,
        "start_time": "2022-03-25T18:45:02.283Z"
      },
      {
        "duration": 323,
        "start_time": "2022-03-25T18:45:07.331Z"
      },
      {
        "duration": 296,
        "start_time": "2022-03-25T18:45:14.639Z"
      },
      {
        "duration": 284,
        "start_time": "2022-03-25T18:45:53.087Z"
      },
      {
        "duration": 399,
        "start_time": "2022-03-25T18:46:02.673Z"
      },
      {
        "duration": 279,
        "start_time": "2022-03-25T18:46:11.619Z"
      },
      {
        "duration": 296,
        "start_time": "2022-03-25T18:46:17.092Z"
      },
      {
        "duration": 300,
        "start_time": "2022-03-25T18:46:38.223Z"
      },
      {
        "duration": 481,
        "start_time": "2022-03-25T18:46:58.768Z"
      },
      {
        "duration": 322,
        "start_time": "2022-03-25T18:47:05.592Z"
      },
      {
        "duration": 14,
        "start_time": "2022-03-25T18:48:40.959Z"
      },
      {
        "duration": 330,
        "start_time": "2022-03-25T18:48:48.340Z"
      },
      {
        "duration": 11,
        "start_time": "2022-03-25T18:48:58.448Z"
      },
      {
        "duration": 337,
        "start_time": "2022-03-25T18:49:00.339Z"
      },
      {
        "duration": 13,
        "start_time": "2022-03-25T18:49:07.152Z"
      },
      {
        "duration": 342,
        "start_time": "2022-03-25T18:49:08.587Z"
      },
      {
        "duration": 12,
        "start_time": "2022-03-25T18:49:18.351Z"
      },
      {
        "duration": 344,
        "start_time": "2022-03-25T18:49:20.643Z"
      },
      {
        "duration": 474,
        "start_time": "2022-03-25T18:49:28.381Z"
      },
      {
        "duration": 15,
        "start_time": "2022-03-25T18:49:31.863Z"
      },
      {
        "duration": 372,
        "start_time": "2022-03-25T18:49:39.782Z"
      },
      {
        "duration": 14,
        "start_time": "2022-03-25T18:50:02.892Z"
      },
      {
        "duration": 356,
        "start_time": "2022-03-25T18:50:05.359Z"
      },
      {
        "duration": 333,
        "start_time": "2022-03-25T18:50:48.092Z"
      },
      {
        "duration": 483,
        "start_time": "2022-03-25T18:50:54.913Z"
      },
      {
        "duration": 336,
        "start_time": "2022-03-25T18:51:14.668Z"
      },
      {
        "duration": 14,
        "start_time": "2022-03-25T18:51:48.000Z"
      },
      {
        "duration": 1541,
        "start_time": "2022-03-25T18:51:56.652Z"
      },
      {
        "duration": 25,
        "start_time": "2022-03-25T18:51:58.196Z"
      },
      {
        "duration": 58,
        "start_time": "2022-03-25T18:51:58.223Z"
      },
      {
        "duration": 606,
        "start_time": "2022-03-25T18:51:58.284Z"
      },
      {
        "duration": 331,
        "start_time": "2022-03-25T18:51:58.892Z"
      },
      {
        "duration": 282,
        "start_time": "2022-03-25T18:51:59.226Z"
      },
      {
        "duration": 287,
        "start_time": "2022-03-25T18:51:59.511Z"
      },
      {
        "duration": 407,
        "start_time": "2022-03-25T18:51:59.800Z"
      },
      {
        "duration": 369,
        "start_time": "2022-03-25T18:52:00.209Z"
      },
      {
        "duration": 368,
        "start_time": "2022-03-25T18:52:00.583Z"
      },
      {
        "duration": 278,
        "start_time": "2022-03-25T18:52:00.953Z"
      },
      {
        "duration": 548,
        "start_time": "2022-03-25T18:52:01.233Z"
      },
      {
        "duration": 9,
        "start_time": "2022-03-25T18:52:01.784Z"
      },
      {
        "duration": 21,
        "start_time": "2022-03-25T18:52:01.795Z"
      },
      {
        "duration": 535,
        "start_time": "2022-03-25T18:52:01.818Z"
      },
      {
        "duration": 355,
        "start_time": "2022-03-25T18:52:02.356Z"
      },
      {
        "duration": 12,
        "start_time": "2022-03-25T18:52:02.713Z"
      },
      {
        "duration": 364,
        "start_time": "2022-03-25T18:52:02.727Z"
      },
      {
        "duration": 14,
        "start_time": "2022-03-25T18:52:03.093Z"
      },
      {
        "duration": 364,
        "start_time": "2022-03-25T18:52:03.109Z"
      },
      {
        "duration": 17,
        "start_time": "2022-03-25T18:52:03.476Z"
      },
      {
        "duration": 12,
        "start_time": "2022-03-25T18:52:03.496Z"
      },
      {
        "duration": 311,
        "start_time": "2022-03-25T18:52:03.511Z"
      },
      {
        "duration": 7,
        "start_time": "2022-03-25T18:52:03.825Z"
      },
      {
        "duration": 9,
        "start_time": "2022-03-25T18:52:03.835Z"
      },
      {
        "duration": 705,
        "start_time": "2022-03-25T18:52:03.869Z"
      },
      {
        "duration": 385,
        "start_time": "2022-03-25T18:52:04.577Z"
      },
      {
        "duration": 531,
        "start_time": "2022-03-25T18:52:04.976Z"
      },
      {
        "duration": 728,
        "start_time": "2022-03-25T18:52:05.510Z"
      },
      {
        "duration": 469,
        "start_time": "2022-03-25T18:52:06.241Z"
      },
      {
        "duration": 65,
        "start_time": "2022-03-25T18:52:06.712Z"
      },
      {
        "duration": 306,
        "start_time": "2022-03-25T18:52:06.782Z"
      },
      {
        "duration": 14,
        "start_time": "2022-03-25T18:52:07.090Z"
      },
      {
        "duration": 361,
        "start_time": "2022-03-25T18:52:07.118Z"
      },
      {
        "duration": 363,
        "start_time": "2022-03-25T18:52:07.481Z"
      },
      {
        "duration": 249,
        "start_time": "2022-03-25T18:52:07.847Z"
      },
      {
        "duration": 250,
        "start_time": "2022-03-25T18:52:08.098Z"
      },
      {
        "duration": 539,
        "start_time": "2022-03-25T18:52:08.351Z"
      },
      {
        "duration": 324,
        "start_time": "2022-03-25T18:52:08.893Z"
      },
      {
        "duration": 602,
        "start_time": "2022-03-25T18:52:09.219Z"
      },
      {
        "duration": 779,
        "start_time": "2022-03-25T18:52:09.824Z"
      },
      {
        "duration": 767,
        "start_time": "2022-03-25T18:52:10.605Z"
      },
      {
        "duration": 533,
        "start_time": "2022-03-25T18:52:11.375Z"
      }
    ],
    "kernelspec": {
      "display_name": "Python 3 (ipykernel)",
      "language": "python",
      "name": "python3"
    },
    "language_info": {
      "codemirror_mode": {
        "name": "ipython",
        "version": 3
      },
      "file_extension": ".py",
      "mimetype": "text/x-python",
      "name": "python",
      "nbconvert_exporter": "python",
      "pygments_lexer": "ipython3",
      "version": "3.9.5"
    },
    "toc": {
      "base_numbering": 1,
      "nav_menu": {},
      "number_sections": true,
      "sideBar": true,
      "skip_h1_title": true,
      "title_cell": "Содержание",
      "title_sidebar": "Contents",
      "toc_cell": true,
      "toc_position": {
        "height": "calc(100% - 180px)",
        "left": "10px",
        "top": "150px",
        "width": "355px"
      },
      "toc_section_display": true,
      "toc_window_display": false
    },
    "colab": {
      "provenance": []
    }
  },
  "nbformat": 4,
  "nbformat_minor": 0
}
