{
  "cells": [
    {
      "cell_type": "markdown",
      "id": "acd88842",
      "metadata": {
        "id": "acd88842"
      },
      "source": [
        "<div class=\"alert alert-info\">\n",
        "<font size=\"5\"><b>Комментарий ревьюера 2</b></font>\n",
        "\n",
        "Привет еще раз. Спасибо, что доделал работу. Оформление комментариев по работе сохраняется. Только обозначим, что это вторая итерация.\n",
        "\n",
        "</div>"
      ]
    },
    {
      "cell_type": "markdown",
      "id": "89df058b",
      "metadata": {
        "id": "89df058b"
      },
      "source": [
        "<div class=\"alert alert-info\">\n",
        "<font size=\"5\"><b>Комментарий ревьюера</b></font>\n",
        "\n",
        "Привет, Роман! Спасибо, что прислал задание:) Поздравляю с приближением к концу второго модуля. Меня зовут Слепцов Артем и я буду проверять твой проект) Ты проделал большую работу над проектом. Он выполнен уже на достойном уровне. Однако есть моменты, которые еще можно улучшить. Будет здорово, если ты, надеюсь, не против, если я буду на ты, будешь отвечать на комментарии и участвовать в диалоге. Если обращение на ты неприемлемо, то прошу сообщить.\n",
        "\n",
        "Мои комментарии обозначены пометкой **Комментарий ревьюера**. Далее в файле ты сможешь найти их в похожих ячейках:\n",
        "    \n",
        "<div class=\"alert alert-success\">Успех: Если фон комментария зелёный - всё сделано правильно. Рекомендации укажу таким же цветом;</div>\n",
        "        \n",
        "<div class=\"alert alert-warning\">Совет: Оранжевый - некритичные замечания;</div>\n",
        "        \n",
        "<div class=\"alert alert-danger\">Ошибка: Красный - нужно переделать. </div>\n",
        "        \n",
        "Не удаляй эти комментарии и постарайся учесть их в ходе выполнения данного проекта. Свои же комментарии ты можешь обозначать любым заметным способом.\n",
        "\n",
        "</div>"
      ]
    },
    {
      "cell_type": "markdown",
      "id": "4f7f2b5a",
      "metadata": {
        "id": "4f7f2b5a"
      },
      "source": [
        "# Cтартап, который продаёт продукты питания"
      ]
    },
    {
      "cell_type": "markdown",
      "id": "64fcc6d2",
      "metadata": {
        "id": "64fcc6d2"
      },
      "source": [
        "Мы работаем в стартапе, который продаёт продукты питания. <br>\n",
        "Нужно разобраться, как ведут себя пользователи нашего мобильного приложения.<br>\n",
        "Изучим воронку продаж. Узнаем, как пользователи доходят до покупки.<br>\n",
        "После этого исследуем результаты A/A/B-эксперимента. <br>\n",
        "Дизайнеры захотели поменять шрифты во всём приложении, а менеджеры испугались, что пользователям будет непривычно. <br>\n",
        "Договорились принять решение по результатам A/A/B-теста. <br>\n",
        "Пользователей разбили на 3 группы: 2 контрольные со старыми шрифтами и одну экспериментальную — с новыми. <br>\n",
        "Выясним, какой шрифт лучше.<br>"
      ]
    },
    {
      "cell_type": "markdown",
      "id": "5ca03a54",
      "metadata": {
        "id": "5ca03a54"
      },
      "source": [
        "<div class=\"alert alert-success\">\n",
        "<font size=\"5\"><b>Комментарий ревьюера</b></font>\n",
        "\n",
        "Успех: Вступление в работу очень важно. Так ты поясняешь то, чему она посвящена. Цель работы также хорошо бы вынести в отдельный блок вступления. Еще лучше будет, если ты сделаешь план работы с гиперссылками. Да, есть плагин ToC. Но хорошо бы уметь реализовывать интерактивный план проекта вручную. Как это реализовать - смотри по [ссылке](https://stackoverflow.com/questions/49535664/how-to-hyperlink-in-a-jupyter-notebook/49717704).\n",
        "\n",
        "</div>"
      ]
    },
    {
      "cell_type": "code",
      "execution_count": 6,
      "id": "0919cf5e",
      "metadata": {
        "id": "0919cf5e"
      },
      "outputs": [],
      "source": [
        "import pandas as pd\n",
        "import math as mth\n",
        "from scipy import stats as st\n",
        "import matplotlib.pyplot as plt\n",
        "from plotly import graph_objects as go"
      ]
    },
    {
      "cell_type": "markdown",
      "id": "3c0c9d74",
      "metadata": {
        "id": "3c0c9d74"
      },
      "source": [
        "<div class=\"alert alert-success\">\n",
        "<font size=\"5\"><b>Комментарий ревьюера</b></font>\n",
        "\n",
        "Успех: Правильно, что весь импорт ты проводишь в первой ячейке работы. Так твой коллега, запускающий работу, будет в курсе используемых в ней библиотек и сможет при необходимости быстро настроить окружение.\n",
        "\n",
        "</div>"
      ]
    },
    {
      "cell_type": "markdown",
      "id": "4aa52604",
      "metadata": {
        "id": "4aa52604"
      },
      "source": [
        "## Шаг 1. Откроем файл с данными и изучим общую информацию"
      ]
    },
    {
      "cell_type": "code",
      "execution_count": 7,
      "id": "ab1e54bd",
      "metadata": {
        "id": "ab1e54bd"
      },
      "outputs": [],
      "source": [
        "df = pd.read_csv('logs_exp.csv', sep= '\\t' )"
      ]
    },
    {
      "cell_type": "code",
      "execution_count": 8,
      "id": "400cf034",
      "metadata": {
        "colab": {
          "base_uri": "https://localhost:8080/"
        },
        "id": "400cf034",
        "outputId": "5d7309a8-fb45-4aae-901d-0601458113a2"
      },
      "outputs": [
        {
          "output_type": "stream",
          "name": "stdout",
          "text": [
            "<class 'pandas.core.frame.DataFrame'>\n",
            "RangeIndex: 244126 entries, 0 to 244125\n",
            "Data columns (total 4 columns):\n",
            " #   Column          Non-Null Count   Dtype \n",
            "---  ------          --------------   ----- \n",
            " 0   EventName       244126 non-null  object\n",
            " 1   DeviceIDHash    244126 non-null  int64 \n",
            " 2   EventTimestamp  244126 non-null  int64 \n",
            " 3   ExpId           244126 non-null  int64 \n",
            "dtypes: int64(3), object(1)\n",
            "memory usage: 7.5+ MB\n",
            "duplicated sum: 413\n"
          ]
        }
      ],
      "source": [
        "df.info()\n",
        "print('duplicated sum:', df.duplicated().sum())"
      ]
    },
    {
      "cell_type": "markdown",
      "id": "c923b388",
      "metadata": {
        "id": "c923b388"
      },
      "source": [
        "Удалим 413 дубликатов, переведем столбцы в змеиный_регистр, переведем дату и время в формат dt, а так же создаим отдельный столбец дат"
      ]
    },
    {
      "cell_type": "markdown",
      "id": "97ee7216",
      "metadata": {
        "id": "97ee7216"
      },
      "source": [
        "## Шаг 2. Подготовим данные"
      ]
    },
    {
      "cell_type": "code",
      "execution_count": 9,
      "id": "e8851882",
      "metadata": {
        "id": "e8851882"
      },
      "outputs": [],
      "source": [
        "df = df.drop_duplicates().reset_index(drop=True)\n",
        "df.rename(columns={'EventName': 'event_name', 'DeviceIDHash': 'device_id_hash',\n",
        "                   'EventTimestamp': 'event_timestamp', 'ExpId': 'exp_id'}, inplace=True)\n",
        "df['event_timestamp'] = pd.to_datetime(df['event_timestamp'], unit='s')\n",
        "df['event_date'] = pd.to_datetime(df['event_timestamp'].dt.date)"
      ]
    },
    {
      "cell_type": "markdown",
      "id": "44f4b8ca",
      "metadata": {
        "id": "44f4b8ca"
      },
      "source": [
        "<div class=\"alert alert-success\">\n",
        "<font size=\"5\"><b>Комментарий ревьюера</b></font>\n",
        "\n",
        "Успех: Подумай также о возможных причинах появления дубликатов в данных. Первый взгляд на таблицу выполнен.\n",
        "\n",
        "</div>"
      ]
    },
    {
      "cell_type": "markdown",
      "id": "c4049a2d",
      "metadata": {
        "id": "c4049a2d"
      },
      "source": [
        "## Шаг 3. Изучим и проверим данные"
      ]
    },
    {
      "cell_type": "markdown",
      "id": "a98e46aa",
      "metadata": {
        "id": "a98e46aa"
      },
      "source": [
        "### Сколько всего событий в логе:"
      ]
    },
    {
      "cell_type": "code",
      "execution_count": 10,
      "id": "9b8ed92e",
      "metadata": {
        "colab": {
          "base_uri": "https://localhost:8080/"
        },
        "id": "9b8ed92e",
        "outputId": "8c2a9167-ce46-48d3-a12e-324521a7043d"
      },
      "outputs": [
        {
          "output_type": "stream",
          "name": "stdout",
          "text": [
            "event_name\n",
            "MainScreenAppear           119101\n",
            "OffersScreenAppear          46808\n",
            "CartScreenAppear            42668\n",
            "PaymentScreenSuccessful     34118\n",
            "Tutorial                     1018\n",
            "Name: count, dtype: int64\n",
            "total: 243713\n"
          ]
        }
      ],
      "source": [
        "total_event = df['event_name'].value_counts()\n",
        "print(total_event)\n",
        "print('total:', total_event.sum())"
      ]
    },
    {
      "cell_type": "markdown",
      "id": "6a3c1ac1",
      "metadata": {
        "id": "6a3c1ac1"
      },
      "source": [
        "### Сколько всего пользователей в логе:"
      ]
    },
    {
      "cell_type": "code",
      "execution_count": 11,
      "id": "d2c1d868",
      "metadata": {
        "colab": {
          "base_uri": "https://localhost:8080/"
        },
        "id": "d2c1d868",
        "outputId": "5cdbef24-cd9d-49ee-eea5-4c546322610f"
      },
      "outputs": [
        {
          "output_type": "stream",
          "name": "stdout",
          "text": [
            "total users: 7551\n"
          ]
        }
      ],
      "source": [
        "total_users = df['device_id_hash'].nunique()\n",
        "print('total users:', total_users)"
      ]
    },
    {
      "cell_type": "markdown",
      "id": "b568806e",
      "metadata": {
        "id": "b568806e"
      },
      "source": [
        "### Сколько в среднем событий приходится на пользователя?\n"
      ]
    },
    {
      "cell_type": "code",
      "execution_count": 12,
      "id": "69027630",
      "metadata": {
        "colab": {
          "base_uri": "https://localhost:8080/"
        },
        "id": "69027630",
        "outputId": "96c64056-74dc-4bc3-ca30-57cdcd9a3714"
      },
      "outputs": [
        {
          "output_type": "stream",
          "name": "stdout",
          "text": [
            "Среднее количество событий на пользователя: 32\n"
          ]
        }
      ],
      "source": [
        "print(f'Среднее количество событий на пользователя: {total_event.sum() / total_users :0.0f}')"
      ]
    },
    {
      "cell_type": "markdown",
      "id": "396f0abd",
      "metadata": {
        "id": "396f0abd"
      },
      "source": [
        "<div class=\"alert alert-success\">\n",
        "<font size=\"5\"><b>Комментарий ревьюера</b></font>\n",
        "\n",
        "Успех: Как думаешь, 32 события на пользователя - это много?\n",
        "\n",
        "</div>"
      ]
    },
    {
      "cell_type": "markdown",
      "id": "128eeba8",
      "metadata": {
        "id": "128eeba8"
      },
      "source": [
        "### Данными за какой период мы располагаем:"
      ]
    },
    {
      "cell_type": "code",
      "execution_count": 13,
      "id": "a9c96420",
      "metadata": {
        "colab": {
          "base_uri": "https://localhost:8080/",
          "height": 503
        },
        "id": "a9c96420",
        "outputId": "a7c64889-d4e6-4d1a-b0fd-391cec0d0bc0"
      },
      "outputs": [
        {
          "output_type": "stream",
          "name": "stdout",
          "text": [
            "date min: 2019-07-25 00:00:00\n",
            "date max: 2019-08-07 00:00:00\n"
          ]
        },
        {
          "output_type": "execute_result",
          "data": {
            "text/plain": [
              "array([[<Axes: title={'center': 'event_timestamp'}>]], dtype=object)"
            ]
          },
          "metadata": {},
          "execution_count": 13
        },
        {
          "output_type": "display_data",
          "data": {
            "text/plain": [
              "<Figure size 1700x500 with 1 Axes>"
            ],
            "image/png": "[encoded data removed]"
          },
          "metadata": {}
        }
      ],
      "source": [
        "print('date min:', df['event_date'].min())\n",
        "print('date max:',df['event_date'].max())\n",
        "\n",
        "df.hist(column='event_timestamp', figsize=(17,5))"
      ]
    },
    {
      "cell_type": "code",
      "execution_count": 14,
      "id": "01aec305",
      "metadata": {
        "id": "01aec305"
      },
      "outputs": [],
      "source": [
        "deleted_df = df.query('event_date < \"2019-08-01\"')\n",
        "new_df = df.query('event_date > \"2019-07-31\"')"
      ]
    },
    {
      "cell_type": "markdown",
      "id": "51a815fe",
      "metadata": {
        "id": "51a815fe"
      },
      "source": [
        "<div class=\"alert alert-success\">\n",
        "<font size=\"5\"><b>Комментарий ревьюера</b></font>\n",
        "\n",
        "Успех: Верный выбор. Число строк до данной даты у нас незначительное.\n",
        "    \n",
        "</div>"
      ]
    },
    {
      "cell_type": "markdown",
      "id": "1ff7626d",
      "metadata": {
        "id": "1ff7626d"
      },
      "source": [
        "### Много ли событий и пользователей мы потеряли, отбросив старые данные:"
      ]
    },
    {
      "cell_type": "code",
      "execution_count": 15,
      "id": "71c69cdc",
      "metadata": {
        "colab": {
          "base_uri": "https://localhost:8080/"
        },
        "id": "71c69cdc",
        "outputId": "90cbbc19-bb08-4d36-bd26-a442c1c44f9f"
      },
      "outputs": [
        {
          "output_type": "stream",
          "name": "stdout",
          "text": [
            "Мы отсекли: 2826 евентов\n",
            "Это 1.16% от всех евентов в датасете\n"
          ]
        }
      ],
      "source": [
        "deleted_events = deleted_df['event_name'].value_counts()\n",
        "print(f'Мы отсекли: {deleted_events.sum()} евентов')\n",
        "print(f'Это {(deleted_events.sum() / total_event.sum()) * 100:.2f}% от всех евентов в датасете')"
      ]
    },
    {
      "cell_type": "code",
      "execution_count": 16,
      "id": "53df3b3d",
      "metadata": {
        "colab": {
          "base_uri": "https://localhost:8080/"
        },
        "id": "53df3b3d",
        "outputId": "a7d5015e-716b-4da6-c51a-5cce08685475"
      },
      "outputs": [
        {
          "output_type": "stream",
          "name": "stdout",
          "text": [
            "Мы отсекли: 17 пользователя\n",
            "Это 0.23% от всех пользователей в датасете\n"
          ]
        }
      ],
      "source": [
        "deleted_users = total_users - new_df['device_id_hash'].nunique()\n",
        "print(f'Мы отсекли: {deleted_users} пользователя')\n",
        "print(f'Это {(deleted_users / total_users) * 100:.2f}% от всех пользователей в датасете')"
      ]
    },
    {
      "cell_type": "markdown",
      "id": "e8b6f617",
      "metadata": {
        "id": "e8b6f617"
      },
      "source": [
        "<div class=\"alert alert-danger\">\n",
        "<font size=\"5\"><b>Комментарий ревьюера</b></font>\n",
        "\n",
        "Ошибка: Не слишком много данных удалено. Здорово, что ты проверил объем удаленных данных по общему числу строк. Стоит рассчитать и число удаленных пользователей. Заметь, что большая часть пользователей из июля продолжили использование приложения в августе. Выше мы нашли число пользователей до фильтрации. Рассчитай их после фильтрации. Разница между данными показателями и будет числом удаленных пользователей.  \n",
        "    \n",
        "</div>"
      ]
    },
    {
      "cell_type": "markdown",
      "id": "cb596e61",
      "metadata": {
        "id": "cb596e61"
      },
      "source": [
        "<div class=\"alert alert-success\">\n",
        "<font size=\"5\"><b>Комментарий ревьюера 2</b></font>\n",
        "\n",
        "Успех: Да, все верно.\n",
        "\n",
        "</div>"
      ]
    },
    {
      "cell_type": "markdown",
      "id": "a67f5ea8",
      "metadata": {
        "id": "a67f5ea8"
      },
      "source": [
        "### Проверим, что у нас есть пользователи из всех трёх экспериментальных групп."
      ]
    },
    {
      "cell_type": "code",
      "execution_count": 17,
      "id": "9036cabb",
      "metadata": {
        "colab": {
          "base_uri": "https://localhost:8080/",
          "height": 143
        },
        "id": "9036cabb",
        "outputId": "caaf247e-9d47-4693-84ae-2e3a3cf01fca"
      },
      "outputs": [
        {
          "output_type": "execute_result",
          "data": {
            "text/plain": [
              "   group  events_count_x  events_count_y  difference\n",
              "0    248           85582           84563       0.012\n",
              "1    246           80181           79302       0.011\n",
              "2    247           77950           77022       0.012"
            ],
            "text/html": [
              "\n",
              "  <div id=\"df-5bbe93d1-8e15-4e09-b7ea-10f013ebc6ea\" class=\"colab-df-container\">\n",
              "    <div>\n",
              "<style scoped>\n",
              "    .dataframe tbody tr th:only-of-type {\n",
              "        vertical-align: middle;\n",
              "    }\n",
              "\n",
              "    .dataframe tbody tr th {\n",
              "        vertical-align: top;\n",
              "    }\n",
              "\n",
              "    .dataframe thead th {\n",
              "        text-align: right;\n",
              "    }\n",
              "</style>\n",
              "<table border=\"1\" class=\"dataframe\">\n",
              "  <thead>\n",
              "    <tr style=\"text-align: right;\">\n",
              "      <th></th>\n",
              "      <th>group</th>\n",
              "      <th>events_count_x</th>\n",
              "      <th>events_count_y</th>\n",
              "      <th>difference</th>\n",
              "    </tr>\n",
              "  </thead>\n",
              "  <tbody>\n",
              "    <tr>\n",
              "      <th>0</th>\n",
              "      <td>248</td>\n",
              "      <td>85582</td>\n",
              "      <td>84563</td>\n",
              "      <td>0.012</td>\n",
              "    </tr>\n",
              "    <tr>\n",
              "      <th>1</th>\n",
              "      <td>246</td>\n",
              "      <td>80181</td>\n",
              "      <td>79302</td>\n",
              "      <td>0.011</td>\n",
              "    </tr>\n",
              "    <tr>\n",
              "      <th>2</th>\n",
              "      <td>247</td>\n",
              "      <td>77950</td>\n",
              "      <td>77022</td>\n",
              "      <td>0.012</td>\n",
              "    </tr>\n",
              "  </tbody>\n",
              "</table>\n",
              "</div>\n",
              "    <div class=\"colab-df-buttons\">\n",
              "\n",
              "  <div class=\"colab-df-container\">\n",
              "    <button class=\"colab-df-convert\" onclick=\"convertToInteractive('df-5bbe93d1-8e15-4e09-b7ea-10f013ebc6ea')\"\n",
              "            title=\"Convert this dataframe to an interactive table.\"\n",
              "            style=\"display:none;\">\n",
              "\n",
              "  <svg xmlns=\"http://www.w3.org/2000/svg\" height=\"24px\" viewBox=\"0 -960 960 960\">\n",
              "    <path d=\"M120-120v-720h720v720H120Zm60-500h600v-160H180v160Zm220 220h160v-160H400v160Zm0 220h160v-160H400v160ZM180-400h160v-160H180v160Zm440 0h160v-160H620v160ZM180-180h160v-160H180v160Zm440 0h160v-160H620v160Z\"/>\n",
              "  </svg>\n",
              "    </button>\n",
              "\n",
              "  <style>\n",
              "    .colab-df-container {\n",
              "      display:flex;\n",
              "      gap: 12px;\n",
              "    }\n",
              "\n",
              "    .colab-df-convert {\n",
              "      background-color: #E8F0FE;\n",
              "      border: none;\n",
              "      border-radius: 50%;\n",
              "      cursor: pointer;\n",
              "      display: none;\n",
              "      fill: #1967D2;\n",
              "      height: 32px;\n",
              "      padding: 0 0 0 0;\n",
              "      width: 32px;\n",
              "    }\n",
              "\n",
              "    .colab-df-convert:hover {\n",
              "      background-color: #E2EBFA;\n",
              "      box-shadow: 0px 1px 2px rgba(60, 64, 67, 0.3), 0px 1px 3px 1px rgba(60, 64, 67, 0.15);\n",
              "      fill: #174EA6;\n",
              "    }\n",
              "\n",
              "    .colab-df-buttons div {\n",
              "      margin-bottom: 4px;\n",
              "    }\n",
              "\n",
              "    [theme=dark] .colab-df-convert {\n",
              "      background-color: #3B4455;\n",
              "      fill: #D2E3FC;\n",
              "    }\n",
              "\n",
              "    [theme=dark] .colab-df-convert:hover {\n",
              "      background-color: #434B5C;\n",
              "      box-shadow: 0px 1px 3px 1px rgba(0, 0, 0, 0.15);\n",
              "      filter: drop-shadow(0px 1px 2px rgba(0, 0, 0, 0.3));\n",
              "      fill: #FFFFFF;\n",
              "    }\n",
              "  </style>\n",
              "\n",
              "    <script>\n",
              "      const buttonEl =\n",
              "        document.querySelector('#df-5bbe93d1-8e15-4e09-b7ea-10f013ebc6ea button.colab-df-convert');\n",
              "      buttonEl.style.display =\n",
              "        google.colab.kernel.accessAllowed ? 'block' : 'none';\n",
              "\n",
              "      async function convertToInteractive(key) {\n",
              "        const element = document.querySelector('#df-5bbe93d1-8e15-4e09-b7ea-10f013ebc6ea');\n",
              "        const dataTable =\n",
              "          await google.colab.kernel.invokeFunction('convertToInteractive',\n",
              "                                                    [key], {});\n",
              "        if (!dataTable) return;\n",
              "\n",
              "        const docLinkHtml = 'Like what you see? Visit the ' +\n",
              "          '<a target=\"_blank\" href=https://colab.research.google.com/notebooks/data_table.ipynb>data table notebook</a>'\n",
              "          + ' to learn more about interactive tables.';\n",
              "        element.innerHTML = '';\n",
              "        dataTable['output_type'] = 'display_data';\n",
              "        await google.colab.output.renderOutput(dataTable, element);\n",
              "        const docLink = document.createElement('div');\n",
              "        docLink.innerHTML = docLinkHtml;\n",
              "        element.appendChild(docLink);\n",
              "      }\n",
              "    </script>\n",
              "  </div>\n",
              "\n",
              "\n",
              "<div id=\"df-b74d014e-088f-4a6e-a7a4-f42de542e73c\">\n",
              "  <button class=\"colab-df-quickchart\" onclick=\"quickchart('df-b74d014e-088f-4a6e-a7a4-f42de542e73c')\"\n",
              "            title=\"Suggest charts\"\n",
              "            style=\"display:none;\">\n",
              "\n",
              "<svg xmlns=\"http://www.w3.org/2000/svg\" height=\"24px\"viewBox=\"0 0 24 24\"\n",
              "     width=\"24px\">\n",
              "    <g>\n",
              "        <path d=\"M19 3H5c-1.1 0-2 .9-2 2v14c0 1.1.9 2 2 2h14c1.1 0 2-.9 2-2V5c0-1.1-.9-2-2-2zM9 17H7v-7h2v7zm4 0h-2V7h2v10zm4 0h-2v-4h2v4z\"/>\n",
              "    </g>\n",
              "</svg>\n",
              "  </button>\n",
              "\n",
              "<style>\n",
              "  .colab-df-quickchart {\n",
              "      --bg-color: #E8F0FE;\n",
              "      --fill-color: #1967D2;\n",
              "      --hover-bg-color: #E2EBFA;\n",
              "      --hover-fill-color: #174EA6;\n",
              "      --disabled-fill-color: #AAA;\n",
              "      --disabled-bg-color: #DDD;\n",
              "  }\n",
              "\n",
              "  [theme=dark] .colab-df-quickchart {\n",
              "      --bg-color: #3B4455;\n",
              "      --fill-color: #D2E3FC;\n",
              "      --hover-bg-color: #434B5C;\n",
              "      --hover-fill-color: #FFFFFF;\n",
              "      --disabled-bg-color: #3B4455;\n",
              "      --disabled-fill-color: #666;\n",
              "  }\n",
              "\n",
              "  .colab-df-quickchart {\n",
              "    background-color: var(--bg-color);\n",
              "    border: none;\n",
              "    border-radius: 50%;\n",
              "    cursor: pointer;\n",
              "    display: none;\n",
              "    fill: var(--fill-color);\n",
              "    height: 32px;\n",
              "    padding: 0;\n",
              "    width: 32px;\n",
              "  }\n",
              "\n",
              "  .colab-df-quickchart:hover {\n",
              "    background-color: var(--hover-bg-color);\n",
              "    box-shadow: 0 1px 2px rgba(60, 64, 67, 0.3), 0 1px 3px 1px rgba(60, 64, 67, 0.15);\n",
              "    fill: var(--button-hover-fill-color);\n",
              "  }\n",
              "\n",
              "  .colab-df-quickchart-complete:disabled,\n",
              "  .colab-df-quickchart-complete:disabled:hover {\n",
              "    background-color: var(--disabled-bg-color);\n",
              "    fill: var(--disabled-fill-color);\n",
              "    box-shadow: none;\n",
              "  }\n",
              "\n",
              "  .colab-df-spinner {\n",
              "    border: 2px solid var(--fill-color);\n",
              "    border-color: transparent;\n",
              "    border-bottom-color: var(--fill-color);\n",
              "    animation:\n",
              "      spin 1s steps(1) infinite;\n",
              "  }\n",
              "\n",
              "  @keyframes spin {\n",
              "    0% {\n",
              "      border-color: transparent;\n",
              "      border-bottom-color: var(--fill-color);\n",
              "      border-left-color: var(--fill-color);\n",
              "    }\n",
              "    20% {\n",
              "      border-color: transparent;\n",
              "      border-left-color: var(--fill-color);\n",
              "      border-top-color: var(--fill-color);\n",
              "    }\n",
              "    30% {\n",
              "      border-color: transparent;\n",
              "      border-left-color: var(--fill-color);\n",
              "      border-top-color: var(--fill-color);\n",
              "      border-right-color: var(--fill-color);\n",
              "    }\n",
              "    40% {\n",
              "      border-color: transparent;\n",
              "      border-right-color: var(--fill-color);\n",
              "      border-top-color: var(--fill-color);\n",
              "    }\n",
              "    60% {\n",
              "      border-color: transparent;\n",
              "      border-right-color: var(--fill-color);\n",
              "    }\n",
              "    80% {\n",
              "      border-color: transparent;\n",
              "      border-right-color: var(--fill-color);\n",
              "      border-bottom-color: var(--fill-color);\n",
              "    }\n",
              "    90% {\n",
              "      border-color: transparent;\n",
              "      border-bottom-color: var(--fill-color);\n",
              "    }\n",
              "  }\n",
              "</style>\n",
              "\n",
              "  <script>\n",
              "    async function quickchart(key) {\n",
              "      const quickchartButtonEl =\n",
              "        document.querySelector('#' + key + ' button');\n",
              "      quickchartButtonEl.disabled = true;  // To prevent multiple clicks.\n",
              "      quickchartButtonEl.classList.add('colab-df-spinner');\n",
              "      try {\n",
              "        const charts = await google.colab.kernel.invokeFunction(\n",
              "            'suggestCharts', [key], {});\n",
              "      } catch (error) {\n",
              "        console.error('Error during call to suggestCharts:', error);\n",
              "      }\n",
              "      quickchartButtonEl.classList.remove('colab-df-spinner');\n",
              "      quickchartButtonEl.classList.add('colab-df-quickchart-complete');\n",
              "    }\n",
              "    (() => {\n",
              "      let quickchartButtonEl =\n",
              "        document.querySelector('#df-b74d014e-088f-4a6e-a7a4-f42de542e73c button');\n",
              "      quickchartButtonEl.style.display =\n",
              "        google.colab.kernel.accessAllowed ? 'block' : 'none';\n",
              "    })();\n",
              "  </script>\n",
              "</div>\n",
              "    </div>\n",
              "  </div>\n"
            ],
            "application/vnd.google.colaboratory.intrinsic+json": {
              "type": "dataframe",
              "variable_name": "check_group",
              "summary": "{\n  \"name\": \"check_group\",\n  \"rows\": 3,\n  \"fields\": [\n    {\n      \"column\": \"group\",\n      \"properties\": {\n        \"dtype\": \"number\",\n        \"std\": 1,\n        \"min\": 246,\n        \"max\": 248,\n        \"num_unique_values\": 3,\n        \"samples\": [\n          248,\n          246,\n          247\n        ],\n        \"semantic_type\": \"\",\n        \"description\": \"\"\n      }\n    },\n    {\n      \"column\": \"events_count_x\",\n      \"properties\": {\n        \"dtype\": \"number\",\n        \"std\": 3924,\n        \"min\": 77950,\n        \"max\": 85582,\n        \"num_unique_values\": 3,\n        \"samples\": [\n          85582,\n          80181,\n          77950\n        ],\n        \"semantic_type\": \"\",\n        \"description\": \"\"\n      }\n    },\n    {\n      \"column\": \"events_count_y\",\n      \"properties\": {\n        \"dtype\": \"number\",\n        \"std\": 3867,\n        \"min\": 77022,\n        \"max\": 84563,\n        \"num_unique_values\": 3,\n        \"samples\": [\n          84563,\n          79302,\n          77022\n        ],\n        \"semantic_type\": \"\",\n        \"description\": \"\"\n      }\n    },\n    {\n      \"column\": \"difference\",\n      \"properties\": {\n        \"dtype\": \"number\",\n        \"std\": 0.0005773502691896262,\n        \"min\": 0.011,\n        \"max\": 0.012,\n        \"num_unique_values\": 2,\n        \"samples\": [\n          0.011,\n          0.012\n        ],\n        \"semantic_type\": \"\",\n        \"description\": \"\"\n      }\n    }\n  ]\n}"
            }
          },
          "metadata": {},
          "execution_count": 17
        }
      ],
      "source": [
        "check_group = pd.DataFrame(\n",
        "    data=df['exp_id'].value_counts().items(),\n",
        "    columns=['group', 'events_count']\n",
        ").merge(\n",
        "    pd.DataFrame(data=new_df['exp_id'].value_counts().items(),\n",
        "                 columns=['group', 'events_count']\n",
        "                ), on='group')\n",
        "check_group['difference'] = round(1 - check_group['events_count_y'] / check_group['events_count_x'], 3)\n",
        "check_group"
      ]
    },
    {
      "cell_type": "markdown",
      "id": "e940692f",
      "metadata": {
        "id": "e940692f"
      },
      "source": [
        "## Шаг 4. Изучим воронку событий"
      ]
    },
    {
      "cell_type": "markdown",
      "id": "f6b7ca55",
      "metadata": {
        "id": "f6b7ca55"
      },
      "source": [
        "### Посмотрим, какие события есть в логах, как часто они встречаются. Отсортируем события по частоте."
      ]
    },
    {
      "cell_type": "code",
      "execution_count": 18,
      "id": "5b7113c1",
      "metadata": {
        "colab": {
          "base_uri": "https://localhost:8080/",
          "height": 272
        },
        "id": "5b7113c1",
        "outputId": "ba135520-b35a-486c-9d85-430a49a5c331"
      },
      "outputs": [
        {
          "output_type": "execute_result",
          "data": {
            "text/plain": [
              "event_name\n",
              "Tutorial                     1005\n",
              "PaymentScreenSuccessful     33918\n",
              "CartScreenAppear            42303\n",
              "OffersScreenAppear          46333\n",
              "MainScreenAppear           117328\n",
              "Name: count, dtype: int64"
            ],
            "text/html": [
              "<div>\n",
              "<style scoped>\n",
              "    .dataframe tbody tr th:only-of-type {\n",
              "        vertical-align: middle;\n",
              "    }\n",
              "\n",
              "    .dataframe tbody tr th {\n",
              "        vertical-align: top;\n",
              "    }\n",
              "\n",
              "    .dataframe thead th {\n",
              "        text-align: right;\n",
              "    }\n",
              "</style>\n",
              "<table border=\"1\" class=\"dataframe\">\n",
              "  <thead>\n",
              "    <tr style=\"text-align: right;\">\n",
              "      <th></th>\n",
              "      <th>count</th>\n",
              "    </tr>\n",
              "    <tr>\n",
              "      <th>event_name</th>\n",
              "      <th></th>\n",
              "    </tr>\n",
              "  </thead>\n",
              "  <tbody>\n",
              "    <tr>\n",
              "      <th>Tutorial</th>\n",
              "      <td>1005</td>\n",
              "    </tr>\n",
              "    <tr>\n",
              "      <th>PaymentScreenSuccessful</th>\n",
              "      <td>33918</td>\n",
              "    </tr>\n",
              "    <tr>\n",
              "      <th>CartScreenAppear</th>\n",
              "      <td>42303</td>\n",
              "    </tr>\n",
              "    <tr>\n",
              "      <th>OffersScreenAppear</th>\n",
              "      <td>46333</td>\n",
              "    </tr>\n",
              "    <tr>\n",
              "      <th>MainScreenAppear</th>\n",
              "      <td>117328</td>\n",
              "    </tr>\n",
              "  </tbody>\n",
              "</table>\n",
              "</div><br><label><b>dtype:</b> int64</label>"
            ]
          },
          "metadata": {},
          "execution_count": 18
        }
      ],
      "source": [
        "new_df['event_name'].value_counts().sort_values()"
      ]
    },
    {
      "cell_type": "markdown",
      "id": "a2f73040",
      "metadata": {
        "id": "a2f73040"
      },
      "source": [
        "### Посчитаем, сколько пользователей совершали каждое из этих событий."
      ]
    },
    {
      "cell_type": "code",
      "execution_count": 19,
      "id": "ddebf78c",
      "metadata": {
        "colab": {
          "base_uri": "https://localhost:8080/",
          "height": 238
        },
        "id": "ddebf78c",
        "outputId": "9236b0ba-618a-4085-c9f9-0b4b8b41b7ef"
      },
      "outputs": [
        {
          "output_type": "execute_result",
          "data": {
            "text/plain": [
              "                         device_id_hash    new\n",
              "event_name                                    \n",
              "MainScreenAppear                   7419  98.47\n",
              "OffersScreenAppear                 4593  60.96\n",
              "CartScreenAppear                   3734  49.56\n",
              "PaymentScreenSuccessful            3539  46.97\n",
              "Tutorial                            840  11.15"
            ],
            "text/html": [
              "\n",
              "  <div id=\"df-7353eceb-6791-4a56-b7ec-34ee9fd96a49\" class=\"colab-df-container\">\n",
              "    <div>\n",
              "<style scoped>\n",
              "    .dataframe tbody tr th:only-of-type {\n",
              "        vertical-align: middle;\n",
              "    }\n",
              "\n",
              "    .dataframe tbody tr th {\n",
              "        vertical-align: top;\n",
              "    }\n",
              "\n",
              "    .dataframe thead th {\n",
              "        text-align: right;\n",
              "    }\n",
              "</style>\n",
              "<table border=\"1\" class=\"dataframe\">\n",
              "  <thead>\n",
              "    <tr style=\"text-align: right;\">\n",
              "      <th></th>\n",
              "      <th>device_id_hash</th>\n",
              "      <th>new</th>\n",
              "    </tr>\n",
              "    <tr>\n",
              "      <th>event_name</th>\n",
              "      <th></th>\n",
              "      <th></th>\n",
              "    </tr>\n",
              "  </thead>\n",
              "  <tbody>\n",
              "    <tr>\n",
              "      <th>MainScreenAppear</th>\n",
              "      <td>7419</td>\n",
              "      <td>98.47</td>\n",
              "    </tr>\n",
              "    <tr>\n",
              "      <th>OffersScreenAppear</th>\n",
              "      <td>4593</td>\n",
              "      <td>60.96</td>\n",
              "    </tr>\n",
              "    <tr>\n",
              "      <th>CartScreenAppear</th>\n",
              "      <td>3734</td>\n",
              "      <td>49.56</td>\n",
              "    </tr>\n",
              "    <tr>\n",
              "      <th>PaymentScreenSuccessful</th>\n",
              "      <td>3539</td>\n",
              "      <td>46.97</td>\n",
              "    </tr>\n",
              "    <tr>\n",
              "      <th>Tutorial</th>\n",
              "      <td>840</td>\n",
              "      <td>11.15</td>\n",
              "    </tr>\n",
              "  </tbody>\n",
              "</table>\n",
              "</div>\n",
              "    <div class=\"colab-df-buttons\">\n",
              "\n",
              "  <div class=\"colab-df-container\">\n",
              "    <button class=\"colab-df-convert\" onclick=\"convertToInteractive('df-7353eceb-6791-4a56-b7ec-34ee9fd96a49')\"\n",
              "            title=\"Convert this dataframe to an interactive table.\"\n",
              "            style=\"display:none;\">\n",
              "\n",
              "  <svg xmlns=\"http://www.w3.org/2000/svg\" height=\"24px\" viewBox=\"0 -960 960 960\">\n",
              "    <path d=\"M120-120v-720h720v720H120Zm60-500h600v-160H180v160Zm220 220h160v-160H400v160Zm0 220h160v-160H400v160ZM180-400h160v-160H180v160Zm440 0h160v-160H620v160ZM180-180h160v-160H180v160Zm440 0h160v-160H620v160Z\"/>\n",
              "  </svg>\n",
              "    </button>\n",
              "\n",
              "  <style>\n",
              "    .colab-df-container {\n",
              "      display:flex;\n",
              "      gap: 12px;\n",
              "    }\n",
              "\n",
              "    .colab-df-convert {\n",
              "      background-color: #E8F0FE;\n",
              "      border: none;\n",
              "      border-radius: 50%;\n",
              "      cursor: pointer;\n",
              "      display: none;\n",
              "      fill: #1967D2;\n",
              "      height: 32px;\n",
              "      padding: 0 0 0 0;\n",
              "      width: 32px;\n",
              "    }\n",
              "\n",
              "    .colab-df-convert:hover {\n",
              "      background-color: #E2EBFA;\n",
              "      box-shadow: 0px 1px 2px rgba(60, 64, 67, 0.3), 0px 1px 3px 1px rgba(60, 64, 67, 0.15);\n",
              "      fill: #174EA6;\n",
              "    }\n",
              "\n",
              "    .colab-df-buttons div {\n",
              "      margin-bottom: 4px;\n",
              "    }\n",
              "\n",
              "    [theme=dark] .colab-df-convert {\n",
              "      background-color: #3B4455;\n",
              "      fill: #D2E3FC;\n",
              "    }\n",
              "\n",
              "    [theme=dark] .colab-df-convert:hover {\n",
              "      background-color: #434B5C;\n",
              "      box-shadow: 0px 1px 3px 1px rgba(0, 0, 0, 0.15);\n",
              "      filter: drop-shadow(0px 1px 2px rgba(0, 0, 0, 0.3));\n",
              "      fill: #FFFFFF;\n",
              "    }\n",
              "  </style>\n",
              "\n",
              "    <script>\n",
              "      const buttonEl =\n",
              "        document.querySelector('#df-7353eceb-6791-4a56-b7ec-34ee9fd96a49 button.colab-df-convert');\n",
              "      buttonEl.style.display =\n",
              "        google.colab.kernel.accessAllowed ? 'block' : 'none';\n",
              "\n",
              "      async function convertToInteractive(key) {\n",
              "        const element = document.querySelector('#df-7353eceb-6791-4a56-b7ec-34ee9fd96a49');\n",
              "        const dataTable =\n",
              "          await google.colab.kernel.invokeFunction('convertToInteractive',\n",
              "                                                    [key], {});\n",
              "        if (!dataTable) return;\n",
              "\n",
              "        const docLinkHtml = 'Like what you see? Visit the ' +\n",
              "          '<a target=\"_blank\" href=https://colab.research.google.com/notebooks/data_table.ipynb>data table notebook</a>'\n",
              "          + ' to learn more about interactive tables.';\n",
              "        element.innerHTML = '';\n",
              "        dataTable['output_type'] = 'display_data';\n",
              "        await google.colab.output.renderOutput(dataTable, element);\n",
              "        const docLink = document.createElement('div');\n",
              "        docLink.innerHTML = docLinkHtml;\n",
              "        element.appendChild(docLink);\n",
              "      }\n",
              "    </script>\n",
              "  </div>\n",
              "\n",
              "\n",
              "<div id=\"df-934eaa5d-f8d0-4447-9528-573b62b050c6\">\n",
              "  <button class=\"colab-df-quickchart\" onclick=\"quickchart('df-934eaa5d-f8d0-4447-9528-573b62b050c6')\"\n",
              "            title=\"Suggest charts\"\n",
              "            style=\"display:none;\">\n",
              "\n",
              "<svg xmlns=\"http://www.w3.org/2000/svg\" height=\"24px\"viewBox=\"0 0 24 24\"\n",
              "     width=\"24px\">\n",
              "    <g>\n",
              "        <path d=\"M19 3H5c-1.1 0-2 .9-2 2v14c0 1.1.9 2 2 2h14c1.1 0 2-.9 2-2V5c0-1.1-.9-2-2-2zM9 17H7v-7h2v7zm4 0h-2V7h2v10zm4 0h-2v-4h2v4z\"/>\n",
              "    </g>\n",
              "</svg>\n",
              "  </button>\n",
              "\n",
              "<style>\n",
              "  .colab-df-quickchart {\n",
              "      --bg-color: #E8F0FE;\n",
              "      --fill-color: #1967D2;\n",
              "      --hover-bg-color: #E2EBFA;\n",
              "      --hover-fill-color: #174EA6;\n",
              "      --disabled-fill-color: #AAA;\n",
              "      --disabled-bg-color: #DDD;\n",
              "  }\n",
              "\n",
              "  [theme=dark] .colab-df-quickchart {\n",
              "      --bg-color: #3B4455;\n",
              "      --fill-color: #D2E3FC;\n",
              "      --hover-bg-color: #434B5C;\n",
              "      --hover-fill-color: #FFFFFF;\n",
              "      --disabled-bg-color: #3B4455;\n",
              "      --disabled-fill-color: #666;\n",
              "  }\n",
              "\n",
              "  .colab-df-quickchart {\n",
              "    background-color: var(--bg-color);\n",
              "    border: none;\n",
              "    border-radius: 50%;\n",
              "    cursor: pointer;\n",
              "    display: none;\n",
              "    fill: var(--fill-color);\n",
              "    height: 32px;\n",
              "    padding: 0;\n",
              "    width: 32px;\n",
              "  }\n",
              "\n",
              "  .colab-df-quickchart:hover {\n",
              "    background-color: var(--hover-bg-color);\n",
              "    box-shadow: 0 1px 2px rgba(60, 64, 67, 0.3), 0 1px 3px 1px rgba(60, 64, 67, 0.15);\n",
              "    fill: var(--button-hover-fill-color);\n",
              "  }\n",
              "\n",
              "  .colab-df-quickchart-complete:disabled,\n",
              "  .colab-df-quickchart-complete:disabled:hover {\n",
              "    background-color: var(--disabled-bg-color);\n",
              "    fill: var(--disabled-fill-color);\n",
              "    box-shadow: none;\n",
              "  }\n",
              "\n",
              "  .colab-df-spinner {\n",
              "    border: 2px solid var(--fill-color);\n",
              "    border-color: transparent;\n",
              "    border-bottom-color: var(--fill-color);\n",
              "    animation:\n",
              "      spin 1s steps(1) infinite;\n",
              "  }\n",
              "\n",
              "  @keyframes spin {\n",
              "    0% {\n",
              "      border-color: transparent;\n",
              "      border-bottom-color: var(--fill-color);\n",
              "      border-left-color: var(--fill-color);\n",
              "    }\n",
              "    20% {\n",
              "      border-color: transparent;\n",
              "      border-left-color: var(--fill-color);\n",
              "      border-top-color: var(--fill-color);\n",
              "    }\n",
              "    30% {\n",
              "      border-color: transparent;\n",
              "      border-left-color: var(--fill-color);\n",
              "      border-top-color: var(--fill-color);\n",
              "      border-right-color: var(--fill-color);\n",
              "    }\n",
              "    40% {\n",
              "      border-color: transparent;\n",
              "      border-right-color: var(--fill-color);\n",
              "      border-top-color: var(--fill-color);\n",
              "    }\n",
              "    60% {\n",
              "      border-color: transparent;\n",
              "      border-right-color: var(--fill-color);\n",
              "    }\n",
              "    80% {\n",
              "      border-color: transparent;\n",
              "      border-right-color: var(--fill-color);\n",
              "      border-bottom-color: var(--fill-color);\n",
              "    }\n",
              "    90% {\n",
              "      border-color: transparent;\n",
              "      border-bottom-color: var(--fill-color);\n",
              "    }\n",
              "  }\n",
              "</style>\n",
              "\n",
              "  <script>\n",
              "    async function quickchart(key) {\n",
              "      const quickchartButtonEl =\n",
              "        document.querySelector('#' + key + ' button');\n",
              "      quickchartButtonEl.disabled = true;  // To prevent multiple clicks.\n",
              "      quickchartButtonEl.classList.add('colab-df-spinner');\n",
              "      try {\n",
              "        const charts = await google.colab.kernel.invokeFunction(\n",
              "            'suggestCharts', [key], {});\n",
              "      } catch (error) {\n",
              "        console.error('Error during call to suggestCharts:', error);\n",
              "      }\n",
              "      quickchartButtonEl.classList.remove('colab-df-spinner');\n",
              "      quickchartButtonEl.classList.add('colab-df-quickchart-complete');\n",
              "    }\n",
              "    (() => {\n",
              "      let quickchartButtonEl =\n",
              "        document.querySelector('#df-934eaa5d-f8d0-4447-9528-573b62b050c6 button');\n",
              "      quickchartButtonEl.style.display =\n",
              "        google.colab.kernel.accessAllowed ? 'block' : 'none';\n",
              "    })();\n",
              "  </script>\n",
              "</div>\n",
              "    </div>\n",
              "  </div>\n"
            ],
            "application/vnd.google.colaboratory.intrinsic+json": {
              "type": "dataframe",
              "variable_name": "test",
              "summary": "{\n  \"name\": \"test\",\n  \"rows\": 5,\n  \"fields\": [\n    {\n      \"column\": \"event_name\",\n      \"properties\": {\n        \"dtype\": \"string\",\n        \"num_unique_values\": 5,\n        \"samples\": [\n          \"OffersScreenAppear\",\n          \"Tutorial\",\n          \"CartScreenAppear\"\n        ],\n        \"semantic_type\": \"\",\n        \"description\": \"\"\n      }\n    },\n    {\n      \"column\": \"device_id_hash\",\n      \"properties\": {\n        \"dtype\": \"number\",\n        \"std\": 2361,\n        \"min\": 840,\n        \"max\": 7419,\n        \"num_unique_values\": 5,\n        \"samples\": [\n          4593,\n          840,\n          3734\n        ],\n        \"semantic_type\": \"\",\n        \"description\": \"\"\n      }\n    },\n    {\n      \"column\": \"new\",\n      \"properties\": {\n        \"dtype\": \"number\",\n        \"std\": 31.343297050565692,\n        \"min\": 11.15,\n        \"max\": 98.47,\n        \"num_unique_values\": 5,\n        \"samples\": [\n          60.96,\n          11.15,\n          49.56\n        ],\n        \"semantic_type\": \"\",\n        \"description\": \"\"\n      }\n    }\n  ]\n}"
            }
          },
          "metadata": {},
          "execution_count": 19
        }
      ],
      "source": [
        "test = new_df.groupby('event_name').agg({'device_id_hash':'nunique'}).sort_values(by='device_id_hash',\n",
        "                                                                                  ascending=False)\n",
        "test['new'] = round(test['device_id_hash'] / new_df['device_id_hash'].nunique() * 100, 2)\n",
        "test"
      ]
    },
    {
      "cell_type": "markdown",
      "id": "33a020b4",
      "metadata": {
        "id": "33a020b4"
      },
      "source": [
        "<div class=\"alert alert-success\">\n",
        "<font size=\"5\"><b>Комментарий ревьюера</b></font>\n",
        "\n",
        "Успех: Даже на первом шаге воронки мы не имеем конверсии 1. О чем это может нам говорить? Обязателен ли проход через все шаги воронки?\n",
        "    \n",
        "</div>"
      ]
    },
    {
      "cell_type": "markdown",
      "id": "d26c789a",
      "metadata": {
        "id": "d26c789a"
      },
      "source": [
        "MainScreenAppear - OffersScreenAppear - CartScreenAppear - PaymentScreenSuccessful <br>\n",
        "Tutorial не обязательно. Так же не обязательно проходить через все шаги воронки (видимо в поисковике есть ссылки сразу на офферы/туториал...)"
      ]
    },
    {
      "cell_type": "markdown",
      "id": "ab71a6a3",
      "metadata": {
        "id": "ab71a6a3"
      },
      "source": [
        "<div class=\"alert alert-success\">\n",
        "<font size=\"5\"><b>Комментарий ревьюера</b></font>\n",
        "\n",
        "Успех: Последовательность событий определена. Соглашусь, tutorial не относится к ней. Этот шаг является обучением и не относится к последовательности событий.  \n",
        "    \n",
        "Также можно добавить и группировку по номеру эксперимента (246, 247, 248) с расчетом числа пользователей на каждом шаге воронки. Так мы посмотрим на то, согласуются ли данные разных групп между собой.  \n",
        "    \n",
        "</div>"
      ]
    },
    {
      "cell_type": "markdown",
      "id": "1ce8ac94",
      "metadata": {
        "id": "1ce8ac94"
      },
      "source": [
        "### Построим воронку событий"
      ]
    },
    {
      "cell_type": "code",
      "execution_count": 20,
      "id": "6c1e5b0e",
      "metadata": {
        "colab": {
          "base_uri": "https://localhost:8080/",
          "height": 206
        },
        "id": "6c1e5b0e",
        "outputId": "622af876-ec4b-409e-c672-2a5c4af1b80f"
      },
      "outputs": [
        {
          "output_type": "execute_result",
          "data": {
            "text/plain": [
              "                event_name  device_id_hash    new\n",
              "0         MainScreenAppear            7419  98.47\n",
              "1       OffersScreenAppear            4593  60.96\n",
              "2         CartScreenAppear            3734  49.56\n",
              "3  PaymentScreenSuccessful            3539  46.97\n",
              "4                 Tutorial             840  11.15"
            ],
            "text/html": [
              "\n",
              "  <div id=\"df-589542cc-03ec-4809-8c4f-db3b7e1d5676\" class=\"colab-df-container\">\n",
              "    <div>\n",
              "<style scoped>\n",
              "    .dataframe tbody tr th:only-of-type {\n",
              "        vertical-align: middle;\n",
              "    }\n",
              "\n",
              "    .dataframe tbody tr th {\n",
              "        vertical-align: top;\n",
              "    }\n",
              "\n",
              "    .dataframe thead th {\n",
              "        text-align: right;\n",
              "    }\n",
              "</style>\n",
              "<table border=\"1\" class=\"dataframe\">\n",
              "  <thead>\n",
              "    <tr style=\"text-align: right;\">\n",
              "      <th></th>\n",
              "      <th>event_name</th>\n",
              "      <th>device_id_hash</th>\n",
              "      <th>new</th>\n",
              "    </tr>\n",
              "  </thead>\n",
              "  <tbody>\n",
              "    <tr>\n",
              "      <th>0</th>\n",
              "      <td>MainScreenAppear</td>\n",
              "      <td>7419</td>\n",
              "      <td>98.47</td>\n",
              "    </tr>\n",
              "    <tr>\n",
              "      <th>1</th>\n",
              "      <td>OffersScreenAppear</td>\n",
              "      <td>4593</td>\n",
              "      <td>60.96</td>\n",
              "    </tr>\n",
              "    <tr>\n",
              "      <th>2</th>\n",
              "      <td>CartScreenAppear</td>\n",
              "      <td>3734</td>\n",
              "      <td>49.56</td>\n",
              "    </tr>\n",
              "    <tr>\n",
              "      <th>3</th>\n",
              "      <td>PaymentScreenSuccessful</td>\n",
              "      <td>3539</td>\n",
              "      <td>46.97</td>\n",
              "    </tr>\n",
              "    <tr>\n",
              "      <th>4</th>\n",
              "      <td>Tutorial</td>\n",
              "      <td>840</td>\n",
              "      <td>11.15</td>\n",
              "    </tr>\n",
              "  </tbody>\n",
              "</table>\n",
              "</div>\n",
              "    <div class=\"colab-df-buttons\">\n",
              "\n",
              "  <div class=\"colab-df-container\">\n",
              "    <button class=\"colab-df-convert\" onclick=\"convertToInteractive('df-589542cc-03ec-4809-8c4f-db3b7e1d5676')\"\n",
              "            title=\"Convert this dataframe to an interactive table.\"\n",
              "            style=\"display:none;\">\n",
              "\n",
              "  <svg xmlns=\"http://www.w3.org/2000/svg\" height=\"24px\" viewBox=\"0 -960 960 960\">\n",
              "    <path d=\"M120-120v-720h720v720H120Zm60-500h600v-160H180v160Zm220 220h160v-160H400v160Zm0 220h160v-160H400v160ZM180-400h160v-160H180v160Zm440 0h160v-160H620v160ZM180-180h160v-160H180v160Zm440 0h160v-160H620v160Z\"/>\n",
              "  </svg>\n",
              "    </button>\n",
              "\n",
              "  <style>\n",
              "    .colab-df-container {\n",
              "      display:flex;\n",
              "      gap: 12px;\n",
              "    }\n",
              "\n",
              "    .colab-df-convert {\n",
              "      background-color: #E8F0FE;\n",
              "      border: none;\n",
              "      border-radius: 50%;\n",
              "      cursor: pointer;\n",
              "      display: none;\n",
              "      fill: #1967D2;\n",
              "      height: 32px;\n",
              "      padding: 0 0 0 0;\n",
              "      width: 32px;\n",
              "    }\n",
              "\n",
              "    .colab-df-convert:hover {\n",
              "      background-color: #E2EBFA;\n",
              "      box-shadow: 0px 1px 2px rgba(60, 64, 67, 0.3), 0px 1px 3px 1px rgba(60, 64, 67, 0.15);\n",
              "      fill: #174EA6;\n",
              "    }\n",
              "\n",
              "    .colab-df-buttons div {\n",
              "      margin-bottom: 4px;\n",
              "    }\n",
              "\n",
              "    [theme=dark] .colab-df-convert {\n",
              "      background-color: #3B4455;\n",
              "      fill: #D2E3FC;\n",
              "    }\n",
              "\n",
              "    [theme=dark] .colab-df-convert:hover {\n",
              "      background-color: #434B5C;\n",
              "      box-shadow: 0px 1px 3px 1px rgba(0, 0, 0, 0.15);\n",
              "      filter: drop-shadow(0px 1px 2px rgba(0, 0, 0, 0.3));\n",
              "      fill: #FFFFFF;\n",
              "    }\n",
              "  </style>\n",
              "\n",
              "    <script>\n",
              "      const buttonEl =\n",
              "        document.querySelector('#df-589542cc-03ec-4809-8c4f-db3b7e1d5676 button.colab-df-convert');\n",
              "      buttonEl.style.display =\n",
              "        google.colab.kernel.accessAllowed ? 'block' : 'none';\n",
              "\n",
              "      async function convertToInteractive(key) {\n",
              "        const element = document.querySelector('#df-589542cc-03ec-4809-8c4f-db3b7e1d5676');\n",
              "        const dataTable =\n",
              "          await google.colab.kernel.invokeFunction('convertToInteractive',\n",
              "                                                    [key], {});\n",
              "        if (!dataTable) return;\n",
              "\n",
              "        const docLinkHtml = 'Like what you see? Visit the ' +\n",
              "          '<a target=\"_blank\" href=https://colab.research.google.com/notebooks/data_table.ipynb>data table notebook</a>'\n",
              "          + ' to learn more about interactive tables.';\n",
              "        element.innerHTML = '';\n",
              "        dataTable['output_type'] = 'display_data';\n",
              "        await google.colab.output.renderOutput(dataTable, element);\n",
              "        const docLink = document.createElement('div');\n",
              "        docLink.innerHTML = docLinkHtml;\n",
              "        element.appendChild(docLink);\n",
              "      }\n",
              "    </script>\n",
              "  </div>\n",
              "\n",
              "\n",
              "<div id=\"df-689f10d7-236a-4986-a2a6-8a567facceeb\">\n",
              "  <button class=\"colab-df-quickchart\" onclick=\"quickchart('df-689f10d7-236a-4986-a2a6-8a567facceeb')\"\n",
              "            title=\"Suggest charts\"\n",
              "            style=\"display:none;\">\n",
              "\n",
              "<svg xmlns=\"http://www.w3.org/2000/svg\" height=\"24px\"viewBox=\"0 0 24 24\"\n",
              "     width=\"24px\">\n",
              "    <g>\n",
              "        <path d=\"M19 3H5c-1.1 0-2 .9-2 2v14c0 1.1.9 2 2 2h14c1.1 0 2-.9 2-2V5c0-1.1-.9-2-2-2zM9 17H7v-7h2v7zm4 0h-2V7h2v10zm4 0h-2v-4h2v4z\"/>\n",
              "    </g>\n",
              "</svg>\n",
              "  </button>\n",
              "\n",
              "<style>\n",
              "  .colab-df-quickchart {\n",
              "      --bg-color: #E8F0FE;\n",
              "      --fill-color: #1967D2;\n",
              "      --hover-bg-color: #E2EBFA;\n",
              "      --hover-fill-color: #174EA6;\n",
              "      --disabled-fill-color: #AAA;\n",
              "      --disabled-bg-color: #DDD;\n",
              "  }\n",
              "\n",
              "  [theme=dark] .colab-df-quickchart {\n",
              "      --bg-color: #3B4455;\n",
              "      --fill-color: #D2E3FC;\n",
              "      --hover-bg-color: #434B5C;\n",
              "      --hover-fill-color: #FFFFFF;\n",
              "      --disabled-bg-color: #3B4455;\n",
              "      --disabled-fill-color: #666;\n",
              "  }\n",
              "\n",
              "  .colab-df-quickchart {\n",
              "    background-color: var(--bg-color);\n",
              "    border: none;\n",
              "    border-radius: 50%;\n",
              "    cursor: pointer;\n",
              "    display: none;\n",
              "    fill: var(--fill-color);\n",
              "    height: 32px;\n",
              "    padding: 0;\n",
              "    width: 32px;\n",
              "  }\n",
              "\n",
              "  .colab-df-quickchart:hover {\n",
              "    background-color: var(--hover-bg-color);\n",
              "    box-shadow: 0 1px 2px rgba(60, 64, 67, 0.3), 0 1px 3px 1px rgba(60, 64, 67, 0.15);\n",
              "    fill: var(--button-hover-fill-color);\n",
              "  }\n",
              "\n",
              "  .colab-df-quickchart-complete:disabled,\n",
              "  .colab-df-quickchart-complete:disabled:hover {\n",
              "    background-color: var(--disabled-bg-color);\n",
              "    fill: var(--disabled-fill-color);\n",
              "    box-shadow: none;\n",
              "  }\n",
              "\n",
              "  .colab-df-spinner {\n",
              "    border: 2px solid var(--fill-color);\n",
              "    border-color: transparent;\n",
              "    border-bottom-color: var(--fill-color);\n",
              "    animation:\n",
              "      spin 1s steps(1) infinite;\n",
              "  }\n",
              "\n",
              "  @keyframes spin {\n",
              "    0% {\n",
              "      border-color: transparent;\n",
              "      border-bottom-color: var(--fill-color);\n",
              "      border-left-color: var(--fill-color);\n",
              "    }\n",
              "    20% {\n",
              "      border-color: transparent;\n",
              "      border-left-color: var(--fill-color);\n",
              "      border-top-color: var(--fill-color);\n",
              "    }\n",
              "    30% {\n",
              "      border-color: transparent;\n",
              "      border-left-color: var(--fill-color);\n",
              "      border-top-color: var(--fill-color);\n",
              "      border-right-color: var(--fill-color);\n",
              "    }\n",
              "    40% {\n",
              "      border-color: transparent;\n",
              "      border-right-color: var(--fill-color);\n",
              "      border-top-color: var(--fill-color);\n",
              "    }\n",
              "    60% {\n",
              "      border-color: transparent;\n",
              "      border-right-color: var(--fill-color);\n",
              "    }\n",
              "    80% {\n",
              "      border-color: transparent;\n",
              "      border-right-color: var(--fill-color);\n",
              "      border-bottom-color: var(--fill-color);\n",
              "    }\n",
              "    90% {\n",
              "      border-color: transparent;\n",
              "      border-bottom-color: var(--fill-color);\n",
              "    }\n",
              "  }\n",
              "</style>\n",
              "\n",
              "  <script>\n",
              "    async function quickchart(key) {\n",
              "      const quickchartButtonEl =\n",
              "        document.querySelector('#' + key + ' button');\n",
              "      quickchartButtonEl.disabled = true;  // To prevent multiple clicks.\n",
              "      quickchartButtonEl.classList.add('colab-df-spinner');\n",
              "      try {\n",
              "        const charts = await google.colab.kernel.invokeFunction(\n",
              "            'suggestCharts', [key], {});\n",
              "      } catch (error) {\n",
              "        console.error('Error during call to suggestCharts:', error);\n",
              "      }\n",
              "      quickchartButtonEl.classList.remove('colab-df-spinner');\n",
              "      quickchartButtonEl.classList.add('colab-df-quickchart-complete');\n",
              "    }\n",
              "    (() => {\n",
              "      let quickchartButtonEl =\n",
              "        document.querySelector('#df-689f10d7-236a-4986-a2a6-8a567facceeb button');\n",
              "      quickchartButtonEl.style.display =\n",
              "        google.colab.kernel.accessAllowed ? 'block' : 'none';\n",
              "    })();\n",
              "  </script>\n",
              "</div>\n",
              "    </div>\n",
              "  </div>\n"
            ],
            "application/vnd.google.colaboratory.intrinsic+json": {
              "type": "dataframe",
              "summary": "{\n  \"name\": \"test\",\n  \"rows\": 5,\n  \"fields\": [\n    {\n      \"column\": \"event_name\",\n      \"properties\": {\n        \"dtype\": \"string\",\n        \"num_unique_values\": 5,\n        \"samples\": [\n          \"OffersScreenAppear\",\n          \"Tutorial\",\n          \"CartScreenAppear\"\n        ],\n        \"semantic_type\": \"\",\n        \"description\": \"\"\n      }\n    },\n    {\n      \"column\": \"device_id_hash\",\n      \"properties\": {\n        \"dtype\": \"number\",\n        \"std\": 2361,\n        \"min\": 840,\n        \"max\": 7419,\n        \"num_unique_values\": 5,\n        \"samples\": [\n          4593,\n          840,\n          3734\n        ],\n        \"semantic_type\": \"\",\n        \"description\": \"\"\n      }\n    },\n    {\n      \"column\": \"new\",\n      \"properties\": {\n        \"dtype\": \"number\",\n        \"std\": 31.343297050565692,\n        \"min\": 11.15,\n        \"max\": 98.47,\n        \"num_unique_values\": 5,\n        \"samples\": [\n          60.96,\n          11.15,\n          49.56\n        ],\n        \"semantic_type\": \"\",\n        \"description\": \"\"\n      }\n    }\n  ]\n}"
            }
          },
          "metadata": {},
          "execution_count": 20
        }
      ],
      "source": [
        "test.reset_index()"
      ]
    },
    {
      "cell_type": "code",
      "execution_count": 21,
      "id": "8723e813",
      "metadata": {
        "colab": {
          "base_uri": "https://localhost:8080/",
          "height": 542
        },
        "id": "8723e813",
        "outputId": "ec068f73-ab14-4b5d-d397-bbd9c768899c"
      },
      "outputs": [
        {
          "output_type": "display_data",
          "data": {
            "text/html": [
              "<html>\n",
              "<head><meta charset=\"utf-8\" /></head>\n",
              "<body>\n",
              "    <div>            <script src=\"https://cdnjs.cloudflare.com/ajax/libs/mathjax/2.7.5/MathJax.js?config=TeX-AMS-MML_SVG\"></script><script type=\"text/javascript\">if (window.MathJax && window.MathJax.Hub && window.MathJax.Hub.Config) {window.MathJax.Hub.Config({SVG: {font: \"STIX-Web\"}});}</script>                <script type=\"text/javascript\">window.PlotlyConfig = {MathJaxConfig: 'local'};</script>\n",
              "        <script charset=\"utf-8\" src=\"https://cdn.plot.ly/plotly-2.35.2.min.js\"></script>                <div id=\"60e800f5-cfba-4a48-af21-137aaab51d7e\" class=\"plotly-graph-div\" style=\"height:525px; width:100%;\"></div>            <script type=\"text/javascript\">                                    window.PLOTLYENV=window.PLOTLYENV || {};                                    if (document.getElementById(\"60e800f5-cfba-4a48-af21-137aaab51d7e\")) {                    Plotly.newPlot(                        \"60e800f5-cfba-4a48-af21-137aaab51d7e\",                        [{\"textinfo\":\"value+percent initial\",\"textposition\":\"inside\",\"x\":[7419,4593,3734,3539],\"y\":[\"MainScreenAppear\",\"OffersScreenAppear\",\"CartScreenAppear\",\"PaymentScreenSuccessful\"],\"type\":\"funnel\"}],                        {\"template\":{\"data\":{\"histogram2dcontour\":[{\"type\":\"histogram2dcontour\",\"colorbar\":{\"outlinewidth\":0,\"ticks\":\"\"},\"colorscale\":[[0.0,\"#0d0887\"],[0.1111111111111111,\"#46039f\"],[0.2222222222222222,\"#7201a8\"],[0.3333333333333333,\"#9c179e\"],[0.4444444444444444,\"#bd3786\"],[0.5555555555555556,\"#d8576b\"],[0.6666666666666666,\"#ed7953\"],[0.7777777777777778,\"#fb9f3a\"],[0.8888888888888888,\"#fdca26\"],[1.0,\"#f0f921\"]]}],\"choropleth\":[{\"type\":\"choropleth\",\"colorbar\":{\"outlinewidth\":0,\"ticks\":\"\"}}],\"histogram2d\":[{\"type\":\"histogram2d\",\"colorbar\":{\"outlinewidth\":0,\"ticks\":\"\"},\"colorscale\":[[0.0,\"#0d0887\"],[0.1111111111111111,\"#46039f\"],[0.2222222222222222,\"#7201a8\"],[0.3333333333333333,\"#9c179e\"],[0.4444444444444444,\"#bd3786\"],[0.5555555555555556,\"#d8576b\"],[0.6666666666666666,\"#ed7953\"],[0.7777777777777778,\"#fb9f3a\"],[0.8888888888888888,\"#fdca26\"],[1.0,\"#f0f921\"]]}],\"heatmap\":[{\"type\":\"heatmap\",\"colorbar\":{\"outlinewidth\":0,\"ticks\":\"\"},\"colorscale\":[[0.0,\"#0d0887\"],[0.1111111111111111,\"#46039f\"],[0.2222222222222222,\"#7201a8\"],[0.3333333333333333,\"#9c179e\"],[0.4444444444444444,\"#bd3786\"],[0.5555555555555556,\"#d8576b\"],[0.6666666666666666,\"#ed7953\"],[0.7777777777777778,\"#fb9f3a\"],[0.8888888888888888,\"#fdca26\"],[1.0,\"#f0f921\"]]}],\"heatmapgl\":[{\"type\":\"heatmapgl\",\"colorbar\":{\"outlinewidth\":0,\"ticks\":\"\"},\"colorscale\":[[0.0,\"#0d0887\"],[0.1111111111111111,\"#46039f\"],[0.2222222222222222,\"#7201a8\"],[0.3333333333333333,\"#9c179e\"],[0.4444444444444444,\"#bd3786\"],[0.5555555555555556,\"#d8576b\"],[0.6666666666666666,\"#ed7953\"],[0.7777777777777778,\"#fb9f3a\"],[0.8888888888888888,\"#fdca26\"],[1.0,\"#f0f921\"]]}],\"contourcarpet\":[{\"type\":\"contourcarpet\",\"colorbar\":{\"outlinewidth\":0,\"ticks\":\"\"}}],\"contour\":[{\"type\":\"contour\",\"colorbar\":{\"outlinewidth\":0,\"ticks\":\"\"},\"colorscale\":[[0.0,\"#0d0887\"],[0.1111111111111111,\"#46039f\"],[0.2222222222222222,\"#7201a8\"],[0.3333333333333333,\"#9c179e\"],[0.4444444444444444,\"#bd3786\"],[0.5555555555555556,\"#d8576b\"],[0.6666666666666666,\"#ed7953\"],[0.7777777777777778,\"#fb9f3a\"],[0.8888888888888888,\"#fdca26\"],[1.0,\"#f0f921\"]]}],\"surface\":[{\"type\":\"surface\",\"colorbar\":{\"outlinewidth\":0,\"ticks\":\"\"},\"colorscale\":[[0.0,\"#0d0887\"],[0.1111111111111111,\"#46039f\"],[0.2222222222222222,\"#7201a8\"],[0.3333333333333333,\"#9c179e\"],[0.4444444444444444,\"#bd3786\"],[0.5555555555555556,\"#d8576b\"],[0.6666666666666666,\"#ed7953\"],[0.7777777777777778,\"#fb9f3a\"],[0.8888888888888888,\"#fdca26\"],[1.0,\"#f0f921\"]]}],\"mesh3d\":[{\"type\":\"mesh3d\",\"colorbar\":{\"outlinewidth\":0,\"ticks\":\"\"}}],\"scatter\":[{\"fillpattern\":{\"fillmode\":\"overlay\",\"size\":10,\"solidity\":0.2},\"type\":\"scatter\"}],\"parcoords\":[{\"type\":\"parcoords\",\"line\":{\"colorbar\":{\"outlinewidth\":0,\"ticks\":\"\"}}}],\"scatterpolargl\":[{\"type\":\"scatterpolargl\",\"marker\":{\"colorbar\":{\"outlinewidth\":0,\"ticks\":\"\"}}}],\"bar\":[{\"error_x\":{\"color\":\"#2a3f5f\"},\"error_y\":{\"color\":\"#2a3f5f\"},\"marker\":{\"line\":{\"color\":\"#E5ECF6\",\"width\":0.5},\"pattern\":{\"fillmode\":\"overlay\",\"size\":10,\"solidity\":0.2}},\"type\":\"bar\"}],\"scattergeo\":[{\"type\":\"scattergeo\",\"marker\":{\"colorbar\":{\"outlinewidth\":0,\"ticks\":\"\"}}}],\"scatterpolar\":[{\"type\":\"scatterpolar\",\"marker\":{\"colorbar\":{\"outlinewidth\":0,\"ticks\":\"\"}}}],\"histogram\":[{\"marker\":{\"pattern\":{\"fillmode\":\"overlay\",\"size\":10,\"solidity\":0.2}},\"type\":\"histogram\"}],\"scattergl\":[{\"type\":\"scattergl\",\"marker\":{\"colorbar\":{\"outlinewidth\":0,\"ticks\":\"\"}}}],\"scatter3d\":[{\"type\":\"scatter3d\",\"line\":{\"colorbar\":{\"outlinewidth\":0,\"ticks\":\"\"}},\"marker\":{\"colorbar\":{\"outlinewidth\":0,\"ticks\":\"\"}}}],\"scattermapbox\":[{\"type\":\"scattermapbox\",\"marker\":{\"colorbar\":{\"outlinewidth\":0,\"ticks\":\"\"}}}],\"scatterternary\":[{\"type\":\"scatterternary\",\"marker\":{\"colorbar\":{\"outlinewidth\":0,\"ticks\":\"\"}}}],\"scattercarpet\":[{\"type\":\"scattercarpet\",\"marker\":{\"colorbar\":{\"outlinewidth\":0,\"ticks\":\"\"}}}],\"carpet\":[{\"aaxis\":{\"endlinecolor\":\"#2a3f5f\",\"gridcolor\":\"white\",\"linecolor\":\"white\",\"minorgridcolor\":\"white\",\"startlinecolor\":\"#2a3f5f\"},\"baxis\":{\"endlinecolor\":\"#2a3f5f\",\"gridcolor\":\"white\",\"linecolor\":\"white\",\"minorgridcolor\":\"white\",\"startlinecolor\":\"#2a3f5f\"},\"type\":\"carpet\"}],\"table\":[{\"cells\":{\"fill\":{\"color\":\"#EBF0F8\"},\"line\":{\"color\":\"white\"}},\"header\":{\"fill\":{\"color\":\"#C8D4E3\"},\"line\":{\"color\":\"white\"}},\"type\":\"table\"}],\"barpolar\":[{\"marker\":{\"line\":{\"color\":\"#E5ECF6\",\"width\":0.5},\"pattern\":{\"fillmode\":\"overlay\",\"size\":10,\"solidity\":0.2}},\"type\":\"barpolar\"}],\"pie\":[{\"automargin\":true,\"type\":\"pie\"}]},\"layout\":{\"autotypenumbers\":\"strict\",\"colorway\":[\"#636efa\",\"#EF553B\",\"#00cc96\",\"#ab63fa\",\"#FFA15A\",\"#19d3f3\",\"#FF6692\",\"#B6E880\",\"#FF97FF\",\"#FECB52\"],\"font\":{\"color\":\"#2a3f5f\"},\"hovermode\":\"closest\",\"hoverlabel\":{\"align\":\"left\"},\"paper_bgcolor\":\"white\",\"plot_bgcolor\":\"#E5ECF6\",\"polar\":{\"bgcolor\":\"#E5ECF6\",\"angularaxis\":{\"gridcolor\":\"white\",\"linecolor\":\"white\",\"ticks\":\"\"},\"radialaxis\":{\"gridcolor\":\"white\",\"linecolor\":\"white\",\"ticks\":\"\"}},\"ternary\":{\"bgcolor\":\"#E5ECF6\",\"aaxis\":{\"gridcolor\":\"white\",\"linecolor\":\"white\",\"ticks\":\"\"},\"baxis\":{\"gridcolor\":\"white\",\"linecolor\":\"white\",\"ticks\":\"\"},\"caxis\":{\"gridcolor\":\"white\",\"linecolor\":\"white\",\"ticks\":\"\"}},\"coloraxis\":{\"colorbar\":{\"outlinewidth\":0,\"ticks\":\"\"}},\"colorscale\":{\"sequential\":[[0.0,\"#0d0887\"],[0.1111111111111111,\"#46039f\"],[0.2222222222222222,\"#7201a8\"],[0.3333333333333333,\"#9c179e\"],[0.4444444444444444,\"#bd3786\"],[0.5555555555555556,\"#d8576b\"],[0.6666666666666666,\"#ed7953\"],[0.7777777777777778,\"#fb9f3a\"],[0.8888888888888888,\"#fdca26\"],[1.0,\"#f0f921\"]],\"sequentialminus\":[[0.0,\"#0d0887\"],[0.1111111111111111,\"#46039f\"],[0.2222222222222222,\"#7201a8\"],[0.3333333333333333,\"#9c179e\"],[0.4444444444444444,\"#bd3786\"],[0.5555555555555556,\"#d8576b\"],[0.6666666666666666,\"#ed7953\"],[0.7777777777777778,\"#fb9f3a\"],[0.8888888888888888,\"#fdca26\"],[1.0,\"#f0f921\"]],\"diverging\":[[0,\"#8e0152\"],[0.1,\"#c51b7d\"],[0.2,\"#de77ae\"],[0.3,\"#f1b6da\"],[0.4,\"#fde0ef\"],[0.5,\"#f7f7f7\"],[0.6,\"#e6f5d0\"],[0.7,\"#b8e186\"],[0.8,\"#7fbc41\"],[0.9,\"#4d9221\"],[1,\"#276419\"]]},\"xaxis\":{\"gridcolor\":\"white\",\"linecolor\":\"white\",\"ticks\":\"\",\"title\":{\"standoff\":15},\"zerolinecolor\":\"white\",\"automargin\":true,\"zerolinewidth\":2},\"yaxis\":{\"gridcolor\":\"white\",\"linecolor\":\"white\",\"ticks\":\"\",\"title\":{\"standoff\":15},\"zerolinecolor\":\"white\",\"automargin\":true,\"zerolinewidth\":2},\"scene\":{\"xaxis\":{\"backgroundcolor\":\"#E5ECF6\",\"gridcolor\":\"white\",\"linecolor\":\"white\",\"showbackground\":true,\"ticks\":\"\",\"zerolinecolor\":\"white\",\"gridwidth\":2},\"yaxis\":{\"backgroundcolor\":\"#E5ECF6\",\"gridcolor\":\"white\",\"linecolor\":\"white\",\"showbackground\":true,\"ticks\":\"\",\"zerolinecolor\":\"white\",\"gridwidth\":2},\"zaxis\":{\"backgroundcolor\":\"#E5ECF6\",\"gridcolor\":\"white\",\"linecolor\":\"white\",\"showbackground\":true,\"ticks\":\"\",\"zerolinecolor\":\"white\",\"gridwidth\":2}},\"shapedefaults\":{\"line\":{\"color\":\"#2a3f5f\"}},\"annotationdefaults\":{\"arrowcolor\":\"#2a3f5f\",\"arrowhead\":0,\"arrowwidth\":1},\"geo\":{\"bgcolor\":\"white\",\"landcolor\":\"#E5ECF6\",\"subunitcolor\":\"white\",\"showland\":true,\"showlakes\":true,\"lakecolor\":\"white\"},\"title\":{\"x\":0.05},\"mapbox\":{\"style\":\"light\"}}}},                        {\"responsive\": true}                    ).then(function(){\n",
              "                            \n",
              "var gd = document.getElementById('60e800f5-cfba-4a48-af21-137aaab51d7e');\n",
              "var x = new MutationObserver(function (mutations, observer) {{\n",
              "        var display = window.getComputedStyle(gd).display;\n",
              "        if (!display || display === 'none') {{\n",
              "            console.log([gd, 'removed!']);\n",
              "            Plotly.purge(gd);\n",
              "            observer.disconnect();\n",
              "        }}\n",
              "}});\n",
              "\n",
              "// Listen for the removal of the full notebook cells\n",
              "var notebookContainer = gd.closest('#notebook-container');\n",
              "if (notebookContainer) {{\n",
              "    x.observe(notebookContainer, {childList: true});\n",
              "}}\n",
              "\n",
              "// Listen for the clearing of the current output cell\n",
              "var outputEl = gd.closest('.output');\n",
              "if (outputEl) {{\n",
              "    x.observe(outputEl, {childList: true});\n",
              "}}\n",
              "\n",
              "                        })                };                            </script>        </div>\n",
              "</body>\n",
              "</html>"
            ]
          },
          "metadata": {}
        }
      ],
      "source": [
        "test = test.reset_index().query('event_name not in \"Tutorial\"')\n",
        "fig = go.Figure(go.Funnel(\n",
        "    y = test['event_name'],\n",
        "    x = test['device_id_hash'],\n",
        "    textposition = \"inside\",\n",
        "    textinfo = \"value+percent initial\"\n",
        "    ))\n",
        "fig.show()"
      ]
    },
    {
      "cell_type": "markdown",
      "id": "e324d333",
      "metadata": {
        "id": "e324d333"
      },
      "source": [
        "Самое \"узкое\" место  с MainScreenAppear на OffersScreenAppear, на этом шаге мы теряем больше всего пользователей.  <br>\n",
        "Вероятно пользователям не очень нравится дизайн главной страницы и они сразу уходят. <br>\n",
        "48% пользователей доходят до страницы \"оплачено\""
      ]
    },
    {
      "cell_type": "markdown",
      "id": "c09e545c",
      "metadata": {
        "id": "c09e545c"
      },
      "source": [
        "<div class=\"alert alert-success\">\n",
        "<font size=\"5\"><b>Комментарий ревьюера</b></font>\n",
        "\n",
        "Успех: Крутая визуализация. Воронку мы изучили. Около половины клиентов доходит с первого этапа до последнего.\n",
        "    \n",
        "</div>"
      ]
    },
    {
      "cell_type": "markdown",
      "id": "1dd7ca39",
      "metadata": {
        "id": "1dd7ca39"
      },
      "source": [
        "## Шаг 5. Изучим результаты эксперимента"
      ]
    },
    {
      "cell_type": "markdown",
      "id": "c6449139",
      "metadata": {
        "id": "c6449139"
      },
      "source": [
        "### Сколько пользователей в каждой экспериментальной группе:"
      ]
    },
    {
      "cell_type": "code",
      "execution_count": 22,
      "id": "095920aa",
      "metadata": {
        "colab": {
          "base_uri": "https://localhost:8080/",
          "height": 175
        },
        "id": "095920aa",
        "outputId": "bf0e1476-6261-4fc3-cfa1-f99338cb7758"
      },
      "outputs": [
        {
          "output_type": "execute_result",
          "data": {
            "text/plain": [
              "        device_id_hash\n",
              "exp_id                \n",
              "246               2484\n",
              "247               2513\n",
              "248               2537"
            ],
            "text/html": [
              "\n",
              "  <div id=\"df-6ad666b5-c502-475f-bebd-c469f9f2b0e6\" class=\"colab-df-container\">\n",
              "    <div>\n",
              "<style scoped>\n",
              "    .dataframe tbody tr th:only-of-type {\n",
              "        vertical-align: middle;\n",
              "    }\n",
              "\n",
              "    .dataframe tbody tr th {\n",
              "        vertical-align: top;\n",
              "    }\n",
              "\n",
              "    .dataframe thead th {\n",
              "        text-align: right;\n",
              "    }\n",
              "</style>\n",
              "<table border=\"1\" class=\"dataframe\">\n",
              "  <thead>\n",
              "    <tr style=\"text-align: right;\">\n",
              "      <th></th>\n",
              "      <th>device_id_hash</th>\n",
              "    </tr>\n",
              "    <tr>\n",
              "      <th>exp_id</th>\n",
              "      <th></th>\n",
              "    </tr>\n",
              "  </thead>\n",
              "  <tbody>\n",
              "    <tr>\n",
              "      <th>246</th>\n",
              "      <td>2484</td>\n",
              "    </tr>\n",
              "    <tr>\n",
              "      <th>247</th>\n",
              "      <td>2513</td>\n",
              "    </tr>\n",
              "    <tr>\n",
              "      <th>248</th>\n",
              "      <td>2537</td>\n",
              "    </tr>\n",
              "  </tbody>\n",
              "</table>\n",
              "</div>\n",
              "    <div class=\"colab-df-buttons\">\n",
              "\n",
              "  <div class=\"colab-df-container\">\n",
              "    <button class=\"colab-df-convert\" onclick=\"convertToInteractive('df-6ad666b5-c502-475f-bebd-c469f9f2b0e6')\"\n",
              "            title=\"Convert this dataframe to an interactive table.\"\n",
              "            style=\"display:none;\">\n",
              "\n",
              "  <svg xmlns=\"http://www.w3.org/2000/svg\" height=\"24px\" viewBox=\"0 -960 960 960\">\n",
              "    <path d=\"M120-120v-720h720v720H120Zm60-500h600v-160H180v160Zm220 220h160v-160H400v160Zm0 220h160v-160H400v160ZM180-400h160v-160H180v160Zm440 0h160v-160H620v160ZM180-180h160v-160H180v160Zm440 0h160v-160H620v160Z\"/>\n",
              "  </svg>\n",
              "    </button>\n",
              "\n",
              "  <style>\n",
              "    .colab-df-container {\n",
              "      display:flex;\n",
              "      gap: 12px;\n",
              "    }\n",
              "\n",
              "    .colab-df-convert {\n",
              "      background-color: #E8F0FE;\n",
              "      border: none;\n",
              "      border-radius: 50%;\n",
              "      cursor: pointer;\n",
              "      display: none;\n",
              "      fill: #1967D2;\n",
              "      height: 32px;\n",
              "      padding: 0 0 0 0;\n",
              "      width: 32px;\n",
              "    }\n",
              "\n",
              "    .colab-df-convert:hover {\n",
              "      background-color: #E2EBFA;\n",
              "      box-shadow: 0px 1px 2px rgba(60, 64, 67, 0.3), 0px 1px 3px 1px rgba(60, 64, 67, 0.15);\n",
              "      fill: #174EA6;\n",
              "    }\n",
              "\n",
              "    .colab-df-buttons div {\n",
              "      margin-bottom: 4px;\n",
              "    }\n",
              "\n",
              "    [theme=dark] .colab-df-convert {\n",
              "      background-color: #3B4455;\n",
              "      fill: #D2E3FC;\n",
              "    }\n",
              "\n",
              "    [theme=dark] .colab-df-convert:hover {\n",
              "      background-color: #434B5C;\n",
              "      box-shadow: 0px 1px 3px 1px rgba(0, 0, 0, 0.15);\n",
              "      filter: drop-shadow(0px 1px 2px rgba(0, 0, 0, 0.3));\n",
              "      fill: #FFFFFF;\n",
              "    }\n",
              "  </style>\n",
              "\n",
              "    <script>\n",
              "      const buttonEl =\n",
              "        document.querySelector('#df-6ad666b5-c502-475f-bebd-c469f9f2b0e6 button.colab-df-convert');\n",
              "      buttonEl.style.display =\n",
              "        google.colab.kernel.accessAllowed ? 'block' : 'none';\n",
              "\n",
              "      async function convertToInteractive(key) {\n",
              "        const element = document.querySelector('#df-6ad666b5-c502-475f-bebd-c469f9f2b0e6');\n",
              "        const dataTable =\n",
              "          await google.colab.kernel.invokeFunction('convertToInteractive',\n",
              "                                                    [key], {});\n",
              "        if (!dataTable) return;\n",
              "\n",
              "        const docLinkHtml = 'Like what you see? Visit the ' +\n",
              "          '<a target=\"_blank\" href=https://colab.research.google.com/notebooks/data_table.ipynb>data table notebook</a>'\n",
              "          + ' to learn more about interactive tables.';\n",
              "        element.innerHTML = '';\n",
              "        dataTable['output_type'] = 'display_data';\n",
              "        await google.colab.output.renderOutput(dataTable, element);\n",
              "        const docLink = document.createElement('div');\n",
              "        docLink.innerHTML = docLinkHtml;\n",
              "        element.appendChild(docLink);\n",
              "      }\n",
              "    </script>\n",
              "  </div>\n",
              "\n",
              "\n",
              "<div id=\"df-762813a7-1843-4c83-afd9-df2497e740a6\">\n",
              "  <button class=\"colab-df-quickchart\" onclick=\"quickchart('df-762813a7-1843-4c83-afd9-df2497e740a6')\"\n",
              "            title=\"Suggest charts\"\n",
              "            style=\"display:none;\">\n",
              "\n",
              "<svg xmlns=\"http://www.w3.org/2000/svg\" height=\"24px\"viewBox=\"0 0 24 24\"\n",
              "     width=\"24px\">\n",
              "    <g>\n",
              "        <path d=\"M19 3H5c-1.1 0-2 .9-2 2v14c0 1.1.9 2 2 2h14c1.1 0 2-.9 2-2V5c0-1.1-.9-2-2-2zM9 17H7v-7h2v7zm4 0h-2V7h2v10zm4 0h-2v-4h2v4z\"/>\n",
              "    </g>\n",
              "</svg>\n",
              "  </button>\n",
              "\n",
              "<style>\n",
              "  .colab-df-quickchart {\n",
              "      --bg-color: #E8F0FE;\n",
              "      --fill-color: #1967D2;\n",
              "      --hover-bg-color: #E2EBFA;\n",
              "      --hover-fill-color: #174EA6;\n",
              "      --disabled-fill-color: #AAA;\n",
              "      --disabled-bg-color: #DDD;\n",
              "  }\n",
              "\n",
              "  [theme=dark] .colab-df-quickchart {\n",
              "      --bg-color: #3B4455;\n",
              "      --fill-color: #D2E3FC;\n",
              "      --hover-bg-color: #434B5C;\n",
              "      --hover-fill-color: #FFFFFF;\n",
              "      --disabled-bg-color: #3B4455;\n",
              "      --disabled-fill-color: #666;\n",
              "  }\n",
              "\n",
              "  .colab-df-quickchart {\n",
              "    background-color: var(--bg-color);\n",
              "    border: none;\n",
              "    border-radius: 50%;\n",
              "    cursor: pointer;\n",
              "    display: none;\n",
              "    fill: var(--fill-color);\n",
              "    height: 32px;\n",
              "    padding: 0;\n",
              "    width: 32px;\n",
              "  }\n",
              "\n",
              "  .colab-df-quickchart:hover {\n",
              "    background-color: var(--hover-bg-color);\n",
              "    box-shadow: 0 1px 2px rgba(60, 64, 67, 0.3), 0 1px 3px 1px rgba(60, 64, 67, 0.15);\n",
              "    fill: var(--button-hover-fill-color);\n",
              "  }\n",
              "\n",
              "  .colab-df-quickchart-complete:disabled,\n",
              "  .colab-df-quickchart-complete:disabled:hover {\n",
              "    background-color: var(--disabled-bg-color);\n",
              "    fill: var(--disabled-fill-color);\n",
              "    box-shadow: none;\n",
              "  }\n",
              "\n",
              "  .colab-df-spinner {\n",
              "    border: 2px solid var(--fill-color);\n",
              "    border-color: transparent;\n",
              "    border-bottom-color: var(--fill-color);\n",
              "    animation:\n",
              "      spin 1s steps(1) infinite;\n",
              "  }\n",
              "\n",
              "  @keyframes spin {\n",
              "    0% {\n",
              "      border-color: transparent;\n",
              "      border-bottom-color: var(--fill-color);\n",
              "      border-left-color: var(--fill-color);\n",
              "    }\n",
              "    20% {\n",
              "      border-color: transparent;\n",
              "      border-left-color: var(--fill-color);\n",
              "      border-top-color: var(--fill-color);\n",
              "    }\n",
              "    30% {\n",
              "      border-color: transparent;\n",
              "      border-left-color: var(--fill-color);\n",
              "      border-top-color: var(--fill-color);\n",
              "      border-right-color: var(--fill-color);\n",
              "    }\n",
              "    40% {\n",
              "      border-color: transparent;\n",
              "      border-right-color: var(--fill-color);\n",
              "      border-top-color: var(--fill-color);\n",
              "    }\n",
              "    60% {\n",
              "      border-color: transparent;\n",
              "      border-right-color: var(--fill-color);\n",
              "    }\n",
              "    80% {\n",
              "      border-color: transparent;\n",
              "      border-right-color: var(--fill-color);\n",
              "      border-bottom-color: var(--fill-color);\n",
              "    }\n",
              "    90% {\n",
              "      border-color: transparent;\n",
              "      border-bottom-color: var(--fill-color);\n",
              "    }\n",
              "  }\n",
              "</style>\n",
              "\n",
              "  <script>\n",
              "    async function quickchart(key) {\n",
              "      const quickchartButtonEl =\n",
              "        document.querySelector('#' + key + ' button');\n",
              "      quickchartButtonEl.disabled = true;  // To prevent multiple clicks.\n",
              "      quickchartButtonEl.classList.add('colab-df-spinner');\n",
              "      try {\n",
              "        const charts = await google.colab.kernel.invokeFunction(\n",
              "            'suggestCharts', [key], {});\n",
              "      } catch (error) {\n",
              "        console.error('Error during call to suggestCharts:', error);\n",
              "      }\n",
              "      quickchartButtonEl.classList.remove('colab-df-spinner');\n",
              "      quickchartButtonEl.classList.add('colab-df-quickchart-complete');\n",
              "    }\n",
              "    (() => {\n",
              "      let quickchartButtonEl =\n",
              "        document.querySelector('#df-762813a7-1843-4c83-afd9-df2497e740a6 button');\n",
              "      quickchartButtonEl.style.display =\n",
              "        google.colab.kernel.accessAllowed ? 'block' : 'none';\n",
              "    })();\n",
              "  </script>\n",
              "</div>\n",
              "    </div>\n",
              "  </div>\n"
            ],
            "application/vnd.google.colaboratory.intrinsic+json": {
              "type": "dataframe",
              "summary": "{\n  \"name\": \"new_df\",\n  \"rows\": 3,\n  \"fields\": [\n    {\n      \"column\": \"exp_id\",\n      \"properties\": {\n        \"dtype\": \"number\",\n        \"std\": 1,\n        \"min\": 246,\n        \"max\": 248,\n        \"num_unique_values\": 3,\n        \"samples\": [\n          246,\n          247,\n          248\n        ],\n        \"semantic_type\": \"\",\n        \"description\": \"\"\n      }\n    },\n    {\n      \"column\": \"device_id_hash\",\n      \"properties\": {\n        \"dtype\": \"number\",\n        \"std\": 26,\n        \"min\": 2484,\n        \"max\": 2537,\n        \"num_unique_values\": 3,\n        \"samples\": [\n          2484,\n          2513,\n          2537\n        ],\n        \"semantic_type\": \"\",\n        \"description\": \"\"\n      }\n    }\n  ]\n}"
            }
          },
          "metadata": {},
          "execution_count": 22
        }
      ],
      "source": [
        "new_df.groupby('exp_id').agg({'device_id_hash':'nunique'})"
      ]
    },
    {
      "cell_type": "markdown",
      "id": "191975e5",
      "metadata": {
        "id": "191975e5"
      },
      "source": [
        "<div class=\"alert alert-success\">\n",
        "<font size=\"5\"><b>Комментарий ревьюера</b></font>\n",
        "\n",
        "Успех: Правильно, что ты проверил равенство размеров групп. Однако их размеры несколько различаются. Это говорит нам о неоптимальности разбиения данных по группам. Для будущих тестов следует несколько поработать с механикой выделения групп и, возможно, изменить подход к их выделению.\n",
        "    \n",
        "</div>"
      ]
    },
    {
      "cell_type": "markdown",
      "id": "1c3c7542",
      "metadata": {
        "id": "1c3c7542"
      },
      "source": [
        "Количество пользователей во всех группах различается более чем на 0,5%. Дальнейшие выводы не показательны. <br>\n",
        "Нужно разобраться с механизмом деления пользователей по группам и повторно собрать данные. <br>\n",
        "Дальше я буду исследовать только для того, что бы после того как появяться новые данные просто загрузить их в эту тетрадку."
      ]
    },
    {
      "cell_type": "code",
      "execution_count": 23,
      "id": "e99161ef",
      "metadata": {
        "id": "e99161ef"
      },
      "outputs": [],
      "source": [
        "new_df = new_df.query('event_name not in \"Tutorial\"')\n",
        "g_246 = new_df.query('exp_id == 246')\n",
        "g_247 = new_df.query('exp_id == 247')\n",
        "g_248 = new_df.query('exp_id == 248')"
      ]
    },
    {
      "cell_type": "code",
      "execution_count": 24,
      "id": "eb2fbdd4",
      "metadata": {
        "colab": {
          "base_uri": "https://localhost:8080/"
        },
        "id": "eb2fbdd4",
        "outputId": "67672eff-89c0-4205-fed8-bb8e27dd47c1"
      },
      "outputs": [
        {
          "output_type": "stream",
          "name": "stdout",
          "text": [
            "0\n",
            "0\n"
          ]
        }
      ],
      "source": [
        "print(len(set(g_246['device_id_hash']).intersection(set(g_247['device_id_hash']))))\n",
        "print(len(set(g_247['device_id_hash']).intersection(set(g_248['device_id_hash']))))"
      ]
    },
    {
      "cell_type": "markdown",
      "id": "6be50dad",
      "metadata": {
        "id": "6be50dad"
      },
      "source": [
        "В группах нету одинаковых пользователей."
      ]
    },
    {
      "cell_type": "markdown",
      "id": "4ee9868a",
      "metadata": {
        "id": "4ee9868a"
      },
      "source": [
        "<div class=\"alert alert-success\">\n",
        "<font size=\"5\"><b>Комментарий ревьюера</b></font>\n",
        "\n",
        "Успех: Важное наблюдение.\n",
        "    \n",
        "</div>"
      ]
    },
    {
      "cell_type": "code",
      "execution_count": 25,
      "id": "6327eb11",
      "metadata": {
        "code_folding": [],
        "id": "6327eb11"
      },
      "outputs": [],
      "source": [
        "def _group(group):\n",
        "    return group.groupby('event_name').agg({'device_id_hash':'nunique'}).sort_values(by='device_id_hash',\n",
        "                                                                          ascending=False).reset_index()\n",
        "\n",
        "def event_z_test(group_1, group_2):\n",
        "    trials = [group_1['device_id_hash'].nunique(), group_2['device_id_hash'].nunique()]\n",
        "    group_1, group_2 = _group(group_1), _group(group_2)\n",
        "    for event_name in group_1['event_name']:\n",
        "        for g_1, g_2 in zip(group_1.query('event_name == @event_name')['device_id_hash'],\n",
        "                            group_2.query('event_name == @event_name')['device_id_hash']):\n",
        "            z_test(trials, [g_1, g_2], event_name)\n",
        "\n",
        "def z_test(trials, successes, event_name, alpha=.05):\n",
        "    p1 = successes[0] / trials[0]\n",
        "    p2 = successes[1] / trials[1]\n",
        "    p_combined = (successes[0] + successes[1]) / (trials[0] + trials[1])\n",
        "    difference = p1 - p2\n",
        "    z_value = difference / mth.sqrt(p_combined * (1 - p_combined) * (1/trials[0] + 1/trials[1]))\n",
        "    distr = st.norm(0, 1)\n",
        "    p_value = (1 - distr.cdf(abs(z_value))) * 2\n",
        "    print(f'{event_name} p-значение: {p_value}')\n",
        "\n",
        "    if p_value < alpha:\n",
        "        print(\"Отвергаем нулевую гипотезу: между долями есть значимая разница\")\n",
        "    else:\n",
        "        print(\"Не получилось отвергнуть нулевую гипотезу, нет оснований считать доли разными\")"
      ]
    },
    {
      "cell_type": "code",
      "execution_count": 26,
      "id": "c3a8a6d4",
      "metadata": {
        "code_folding": [],
        "id": "c3a8a6d4"
      },
      "outputs": [],
      "source": [
        "a_1, a_2, b_1 = g_246, g_247, g_248"
      ]
    },
    {
      "cell_type": "markdown",
      "id": "f9e3113f",
      "metadata": {
        "id": "f9e3113f"
      },
      "source": [
        "<div class=\"alert alert-success\">\n",
        "<font size=\"5\"><b>Комментарий ревьюера</b></font>\n",
        "\n",
        "Успех: Правильно, что ты создал функцию для проведения теста. Действительно, тестов проводить много, так что она не будет лишней.\n",
        "    \n",
        "    \n",
        "</div>"
      ]
    },
    {
      "cell_type": "markdown",
      "id": "b0917dc8",
      "metadata": {
        "id": "b0917dc8"
      },
      "source": [
        "<div class=\"alert alert-danger\">\n",
        "<font size=\"5\"><b>Комментарий ревьюера</b></font>\n",
        "\n",
        "Ошибка: Однако при нахождении конверсии ты делишь на сумму по столбцу с пользователями. В итоге пользователей, прошедших весь путь, ты учтешь 4 или 5 раз. Из-за это мы получаем искаженные результаты. Делить же стоит на число уникальных пользователей в данных. Сумма по столбцу id не несет в себе смысла, т.к. один пользователь проходит нескоолько этапов. Пользователя 1 ты учтешь в таком суммировании 2 раза, пользователя 2 - 3 раза, пользователя 3 - 4 раза (он прошел все этапы воронки) и т.д. Делить для нахождения конверсий стоит на общее число уникальных пользователей в данных. Этот показатель у тебя рассчитан в ячейке 16. Исправь данную неточность.\n",
        "\n",
        "</div>"
      ]
    },
    {
      "cell_type": "markdown",
      "id": "663a1e9a",
      "metadata": {
        "id": "663a1e9a"
      },
      "source": [
        "<div class=\"alert alert-success\">\n",
        "<font size=\"5\"><b>Комментарий ревьюера 2</b></font>\n",
        "\n",
        "Успех: Теперь функция корректна. Так мы учитываем всех пользователей.\n",
        "\n",
        "</div>"
      ]
    },
    {
      "cell_type": "markdown",
      "id": "16e463a5",
      "metadata": {
        "id": "16e463a5"
      },
      "source": [
        "### Выберем самое популярное событие, посчитаем число пользователей, совершивших это событие в каждой из контрольных групп. Посчитайте долю пользователей, совершивших это событие. Проверим, будет ли отличие между группами статистически достоверным."
      ]
    },
    {
      "cell_type": "markdown",
      "id": "5737672c",
      "metadata": {
        "id": "5737672c"
      },
      "source": [
        "Нулевая гипотиза будет звучать так: \"Доли разные\""
      ]
    },
    {
      "cell_type": "code",
      "execution_count": 28,
      "id": "ebe998fd",
      "metadata": {
        "colab": {
          "base_uri": "https://localhost:8080/",
          "height": 355
        },
        "id": "ebe998fd",
        "outputId": "38c423d1-1b26-434b-e3da-e2a2cbf3e3f9"
      },
      "outputs": [
        {
          "output_type": "stream",
          "name": "stdout",
          "text": [
            "Самое популярное событие: MainScreenAppear\n"
          ]
        },
        {
          "output_type": "error",
          "ename": "ValueError",
          "evalue": "data type must provide an itemsize",
          "traceback": [
            "\u001b[0;31m---------------------------------------------------------------------------\u001b[0m",
            "\u001b[0;31mValueError\u001b[0m                                Traceback (most recent call last)",
            "\u001b[0;32m<ipython-input-28-3024c4d6e0d3>\u001b[0m in \u001b[0;36m<cell line: 4>\u001b[0;34m()\u001b[0m\n\u001b[1;32m      2\u001b[0m \u001b[0mprint\u001b[0m\u001b[0;34m(\u001b[0m\u001b[0;34m'Самое популярное событие:'\u001b[0m\u001b[0;34m,\u001b[0m \u001b[0mpop_event\u001b[0m\u001b[0;34m[\u001b[0m\u001b[0;34m'event_name'\u001b[0m\u001b[0;34m]\u001b[0m\u001b[0;34m[\u001b[0m\u001b[0;36m0\u001b[0m\u001b[0;34m]\u001b[0m\u001b[0;34m)\u001b[0m\u001b[0;34m\u001b[0m\u001b[0;34m\u001b[0m\u001b[0m\n\u001b[1;32m      3\u001b[0m \u001b[0;34m\u001b[0m\u001b[0m\n\u001b[0;32m----> 4\u001b[0;31m a_a_pop_event = [a_1.query('event_name == @pop_event[\"event_name\"][0]')['device_id_hash'].nunique(), \n\u001b[0m\u001b[1;32m      5\u001b[0m                  a_2.query('event_name == @pop_event[\"event_name\"][0]')['device_id_hash'].nunique()] \n\u001b[1;32m      6\u001b[0m \u001b[0;34m\u001b[0m\u001b[0m\n",
            "\u001b[0;32m/usr/local/lib/python3.10/dist-packages/pandas/core/frame.py\u001b[0m in \u001b[0;36mquery\u001b[0;34m(self, expr, inplace, **kwargs)\u001b[0m\n\u001b[1;32m   4821\u001b[0m         \u001b[0mkwargs\u001b[0m\u001b[0;34m[\u001b[0m\u001b[0;34m\"level\"\u001b[0m\u001b[0;34m]\u001b[0m \u001b[0;34m=\u001b[0m \u001b[0mkwargs\u001b[0m\u001b[0;34m.\u001b[0m\u001b[0mpop\u001b[0m\u001b[0;34m(\u001b[0m\u001b[0;34m\"level\"\u001b[0m\u001b[0;34m,\u001b[0m \u001b[0;36m0\u001b[0m\u001b[0;34m)\u001b[0m \u001b[0;34m+\u001b[0m \u001b[0;36m1\u001b[0m\u001b[0;34m\u001b[0m\u001b[0;34m\u001b[0m\u001b[0m\n\u001b[1;32m   4822\u001b[0m         \u001b[0mkwargs\u001b[0m\u001b[0;34m[\u001b[0m\u001b[0;34m\"target\"\u001b[0m\u001b[0;34m]\u001b[0m \u001b[0;34m=\u001b[0m \u001b[0;32mNone\u001b[0m\u001b[0;34m\u001b[0m\u001b[0;34m\u001b[0m\u001b[0m\n\u001b[0;32m-> 4823\u001b[0;31m         \u001b[0mres\u001b[0m \u001b[0;34m=\u001b[0m \u001b[0mself\u001b[0m\u001b[0;34m.\u001b[0m\u001b[0meval\u001b[0m\u001b[0;34m(\u001b[0m\u001b[0mexpr\u001b[0m\u001b[0;34m,\u001b[0m \u001b[0;34m**\u001b[0m\u001b[0mkwargs\u001b[0m\u001b[0;34m)\u001b[0m\u001b[0;34m\u001b[0m\u001b[0;34m\u001b[0m\u001b[0m\n\u001b[0m\u001b[1;32m   4824\u001b[0m \u001b[0;34m\u001b[0m\u001b[0m\n\u001b[1;32m   4825\u001b[0m         \u001b[0;32mtry\u001b[0m\u001b[0;34m:\u001b[0m\u001b[0;34m\u001b[0m\u001b[0;34m\u001b[0m\u001b[0m\n",
            "\u001b[0;32m/usr/local/lib/python3.10/dist-packages/pandas/core/frame.py\u001b[0m in \u001b[0;36meval\u001b[0;34m(self, expr, inplace, **kwargs)\u001b[0m\n\u001b[1;32m   4947\u001b[0m         \u001b[0mkwargs\u001b[0m\u001b[0;34m[\u001b[0m\u001b[0;34m\"resolvers\"\u001b[0m\u001b[0;34m]\u001b[0m \u001b[0;34m=\u001b[0m \u001b[0mtuple\u001b[0m\u001b[0;34m(\u001b[0m\u001b[0mkwargs\u001b[0m\u001b[0;34m.\u001b[0m\u001b[0mget\u001b[0m\u001b[0;34m(\u001b[0m\u001b[0;34m\"resolvers\"\u001b[0m\u001b[0;34m,\u001b[0m \u001b[0;34m(\u001b[0m\u001b[0;34m)\u001b[0m\u001b[0;34m)\u001b[0m\u001b[0;34m)\u001b[0m \u001b[0;34m+\u001b[0m \u001b[0mresolvers\u001b[0m\u001b[0;34m\u001b[0m\u001b[0;34m\u001b[0m\u001b[0m\n\u001b[1;32m   4948\u001b[0m \u001b[0;34m\u001b[0m\u001b[0m\n\u001b[0;32m-> 4949\u001b[0;31m         \u001b[0;32mreturn\u001b[0m \u001b[0m_eval\u001b[0m\u001b[0;34m(\u001b[0m\u001b[0mexpr\u001b[0m\u001b[0;34m,\u001b[0m \u001b[0minplace\u001b[0m\u001b[0;34m=\u001b[0m\u001b[0minplace\u001b[0m\u001b[0;34m,\u001b[0m \u001b[0;34m**\u001b[0m\u001b[0mkwargs\u001b[0m\u001b[0;34m)\u001b[0m\u001b[0;34m\u001b[0m\u001b[0;34m\u001b[0m\u001b[0m\n\u001b[0m\u001b[1;32m   4950\u001b[0m \u001b[0;34m\u001b[0m\u001b[0m\n\u001b[1;32m   4951\u001b[0m     \u001b[0;32mdef\u001b[0m \u001b[0mselect_dtypes\u001b[0m\u001b[0;34m(\u001b[0m\u001b[0mself\u001b[0m\u001b[0;34m,\u001b[0m \u001b[0minclude\u001b[0m\u001b[0;34m=\u001b[0m\u001b[0;32mNone\u001b[0m\u001b[0;34m,\u001b[0m \u001b[0mexclude\u001b[0m\u001b[0;34m=\u001b[0m\u001b[0;32mNone\u001b[0m\u001b[0;34m)\u001b[0m \u001b[0;34m->\u001b[0m \u001b[0mSelf\u001b[0m\u001b[0;34m:\u001b[0m\u001b[0;34m\u001b[0m\u001b[0;34m\u001b[0m\u001b[0m\n",
            "\u001b[0;32m/usr/local/lib/python3.10/dist-packages/pandas/core/computation/eval.py\u001b[0m in \u001b[0;36meval\u001b[0;34m(expr, parser, engine, local_dict, global_dict, resolvers, level, target, inplace)\u001b[0m\n\u001b[1;32m    334\u001b[0m         )\n\u001b[1;32m    335\u001b[0m \u001b[0;34m\u001b[0m\u001b[0m\n\u001b[0;32m--> 336\u001b[0;31m         \u001b[0mparsed_expr\u001b[0m \u001b[0;34m=\u001b[0m \u001b[0mExpr\u001b[0m\u001b[0;34m(\u001b[0m\u001b[0mexpr\u001b[0m\u001b[0;34m,\u001b[0m \u001b[0mengine\u001b[0m\u001b[0;34m=\u001b[0m\u001b[0mengine\u001b[0m\u001b[0;34m,\u001b[0m \u001b[0mparser\u001b[0m\u001b[0;34m=\u001b[0m\u001b[0mparser\u001b[0m\u001b[0;34m,\u001b[0m \u001b[0menv\u001b[0m\u001b[0;34m=\u001b[0m\u001b[0menv\u001b[0m\u001b[0;34m)\u001b[0m\u001b[0;34m\u001b[0m\u001b[0;34m\u001b[0m\u001b[0m\n\u001b[0m\u001b[1;32m    337\u001b[0m \u001b[0;34m\u001b[0m\u001b[0m\n\u001b[1;32m    338\u001b[0m         if engine == \"numexpr\" and (\n",
            "\u001b[0;32m/usr/local/lib/python3.10/dist-packages/pandas/core/computation/expr.py\u001b[0m in \u001b[0;36m__init__\u001b[0;34m(self, expr, engine, parser, env, level)\u001b[0m\n\u001b[1;32m    807\u001b[0m         \u001b[0mself\u001b[0m\u001b[0;34m.\u001b[0m\u001b[0mparser\u001b[0m \u001b[0;34m=\u001b[0m \u001b[0mparser\u001b[0m\u001b[0;34m\u001b[0m\u001b[0;34m\u001b[0m\u001b[0m\n\u001b[1;32m    808\u001b[0m         \u001b[0mself\u001b[0m\u001b[0;34m.\u001b[0m\u001b[0m_visitor\u001b[0m \u001b[0;34m=\u001b[0m \u001b[0mPARSERS\u001b[0m\u001b[0;34m[\u001b[0m\u001b[0mparser\u001b[0m\u001b[0;34m]\u001b[0m\u001b[0;34m(\u001b[0m\u001b[0mself\u001b[0m\u001b[0;34m.\u001b[0m\u001b[0menv\u001b[0m\u001b[0;34m,\u001b[0m \u001b[0mself\u001b[0m\u001b[0;34m.\u001b[0m\u001b[0mengine\u001b[0m\u001b[0;34m,\u001b[0m \u001b[0mself\u001b[0m\u001b[0;34m.\u001b[0m\u001b[0mparser\u001b[0m\u001b[0;34m)\u001b[0m\u001b[0;34m\u001b[0m\u001b[0;34m\u001b[0m\u001b[0m\n\u001b[0;32m--> 809\u001b[0;31m         \u001b[0mself\u001b[0m\u001b[0;34m.\u001b[0m\u001b[0mterms\u001b[0m \u001b[0;34m=\u001b[0m \u001b[0mself\u001b[0m\u001b[0;34m.\u001b[0m\u001b[0mparse\u001b[0m\u001b[0;34m(\u001b[0m\u001b[0;34m)\u001b[0m\u001b[0;34m\u001b[0m\u001b[0;34m\u001b[0m\u001b[0m\n\u001b[0m\u001b[1;32m    810\u001b[0m \u001b[0;34m\u001b[0m\u001b[0m\n\u001b[1;32m    811\u001b[0m     \u001b[0;34m@\u001b[0m\u001b[0mproperty\u001b[0m\u001b[0;34m\u001b[0m\u001b[0;34m\u001b[0m\u001b[0m\n",
            "\u001b[0;32m/usr/local/lib/python3.10/dist-packages/pandas/core/computation/expr.py\u001b[0m in \u001b[0;36mparse\u001b[0;34m(self)\u001b[0m\n\u001b[1;32m    826\u001b[0m         \u001b[0mParse\u001b[0m \u001b[0man\u001b[0m \u001b[0mexpression\u001b[0m\u001b[0;34m.\u001b[0m\u001b[0;34m\u001b[0m\u001b[0;34m\u001b[0m\u001b[0m\n\u001b[1;32m    827\u001b[0m         \"\"\"\n\u001b[0;32m--> 828\u001b[0;31m         \u001b[0;32mreturn\u001b[0m \u001b[0mself\u001b[0m\u001b[0;34m.\u001b[0m\u001b[0m_visitor\u001b[0m\u001b[0;34m.\u001b[0m\u001b[0mvisit\u001b[0m\u001b[0;34m(\u001b[0m\u001b[0mself\u001b[0m\u001b[0;34m.\u001b[0m\u001b[0mexpr\u001b[0m\u001b[0;34m)\u001b[0m\u001b[0;34m\u001b[0m\u001b[0;34m\u001b[0m\u001b[0m\n\u001b[0m\u001b[1;32m    829\u001b[0m \u001b[0;34m\u001b[0m\u001b[0m\n\u001b[1;32m    830\u001b[0m     \u001b[0;34m@\u001b[0m\u001b[0mproperty\u001b[0m\u001b[0;34m\u001b[0m\u001b[0;34m\u001b[0m\u001b[0m\n",
            "\u001b[0;32m/usr/local/lib/python3.10/dist-packages/pandas/core/computation/expr.py\u001b[0m in \u001b[0;36mvisit\u001b[0;34m(self, node, **kwargs)\u001b[0m\n\u001b[1;32m    410\u001b[0m         \u001b[0mmethod\u001b[0m \u001b[0;34m=\u001b[0m \u001b[0;34mf\"visit_{type(node).__name__}\"\u001b[0m\u001b[0;34m\u001b[0m\u001b[0;34m\u001b[0m\u001b[0m\n\u001b[1;32m    411\u001b[0m         \u001b[0mvisitor\u001b[0m \u001b[0;34m=\u001b[0m \u001b[0mgetattr\u001b[0m\u001b[0;34m(\u001b[0m\u001b[0mself\u001b[0m\u001b[0;34m,\u001b[0m \u001b[0mmethod\u001b[0m\u001b[0;34m)\u001b[0m\u001b[0;34m\u001b[0m\u001b[0;34m\u001b[0m\u001b[0m\n\u001b[0;32m--> 412\u001b[0;31m         \u001b[0;32mreturn\u001b[0m \u001b[0mvisitor\u001b[0m\u001b[0;34m(\u001b[0m\u001b[0mnode\u001b[0m\u001b[0;34m,\u001b[0m \u001b[0;34m**\u001b[0m\u001b[0mkwargs\u001b[0m\u001b[0;34m)\u001b[0m\u001b[0;34m\u001b[0m\u001b[0;34m\u001b[0m\u001b[0m\n\u001b[0m\u001b[1;32m    413\u001b[0m \u001b[0;34m\u001b[0m\u001b[0m\n\u001b[1;32m    414\u001b[0m     \u001b[0;32mdef\u001b[0m \u001b[0mvisit_Module\u001b[0m\u001b[0;34m(\u001b[0m\u001b[0mself\u001b[0m\u001b[0;34m,\u001b[0m \u001b[0mnode\u001b[0m\u001b[0;34m,\u001b[0m \u001b[0;34m**\u001b[0m\u001b[0mkwargs\u001b[0m\u001b[0;34m)\u001b[0m\u001b[0;34m:\u001b[0m\u001b[0;34m\u001b[0m\u001b[0;34m\u001b[0m\u001b[0m\n",
            "\u001b[0;32m/usr/local/lib/python3.10/dist-packages/pandas/core/computation/expr.py\u001b[0m in \u001b[0;36mvisit_Module\u001b[0;34m(self, node, **kwargs)\u001b[0m\n\u001b[1;32m    416\u001b[0m             \u001b[0;32mraise\u001b[0m \u001b[0mSyntaxError\u001b[0m\u001b[0;34m(\u001b[0m\u001b[0;34m\"only a single expression is allowed\"\u001b[0m\u001b[0;34m)\u001b[0m\u001b[0;34m\u001b[0m\u001b[0;34m\u001b[0m\u001b[0m\n\u001b[1;32m    417\u001b[0m         \u001b[0mexpr\u001b[0m \u001b[0;34m=\u001b[0m \u001b[0mnode\u001b[0m\u001b[0;34m.\u001b[0m\u001b[0mbody\u001b[0m\u001b[0;34m[\u001b[0m\u001b[0;36m0\u001b[0m\u001b[0;34m]\u001b[0m\u001b[0;34m\u001b[0m\u001b[0;34m\u001b[0m\u001b[0m\n\u001b[0;32m--> 418\u001b[0;31m         \u001b[0;32mreturn\u001b[0m \u001b[0mself\u001b[0m\u001b[0;34m.\u001b[0m\u001b[0mvisit\u001b[0m\u001b[0;34m(\u001b[0m\u001b[0mexpr\u001b[0m\u001b[0;34m,\u001b[0m \u001b[0;34m**\u001b[0m\u001b[0mkwargs\u001b[0m\u001b[0;34m)\u001b[0m\u001b[0;34m\u001b[0m\u001b[0;34m\u001b[0m\u001b[0m\n\u001b[0m\u001b[1;32m    419\u001b[0m \u001b[0;34m\u001b[0m\u001b[0m\n\u001b[1;32m    420\u001b[0m     \u001b[0;32mdef\u001b[0m \u001b[0mvisit_Expr\u001b[0m\u001b[0;34m(\u001b[0m\u001b[0mself\u001b[0m\u001b[0;34m,\u001b[0m \u001b[0mnode\u001b[0m\u001b[0;34m,\u001b[0m \u001b[0;34m**\u001b[0m\u001b[0mkwargs\u001b[0m\u001b[0;34m)\u001b[0m\u001b[0;34m:\u001b[0m\u001b[0;34m\u001b[0m\u001b[0;34m\u001b[0m\u001b[0m\n",
            "\u001b[0;32m/usr/local/lib/python3.10/dist-packages/pandas/core/computation/expr.py\u001b[0m in \u001b[0;36mvisit\u001b[0;34m(self, node, **kwargs)\u001b[0m\n\u001b[1;32m    410\u001b[0m         \u001b[0mmethod\u001b[0m \u001b[0;34m=\u001b[0m \u001b[0;34mf\"visit_{type(node).__name__}\"\u001b[0m\u001b[0;34m\u001b[0m\u001b[0;34m\u001b[0m\u001b[0m\n\u001b[1;32m    411\u001b[0m         \u001b[0mvisitor\u001b[0m \u001b[0;34m=\u001b[0m \u001b[0mgetattr\u001b[0m\u001b[0;34m(\u001b[0m\u001b[0mself\u001b[0m\u001b[0;34m,\u001b[0m \u001b[0mmethod\u001b[0m\u001b[0;34m)\u001b[0m\u001b[0;34m\u001b[0m\u001b[0;34m\u001b[0m\u001b[0m\n\u001b[0;32m--> 412\u001b[0;31m         \u001b[0;32mreturn\u001b[0m \u001b[0mvisitor\u001b[0m\u001b[0;34m(\u001b[0m\u001b[0mnode\u001b[0m\u001b[0;34m,\u001b[0m \u001b[0;34m**\u001b[0m\u001b[0mkwargs\u001b[0m\u001b[0;34m)\u001b[0m\u001b[0;34m\u001b[0m\u001b[0;34m\u001b[0m\u001b[0m\n\u001b[0m\u001b[1;32m    413\u001b[0m \u001b[0;34m\u001b[0m\u001b[0m\n\u001b[1;32m    414\u001b[0m     \u001b[0;32mdef\u001b[0m \u001b[0mvisit_Module\u001b[0m\u001b[0;34m(\u001b[0m\u001b[0mself\u001b[0m\u001b[0;34m,\u001b[0m \u001b[0mnode\u001b[0m\u001b[0;34m,\u001b[0m \u001b[0;34m**\u001b[0m\u001b[0mkwargs\u001b[0m\u001b[0;34m)\u001b[0m\u001b[0;34m:\u001b[0m\u001b[0;34m\u001b[0m\u001b[0;34m\u001b[0m\u001b[0m\n",
            "\u001b[0;32m/usr/local/lib/python3.10/dist-packages/pandas/core/computation/expr.py\u001b[0m in \u001b[0;36mvisit_Expr\u001b[0;34m(self, node, **kwargs)\u001b[0m\n\u001b[1;32m    419\u001b[0m \u001b[0;34m\u001b[0m\u001b[0m\n\u001b[1;32m    420\u001b[0m     \u001b[0;32mdef\u001b[0m \u001b[0mvisit_Expr\u001b[0m\u001b[0;34m(\u001b[0m\u001b[0mself\u001b[0m\u001b[0;34m,\u001b[0m \u001b[0mnode\u001b[0m\u001b[0;34m,\u001b[0m \u001b[0;34m**\u001b[0m\u001b[0mkwargs\u001b[0m\u001b[0;34m)\u001b[0m\u001b[0;34m:\u001b[0m\u001b[0;34m\u001b[0m\u001b[0;34m\u001b[0m\u001b[0m\n\u001b[0;32m--> 421\u001b[0;31m         \u001b[0;32mreturn\u001b[0m \u001b[0mself\u001b[0m\u001b[0;34m.\u001b[0m\u001b[0mvisit\u001b[0m\u001b[0;34m(\u001b[0m\u001b[0mnode\u001b[0m\u001b[0;34m.\u001b[0m\u001b[0mvalue\u001b[0m\u001b[0;34m,\u001b[0m \u001b[0;34m**\u001b[0m\u001b[0mkwargs\u001b[0m\u001b[0;34m)\u001b[0m\u001b[0;34m\u001b[0m\u001b[0;34m\u001b[0m\u001b[0m\n\u001b[0m\u001b[1;32m    422\u001b[0m \u001b[0;34m\u001b[0m\u001b[0m\n\u001b[1;32m    423\u001b[0m     \u001b[0;32mdef\u001b[0m \u001b[0m_rewrite_membership_op\u001b[0m\u001b[0;34m(\u001b[0m\u001b[0mself\u001b[0m\u001b[0;34m,\u001b[0m \u001b[0mnode\u001b[0m\u001b[0;34m,\u001b[0m \u001b[0mleft\u001b[0m\u001b[0;34m,\u001b[0m \u001b[0mright\u001b[0m\u001b[0;34m)\u001b[0m\u001b[0;34m:\u001b[0m\u001b[0;34m\u001b[0m\u001b[0;34m\u001b[0m\u001b[0m\n",
            "\u001b[0;32m/usr/local/lib/python3.10/dist-packages/pandas/core/computation/expr.py\u001b[0m in \u001b[0;36mvisit\u001b[0;34m(self, node, **kwargs)\u001b[0m\n\u001b[1;32m    410\u001b[0m         \u001b[0mmethod\u001b[0m \u001b[0;34m=\u001b[0m \u001b[0;34mf\"visit_{type(node).__name__}\"\u001b[0m\u001b[0;34m\u001b[0m\u001b[0;34m\u001b[0m\u001b[0m\n\u001b[1;32m    411\u001b[0m         \u001b[0mvisitor\u001b[0m \u001b[0;34m=\u001b[0m \u001b[0mgetattr\u001b[0m\u001b[0;34m(\u001b[0m\u001b[0mself\u001b[0m\u001b[0;34m,\u001b[0m \u001b[0mmethod\u001b[0m\u001b[0;34m)\u001b[0m\u001b[0;34m\u001b[0m\u001b[0;34m\u001b[0m\u001b[0m\n\u001b[0;32m--> 412\u001b[0;31m         \u001b[0;32mreturn\u001b[0m \u001b[0mvisitor\u001b[0m\u001b[0;34m(\u001b[0m\u001b[0mnode\u001b[0m\u001b[0;34m,\u001b[0m \u001b[0;34m**\u001b[0m\u001b[0mkwargs\u001b[0m\u001b[0;34m)\u001b[0m\u001b[0;34m\u001b[0m\u001b[0;34m\u001b[0m\u001b[0m\n\u001b[0m\u001b[1;32m    413\u001b[0m \u001b[0;34m\u001b[0m\u001b[0m\n\u001b[1;32m    414\u001b[0m     \u001b[0;32mdef\u001b[0m \u001b[0mvisit_Module\u001b[0m\u001b[0;34m(\u001b[0m\u001b[0mself\u001b[0m\u001b[0;34m,\u001b[0m \u001b[0mnode\u001b[0m\u001b[0;34m,\u001b[0m \u001b[0;34m**\u001b[0m\u001b[0mkwargs\u001b[0m\u001b[0;34m)\u001b[0m\u001b[0;34m:\u001b[0m\u001b[0;34m\u001b[0m\u001b[0;34m\u001b[0m\u001b[0m\n",
            "\u001b[0;32m/usr/local/lib/python3.10/dist-packages/pandas/core/computation/expr.py\u001b[0m in \u001b[0;36mvisit_Compare\u001b[0;34m(self, node, **kwargs)\u001b[0m\n\u001b[1;32m    717\u001b[0m             \u001b[0mop\u001b[0m \u001b[0;34m=\u001b[0m \u001b[0mself\u001b[0m\u001b[0;34m.\u001b[0m\u001b[0mtranslate_In\u001b[0m\u001b[0;34m(\u001b[0m\u001b[0mops\u001b[0m\u001b[0;34m[\u001b[0m\u001b[0;36m0\u001b[0m\u001b[0;34m]\u001b[0m\u001b[0;34m)\u001b[0m\u001b[0;34m\u001b[0m\u001b[0;34m\u001b[0m\u001b[0m\n\u001b[1;32m    718\u001b[0m             \u001b[0mbinop\u001b[0m \u001b[0;34m=\u001b[0m \u001b[0mast\u001b[0m\u001b[0;34m.\u001b[0m\u001b[0mBinOp\u001b[0m\u001b[0;34m(\u001b[0m\u001b[0mop\u001b[0m\u001b[0;34m=\u001b[0m\u001b[0mop\u001b[0m\u001b[0;34m,\u001b[0m \u001b[0mleft\u001b[0m\u001b[0;34m=\u001b[0m\u001b[0mnode\u001b[0m\u001b[0;34m.\u001b[0m\u001b[0mleft\u001b[0m\u001b[0;34m,\u001b[0m \u001b[0mright\u001b[0m\u001b[0;34m=\u001b[0m\u001b[0mcomps\u001b[0m\u001b[0;34m[\u001b[0m\u001b[0;36m0\u001b[0m\u001b[0;34m]\u001b[0m\u001b[0;34m)\u001b[0m\u001b[0;34m\u001b[0m\u001b[0;34m\u001b[0m\u001b[0m\n\u001b[0;32m--> 719\u001b[0;31m             \u001b[0;32mreturn\u001b[0m \u001b[0mself\u001b[0m\u001b[0;34m.\u001b[0m\u001b[0mvisit\u001b[0m\u001b[0;34m(\u001b[0m\u001b[0mbinop\u001b[0m\u001b[0;34m)\u001b[0m\u001b[0;34m\u001b[0m\u001b[0;34m\u001b[0m\u001b[0m\n\u001b[0m\u001b[1;32m    720\u001b[0m \u001b[0;34m\u001b[0m\u001b[0m\n\u001b[1;32m    721\u001b[0m         \u001b[0;31m# recursive case: we have a chained comparison, a CMP b CMP c, etc.\u001b[0m\u001b[0;34m\u001b[0m\u001b[0;34m\u001b[0m\u001b[0m\n",
            "\u001b[0;32m/usr/local/lib/python3.10/dist-packages/pandas/core/computation/expr.py\u001b[0m in \u001b[0;36mvisit\u001b[0;34m(self, node, **kwargs)\u001b[0m\n\u001b[1;32m    410\u001b[0m         \u001b[0mmethod\u001b[0m \u001b[0;34m=\u001b[0m \u001b[0;34mf\"visit_{type(node).__name__}\"\u001b[0m\u001b[0;34m\u001b[0m\u001b[0;34m\u001b[0m\u001b[0m\n\u001b[1;32m    411\u001b[0m         \u001b[0mvisitor\u001b[0m \u001b[0;34m=\u001b[0m \u001b[0mgetattr\u001b[0m\u001b[0;34m(\u001b[0m\u001b[0mself\u001b[0m\u001b[0;34m,\u001b[0m \u001b[0mmethod\u001b[0m\u001b[0;34m)\u001b[0m\u001b[0;34m\u001b[0m\u001b[0;34m\u001b[0m\u001b[0m\n\u001b[0;32m--> 412\u001b[0;31m         \u001b[0;32mreturn\u001b[0m \u001b[0mvisitor\u001b[0m\u001b[0;34m(\u001b[0m\u001b[0mnode\u001b[0m\u001b[0;34m,\u001b[0m \u001b[0;34m**\u001b[0m\u001b[0mkwargs\u001b[0m\u001b[0;34m)\u001b[0m\u001b[0;34m\u001b[0m\u001b[0;34m\u001b[0m\u001b[0m\n\u001b[0m\u001b[1;32m    413\u001b[0m \u001b[0;34m\u001b[0m\u001b[0m\n\u001b[1;32m    414\u001b[0m     \u001b[0;32mdef\u001b[0m \u001b[0mvisit_Module\u001b[0m\u001b[0;34m(\u001b[0m\u001b[0mself\u001b[0m\u001b[0;34m,\u001b[0m \u001b[0mnode\u001b[0m\u001b[0;34m,\u001b[0m \u001b[0;34m**\u001b[0m\u001b[0mkwargs\u001b[0m\u001b[0;34m)\u001b[0m\u001b[0;34m:\u001b[0m\u001b[0;34m\u001b[0m\u001b[0;34m\u001b[0m\u001b[0m\n",
            "\u001b[0;32m/usr/local/lib/python3.10/dist-packages/pandas/core/computation/expr.py\u001b[0m in \u001b[0;36mvisit_BinOp\u001b[0;34m(self, node, **kwargs)\u001b[0m\n\u001b[1;32m    530\u001b[0m \u001b[0;34m\u001b[0m\u001b[0m\n\u001b[1;32m    531\u001b[0m     \u001b[0;32mdef\u001b[0m \u001b[0mvisit_BinOp\u001b[0m\u001b[0;34m(\u001b[0m\u001b[0mself\u001b[0m\u001b[0;34m,\u001b[0m \u001b[0mnode\u001b[0m\u001b[0;34m,\u001b[0m \u001b[0;34m**\u001b[0m\u001b[0mkwargs\u001b[0m\u001b[0;34m)\u001b[0m\u001b[0;34m:\u001b[0m\u001b[0;34m\u001b[0m\u001b[0;34m\u001b[0m\u001b[0m\n\u001b[0;32m--> 532\u001b[0;31m         \u001b[0mop\u001b[0m\u001b[0;34m,\u001b[0m \u001b[0mop_class\u001b[0m\u001b[0;34m,\u001b[0m \u001b[0mleft\u001b[0m\u001b[0;34m,\u001b[0m \u001b[0mright\u001b[0m \u001b[0;34m=\u001b[0m \u001b[0mself\u001b[0m\u001b[0;34m.\u001b[0m\u001b[0m_maybe_transform_eq_ne\u001b[0m\u001b[0;34m(\u001b[0m\u001b[0mnode\u001b[0m\u001b[0;34m)\u001b[0m\u001b[0;34m\u001b[0m\u001b[0;34m\u001b[0m\u001b[0m\n\u001b[0m\u001b[1;32m    533\u001b[0m         \u001b[0mleft\u001b[0m\u001b[0;34m,\u001b[0m \u001b[0mright\u001b[0m \u001b[0;34m=\u001b[0m \u001b[0mself\u001b[0m\u001b[0;34m.\u001b[0m\u001b[0m_maybe_downcast_constants\u001b[0m\u001b[0;34m(\u001b[0m\u001b[0mleft\u001b[0m\u001b[0;34m,\u001b[0m \u001b[0mright\u001b[0m\u001b[0;34m)\u001b[0m\u001b[0;34m\u001b[0m\u001b[0;34m\u001b[0m\u001b[0m\n\u001b[1;32m    534\u001b[0m         \u001b[0;32mreturn\u001b[0m \u001b[0mself\u001b[0m\u001b[0;34m.\u001b[0m\u001b[0m_maybe_evaluate_binop\u001b[0m\u001b[0;34m(\u001b[0m\u001b[0mop\u001b[0m\u001b[0;34m,\u001b[0m \u001b[0mop_class\u001b[0m\u001b[0;34m,\u001b[0m \u001b[0mleft\u001b[0m\u001b[0;34m,\u001b[0m \u001b[0mright\u001b[0m\u001b[0;34m)\u001b[0m\u001b[0;34m\u001b[0m\u001b[0;34m\u001b[0m\u001b[0m\n",
            "\u001b[0;32m/usr/local/lib/python3.10/dist-packages/pandas/core/computation/expr.py\u001b[0m in \u001b[0;36m_maybe_transform_eq_ne\u001b[0;34m(self, node, left, right)\u001b[0m\n\u001b[1;32m    452\u001b[0m             \u001b[0mleft\u001b[0m \u001b[0;34m=\u001b[0m \u001b[0mself\u001b[0m\u001b[0;34m.\u001b[0m\u001b[0mvisit\u001b[0m\u001b[0;34m(\u001b[0m\u001b[0mnode\u001b[0m\u001b[0;34m.\u001b[0m\u001b[0mleft\u001b[0m\u001b[0;34m,\u001b[0m \u001b[0mside\u001b[0m\u001b[0;34m=\u001b[0m\u001b[0;34m\"left\"\u001b[0m\u001b[0;34m)\u001b[0m\u001b[0;34m\u001b[0m\u001b[0;34m\u001b[0m\u001b[0m\n\u001b[1;32m    453\u001b[0m         \u001b[0;32mif\u001b[0m \u001b[0mright\u001b[0m \u001b[0;32mis\u001b[0m \u001b[0;32mNone\u001b[0m\u001b[0;34m:\u001b[0m\u001b[0;34m\u001b[0m\u001b[0;34m\u001b[0m\u001b[0m\n\u001b[0;32m--> 454\u001b[0;31m             \u001b[0mright\u001b[0m \u001b[0;34m=\u001b[0m \u001b[0mself\u001b[0m\u001b[0;34m.\u001b[0m\u001b[0mvisit\u001b[0m\u001b[0;34m(\u001b[0m\u001b[0mnode\u001b[0m\u001b[0;34m.\u001b[0m\u001b[0mright\u001b[0m\u001b[0;34m,\u001b[0m \u001b[0mside\u001b[0m\u001b[0;34m=\u001b[0m\u001b[0;34m\"right\"\u001b[0m\u001b[0;34m)\u001b[0m\u001b[0;34m\u001b[0m\u001b[0;34m\u001b[0m\u001b[0m\n\u001b[0m\u001b[1;32m    455\u001b[0m         \u001b[0mop\u001b[0m\u001b[0;34m,\u001b[0m \u001b[0mop_class\u001b[0m\u001b[0;34m,\u001b[0m \u001b[0mleft\u001b[0m\u001b[0;34m,\u001b[0m \u001b[0mright\u001b[0m \u001b[0;34m=\u001b[0m \u001b[0mself\u001b[0m\u001b[0;34m.\u001b[0m\u001b[0m_rewrite_membership_op\u001b[0m\u001b[0;34m(\u001b[0m\u001b[0mnode\u001b[0m\u001b[0;34m,\u001b[0m \u001b[0mleft\u001b[0m\u001b[0;34m,\u001b[0m \u001b[0mright\u001b[0m\u001b[0;34m)\u001b[0m\u001b[0;34m\u001b[0m\u001b[0;34m\u001b[0m\u001b[0m\n\u001b[1;32m    456\u001b[0m         \u001b[0;32mreturn\u001b[0m \u001b[0mop\u001b[0m\u001b[0;34m,\u001b[0m \u001b[0mop_class\u001b[0m\u001b[0;34m,\u001b[0m \u001b[0mleft\u001b[0m\u001b[0;34m,\u001b[0m \u001b[0mright\u001b[0m\u001b[0;34m\u001b[0m\u001b[0;34m\u001b[0m\u001b[0m\n",
            "\u001b[0;32m/usr/local/lib/python3.10/dist-packages/pandas/core/computation/expr.py\u001b[0m in \u001b[0;36mvisit\u001b[0;34m(self, node, **kwargs)\u001b[0m\n\u001b[1;32m    410\u001b[0m         \u001b[0mmethod\u001b[0m \u001b[0;34m=\u001b[0m \u001b[0;34mf\"visit_{type(node).__name__}\"\u001b[0m\u001b[0;34m\u001b[0m\u001b[0;34m\u001b[0m\u001b[0m\n\u001b[1;32m    411\u001b[0m         \u001b[0mvisitor\u001b[0m \u001b[0;34m=\u001b[0m \u001b[0mgetattr\u001b[0m\u001b[0;34m(\u001b[0m\u001b[0mself\u001b[0m\u001b[0;34m,\u001b[0m \u001b[0mmethod\u001b[0m\u001b[0;34m)\u001b[0m\u001b[0;34m\u001b[0m\u001b[0;34m\u001b[0m\u001b[0m\n\u001b[0;32m--> 412\u001b[0;31m         \u001b[0;32mreturn\u001b[0m \u001b[0mvisitor\u001b[0m\u001b[0;34m(\u001b[0m\u001b[0mnode\u001b[0m\u001b[0;34m,\u001b[0m \u001b[0;34m**\u001b[0m\u001b[0mkwargs\u001b[0m\u001b[0;34m)\u001b[0m\u001b[0;34m\u001b[0m\u001b[0;34m\u001b[0m\u001b[0m\n\u001b[0m\u001b[1;32m    413\u001b[0m \u001b[0;34m\u001b[0m\u001b[0m\n\u001b[1;32m    414\u001b[0m     \u001b[0;32mdef\u001b[0m \u001b[0mvisit_Module\u001b[0m\u001b[0;34m(\u001b[0m\u001b[0mself\u001b[0m\u001b[0;34m,\u001b[0m \u001b[0mnode\u001b[0m\u001b[0;34m,\u001b[0m \u001b[0;34m**\u001b[0m\u001b[0mkwargs\u001b[0m\u001b[0;34m)\u001b[0m\u001b[0;34m:\u001b[0m\u001b[0;34m\u001b[0m\u001b[0;34m\u001b[0m\u001b[0m\n",
            "\u001b[0;32m/usr/local/lib/python3.10/dist-packages/pandas/core/computation/expr.py\u001b[0m in \u001b[0;36mvisit_Subscript\u001b[0;34m(self, node, **kwargs)\u001b[0m\n\u001b[1;32m    574\u001b[0m         \u001b[0;32mfrom\u001b[0m \u001b[0mpandas\u001b[0m \u001b[0;32mimport\u001b[0m \u001b[0meval\u001b[0m \u001b[0;32mas\u001b[0m \u001b[0mpd_eval\u001b[0m\u001b[0;34m\u001b[0m\u001b[0;34m\u001b[0m\u001b[0m\n\u001b[1;32m    575\u001b[0m \u001b[0;34m\u001b[0m\u001b[0m\n\u001b[0;32m--> 576\u001b[0;31m         \u001b[0mvalue\u001b[0m \u001b[0;34m=\u001b[0m \u001b[0mself\u001b[0m\u001b[0;34m.\u001b[0m\u001b[0mvisit\u001b[0m\u001b[0;34m(\u001b[0m\u001b[0mnode\u001b[0m\u001b[0;34m.\u001b[0m\u001b[0mvalue\u001b[0m\u001b[0;34m)\u001b[0m\u001b[0;34m\u001b[0m\u001b[0;34m\u001b[0m\u001b[0m\n\u001b[0m\u001b[1;32m    577\u001b[0m         \u001b[0mslobj\u001b[0m \u001b[0;34m=\u001b[0m \u001b[0mself\u001b[0m\u001b[0;34m.\u001b[0m\u001b[0mvisit\u001b[0m\u001b[0;34m(\u001b[0m\u001b[0mnode\u001b[0m\u001b[0;34m.\u001b[0m\u001b[0mslice\u001b[0m\u001b[0;34m)\u001b[0m\u001b[0;34m\u001b[0m\u001b[0;34m\u001b[0m\u001b[0m\n\u001b[1;32m    578\u001b[0m         result = pd_eval(\n",
            "\u001b[0;32m/usr/local/lib/python3.10/dist-packages/pandas/core/computation/expr.py\u001b[0m in \u001b[0;36mvisit\u001b[0;34m(self, node, **kwargs)\u001b[0m\n\u001b[1;32m    410\u001b[0m         \u001b[0mmethod\u001b[0m \u001b[0;34m=\u001b[0m \u001b[0;34mf\"visit_{type(node).__name__}\"\u001b[0m\u001b[0;34m\u001b[0m\u001b[0;34m\u001b[0m\u001b[0m\n\u001b[1;32m    411\u001b[0m         \u001b[0mvisitor\u001b[0m \u001b[0;34m=\u001b[0m \u001b[0mgetattr\u001b[0m\u001b[0;34m(\u001b[0m\u001b[0mself\u001b[0m\u001b[0;34m,\u001b[0m \u001b[0mmethod\u001b[0m\u001b[0;34m)\u001b[0m\u001b[0;34m\u001b[0m\u001b[0;34m\u001b[0m\u001b[0m\n\u001b[0;32m--> 412\u001b[0;31m         \u001b[0;32mreturn\u001b[0m \u001b[0mvisitor\u001b[0m\u001b[0;34m(\u001b[0m\u001b[0mnode\u001b[0m\u001b[0;34m,\u001b[0m \u001b[0;34m**\u001b[0m\u001b[0mkwargs\u001b[0m\u001b[0;34m)\u001b[0m\u001b[0;34m\u001b[0m\u001b[0;34m\u001b[0m\u001b[0m\n\u001b[0m\u001b[1;32m    413\u001b[0m \u001b[0;34m\u001b[0m\u001b[0m\n\u001b[1;32m    414\u001b[0m     \u001b[0;32mdef\u001b[0m \u001b[0mvisit_Module\u001b[0m\u001b[0;34m(\u001b[0m\u001b[0mself\u001b[0m\u001b[0;34m,\u001b[0m \u001b[0mnode\u001b[0m\u001b[0;34m,\u001b[0m \u001b[0;34m**\u001b[0m\u001b[0mkwargs\u001b[0m\u001b[0;34m)\u001b[0m\u001b[0;34m:\u001b[0m\u001b[0;34m\u001b[0m\u001b[0;34m\u001b[0m\u001b[0m\n",
            "\u001b[0;32m/usr/local/lib/python3.10/dist-packages/pandas/core/computation/expr.py\u001b[0m in \u001b[0;36mvisit_Subscript\u001b[0;34m(self, node, **kwargs)\u001b[0m\n\u001b[1;32m    576\u001b[0m         \u001b[0mvalue\u001b[0m \u001b[0;34m=\u001b[0m \u001b[0mself\u001b[0m\u001b[0;34m.\u001b[0m\u001b[0mvisit\u001b[0m\u001b[0;34m(\u001b[0m\u001b[0mnode\u001b[0m\u001b[0;34m.\u001b[0m\u001b[0mvalue\u001b[0m\u001b[0;34m)\u001b[0m\u001b[0;34m\u001b[0m\u001b[0;34m\u001b[0m\u001b[0m\n\u001b[1;32m    577\u001b[0m         \u001b[0mslobj\u001b[0m \u001b[0;34m=\u001b[0m \u001b[0mself\u001b[0m\u001b[0;34m.\u001b[0m\u001b[0mvisit\u001b[0m\u001b[0;34m(\u001b[0m\u001b[0mnode\u001b[0m\u001b[0;34m.\u001b[0m\u001b[0mslice\u001b[0m\u001b[0;34m)\u001b[0m\u001b[0;34m\u001b[0m\u001b[0;34m\u001b[0m\u001b[0m\n\u001b[0;32m--> 578\u001b[0;31m         result = pd_eval(\n\u001b[0m\u001b[1;32m    579\u001b[0m             \u001b[0mslobj\u001b[0m\u001b[0;34m,\u001b[0m \u001b[0mlocal_dict\u001b[0m\u001b[0;34m=\u001b[0m\u001b[0mself\u001b[0m\u001b[0;34m.\u001b[0m\u001b[0menv\u001b[0m\u001b[0;34m,\u001b[0m \u001b[0mengine\u001b[0m\u001b[0;34m=\u001b[0m\u001b[0mself\u001b[0m\u001b[0;34m.\u001b[0m\u001b[0mengine\u001b[0m\u001b[0;34m,\u001b[0m \u001b[0mparser\u001b[0m\u001b[0;34m=\u001b[0m\u001b[0mself\u001b[0m\u001b[0;34m.\u001b[0m\u001b[0mparser\u001b[0m\u001b[0;34m\u001b[0m\u001b[0;34m\u001b[0m\u001b[0m\n\u001b[1;32m    580\u001b[0m         )\n",
            "\u001b[0;32m/usr/local/lib/python3.10/dist-packages/pandas/core/computation/eval.py\u001b[0m in \u001b[0;36meval\u001b[0;34m(expr, parser, engine, local_dict, global_dict, resolvers, level, target, inplace)\u001b[0m\n\u001b[1;32m    355\u001b[0m         \u001b[0meng\u001b[0m \u001b[0;34m=\u001b[0m \u001b[0mENGINES\u001b[0m\u001b[0;34m[\u001b[0m\u001b[0mengine\u001b[0m\u001b[0;34m]\u001b[0m\u001b[0;34m\u001b[0m\u001b[0;34m\u001b[0m\u001b[0m\n\u001b[1;32m    356\u001b[0m         \u001b[0meng_inst\u001b[0m \u001b[0;34m=\u001b[0m \u001b[0meng\u001b[0m\u001b[0;34m(\u001b[0m\u001b[0mparsed_expr\u001b[0m\u001b[0;34m)\u001b[0m\u001b[0;34m\u001b[0m\u001b[0;34m\u001b[0m\u001b[0m\n\u001b[0;32m--> 357\u001b[0;31m         \u001b[0mret\u001b[0m \u001b[0;34m=\u001b[0m \u001b[0meng_inst\u001b[0m\u001b[0;34m.\u001b[0m\u001b[0mevaluate\u001b[0m\u001b[0;34m(\u001b[0m\u001b[0;34m)\u001b[0m\u001b[0;34m\u001b[0m\u001b[0;34m\u001b[0m\u001b[0m\n\u001b[0m\u001b[1;32m    358\u001b[0m \u001b[0;34m\u001b[0m\u001b[0m\n\u001b[1;32m    359\u001b[0m         \u001b[0;32mif\u001b[0m \u001b[0mparsed_expr\u001b[0m\u001b[0;34m.\u001b[0m\u001b[0massigner\u001b[0m \u001b[0;32mis\u001b[0m \u001b[0;32mNone\u001b[0m\u001b[0;34m:\u001b[0m\u001b[0;34m\u001b[0m\u001b[0;34m\u001b[0m\u001b[0m\n",
            "\u001b[0;32m/usr/local/lib/python3.10/dist-packages/pandas/core/computation/engines.py\u001b[0m in \u001b[0;36mevaluate\u001b[0;34m(self)\u001b[0m\n\u001b[1;32m     79\u001b[0m \u001b[0;34m\u001b[0m\u001b[0m\n\u001b[1;32m     80\u001b[0m         \u001b[0;31m# make sure no names in resolvers and locals/globals clash\u001b[0m\u001b[0;34m\u001b[0m\u001b[0;34m\u001b[0m\u001b[0m\n\u001b[0;32m---> 81\u001b[0;31m         \u001b[0mres\u001b[0m \u001b[0;34m=\u001b[0m \u001b[0mself\u001b[0m\u001b[0;34m.\u001b[0m\u001b[0m_evaluate\u001b[0m\u001b[0;34m(\u001b[0m\u001b[0;34m)\u001b[0m\u001b[0;34m\u001b[0m\u001b[0;34m\u001b[0m\u001b[0m\n\u001b[0m\u001b[1;32m     82\u001b[0m         return reconstruct_object(\n\u001b[1;32m     83\u001b[0m             \u001b[0mself\u001b[0m\u001b[0;34m.\u001b[0m\u001b[0mresult_type\u001b[0m\u001b[0;34m,\u001b[0m \u001b[0mres\u001b[0m\u001b[0;34m,\u001b[0m \u001b[0mself\u001b[0m\u001b[0;34m.\u001b[0m\u001b[0maligned_axes\u001b[0m\u001b[0;34m,\u001b[0m \u001b[0mself\u001b[0m\u001b[0;34m.\u001b[0m\u001b[0mexpr\u001b[0m\u001b[0;34m.\u001b[0m\u001b[0mterms\u001b[0m\u001b[0;34m.\u001b[0m\u001b[0mreturn_type\u001b[0m\u001b[0;34m\u001b[0m\u001b[0;34m\u001b[0m\u001b[0m\n",
            "\u001b[0;32m/usr/local/lib/python3.10/dist-packages/pandas/core/computation/engines.py\u001b[0m in \u001b[0;36m_evaluate\u001b[0;34m(self)\u001b[0m\n\u001b[1;32m    119\u001b[0m         \u001b[0mscope\u001b[0m \u001b[0;34m=\u001b[0m \u001b[0menv\u001b[0m\u001b[0;34m.\u001b[0m\u001b[0mfull_scope\u001b[0m\u001b[0;34m\u001b[0m\u001b[0;34m\u001b[0m\u001b[0m\n\u001b[1;32m    120\u001b[0m         \u001b[0m_check_ne_builtin_clash\u001b[0m\u001b[0;34m(\u001b[0m\u001b[0mself\u001b[0m\u001b[0;34m.\u001b[0m\u001b[0mexpr\u001b[0m\u001b[0;34m)\u001b[0m\u001b[0;34m\u001b[0m\u001b[0;34m\u001b[0m\u001b[0m\n\u001b[0;32m--> 121\u001b[0;31m         \u001b[0;32mreturn\u001b[0m \u001b[0mne\u001b[0m\u001b[0;34m.\u001b[0m\u001b[0mevaluate\u001b[0m\u001b[0;34m(\u001b[0m\u001b[0ms\u001b[0m\u001b[0;34m,\u001b[0m \u001b[0mlocal_dict\u001b[0m\u001b[0;34m=\u001b[0m\u001b[0mscope\u001b[0m\u001b[0;34m)\u001b[0m\u001b[0;34m\u001b[0m\u001b[0;34m\u001b[0m\u001b[0m\n\u001b[0m\u001b[1;32m    122\u001b[0m \u001b[0;34m\u001b[0m\u001b[0m\n\u001b[1;32m    123\u001b[0m \u001b[0;34m\u001b[0m\u001b[0m\n",
            "\u001b[0;32m/usr/local/lib/python3.10/dist-packages/numexpr/necompiler.py\u001b[0m in \u001b[0;36mevaluate\u001b[0;34m(ex, local_dict, global_dict, out, order, casting, sanitize, _frame_depth, **kwargs)\u001b[0m\n\u001b[1;32m    973\u001b[0m                  _frame_depth=_frame_depth, sanitize=sanitize, **kwargs)\n\u001b[1;32m    974\u001b[0m     \u001b[0;32mif\u001b[0m \u001b[0me\u001b[0m \u001b[0;32mis\u001b[0m \u001b[0;32mNone\u001b[0m\u001b[0;34m:\u001b[0m\u001b[0;34m\u001b[0m\u001b[0;34m\u001b[0m\u001b[0m\n\u001b[0;32m--> 975\u001b[0;31m         \u001b[0;32mreturn\u001b[0m \u001b[0mre_evaluate\u001b[0m\u001b[0;34m(\u001b[0m\u001b[0mlocal_dict\u001b[0m\u001b[0;34m=\u001b[0m\u001b[0mlocal_dict\u001b[0m\u001b[0;34m,\u001b[0m \u001b[0mglobal_dict\u001b[0m\u001b[0;34m=\u001b[0m\u001b[0mglobal_dict\u001b[0m\u001b[0;34m,\u001b[0m \u001b[0m_frame_depth\u001b[0m\u001b[0;34m=\u001b[0m\u001b[0m_frame_depth\u001b[0m\u001b[0;34m)\u001b[0m\u001b[0;34m\u001b[0m\u001b[0;34m\u001b[0m\u001b[0m\n\u001b[0m\u001b[1;32m    976\u001b[0m     \u001b[0;32melse\u001b[0m\u001b[0;34m:\u001b[0m\u001b[0;34m\u001b[0m\u001b[0;34m\u001b[0m\u001b[0m\n\u001b[1;32m    977\u001b[0m         \u001b[0;32mraise\u001b[0m \u001b[0me\u001b[0m\u001b[0;34m\u001b[0m\u001b[0;34m\u001b[0m\u001b[0m\n",
            "\u001b[0;32m/usr/local/lib/python3.10/dist-packages/numexpr/necompiler.py\u001b[0m in \u001b[0;36mre_evaluate\u001b[0;34m(local_dict, global_dict, _frame_depth)\u001b[0m\n\u001b[1;32m   1005\u001b[0m     \u001b[0mkwargs\u001b[0m \u001b[0;34m=\u001b[0m \u001b[0m_numexpr_last\u001b[0m\u001b[0;34m[\u001b[0m\u001b[0;34m'kwargs'\u001b[0m\u001b[0;34m]\u001b[0m\u001b[0;34m\u001b[0m\u001b[0;34m\u001b[0m\u001b[0m\n\u001b[1;32m   1006\u001b[0m     \u001b[0;32mwith\u001b[0m \u001b[0mevaluate_lock\u001b[0m\u001b[0;34m:\u001b[0m\u001b[0;34m\u001b[0m\u001b[0;34m\u001b[0m\u001b[0m\n\u001b[0;32m-> 1007\u001b[0;31m         \u001b[0;32mreturn\u001b[0m \u001b[0mcompiled_ex\u001b[0m\u001b[0;34m(\u001b[0m\u001b[0;34m*\u001b[0m\u001b[0margs\u001b[0m\u001b[0;34m,\u001b[0m \u001b[0;34m**\u001b[0m\u001b[0mkwargs\u001b[0m\u001b[0;34m)\u001b[0m\u001b[0;34m\u001b[0m\u001b[0;34m\u001b[0m\u001b[0m\n\u001b[0m",
            "\u001b[0;31mValueError\u001b[0m: data type must provide an itemsize"
          ]
        }
      ],
      "source": [
        "pop_event = _group(new_df).head(1)\n",
        "print('Самое популярное событие:', pop_event['event_name'][0])\n",
        "\n",
        "a_a_pop_event = [a_1.query('event_name == @pop_event[\"event_name\"][0]')['device_id_hash'].nunique(),\n",
        "                 a_2.query('event_name == @pop_event[\"event_name\"][0]')['device_id_hash'].nunique()]\n",
        "\n",
        "a_a_payment = [a_1.query('event_name == \"PaymentScreenSuccessful\"')['device_id_hash'].nunique(),\n",
        "               a_2.query('event_name == \"PaymentScreenSuccessful\"')['device_id_hash'].nunique()]\n",
        "\n",
        "a_a_total = [a_1['device_id_hash'].nunique(), a_2['device_id_hash'].nunique()]\n",
        "\n",
        "print(f'Доля пользователей совершивших cамое популярное событие в группе A1: {a_a_pop_event[0] / a_a_total[0]:.2f}, \\\n",
        "в группе A2: {a_a_pop_event[1] / a_a_total[1]:.2f}')\n",
        "\n",
        "z_test(a_a_total, a_a_payment, pop_event['event_name'][0])"
      ]
    },
    {
      "cell_type": "markdown",
      "id": "cd1c1464",
      "metadata": {
        "id": "cd1c1464"
      },
      "source": [
        "Притензии к распределению пользователей есть выше. Но статистически группы не разные."
      ]
    },
    {
      "cell_type": "markdown",
      "id": "9e1815a4",
      "metadata": {
        "id": "9e1815a4"
      },
      "source": [
        "### Проделаем то же самое для всех других событий"
      ]
    },
    {
      "cell_type": "markdown",
      "id": "26e5fdee",
      "metadata": {
        "id": "26e5fdee"
      },
      "source": [
        "Нулевая гипотиза будет звучать так: \"Доли одинаковые\""
      ]
    },
    {
      "cell_type": "code",
      "execution_count": 29,
      "id": "e708cbda",
      "metadata": {
        "colab": {
          "base_uri": "https://localhost:8080/"
        },
        "id": "e708cbda",
        "outputId": "209c0eae-6db8-4669-b35a-bd6e81ba6dd4"
      },
      "outputs": [
        {
          "output_type": "stream",
          "name": "stdout",
          "text": [
            "MainScreenAppear p-значение: 0.7526703436483038\n",
            "Не получилось отвергнуть нулевую гипотезу, нет оснований считать доли разными\n",
            "OffersScreenAppear p-значение: 0.24786096925282264\n",
            "Не получилось отвергнуть нулевую гипотезу, нет оснований считать доли разными\n",
            "CartScreenAppear p-значение: 0.22867643757335676\n",
            "Не получилось отвергнуть нулевую гипотезу, нет оснований считать доли разными\n",
            "PaymentScreenSuccessful p-значение: 0.11446627829276612\n",
            "Не получилось отвергнуть нулевую гипотезу, нет оснований считать доли разными\n"
          ]
        }
      ],
      "source": [
        "event_z_test(a_1, a_2)"
      ]
    },
    {
      "cell_type": "markdown",
      "id": "59a3c0ed",
      "metadata": {
        "id": "59a3c0ed"
      },
      "source": [
        "### Аналогично поступим с группой с изменённым шрифтом. Сравним группу А1 и В"
      ]
    },
    {
      "cell_type": "markdown",
      "id": "a2887919",
      "metadata": {
        "id": "a2887919"
      },
      "source": [
        "Нулевая гипотиза будет звучать так: \"Доли одинаковые\""
      ]
    },
    {
      "cell_type": "code",
      "execution_count": null,
      "id": "976c3af7",
      "metadata": {
        "id": "976c3af7"
      },
      "outputs": [],
      "source": [
        "event_z_test(a_1, b_1)"
      ]
    },
    {
      "cell_type": "markdown",
      "id": "6a534540",
      "metadata": {
        "id": "6a534540"
      },
      "source": [
        "Результат в группе А1/В не показал стат.значимых различий. Шрифты не повлияли на конверсию."
      ]
    },
    {
      "cell_type": "markdown",
      "id": "5350cea6",
      "metadata": {
        "id": "5350cea6"
      },
      "source": [
        "### Сравним группу А2 и В"
      ]
    },
    {
      "cell_type": "markdown",
      "id": "3ca29daf",
      "metadata": {
        "id": "3ca29daf"
      },
      "source": [
        "Нулевая гипотиза будет звучать так: \"Доли одинаковые\""
      ]
    },
    {
      "cell_type": "code",
      "execution_count": null,
      "id": "01e1c580",
      "metadata": {
        "id": "01e1c580"
      },
      "outputs": [],
      "source": [
        "event_z_test(a_2, b_1)"
      ]
    },
    {
      "cell_type": "markdown",
      "id": "15e6d49f",
      "metadata": {
        "id": "15e6d49f"
      },
      "source": [
        "Результат в группе А2/В не показал стат.значимых различий. Шрифты не повлияли на конверсию."
      ]
    },
    {
      "cell_type": "markdown",
      "id": "1e0d33b4",
      "metadata": {
        "id": "1e0d33b4"
      },
      "source": [
        "Уровень значимости мы приняли 5%. Смысла ставить уровень значимости 1% просто нету."
      ]
    },
    {
      "cell_type": "markdown",
      "id": "d6888193",
      "metadata": {
        "id": "d6888193"
      },
      "source": [
        "<div class=\"alert alert-danger\">\n",
        "<font size=\"5\"><b>Комментарий ревьюера</b></font>\n",
        "\n",
        "Ошибка: Скорректируй ошибку в функции при проведении тестов. Посмотри на получаемые результаты. Также нас просят провести стат. тест для объединенной группы А1+А2 и сравнить с группой В. Дополни раздел еще одним блоком тестов.\n",
        "</div>"
      ]
    },
    {
      "cell_type": "markdown",
      "id": "c402a54d",
      "metadata": {
        "id": "c402a54d"
      },
      "source": [
        "Нулевая гипотиза будет звучать так: \"Доли одинаковые\""
      ]
    },
    {
      "cell_type": "code",
      "execution_count": null,
      "id": "7eaf8dfa",
      "metadata": {
        "id": "7eaf8dfa"
      },
      "outputs": [],
      "source": [
        "event_z_test(pd.concat([a_1, a_2]), b_1)"
      ]
    },
    {
      "cell_type": "markdown",
      "id": "5c560351",
      "metadata": {
        "id": "5c560351"
      },
      "source": [
        "Результат в группе A1+А2/В не показал стат.значимых различий. Шрифты не повлияли на конверсию."
      ]
    },
    {
      "cell_type": "markdown",
      "id": "aee5be91",
      "metadata": {
        "id": "aee5be91"
      },
      "source": [
        "<div class=\"alert alert-success\">\n",
        "<font size=\"5\"><b>Комментарий ревьюера 2</b></font>\n",
        "\n",
        "Успех: Тесты проведены верно. В случае, когда на одних и тех же данных тестируется несколько гипотез (проводится несколько тестов), лучше проводить коррекцию уровня значимости. Один из вариантов это сделать - поправка Бонферрони. Можешь почитать про нее ([ссылка](http://www.machinelearning.ru/wiki/index.php?title=Поправка_Бонферрони)) и про другие способы корректировки alpha. Это связано с тем, что чем больше ты пытаешься найти значимый эффект, тем больше вероятность его обнаружить просто по чистой случайности.\n",
        "    \n",
        "</div>"
      ]
    },
    {
      "cell_type": "markdown",
      "id": "f1d502e4",
      "metadata": {
        "id": "f1d502e4"
      },
      "source": [
        "### Выводы:"
      ]
    },
    {
      "cell_type": "markdown",
      "id": "2d2b3aee",
      "metadata": {
        "id": "2d2b3aee"
      },
      "source": [
        "Мы провели анализ воронки, поняли какие шаги обязательны а какие нет (MainScreenAppear - OffersScreenAppear - CartScreenAppear - PaymentScreenSuccessful обязательны. Tutorial не обязателен). <br>\n",
        "Нашли самое \"узкое\" место воронки (с MainScreenAppear на OffersScreenAppear, на этом шаге мы теряем больше всего пользователей). <br>\n",
        "Вероятно пользователям не очень нравится дизайн главной страницы и они сразу уходят. <br>\n",
        "48% пользователей доходят до страницы \"оплачено\". <br>\n",
        "Количество пользователей во всех группах различается более чем на 0,5%. Дальнейшие выводы не показательны. <br>\n",
        "Нужно разобраться с механизмом деления пользователей по группам и повторно собрать данные. <br>\n",
        "Самое популярное событие: MainScreenAppear. <br>\n",
        "Доля пользователей совершивших cамое популярное событие \"MainScreenAppear\" в группе A1: 0.99, в группе A2: 0.99. <br>\n",
        "Все результаты А/А А1/В А2/В показали что нет оснований считать доли разными. <br>\n",
        "Рекомендую повторить A/B тест на новых данных."
      ]
    },
    {
      "cell_type": "markdown",
      "id": "b2a32d5c",
      "metadata": {
        "id": "b2a32d5c"
      },
      "source": [
        "<div class=\"alert alert-danger\">\n",
        "<font size=\"5\"><b>Комментарий ревьюера</b></font>\n",
        "\n",
        "Ошибка: Скорректируй выводы при необходимости после исправления помарок выше.\n",
        "\n",
        "</div>"
      ]
    },
    {
      "cell_type": "markdown",
      "id": "c307e882",
      "metadata": {
        "id": "c307e882"
      },
      "source": [
        "<div class=\"alert alert-success\">\n",
        "<font size=\"5\"><b>Комментарий ревьюера 2</b></font>\n",
        "\n",
        "Успех: Отлично, вывод сформулирован. В стат. тестах мы не получили существенных различий. Т.е. изменение шрифтов можно провести, однако это не увеличит показатели. Не соглашусь, что отличие в 0,5% искажает результаты теста. Это очень малая доля. Группы настолько близки, что такое значение не изменит наших выводов. Поэтому результатам теста можно доверять.\n",
        "</div>"
      ]
    },
    {
      "cell_type": "markdown",
      "id": "f51ca6b8",
      "metadata": {
        "id": "f51ca6b8"
      },
      "source": [
        "<div class=\"alert alert-info\">\n",
        "<font size=\"5\"><b>Комментарий ревьюера</b></font>\n",
        "    \n",
        "Привожу ссылки на статьи по А/В-тестам. Надеюсь, будет интересно)\n",
        "    \n",
        "https://emailsoldiers.ru/blog/12-rules-for-ab-testing\n",
        "    \n",
        "https://ppc.world/articles/ab-testirovanie-v-yandeksdirekte-kak-provesti-i-gde-brat-idei/\n",
        "    \n",
        "https://in-scale.ru/blog/chto-takoe-ab-testirovanie-i-kak-ego-provesti/\n",
        "\n",
        "Ты проделал большую работу, молодец! Ты овладел важными на данном этапе обучения инструментами, а также довольно качественно их используешь. Критических замечаний немного. Однако их важно исправить. Думаю, сделать это тебе не составит труда. Жду твою работу :)\n",
        "\n",
        "</div>"
      ]
    },
    {
      "cell_type": "markdown",
      "id": "2322f3d3",
      "metadata": {
        "id": "2322f3d3"
      },
      "source": [
        "<div class=\"alert alert-success\">\n",
        "<font size=\"5\"><b>Комментарий ревьюера 2</b></font>\n",
        "\n",
        "Помарки исправлены, и теперь работа выполнена хорошо. Ты здорово поработал, молодец. Поздравляю со сданным проектом. Надеюсь, он был интересен и познавателен. Продолжай в том же духе. Успехов в дальнейшем пути :)\n",
        "\n",
        "</div>"
      ]
    }
  ],
  "metadata": {
    "ExecuteTimeLog": [
      {
        "duration": 1039,
        "start_time": "2022-06-05T16:19:19.719Z"
      },
      {
        "duration": 153,
        "start_time": "2022-06-05T16:19:20.760Z"
      },
      {
        "duration": 76,
        "start_time": "2022-06-05T16:19:20.914Z"
      },
      {
        "duration": 181,
        "start_time": "2022-06-05T16:19:20.992Z"
      },
      {
        "duration": 20,
        "start_time": "2022-06-05T16:19:21.175Z"
      },
      {
        "duration": 25,
        "start_time": "2022-06-05T16:19:21.198Z"
      },
      {
        "duration": 3,
        "start_time": "2022-06-05T16:19:21.225Z"
      },
      {
        "duration": 324,
        "start_time": "2022-06-05T16:19:21.230Z"
      },
      {
        "duration": 17,
        "start_time": "2022-06-05T16:19:21.556Z"
      },
      {
        "duration": 84,
        "start_time": "2022-06-05T16:19:21.576Z"
      },
      {
        "duration": 10,
        "start_time": "2022-06-05T16:19:21.662Z"
      },
      {
        "duration": 19,
        "start_time": "2022-06-05T16:19:21.673Z"
      },
      {
        "duration": 38,
        "start_time": "2022-06-05T16:19:21.694Z"
      },
      {
        "duration": 64,
        "start_time": "2022-06-05T16:19:21.734Z"
      },
      {
        "duration": 171,
        "start_time": "2022-06-05T16:19:21.799Z"
      },
      {
        "duration": 38,
        "start_time": "2022-06-05T16:19:21.971Z"
      },
      {
        "duration": 33,
        "start_time": "2022-06-05T16:19:22.024Z"
      },
      {
        "duration": 77,
        "start_time": "2022-06-05T16:19:22.058Z"
      },
      {
        "duration": 6,
        "start_time": "2022-06-05T16:19:22.137Z"
      },
      {
        "duration": 57,
        "start_time": "2022-06-05T16:19:22.144Z"
      },
      {
        "duration": 223,
        "start_time": "2022-06-05T16:19:22.203Z"
      },
      {
        "duration": 18,
        "start_time": "2022-06-05T16:19:22.428Z"
      },
      {
        "duration": 21,
        "start_time": "2022-06-05T16:19:22.447Z"
      },
      {
        "duration": 21,
        "start_time": "2022-06-05T16:19:22.470Z"
      },
      {
        "duration": 7,
        "start_time": "2022-06-05T16:24:01.752Z"
      },
      {
        "duration": 14,
        "start_time": "2022-06-05T16:24:16.614Z"
      },
      {
        "duration": 6,
        "start_time": "2022-06-05T16:32:23.253Z"
      },
      {
        "duration": 88,
        "start_time": "2022-06-05T17:40:37.310Z"
      },
      {
        "duration": 1566,
        "start_time": "2022-06-05T17:40:41.181Z"
      },
      {
        "duration": 612,
        "start_time": "2022-06-05T17:40:42.750Z"
      },
      {
        "duration": 103,
        "start_time": "2022-06-05T17:40:43.364Z"
      },
      {
        "duration": 239,
        "start_time": "2022-06-05T17:40:43.469Z"
      },
      {
        "duration": 34,
        "start_time": "2022-06-05T17:40:43.710Z"
      },
      {
        "duration": 19,
        "start_time": "2022-06-05T17:40:43.746Z"
      },
      {
        "duration": 5,
        "start_time": "2022-06-05T17:40:43.768Z"
      },
      {
        "duration": 396,
        "start_time": "2022-06-05T17:40:43.776Z"
      },
      {
        "duration": 33,
        "start_time": "2022-06-05T17:40:44.175Z"
      },
      {
        "duration": 20,
        "start_time": "2022-06-05T17:40:44.211Z"
      },
      {
        "duration": 21,
        "start_time": "2022-06-05T17:40:44.234Z"
      },
      {
        "duration": 119,
        "start_time": "2022-06-05T17:40:44.258Z"
      },
      {
        "duration": 55,
        "start_time": "2022-06-05T17:40:44.379Z"
      },
      {
        "duration": 69,
        "start_time": "2022-06-05T17:40:44.439Z"
      },
      {
        "duration": 124,
        "start_time": "2022-06-05T17:40:44.511Z"
      },
      {
        "duration": 221,
        "start_time": "2022-06-05T17:40:44.638Z"
      },
      {
        "duration": 71,
        "start_time": "2022-06-05T17:40:44.861Z"
      },
      {
        "duration": 36,
        "start_time": "2022-06-05T17:40:44.934Z"
      },
      {
        "duration": 107,
        "start_time": "2022-06-05T17:40:45.026Z"
      },
      {
        "duration": 10,
        "start_time": "2022-06-05T17:40:45.135Z"
      },
      {
        "duration": 129,
        "start_time": "2022-06-05T17:40:45.148Z"
      },
      {
        "duration": 245,
        "start_time": "2022-06-05T17:40:45.279Z"
      },
      {
        "duration": 27,
        "start_time": "2022-06-05T17:40:45.526Z"
      },
      {
        "duration": 49,
        "start_time": "2022-06-05T17:40:45.555Z"
      },
      {
        "duration": 48,
        "start_time": "2022-06-05T17:40:45.608Z"
      },
      {
        "duration": 12,
        "start_time": "2022-06-05T17:41:41.430Z"
      },
      {
        "duration": 6,
        "start_time": "2022-06-05T17:48:32.889Z"
      },
      {
        "duration": 6,
        "start_time": "2022-06-05T17:49:10.528Z"
      },
      {
        "duration": 4,
        "start_time": "2022-06-05T17:49:16.269Z"
      },
      {
        "duration": 10,
        "start_time": "2022-06-05T17:49:22.746Z"
      },
      {
        "duration": 4,
        "start_time": "2022-06-05T17:49:37.709Z"
      },
      {
        "duration": 4,
        "start_time": "2022-06-05T17:49:44.108Z"
      },
      {
        "duration": 6,
        "start_time": "2022-06-05T17:50:06.308Z"
      },
      {
        "duration": 5,
        "start_time": "2022-06-05T17:50:16.748Z"
      },
      {
        "duration": 6,
        "start_time": "2022-06-05T17:50:21.887Z"
      },
      {
        "duration": 6,
        "start_time": "2022-06-05T17:50:25.069Z"
      },
      {
        "duration": 105,
        "start_time": "2022-06-05T17:52:07.668Z"
      },
      {
        "duration": 8,
        "start_time": "2022-06-05T17:52:25.040Z"
      },
      {
        "duration": 65,
        "start_time": "2022-06-05T17:53:27.007Z"
      },
      {
        "duration": 6,
        "start_time": "2022-06-05T17:57:31.093Z"
      },
      {
        "duration": 3,
        "start_time": "2022-06-05T17:57:53.096Z"
      },
      {
        "duration": 76,
        "start_time": "2022-06-05T17:57:58.186Z"
      },
      {
        "duration": 10,
        "start_time": "2022-06-05T17:58:39.239Z"
      },
      {
        "duration": 11,
        "start_time": "2022-06-05T17:59:34.526Z"
      },
      {
        "duration": 8,
        "start_time": "2022-06-05T17:59:40.287Z"
      },
      {
        "duration": 72,
        "start_time": "2022-06-05T18:00:02.506Z"
      },
      {
        "duration": 48,
        "start_time": "2022-06-05T18:00:07.545Z"
      },
      {
        "duration": 7,
        "start_time": "2022-06-05T18:01:38.416Z"
      },
      {
        "duration": 74,
        "start_time": "2022-06-05T18:01:46.305Z"
      },
      {
        "duration": 7,
        "start_time": "2022-06-05T18:01:57.595Z"
      },
      {
        "duration": 58,
        "start_time": "2022-06-05T18:02:01.807Z"
      },
      {
        "duration": 7,
        "start_time": "2022-06-05T18:02:23.376Z"
      },
      {
        "duration": 7,
        "start_time": "2022-06-05T18:02:35.539Z"
      },
      {
        "duration": 44,
        "start_time": "2022-06-05T18:02:38.945Z"
      },
      {
        "duration": 7,
        "start_time": "2022-06-05T18:02:52.076Z"
      },
      {
        "duration": 52,
        "start_time": "2022-06-05T18:02:55.226Z"
      },
      {
        "duration": 7,
        "start_time": "2022-06-05T18:03:14.815Z"
      },
      {
        "duration": 48,
        "start_time": "2022-06-05T18:03:18.465Z"
      },
      {
        "duration": 7,
        "start_time": "2022-06-05T18:03:24.695Z"
      },
      {
        "duration": 49,
        "start_time": "2022-06-05T18:03:27.265Z"
      },
      {
        "duration": 70,
        "start_time": "2022-06-05T18:03:31.825Z"
      },
      {
        "duration": 60,
        "start_time": "2022-06-05T18:03:40.825Z"
      },
      {
        "duration": 47,
        "start_time": "2022-06-05T18:04:24.325Z"
      },
      {
        "duration": 1479,
        "start_time": "2022-06-05T18:07:26.705Z"
      },
      {
        "duration": 28,
        "start_time": "2022-06-05T18:07:56.465Z"
      },
      {
        "duration": 34,
        "start_time": "2022-06-05T18:08:18.175Z"
      },
      {
        "duration": 36,
        "start_time": "2022-06-05T18:08:23.005Z"
      },
      {
        "duration": 31,
        "start_time": "2022-06-05T18:08:28.025Z"
      },
      {
        "duration": 29,
        "start_time": "2022-06-05T18:08:42.785Z"
      },
      {
        "duration": 145,
        "start_time": "2022-06-05T18:09:00.166Z"
      },
      {
        "duration": 137,
        "start_time": "2022-06-05T18:09:33.884Z"
      },
      {
        "duration": 33,
        "start_time": "2022-06-05T18:38:12.265Z"
      },
      {
        "duration": 15,
        "start_time": "2022-06-05T19:27:00.686Z"
      },
      {
        "duration": 14,
        "start_time": "2022-06-05T19:28:22.014Z"
      },
      {
        "duration": 21,
        "start_time": "2022-06-05T19:28:27.446Z"
      },
      {
        "duration": 25,
        "start_time": "2022-06-05T19:28:30.443Z"
      },
      {
        "duration": 19,
        "start_time": "2022-06-05T19:28:48.592Z"
      },
      {
        "duration": 31,
        "start_time": "2022-06-05T19:28:58.025Z"
      },
      {
        "duration": 91,
        "start_time": "2022-06-05T19:29:13.418Z"
      },
      {
        "duration": 1156,
        "start_time": "2022-06-05T19:29:57.697Z"
      },
      {
        "duration": 589,
        "start_time": "2022-06-05T19:29:58.855Z"
      },
      {
        "duration": 100,
        "start_time": "2022-06-05T19:29:59.447Z"
      },
      {
        "duration": 255,
        "start_time": "2022-06-05T19:29:59.550Z"
      },
      {
        "duration": 36,
        "start_time": "2022-06-05T19:29:59.807Z"
      },
      {
        "duration": 19,
        "start_time": "2022-06-05T19:29:59.845Z"
      },
      {
        "duration": 5,
        "start_time": "2022-06-05T19:29:59.866Z"
      },
      {
        "duration": 403,
        "start_time": "2022-06-05T19:29:59.872Z"
      },
      {
        "duration": 25,
        "start_time": "2022-06-05T19:30:00.277Z"
      },
      {
        "duration": 7,
        "start_time": "2022-06-05T19:30:00.305Z"
      },
      {
        "duration": 30,
        "start_time": "2022-06-05T19:30:00.330Z"
      },
      {
        "duration": 120,
        "start_time": "2022-06-05T19:30:00.361Z"
      },
      {
        "duration": 65,
        "start_time": "2022-06-05T19:30:00.484Z"
      },
      {
        "duration": 101,
        "start_time": "2022-06-05T19:30:00.553Z"
      },
      {
        "duration": 168,
        "start_time": "2022-06-05T19:30:00.656Z"
      },
      {
        "duration": 50,
        "start_time": "2022-06-05T19:30:00.825Z"
      },
      {
        "duration": 96,
        "start_time": "2022-06-05T19:30:00.877Z"
      },
      {
        "duration": 100,
        "start_time": "2022-06-05T19:30:00.974Z"
      },
      {
        "duration": 57,
        "start_time": "2022-06-05T19:30:01.077Z"
      },
      {
        "duration": 47,
        "start_time": "2022-06-05T19:30:01.136Z"
      },
      {
        "duration": 374,
        "start_time": "2022-06-05T19:30:01.185Z"
      },
      {
        "duration": 54,
        "start_time": "2022-06-05T19:30:01.561Z"
      },
      {
        "duration": 78,
        "start_time": "2022-06-05T19:30:01.616Z"
      },
      {
        "duration": 100,
        "start_time": "2022-06-05T19:30:01.696Z"
      },
      {
        "duration": 192,
        "start_time": "2022-06-05T19:30:01.798Z"
      },
      {
        "duration": 1128,
        "start_time": "2022-06-06T04:22:15.821Z"
      },
      {
        "duration": 154,
        "start_time": "2022-06-06T04:22:16.951Z"
      },
      {
        "duration": 79,
        "start_time": "2022-06-06T04:22:17.106Z"
      },
      {
        "duration": 175,
        "start_time": "2022-06-06T04:22:17.187Z"
      },
      {
        "duration": 20,
        "start_time": "2022-06-06T04:22:17.364Z"
      },
      {
        "duration": 18,
        "start_time": "2022-06-06T04:22:17.386Z"
      },
      {
        "duration": 3,
        "start_time": "2022-06-06T04:22:17.405Z"
      },
      {
        "duration": 354,
        "start_time": "2022-06-06T04:22:17.410Z"
      },
      {
        "duration": 16,
        "start_time": "2022-06-06T04:22:17.765Z"
      },
      {
        "duration": 77,
        "start_time": "2022-06-06T04:22:17.783Z"
      },
      {
        "duration": 17,
        "start_time": "2022-06-06T04:22:17.861Z"
      },
      {
        "duration": 18,
        "start_time": "2022-06-06T04:22:17.880Z"
      },
      {
        "duration": 35,
        "start_time": "2022-06-06T04:22:17.899Z"
      },
      {
        "duration": 60,
        "start_time": "2022-06-06T04:22:17.935Z"
      },
      {
        "duration": 140,
        "start_time": "2022-06-06T04:22:17.997Z"
      },
      {
        "duration": 35,
        "start_time": "2022-06-06T04:22:18.138Z"
      },
      {
        "duration": 89,
        "start_time": "2022-06-06T04:22:18.175Z"
      },
      {
        "duration": 74,
        "start_time": "2022-06-06T04:22:18.266Z"
      },
      {
        "duration": 9,
        "start_time": "2022-06-06T04:22:18.341Z"
      },
      {
        "duration": 12,
        "start_time": "2022-06-06T04:22:18.352Z"
      },
      {
        "duration": 215,
        "start_time": "2022-06-06T04:22:18.366Z"
      },
      {
        "duration": 58,
        "start_time": "2022-06-06T04:22:18.583Z"
      },
      {
        "duration": 49,
        "start_time": "2022-06-06T04:22:18.643Z"
      },
      {
        "duration": 68,
        "start_time": "2022-06-06T04:22:18.693Z"
      },
      {
        "duration": 84,
        "start_time": "2022-06-06T04:22:18.763Z"
      },
      {
        "duration": 1188,
        "start_time": "2022-07-25T15:22:55.314Z"
      },
      {
        "duration": 573,
        "start_time": "2022-07-25T15:22:56.504Z"
      },
      {
        "duration": 83,
        "start_time": "2022-07-25T15:22:57.079Z"
      },
      {
        "duration": 174,
        "start_time": "2022-07-25T15:22:57.164Z"
      },
      {
        "duration": 27,
        "start_time": "2022-07-25T15:22:57.340Z"
      },
      {
        "duration": 13,
        "start_time": "2022-07-25T15:22:57.368Z"
      },
      {
        "duration": 4,
        "start_time": "2022-07-25T15:22:57.383Z"
      },
      {
        "duration": 299,
        "start_time": "2022-07-25T15:22:57.388Z"
      },
      {
        "duration": 19,
        "start_time": "2022-07-25T15:22:57.689Z"
      },
      {
        "duration": 5,
        "start_time": "2022-07-25T15:22:57.711Z"
      },
      {
        "duration": 11,
        "start_time": "2022-07-25T15:22:57.718Z"
      },
      {
        "duration": 42,
        "start_time": "2022-07-25T15:22:57.731Z"
      },
      {
        "duration": 23,
        "start_time": "2022-07-25T15:22:57.775Z"
      },
      {
        "duration": 83,
        "start_time": "2022-07-25T15:22:57.800Z"
      },
      {
        "duration": 146,
        "start_time": "2022-07-25T15:22:57.885Z"
      },
      {
        "duration": 45,
        "start_time": "2022-07-25T15:22:58.034Z"
      },
      {
        "duration": 87,
        "start_time": "2022-07-25T15:22:58.080Z"
      },
      {
        "duration": 35,
        "start_time": "2022-07-25T15:22:58.169Z"
      },
      {
        "duration": 6,
        "start_time": "2022-07-25T15:22:58.206Z"
      },
      {
        "duration": 7,
        "start_time": "2022-07-25T15:22:58.214Z"
      },
      {
        "duration": 229,
        "start_time": "2022-07-25T15:22:58.223Z"
      },
      {
        "duration": 52,
        "start_time": "2022-07-25T15:22:58.454Z"
      },
      {
        "duration": 69,
        "start_time": "2022-07-25T15:22:58.508Z"
      },
      {
        "duration": 51,
        "start_time": "2022-07-25T15:22:58.579Z"
      },
      {
        "duration": 89,
        "start_time": "2022-07-25T15:22:58.632Z"
      },
      {
        "duration": 9,
        "start_time": "2022-07-25T15:23:56.689Z"
      },
      {
        "duration": 1232,
        "start_time": "2024-11-05T08:58:50.209Z"
      },
      {
        "duration": 974,
        "start_time": "2024-11-05T08:58:53.689Z"
      },
      {
        "duration": 1069,
        "start_time": "2024-11-05T08:58:59.109Z"
      },
      {
        "duration": 234,
        "start_time": "2024-11-05T08:59:00.180Z"
      },
      {
        "duration": 85,
        "start_time": "2024-11-05T08:59:00.415Z"
      },
      {
        "duration": 193,
        "start_time": "2024-11-05T08:59:00.501Z"
      },
      {
        "duration": 29,
        "start_time": "2024-11-05T08:59:00.697Z"
      },
      {
        "duration": 83,
        "start_time": "2024-11-05T08:59:00.728Z"
      },
      {
        "duration": 21,
        "start_time": "2024-11-05T08:59:00.813Z"
      },
      {
        "duration": 325,
        "start_time": "2024-11-05T08:59:00.835Z"
      },
      {
        "duration": 17,
        "start_time": "2024-11-05T08:59:01.161Z"
      },
      {
        "duration": 7,
        "start_time": "2024-11-05T08:59:01.179Z"
      },
      {
        "duration": 13,
        "start_time": "2024-11-05T08:59:01.187Z"
      },
      {
        "duration": 34,
        "start_time": "2024-11-05T08:59:01.202Z"
      },
      {
        "duration": 66,
        "start_time": "2024-11-05T08:59:01.237Z"
      },
      {
        "duration": 65,
        "start_time": "2024-11-05T08:59:01.306Z"
      },
      {
        "duration": 9,
        "start_time": "2024-11-05T08:59:01.372Z"
      },
      {
        "duration": 202,
        "start_time": "2024-11-05T08:59:01.383Z"
      },
      {
        "duration": 37,
        "start_time": "2024-11-05T08:59:01.587Z"
      },
      {
        "duration": 35,
        "start_time": "2024-11-05T08:59:01.626Z"
      },
      {
        "duration": 90,
        "start_time": "2024-11-05T08:59:01.663Z"
      },
      {
        "duration": 45,
        "start_time": "2024-11-05T08:59:01.755Z"
      },
      {
        "duration": 51,
        "start_time": "2024-11-05T08:59:01.802Z"
      },
      {
        "duration": 296,
        "start_time": "2024-11-05T08:59:01.855Z"
      },
      {
        "duration": 53,
        "start_time": "2024-11-05T08:59:02.153Z"
      },
      {
        "duration": 56,
        "start_time": "2024-11-05T08:59:02.220Z"
      },
      {
        "duration": 131,
        "start_time": "2024-11-05T08:59:02.278Z"
      },
      {
        "duration": 84,
        "start_time": "2024-11-05T08:59:02.411Z"
      }
    ],
    "kernelspec": {
      "display_name": "Python 3 (ipykernel)",
      "language": "python",
      "name": "python3"
    },
    "language_info": {
      "codemirror_mode": {
        "name": "ipython",
        "version": 3
      },
      "file_extension": ".py",
      "mimetype": "text/x-python",
      "name": "python",
      "nbconvert_exporter": "python",
      "pygments_lexer": "ipython3",
      "version": "3.9.5"
    },
    "toc": {
      "base_numbering": 1,
      "nav_menu": {},
      "number_sections": false,
      "sideBar": true,
      "skip_h1_title": false,
      "title_cell": "Table of Contents",
      "title_sidebar": "Contents",
      "toc_cell": false,
      "toc_position": {},
      "toc_section_display": true,
      "toc_window_display": false
    },
    "colab": {
      "provenance": []
    }
  },
  "nbformat": 4,
  "nbformat_minor": 5
}